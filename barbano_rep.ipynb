{
 "cells": [
  {
   "cell_type": "code",
   "execution_count": 1,
   "metadata": {},
   "outputs": [],
   "source": [
    "import torch\n",
    "import torch.nn as nn\n",
    "import torch.optim as optim\n",
    "from cmath import isinf\n",
    "import torch.nn.functional as F\n",
    "import seaborn as sns\n",
    "from torch.utils.data import Dataset, DataLoader, Subset, TensorDataset\n",
    "import numpy as np\n",
    "import matplotlib.pyplot as plt\n",
    "import os\n",
    "import sys\n",
    "import pandas as pd\n",
    "import math\n",
    "from utils_v import compute_target_score, estimate_target, save_model, standardize_dataset\n",
    "from cmath import isinf\n",
    "import torch.nn.functional as F\n",
    "from sklearn.model_selection import train_test_split, KFold, LearningCurveDisplay, learning_curve\n",
    "from sklearn.linear_model import LogisticRegression, Ridge\n",
    "from sklearn.model_selection import GridSearchCV\n",
    "from sklearn.metrics import mean_absolute_percentage_error, r2_score\n",
    "from helper_classes import MatData, MLP\n",
    "from dev_losses import cauchy, rbf, gaussian_kernel, CustomSupCon, CustomContrastiveLoss\n",
    "from losses import KernelizedSupCon"
   ]
  },
  {
   "cell_type": "code",
   "execution_count": 2,
   "metadata": {},
   "outputs": [
    {
     "name": "stdout",
     "output_type": "stream",
     "text": [
      "/gpfs3/well/margulies/users/cpy397/contrastive-learning\r\n"
     ]
    }
   ],
   "source": [
    "!pwd"
   ]
  },
  {
   "cell_type": "code",
   "execution_count": 3,
   "metadata": {},
   "outputs": [],
   "source": [
    "device = torch.device('cuda' if torch.cuda.is_available() else 'cpu')"
   ]
  },
  {
   "cell_type": "code",
   "execution_count": 4,
   "metadata": {},
   "outputs": [],
   "source": [
    "class MLP(nn.Module):\n",
    "    def __init__(self, input_dim_feat, hidden_dim_feat, output_dim, dropout_rate):\n",
    "        super(MLP, self).__init__()\n",
    "        \n",
    "        self.feat_mlp = nn.Sequential(\n",
    "            nn.Linear(input_dim_feat, hidden_dim_feat),\n",
    "            nn.BatchNorm1d(hidden_dim_feat),\n",
    "            nn.ReLU(),\n",
    "            nn.Dropout(p=dropout_rate),\n",
    "            nn.Linear(hidden_dim_feat, output_dim)\n",
    "        )\n",
    "        # Xavier initialization\n",
    "        self.init_weights(self.feat_mlp)\n",
    "\n",
    "#         self.target_mlp = nn.Linear(input_dim_target, output_dim)\n",
    "#         self.init_weights(self.target_mlp)\n",
    "        \n",
    "    def init_weights(self, m):\n",
    "        if isinstance(m, nn.Linear):\n",
    "            nn.init.xavier_uniform_(m.weight)\n",
    "            nn.init.constant_(m.bias, 0.0)\n",
    "        \n",
    "    def forward(self, x):\n",
    "        features = self.feat_mlp(x)\n",
    "        features = nn.functional.normalize(features, p=2, dim=1)\n",
    "        return features"
   ]
  },
  {
   "cell_type": "code",
   "execution_count": 5,
   "metadata": {},
   "outputs": [],
   "source": [
    "class MatData(Dataset):\n",
    "    def __init__(self, path_feat, path_targets, target_name):\n",
    "        self.matrices = np.load(path_feat)\n",
    "        self.target = pd.read_csv(path_targets)[target_name].values\n",
    "    def __len__(self):\n",
    "        return len(self.matrices)\n",
    "    def __getitem__(self, idx):\n",
    "        matrix = self.matrices[idx]\n",
    "        target = self.target[idx]\n",
    "        matrix = torch.from_numpy(matrix).float()\n",
    "        target = torch.tensor(target, dtype=torch.float32)\n",
    "        return matrix, target"
   ]
  },
  {
   "cell_type": "code",
   "execution_count": 6,
   "metadata": {},
   "outputs": [],
   "source": [
    "def standardize_dataset(dataset):\n",
    "    # Flatten the dataset across subjects and views to simplify standardization across features\n",
    "    all_features_flat = torch.cat([dataset[i][0].view(-1, dataset[i][0].shape[-1]) for i in range(len(dataset))], dim=0)\n",
    "    all_targets = torch.cat([dataset[i][1].unsqueeze(0) for i in range(len(dataset))], dim=0)\n",
    "    \n",
    "    # Calculate mean and std dev for each feature across all subjects and views\n",
    "    features_mean = all_features_flat.mean(dim=0)\n",
    "    features_std = all_features_flat.std(dim=0)\n",
    "    \n",
    "    # Ensure no division by zero\n",
    "    features_std[features_std == 0] = 1\n",
    "    \n",
    "    # Initialize containers for standardized features\n",
    "    standardized_features_list = []\n",
    "    \n",
    "    # Apply standardization to each sample\n",
    "    for i in range(len(dataset)):\n",
    "        features = dataset[i][0].view(-1, dataset[i][0].shape[-1])  # Flatten views for standardization\n",
    "        standardized_features = (features - features_mean) / features_std\n",
    "        standardized_features_list.append(standardized_features.view(dataset[i][0].shape))\n",
    "    \n",
    "    standardized_features = torch.stack(standardized_features_list)\n",
    "    \n",
    "    standardized_dataset = TensorDataset(standardized_features, all_targets)\n",
    "    \n",
    "    return standardized_dataset"
   ]
  },
  {
   "cell_type": "code",
   "execution_count": 7,
   "metadata": {},
   "outputs": [],
   "source": [
    "class KernelizedSupCon(nn.Module):\n",
    "    \"\"\"Supervised contrastive loss: https://arxiv.org/pdf/2004.11362.pdf.\n",
    "    It also supports the unsupervised contrastive loss in SimCLR\n",
    "    Based on: https://github.com/HobbitLong/SupContrast\"\"\"\n",
    "    def __init__(self, method: str, temperature: float=0.07, contrast_mode: str='all',\n",
    "                 base_temperature: float=0.07, krnl_sigma: float = 1., kernel: callable=None, delta_reduction: str='sum'):\n",
    "        super().__init__()\n",
    "        self.temperature = temperature\n",
    "        self.contrast_mode = contrast_mode\n",
    "        self.base_temperature = base_temperature\n",
    "        self.method = method\n",
    "        self.kernel = kernel\n",
    "        self.krnl_sigma = krnl_sigma\n",
    "        self.delta_reduction = delta_reduction\n",
    "\n",
    "        if kernel is not None and method == 'supcon':\n",
    "            raise ValueError('Kernel must be none if method=supcon')\n",
    "        \n",
    "        if kernel is None and method != 'supcon':\n",
    "            raise ValueError('Kernel must not be none if method != supcon')\n",
    "\n",
    "        if delta_reduction not in ['mean', 'sum']:\n",
    "            raise ValueError(f\"Invalid reduction {delta_reduction}\")\n",
    "\n",
    "    def __repr__(self):\n",
    "        return f'{self.__class__.__name__} ' \\\n",
    "               f'(t={self.temperature}, ' \\\n",
    "               f'method={self.method}, ' \\\n",
    "               f'kernel={self.kernel is not None}, ' \\\n",
    "               f'delta_reduction={self.delta_reduction})'\n",
    "\n",
    "    def forward(self, features, labels=None):\n",
    "        \"\"\"Compute loss for model. If `labels` is None, \n",
    "        it degenerates to SimCLR unsupervised loss:\n",
    "        https://arxiv.org/pdf/2002.05709.pdf\n",
    "\n",
    "        Args:\n",
    "            features: hidden vector of shape [bsz, n_views, n_features]. \n",
    "                input has to be rearranged to [bsz, n_views, n_features] and labels [bsz],\n",
    "            labels: ground truth of shape [bsz].\n",
    "        Returns:\n",
    "            A loss scalar.\n",
    "        \"\"\"\n",
    "        device = features.device\n",
    "\n",
    "        if len(features.shape) != 3:\n",
    "            raise ValueError('`features` needs to be [bsz, n_views, n_feats],'\n",
    "                             '3 dimensions are required')\n",
    "\n",
    "        batch_size = features.shape[0]\n",
    "        n_views = features.shape[1]\n",
    "\n",
    "        if labels is None:\n",
    "            mask = torch.eye(batch_size, device=device)\n",
    "        \n",
    "        else:\n",
    "            labels = labels.view(-1, 1)\n",
    "            if labels.shape[0] != batch_size:\n",
    "                raise ValueError('Num of labels does not match num of features')\n",
    "            \n",
    "            if self.kernel is None:\n",
    "                mask = torch.eq(labels, labels.T)\n",
    "            else:\n",
    "                mask = self.kernel(labels, krnl_sigma = self.krnl_sigma)\n",
    "            \n",
    "        view_count = features.shape[1]\n",
    "        features = torch.cat(torch.unbind(features, dim=1), dim=0)\n",
    "        if self.contrast_mode == 'one':\n",
    "            features = features[:, 0]\n",
    "            anchor_count = 1\n",
    "        elif self.contrast_mode == 'all':\n",
    "            features = features\n",
    "            anchor_count = view_count\n",
    "        else:\n",
    "            raise ValueError('Unknown mode: {}'.format(self.contrast_mode))\n",
    "\n",
    "        # Tile mask\n",
    "        mask = mask.repeat(anchor_count, view_count)\n",
    "\n",
    "        # Inverse of torch-eye to remove self-contrast (diagonal)\n",
    "        inv_diagonal = torch.scatter(\n",
    "            torch.ones_like(mask),\n",
    "            1,\n",
    "            torch.arange(batch_size*n_views, device=device).view(-1, 1),\n",
    "            0\n",
    "        )\n",
    "\n",
    "        # compute similarity\n",
    "        anchor_dot_contrast = torch.div(\n",
    "            torch.matmul(features, features.T),\n",
    "            self.temperature\n",
    "        )\n",
    "\n",
    "        # for numerical stability\n",
    "        logits_max, _ = torch.max(anchor_dot_contrast, dim=1, keepdim=True)\n",
    "        logits = anchor_dot_contrast - logits_max.detach()\n",
    "\n",
    "        alignment = logits \n",
    "\n",
    "        # base case is:\n",
    "        # - supcon if kernel = none \n",
    "        # - y-aware is kernel != none\n",
    "        uniformity = torch.exp(logits) * inv_diagonal \n",
    "\n",
    "        if self.method == 'threshold':\n",
    "            repeated = mask.unsqueeze(-1).repeat(1, 1, mask.shape[0]) # repeat kernel mask\n",
    "\n",
    "            delta = (mask[:, None].T - repeated.T).transpose(1, 2) # compute the difference w_k - w_j for every k,j\n",
    "            delta = (delta > 0.).float()\n",
    "\n",
    "            # for each z_i, repel only samples j s.t. K(z_i, z_j) < K(z_i, z_k)\n",
    "            uniformity = uniformity.unsqueeze(-1).repeat(1, 1, mask.shape[0])\n",
    "\n",
    "            if self.delta_reduction == 'mean':\n",
    "                uniformity = (uniformity * delta).mean(-1)\n",
    "            else:\n",
    "                uniformity = (uniformity * delta).sum(-1)\n",
    "    \n",
    "        elif self.method == 'expw':\n",
    "            # exp weight e^(s_j(1-w_j))\n",
    "            uniformity = torch.exp(logits * (1 - mask)) * inv_diagonal\n",
    "\n",
    "        uniformity = torch.log(uniformity.sum(1, keepdim=True))\n",
    "\n",
    "\n",
    "        # positive mask contains the anchor-positive pairs\n",
    "        # excluding <self,self> on the diagonal\n",
    "        positive_mask = mask * inv_diagonal\n",
    "\n",
    "        log_prob = alignment - uniformity # log(alignment/uniformity) = log(alignment) - log(uniformity)\n",
    "        log_prob = (positive_mask * log_prob).sum(1) / positive_mask.sum(1) # compute mean of log-likelihood over positive\n",
    " \n",
    "        # loss\n",
    "        loss = - (self.temperature / self.base_temperature) * log_prob\n",
    "        return loss.mean()"
   ]
  },
  {
   "cell_type": "code",
   "execution_count": 41,
   "metadata": {},
   "outputs": [],
   "source": [
    "def gaussian_kernel(x, krnl_sigma):\n",
    "    x = x - x.T\n",
    "    return torch.exp(-(x**2) / (2*(krnl_sigma**2))) / (math.sqrt(2*torch.pi)*krnl_sigma)\n",
    "\n",
    "def cauchy(x, krnl_sigma):\n",
    "        x = x - x.T\n",
    "        return  1. / (krnl_sigma*(x**2) + 1)"
   ]
  },
  {
   "cell_type": "code",
   "execution_count": 42,
   "metadata": {},
   "outputs": [],
   "source": [
    "dataset = MatData(\"vectorized_matrices_la5c.npy\", \"hopkins_covars.csv\", \"age\")"
   ]
  },
  {
   "cell_type": "code",
   "execution_count": 43,
   "metadata": {},
   "outputs": [],
   "source": [
    "train_indices, test_indices = train_test_split(np.arange(len(dataset)), test_size = 0.2, random_state=42) #train_size = 5\n",
    "train_dataset = Subset(dataset, train_indices)\n",
    "test_dataset = Subset(dataset, test_indices)"
   ]
  },
  {
   "cell_type": "code",
   "execution_count": 69,
   "metadata": {},
   "outputs": [],
   "source": [
    "# input_dim_feat = 499500 # vectorized mat, diagonal discarded\n",
    "# input_dim_target = 59\n",
    "# # the rest is arbitrary\n",
    "# hidden_dim_feat_1 = 1024\n",
    "# hidden_dim_feat_2 = 512\n",
    "# hidden_dim_target_1 = 24\n",
    "# hidden_dim_target_2 = 8\n",
    "# output_dim = 2\n",
    "# num_epochs = 1000\n",
    "\n",
    "input_dim_feat = 499500 # vectorized mat, diagonal discarded\n",
    "input_dim_target = 1\n",
    "# the rest is arbitrary\n",
    "hidden_dim_feat = 128\n",
    "hidden_dim_target = 5\n",
    "output_dim = 64\n",
    "\n",
    "num_epochs = 100\n",
    "\n",
    "lr = 0.001 # too low values return nan loss\n",
    "kernel = gaussian_kernel\n",
    "batch_size = 30 # too low values return nan loss\n",
    "dropout_rate = 0\n",
    "weight_decay = 0"
   ]
  },
  {
   "cell_type": "code",
   "execution_count": 70,
   "metadata": {},
   "outputs": [],
   "source": [
    "standardized_train_dataset = standardize_dataset(train_dataset)\n",
    "std_train_loader = DataLoader(standardized_train_dataset, batch_size=batch_size, shuffle=True)\n",
    "\n",
    "standardized_test_dataset = standardize_dataset(test_dataset)\n",
    "std_test_loader = DataLoader(standardized_test_dataset, batch_size=batch_size, shuffle=True)"
   ]
  },
  {
   "cell_type": "code",
   "execution_count": 71,
   "metadata": {},
   "outputs": [
    {
     "name": "stdout",
     "output_type": "stream",
     "text": [
      "Epoch 0 | Mean Loss 7.880354881286621\n",
      "Epoch 1 | Mean Loss 5.54020619392395\n",
      "Epoch 2 | Mean Loss 4.365773141384125\n",
      "Epoch 3 | Mean Loss 3.884370446205139\n",
      "Epoch 4 | Mean Loss 3.7079697847366333\n",
      "Epoch 5 | Mean Loss 3.531306028366089\n",
      "Epoch 6 | Mean Loss 3.5319697856903076\n",
      "Epoch 7 | Mean Loss 3.403159976005554\n",
      "Epoch 8 | Mean Loss 3.3525498509407043\n",
      "Epoch 9 | Mean Loss 3.3371474146842957\n",
      "Epoch 10 | Mean Loss 3.2893810868263245\n",
      "Epoch 11 | Mean Loss 3.3221271634101868\n",
      "Epoch 12 | Mean Loss 3.2524985671043396\n",
      "Epoch 13 | Mean Loss 3.2351580262184143\n",
      "Epoch 14 | Mean Loss 3.2732141613960266\n",
      "Epoch 15 | Mean Loss 3.259405016899109\n",
      "Epoch 16 | Mean Loss 3.1975008249282837\n",
      "Epoch 17 | Mean Loss 3.1886647939682007\n",
      "Epoch 18 | Mean Loss 3.1313814520835876\n",
      "Epoch 19 | Mean Loss 3.1641910076141357\n",
      "Epoch 20 | Mean Loss 3.0928866267204285\n",
      "Epoch 21 | Mean Loss 3.1074812412261963\n",
      "Epoch 22 | Mean Loss 3.018236815929413\n",
      "Epoch 23 | Mean Loss 2.9847469329833984\n",
      "Epoch 24 | Mean Loss 2.940927803516388\n",
      "Epoch 25 | Mean Loss 2.8450675010681152\n",
      "Epoch 26 | Mean Loss 2.7958338260650635\n",
      "Epoch 27 | Mean Loss 2.7947559356689453\n",
      "Epoch 28 | Mean Loss 2.7524842023849487\n",
      "Epoch 29 | Mean Loss 2.6906463503837585\n",
      "Epoch 30 | Mean Loss 2.589520275592804\n",
      "Epoch 31 | Mean Loss 2.544132649898529\n",
      "Epoch 32 | Mean Loss 2.491017997264862\n",
      "Epoch 33 | Mean Loss 2.4155526757240295\n",
      "Epoch 34 | Mean Loss 2.404468536376953\n",
      "Epoch 35 | Mean Loss 2.322582244873047\n",
      "Epoch 36 | Mean Loss 2.2161437273025513\n",
      "Epoch 37 | Mean Loss 2.1493310928344727\n",
      "Epoch 38 | Mean Loss 2.133092761039734\n",
      "Epoch 39 | Mean Loss 2.0640280544757843\n",
      "Epoch 40 | Mean Loss 1.9858628511428833\n",
      "Epoch 41 | Mean Loss 1.9325510263442993\n",
      "Epoch 42 | Mean Loss 1.9078271389007568\n",
      "Epoch 43 | Mean Loss 1.850299894809723\n",
      "Epoch 44 | Mean Loss 1.825848549604416\n",
      "Epoch 45 | Mean Loss 1.849989116191864\n",
      "Epoch 46 | Mean Loss 1.8114026486873627\n",
      "Epoch 47 | Mean Loss 1.8513254523277283\n",
      "Epoch 48 | Mean Loss 1.776261180639267\n",
      "Epoch 49 | Mean Loss 1.7440538704395294\n",
      "Epoch 50 | Mean Loss 1.7825942635536194\n",
      "Epoch 51 | Mean Loss 1.7551045417785645\n",
      "Epoch 52 | Mean Loss 1.7111057043075562\n",
      "Epoch 53 | Mean Loss 1.7536485493183136\n",
      "Epoch 54 | Mean Loss 1.6714786887168884\n",
      "Epoch 55 | Mean Loss 1.631052941083908\n",
      "Epoch 56 | Mean Loss 1.7031769752502441\n",
      "Epoch 57 | Mean Loss 1.6226059198379517\n",
      "Epoch 58 | Mean Loss 1.686856210231781\n",
      "Epoch 59 | Mean Loss 1.7807410061359406\n",
      "Epoch 60 | Mean Loss 1.6777519285678864\n",
      "Epoch 61 | Mean Loss 1.638726383447647\n",
      "Epoch 62 | Mean Loss 1.6418854296207428\n",
      "Epoch 63 | Mean Loss 1.5837724208831787\n",
      "Epoch 64 | Mean Loss 1.6606514751911163\n",
      "Epoch 65 | Mean Loss 1.6150709390640259\n",
      "Epoch 66 | Mean Loss 1.6132346093654633\n",
      "Epoch 67 | Mean Loss 1.6391568779945374\n",
      "Epoch 68 | Mean Loss 1.6181721985340118\n",
      "Epoch 69 | Mean Loss 1.6074264645576477\n",
      "Epoch 70 | Mean Loss 1.5812290608882904\n",
      "Epoch 71 | Mean Loss 1.606937050819397\n",
      "Epoch 72 | Mean Loss 1.5557649731636047\n",
      "Epoch 73 | Mean Loss 1.60099196434021\n",
      "Epoch 74 | Mean Loss 1.6194901168346405\n",
      "Epoch 75 | Mean Loss 1.58769291639328\n",
      "Epoch 76 | Mean Loss 1.6290760040283203\n",
      "Epoch 77 | Mean Loss 1.5689650177955627\n",
      "Epoch 78 | Mean Loss 1.5760432481765747\n",
      "Epoch 79 | Mean Loss 1.5227559506893158\n",
      "Epoch 80 | Mean Loss 1.6043345630168915\n",
      "Epoch 81 | Mean Loss 1.5630080103874207\n",
      "Epoch 82 | Mean Loss 1.5689314305782318\n",
      "Epoch 83 | Mean Loss 1.53509321808815\n",
      "Epoch 84 | Mean Loss 1.5798251926898956\n",
      "Epoch 85 | Mean Loss 1.5502295196056366\n",
      "Epoch 86 | Mean Loss 1.5219188034534454\n",
      "Epoch 87 | Mean Loss 1.5075687766075134\n",
      "Epoch 88 | Mean Loss 1.5824662744998932\n",
      "Epoch 89 | Mean Loss 1.6105700433254242\n",
      "Epoch 90 | Mean Loss 1.5377331972122192\n",
      "Epoch 91 | Mean Loss 1.5757192969322205\n",
      "Epoch 92 | Mean Loss 1.5462670624256134\n",
      "Epoch 93 | Mean Loss 1.510816901922226\n",
      "Epoch 94 | Mean Loss 1.5999231040477753\n",
      "Epoch 95 | Mean Loss 1.5802320539951324\n",
      "Epoch 96 | Mean Loss 1.6068139374256134\n",
      "Epoch 97 | Mean Loss 1.5440883338451385\n",
      "Epoch 98 | Mean Loss 1.516916662454605\n",
      "Epoch 99 | Mean Loss 1.5547810196876526\n"
     ]
    }
   ],
   "source": [
    "torch.cuda.empty_cache()\n",
    "model = MLP(input_dim_feat, hidden_dim_feat, output_dim, dropout_rate = dropout_rate).to(device)\n",
    "criterion_pft = KernelizedSupCon(method='expw', temperature=0.07, base_temperature=0.07, kernel=kernel, krnl_sigma = 1)\n",
    "optimizer = optim.Adam(model.parameters(), lr=lr, weight_decay=weight_decay)\n",
    "\n",
    "for epoch in range(num_epochs):\n",
    "    model.train()\n",
    "    batch_losses = []\n",
    "    for batch_num, (features, targets) in enumerate(std_train_loader):\n",
    "        features, targets = features.to(device), targets.to(device)\n",
    "        optimizer.zero_grad()\n",
    "        out_feat = model(features)\n",
    "        loss = criterion_pft(out_feat.unsqueeze(1), targets)\n",
    "        loss.backward()\n",
    "        # torch.nn.utils.clip_grad_norm_(model.parameters(), max_norm=1.0)\n",
    "        batch_losses.append(loss.item())\n",
    "        optimizer.step()\n",
    "    print(f'Epoch {epoch} | Mean Loss {sum(batch_losses)/len(batch_losses)}')\n",
    "\n"
   ]
  },
  {
   "cell_type": "code",
   "execution_count": 63,
   "metadata": {},
   "outputs": [],
   "source": [
    "from sklearn.base import BaseEstimator\n",
    "from sklearn.linear_model import Ridge\n",
    "from sklearn.model_selection import GridSearchCV\n",
    "from sklearn.metrics import mean_absolute_percentage_error, r2_score\n",
    "import multiprocessing\n",
    "\n",
    "@torch.no_grad()\n",
    "def gather_age_feats(model, dataloader, device):\n",
    "    features = []\n",
    "    age_labels = []\n",
    "\n",
    "    model.eval()\n",
    "    for idx, (mat, labels) in enumerate(dataloader):\n",
    "        if isinstance(mat, list):\n",
    "            mat = mat[0]\n",
    "        mat = mat.to(device)\n",
    "        features.append(model(mat))\n",
    "        age_labels.append(labels)\n",
    "    \n",
    "    return torch.cat(features, 0).cpu().numpy(), torch.cat(age_labels, 0).cpu().numpy()\n",
    "\n",
    "@torch.no_grad()\n",
    "def estimate_age(model, train_loader, test_loader, device):\n",
    "    age_estimator = AgeEstimator()\n",
    "    X_train, y_train = gather_age_feats(model, train_loader, device)\n",
    "    age_estimator.fit(X_train, y_train)\n",
    "    y_pred_train = age_estimator.predict(X_train)\n",
    "    X_test, y_test = gather_age_feats(model, test_loader, device)\n",
    "    y_pred_test = age_estimator.predict(X_test)\n",
    "    return y_train, y_test, y_pred_train, y_pred_test\n",
    "\n",
    "@torch.no_grad()\n",
    "def compute_age_mae_r2(model, train_loader, test_loader, device): # test_int, test_ext, opts\n",
    "    age_estimator = AgeEstimator()\n",
    "\n",
    "    print(\"Training age estimator\")\n",
    "    train_X, train_y = gather_age_feats(model, train_loader, device)\n",
    "    mae_train, r2_train = age_estimator.fit(train_X, train_y)\n",
    "    X_test, y_test = gather_age_feats(model, test_loader, device)\n",
    "    #ext_X, ext_y = gather_age_feats(model, test_ext, opts)\n",
    "    mae_test = age_estimator.score(X_test, y_test)\n",
    "    r2_test = age_estimator.r2(X_test, y_test)\n",
    "    # mae_ext = age_estimator.score(ext_X, ext_y)\n",
    "\n",
    "    return mae_train, r2_train, mae_test, r2_test # mae, r2 for train and test\n",
    "\n",
    "class AgeEstimator(BaseEstimator):\n",
    "    \"\"\" Define the age estimator on latent space network features.\n",
    "    \"\"\"\n",
    "    def __init__(self):\n",
    "        n_jobs = multiprocessing.cpu_count()\n",
    "        self.age_estimator = GridSearchCV(\n",
    "            Ridge(), param_grid={\"alpha\": 10.**np.arange(-2, 3)}, cv=5,\n",
    "            scoring=\"r2\", n_jobs=n_jobs)\n",
    "\n",
    "    def fit(self, X, y):\n",
    "        self.age_estimator.fit(X, y)\n",
    "        return self.score(X, y), self.r2(X, y)\n",
    "\n",
    "    def predict(self, X):\n",
    "        y_pred = self.age_estimator.predict(X)\n",
    "        return y_pred\n",
    "    \n",
    "    def score(self, X, y):\n",
    "        y_pred = self.age_estimator.predict(X)\n",
    "        return mean_absolute_percentage_error(y, y_pred)\n",
    "    \n",
    "    def r2(self, X, y):\n",
    "        y_pred = self.age_estimator.predict(X)\n",
    "        return r2_score(y, y_pred)"
   ]
  },
  {
   "cell_type": "code",
   "execution_count": 72,
   "metadata": {},
   "outputs": [],
   "source": [
    "age_train, age_test, age_pred_train, age_pred_test = estimate_age(model, std_train_loader, std_test_loader, device)\n",
    "\n",
    "\n",
    "_, y_train = gather_age_feats(model, std_train_loader, device)\n",
    "_, y_test = gather_age_feats(model, std_test_loader, device)\n",
    "\n",
    "df_train = pd.DataFrame({\"Y_Train\":age_train, \"Y_Train_Pred\":age_pred_train})\n",
    "df_test = pd.DataFrame({\"Y_Test\": age_test, \"Y_Test_Pred\":age_pred_test})\n",
    "\n"
   ]
  },
  {
   "cell_type": "code",
   "execution_count": 73,
   "metadata": {},
   "outputs": [
    {
     "name": "stderr",
     "output_type": "stream",
     "text": [
      "/gpfs3/well/margulies/users/cpy397/.local/lib/python3.9/site-packages/seaborn/_oldcore.py:1498: FutureWarning: is_categorical_dtype is deprecated and will be removed in a future version. Use isinstance(dtype, CategoricalDtype) instead\n",
      "  if pd.api.types.is_categorical_dtype(vector):\n",
      "/gpfs3/well/margulies/users/cpy397/.local/lib/python3.9/site-packages/seaborn/_oldcore.py:1498: FutureWarning: is_categorical_dtype is deprecated and will be removed in a future version. Use isinstance(dtype, CategoricalDtype) instead\n",
      "  if pd.api.types.is_categorical_dtype(vector):\n"
     ]
    },
    {
     "data": {
      "text/plain": [
       "<Axes: xlabel='Y_Train', ylabel='Y_Train_Pred'>"
      ]
     },
     "execution_count": 73,
     "metadata": {},
     "output_type": "execute_result"
    },
    {
     "data": {
      "image/png": "[encoded data removed]",
      "text/plain": [
       "<Figure size 640x480 with 1 Axes>"
      ]
     },
     "metadata": {},
     "output_type": "display_data"
    }
   ],
   "source": [
    "sns.scatterplot(df_train, x = \"Y_Train\", y=\"Y_Train_Pred\")"
   ]
  },
  {
   "cell_type": "code",
   "execution_count": 74,
   "metadata": {},
   "outputs": [
    {
     "name": "stderr",
     "output_type": "stream",
     "text": [
      "/gpfs3/well/margulies/users/cpy397/.local/lib/python3.9/site-packages/seaborn/_oldcore.py:1498: FutureWarning: is_categorical_dtype is deprecated and will be removed in a future version. Use isinstance(dtype, CategoricalDtype) instead\n",
      "  if pd.api.types.is_categorical_dtype(vector):\n",
      "/gpfs3/well/margulies/users/cpy397/.local/lib/python3.9/site-packages/seaborn/_oldcore.py:1498: FutureWarning: is_categorical_dtype is deprecated and will be removed in a future version. Use isinstance(dtype, CategoricalDtype) instead\n",
      "  if pd.api.types.is_categorical_dtype(vector):\n"
     ]
    },
    {
     "data": {
      "text/plain": [
       "<Axes: xlabel='Y_Test', ylabel='Y_Test_Pred'>"
      ]
     },
     "execution_count": 74,
     "metadata": {},
     "output_type": "execute_result"
    },
    {
     "data": {
      "image/png": "[encoded data removed]",
      "text/plain": [
       "<Figure size 640x480 with 1 Axes>"
      ]
     },
     "metadata": {},
     "output_type": "display_data"
    }
   ],
   "source": [
    "sns.scatterplot(df_test, x = \"Y_Test\", y=\"Y_Test_Pred\")"
   ]
  },
  {
   "cell_type": "code",
   "execution_count": 75,
   "metadata": {},
   "outputs": [
    {
     "name": "stdout",
     "output_type": "stream",
     "text": [
      "Training age estimator\n",
      "Train Age MAE: 0.009936864487826824, Test Age MAE: 0.2206261307001114.\n",
      "Train Age R2: 0.9980361553226713, Test Age R2: 0.005423689047425739.\n"
     ]
    }
   ],
   "source": [
    "\n",
    "mape_train, r2_train, mape_test, r2_test = compute_age_mae_r2(model, std_train_loader, std_test_loader, device)\n",
    "print(f\"Train Age MAE: {mape_train}, Test Age MAE: {mape_test}.\")\n",
    "print(f\"Train Age R2: {r2_train}, Test Age R2: {r2_test}.\")"
   ]
  },
  {
   "cell_type": "code",
   "execution_count": null,
   "metadata": {},
   "outputs": [],
   "source": [
    "# results_df = pd.DataFrame(results_cv, columns=['Fold', 'Train_MAPE', 'Train_R2', 'Val_MAPE', 'Val_R2'])\n",
    "# results_df.to_csv('cv_results_hopkins.csv', index=False)"
   ]
  },
  {
   "cell_type": "markdown",
   "metadata": {},
   "source": [
    "## Testing"
   ]
  },
  {
   "cell_type": "code",
   "execution_count": 191,
   "metadata": {},
   "outputs": [],
   "source": [
    "# test_loader = DataLoader(test_dataset, batch_size=batch_size, shuffle=True)\n",
    "# features = torch.vstack([test_dataset[i][0] for i in range(len(test_loader))])\n",
    "# targets = torch.vstack([test_dataset[i][1] for i in range(len(test_loader))])\n",
    "# features_mean, features_std, targets_mean, targets_std = compute_global_stats(test_dataset)\n",
    "# standardized_features = (features - features_mean) / features_std\n",
    "# standardized_targets = (targets - targets_mean) / targets_std\n",
    "# standardized_test_dataset = TensorDataset(standardized_features, standardized_targets)\n",
    "# test_loader = DataLoader(standardized_test_dataset, batch_size=batch_size, shuffle=True)"
   ]
  },
  {
   "cell_type": "code",
   "execution_count": null,
   "metadata": {},
   "outputs": [],
   "source": []
  },
  {
   "cell_type": "code",
   "execution_count": 230,
   "metadata": {},
   "outputs": [
    {
     "name": "stdout",
     "output_type": "stream",
     "text": [
      "Mean Test Loss:   1.88\n"
     ]
    }
   ],
   "source": [
    "model.eval()\n",
    "test_losses = []\n",
    "emb_features = [] # saving the embedded features for each batch\n",
    "emb_targets = []\n",
    "with torch.no_grad():\n",
    "    total_loss = 0\n",
    "    total_samples = 0\n",
    "    for batch_num, (features, targets) in enumerate(std_test_loader):\n",
    "        features = features.to(device).float()\n",
    "        targets = targets.to(device)\n",
    "\n",
    "        out_feat, out_target = model(features, targets)\n",
    "        emb_features.append(out_feat.cpu())\n",
    "        loss = criterion_pft(out_feat.unsqueeze(1), targets)\n",
    "        test_losses.append(loss.item())\n",
    "        total_loss += loss.item() * features.size(0)\n",
    "        total_samples += features.size(0)\n",
    "        \n",
    "    test_losses =np.array(test_losses)\n",
    "    average_loss = total_loss / total_samples\n",
    "    print('Mean Test Loss: %6.2f' % (average_loss))\n",
    "    #np.save(f\"losses/test_losses_batch{batch_num}.npy\", test_losses)"
   ]
  },
  {
   "cell_type": "code",
   "execution_count": 231,
   "metadata": {},
   "outputs": [],
   "source": [
    "emb_features = torch.row_stack(emb_features)"
   ]
  },
  {
   "cell_type": "code",
   "execution_count": 232,
   "metadata": {},
   "outputs": [],
   "source": [
    "emb_targets = torch.row_stack(emb_targets)"
   ]
  },
  {
   "cell_type": "code",
   "execution_count": 233,
   "metadata": {},
   "outputs": [],
   "source": [
    "emb_features = pd.DataFrame(emb_features,columns = [\"Dim_1\", \"Dim_2\"])"
   ]
  },
  {
   "cell_type": "code",
   "execution_count": 234,
   "metadata": {},
   "outputs": [],
   "source": [
    "emb_targets = pd.DataFrame(emb_targets,columns = [\"Dim_1\", \"Dim_2\"])"
   ]
  },
  {
   "cell_type": "code",
   "execution_count": 235,
   "metadata": {},
   "outputs": [],
   "source": [
    "emb_features[\"sub\"] = np.arange(1, len(emb_features) +1)\n",
    "emb_targets[\"sub\"] = np.arange(1, len(emb_targets) +1)\n",
    "emb_features[\"Type\"] = 'Features'\n",
    "emb_targets[\"Type\"] = 'Targets'\n"
   ]
  },
  {
   "cell_type": "code",
   "execution_count": 236,
   "metadata": {},
   "outputs": [
    {
     "name": "stderr",
     "output_type": "stream",
     "text": [
      "/gpfs3/well/margulies/users/cpy397/.local/lib/python3.9/site-packages/seaborn/_oldcore.py:1498: FutureWarning: is_categorical_dtype is deprecated and will be removed in a future version. Use isinstance(dtype, CategoricalDtype) instead\n",
      "  if pd.api.types.is_categorical_dtype(vector):\n",
      "/gpfs3/well/margulies/users/cpy397/.local/lib/python3.9/site-packages/seaborn/_oldcore.py:1498: FutureWarning: is_categorical_dtype is deprecated and will be removed in a future version. Use isinstance(dtype, CategoricalDtype) instead\n",
      "  if pd.api.types.is_categorical_dtype(vector):\n",
      "/gpfs3/well/margulies/users/cpy397/.local/lib/python3.9/site-packages/seaborn/_oldcore.py:1498: FutureWarning: is_categorical_dtype is deprecated and will be removed in a future version. Use isinstance(dtype, CategoricalDtype) instead\n",
      "  if pd.api.types.is_categorical_dtype(vector):\n",
      "/gpfs3/well/margulies/users/cpy397/.local/lib/python3.9/site-packages/seaborn/_oldcore.py:1498: FutureWarning: is_categorical_dtype is deprecated and will be removed in a future version. Use isinstance(dtype, CategoricalDtype) instead\n",
      "  if pd.api.types.is_categorical_dtype(vector):\n",
      "/gpfs3/well/margulies/users/cpy397/.local/lib/python3.9/site-packages/seaborn/_oldcore.py:1498: FutureWarning: is_categorical_dtype is deprecated and will be removed in a future version. Use isinstance(dtype, CategoricalDtype) instead\n",
      "  if pd.api.types.is_categorical_dtype(vector):\n",
      "/gpfs3/well/margulies/users/cpy397/.local/lib/python3.9/site-packages/seaborn/_oldcore.py:1498: FutureWarning: is_categorical_dtype is deprecated and will be removed in a future version. Use isinstance(dtype, CategoricalDtype) instead\n",
      "  if pd.api.types.is_categorical_dtype(vector):\n"
     ]
    },
    {
     "data": {
      "text/plain": [
       "<matplotlib.legend.Legend at 0x7f08ae3f9940>"
      ]
     },
     "execution_count": 236,
     "metadata": {},
     "output_type": "execute_result"
    },
    {
     "data": {
      "image/png": "[encoded data removed]",
      "text/plain": [
       "<Figure size 640x480 with 1 Axes>"
      ]
     },
     "metadata": {},
     "output_type": "display_data"
    }
   ],
   "source": [
    "# time to cry\n",
    "# I probably messed up the original loss. Went over it multiple times\n",
    "import matplotlib.lines as mlines\n",
    "\n",
    "sns.scatterplot(emb_features, x = 'Dim_1', y = 'Dim_2', s = 100, alpha = 0.8, hue = 'sub', palette = 'nipy_spectral', label='Features')\n",
    "sns.scatterplot(emb_targets, x = 'Dim_1', marker = 'v', y = 'Dim_2', s = 100, alpha = 0.8, hue = 'sub', palette = 'nipy_spectral', label='Targets')\n",
    "plt.xlim(-1.2, 1.2)\n",
    "plt.ylim(-1.2, 1.2)\n",
    "\n",
    "feature_handle = mlines.Line2D([], [], color='black', marker='o', linestyle='None', markersize=10, label='Features')\n",
    "target_handle = mlines.Line2D([], [], color='black', marker='v', linestyle='None', markersize=10, label='Targets')\n",
    "\n",
    "plt.legend(handles=[feature_handle, target_handle])"
   ]
  },
  {
   "cell_type": "code",
   "execution_count": null,
   "metadata": {},
   "outputs": [],
   "source": []
  },
  {
   "cell_type": "code",
   "execution_count": null,
   "metadata": {},
   "outputs": [],
   "source": []
  },
  {
   "cell_type": "code",
   "execution_count": null,
   "metadata": {},
   "outputs": [],
   "source": []
  }
 ],
 "metadata": {
  "kernelspec": {
   "display_name": "Python 3 (ipykernel)",
   "language": "python",
   "name": "python3"
  },
  "language_info": {
   "codemirror_mode": {
    "name": "ipython",
    "version": 3
   },
   "file_extension": ".py",
   "mimetype": "text/x-python",
   "name": "python",
   "nbconvert_exporter": "python",
   "pygments_lexer": "ipython3",
   "version": "3.9.6"
  }
 },
 "nbformat": 4,
 "nbformat_minor": 2
}
