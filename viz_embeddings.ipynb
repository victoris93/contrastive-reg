{
 "cells": [
  {
   "cell_type": "code",
   "execution_count": 1,
   "metadata": {},
   "outputs": [],
   "source": [
    "import pandas as pd\n",
    "import nilearn as nl\n",
    "import matplotlib.pyplot as plt\n",
    "from scipy.stats import pearsonr, spearmanr\n",
    "from scipy.linalg import issymmetric\n",
    "from nilearn.connectome import vec_to_sym_matrix, sym_matrix_to_vec\n",
    "from nilearn import plotting\n",
    "import seaborn as sns\n",
    "import numpy as np\n",
    "import torch\n",
    "import xarray as xr\n",
    "import torch.nn as nn\n",
    "from torch.utils.data import DataLoader, Dataset, Subset, TensorDataset\n",
    "from PIL import Image\n",
    "from scipy.linalg import issymmetric\n",
    "import pingouin as pg\n",
    "import plotly.express as px\n",
    "import os\n",
    "import re\n",
    "import plotly.io as pio\n",
    "from tqdm import tqdm"
   ]
  },
  {
   "cell_type": "code",
   "execution_count": 5,
   "metadata": {},
   "outputs": [],
   "source": [
    "exp_name = \"log transformation,  15 targets, batch size 32, no augmentations, non linear decoder, without auxiliary tasks\"\n",
    "#exp_name = \"test on mat ae pretrained for embedding analysis with slight change in direction reg\"\n",
    "dataset = 'test'\n",
    "root = '.'\n",
    "exp_dir = f'{root}/results/{exp_name}'\n",
    "predictions = pd.read_csv(f'{exp_dir}/pred_results.csv')\n",
    "predictions = predictions[(predictions[\"dataset\"] == dataset) & (predictions[\"train_ratio\"] == 1)]"
   ]
  },
  {
   "cell_type": "code",
   "execution_count": 6,
   "metadata": {},
   "outputs": [
    {
     "name": "stdout",
     "output_type": "stream",
     "text": [
      "Spearman correlation for benton_faces: -0.043875477739155136\n",
      "Spearman correlation for cattell: 0.4534863618681556\n",
      "Spearman correlation for famous_faces: 0.16774910184431596\n",
      "Spearman correlation for hotel_time: 0.2359612552225647\n",
      "Spearman correlation for picture_priming_baseline_acc: 0.2341364934444284\n",
      "Spearman correlation for picture_priming_baseline_rt: 0.003693225484241743\n",
      "Spearman correlation for rt_choice: 0.37104567095750307\n",
      "Spearman correlation for rt_simple: -0.025739980351160034\n",
      "Spearman correlation for syn_sem_prop_error: -0.012966326430151198\n",
      "Spearman correlation for syn_sem_rt: 0.1502333935400226\n",
      "Spearman correlation for tip_of_tongue: 0.10645148336145756\n",
      "Spearman correlation for VSTM_colour_K_mean: 0.225704713202509\n",
      "Spearman correlation for VSTM_colour_K_precision: 0.053258432627150666\n",
      "Spearman correlation for VSTM_colour_K_doubt: 0.10632037685467416\n",
      "Spearman correlation for VSTM_colour_MSE: 0.29452603471295064\n"
     ]
    }
   ],
   "source": [
    "targets = [\"benton_faces\", \"cattell\",\"famous_faces\",\n",
    "           \"hotel_time\",\"picture_priming_baseline_acc\",\"picture_priming_baseline_rt\",\n",
    "           \"rt_choice\",\"rt_simple\",\"syn_sem_prop_error\",\"syn_sem_rt\",\n",
    "           \"tip_of_tongue\",\"VSTM_colour_K_mean\",\"VSTM_colour_K_precision\",\"VSTM_colour_K_doubt\",\"VSTM_colour_MSE\"]\n",
    "# Calculate Spearman correlation for each target\n",
    "spearman_results = {}\n",
    "for target in targets:\n",
    "    target_column = predictions[target]\n",
    "    target_pred_column = predictions[f\"{target}_pred\"]\n",
    "    spearman_corr, _ = spearmanr(target_column, target_pred_column)\n",
    "    spearman_results[target] = spearman_corr\n",
    "\n",
    "# Display results\n",
    "for target, corr in spearman_results.items():\n",
    "    print(f\"Spearman correlation for {target}: {corr}\")"
   ]
  },
  {
   "cell_type": "code",
   "execution_count": 45,
   "metadata": {},
   "outputs": [
    {
     "name": "stdout",
     "output_type": "stream",
     "text": [
      "Pearson correlation for age: -0.25841361107038363\n",
      "Pearson correlation for benton_faces: 0.3173521782317444\n",
      "Pearson correlation for cattell: 0.134087597819453\n",
      "Pearson correlation for famous_faces: -0.05191799303233838\n",
      "Pearson correlation for hotel_time: 0.12392899869548962\n",
      "Pearson correlation for proverbs: 0.18974777451843067\n",
      "Pearson correlation for tip_of_tongue: 0.12636231419040717\n"
     ]
    }
   ],
   "source": [
    "targets = [\"age\", \"benton_faces\", \"cattell\", \"famous_faces\", \"hotel_time\", \"proverbs\", \"tip_of_tongue\"]\n",
    "\n",
    "# Calculate Pearson correlation for each target\n",
    "pearson_results = {}\n",
    "for target in targets:\n",
    "    target_column = predictions[target]\n",
    "    target_pred_column = predictions[f\"{target}_pred\"]\n",
    "    \n",
    "    # Calculate Pearson correlation\n",
    "    pearson_corr = np.corrcoef(target_column, target_pred_column)[0, 1]\n",
    "    pearson_results[target] = pearson_corr\n",
    "\n",
    "# Display results\n",
    "for target, corr in pearson_results.items():\n",
    "    print(f\"Pearson correlation for {target}: {corr}\")"
   ]
  },
  {
   "cell_type": "code",
   "execution_count": 4,
   "metadata": {},
   "outputs": [],
   "source": [
    "exp_name = \"log transformation,  19 targets, batch size 32, 3 augmentations, non linear decoder 2\"\n",
    "#exp_name = \"test on mat ae pretrained for embedding analysis with slight change in direction reg\"\n",
    "dataset = 'test'\n",
    "root = '.'\n",
    "exp_dir = f'{root}/results/{exp_name}'\n",
    "predictions = pd.read_csv(f'{exp_dir}/pred_results.csv')\n",
    "predictions = predictions[(predictions[\"dataset\"] == dataset) & (predictions[\"train_ratio\"] == 1)]"
   ]
  },
  {
   "cell_type": "code",
   "execution_count": 5,
   "metadata": {},
   "outputs": [
    {
     "name": "stdout",
     "output_type": "stream",
     "text": [
      "mean 0.2817073697675695\n",
      "Spearman correlation for age: 0.7134926357708146\n",
      "Spearman correlation for benton_faces: 0.14165642238748102\n",
      "Spearman correlation for cattell: 0.46777591265325286\n",
      "Spearman correlation for cardio_measure_pulse_mean: 0.09109807309409047\n",
      "Spearman correlation for cardio_measure_bp_sys_mean: 0.41012836974879\n",
      "Spearman correlation for cardio_measure_bp_dia_mean: 0.2538531567757525\n",
      "Spearman correlation for famous_faces: 0.3480763554470138\n",
      "Spearman correlation for hotel_time: 0.1933266996379696\n",
      "Spearman correlation for picture_priming_baseline_acc: 0.3154258375813799\n",
      "Spearman correlation for picture_priming_baseline_rt: 0.22164391412250242\n",
      "Spearman correlation for rt_choice: 0.5205582285815049\n",
      "Spearman correlation for rt_simple: 0.12849837519208002\n",
      "Spearman correlation for syn_sem_prop_error: -0.0029592665686231545\n",
      "Spearman correlation for syn_sem_rt: 0.36237086523243994\n",
      "Spearman correlation for tip_of_tongue: 0.25446676121568096\n",
      "Spearman correlation for VSTM_colour_K_mean: 0.30407839383328716\n",
      "Spearman correlation for VSTM_colour_K_precision: 0.1938534398065345\n",
      "Spearman correlation for VSTM_colour_K_doubt: 0.10153412096631988\n",
      "Spearman correlation for VSTM_colour_MSE: 0.33356173010554957\n"
     ]
    }
   ],
   "source": [
    "targets = [\"age\",\"benton_faces\", \"cattell\", \"cardio_measure_pulse_mean\", \"cardio_measure_bp_sys_mean\", \n",
    "           \"cardio_measure_bp_dia_mean\",\"famous_faces\",\n",
    "           \"hotel_time\",\"picture_priming_baseline_acc\",\"picture_priming_baseline_rt\",\n",
    "           \"rt_choice\",\"rt_simple\",\"syn_sem_prop_error\",\"syn_sem_rt\",\n",
    "           \"tip_of_tongue\",\"VSTM_colour_K_mean\",\"VSTM_colour_K_precision\",\"VSTM_colour_K_doubt\",\"VSTM_colour_MSE\"]\n",
    "\n",
    "# Calculate Spearman correlation for each target\n",
    "spearman_results = {}\n",
    "mean = []\n",
    "for target in targets:\n",
    "    target_column = predictions[target]\n",
    "    target_pred_column = predictions[f\"{target}_pred\"]\n",
    "    spearman_corr, _ = spearmanr(target_column, target_pred_column)\n",
    "    mean.append(spearman_corr)\n",
    "    spearman_results[target] = spearman_corr\n",
    "print(\"mean\", np.mean(mean))\n",
    "# Display results\n",
    "for target, corr in spearman_results.items():\n",
    "    print(f\"Spearman correlation for {target}: {corr}\")"
   ]
  },
  {
   "cell_type": "code",
   "execution_count": 2,
   "metadata": {},
   "outputs": [],
   "source": [
    "exp_name = \"log transformation,  19 targets, batch size 32, 4 augmentations, non linear decoder, with auxiliary tasks\"\n",
    "#exp_name = \"test on mat ae pretrained for embedding analysis with slight change in direction reg\"\n",
    "dataset = 'test'\n",
    "root = '.'\n",
    "exp_dir = f'{root}/results/{exp_name}'\n",
    "predictions = pd.read_csv(f'{exp_dir}/pred_results.csv')\n",
    "predictions = predictions[(predictions[\"dataset\"] == dataset) & (predictions[\"train_ratio\"] == 1)]"
   ]
  },
  {
   "cell_type": "code",
   "execution_count": 3,
   "metadata": {},
   "outputs": [
    {
     "name": "stdout",
     "output_type": "stream",
     "text": [
      "mean 0.25598671729373373\n",
      "Spearman correlation for age: 0.6538740413510764\n",
      "Spearman correlation for benton_faces: 0.20208061893987353\n",
      "Spearman correlation for cattell: 0.5282088045152267\n",
      "Spearman correlation for cardio_measure_pulse_mean: 0.09622595223680636\n",
      "Spearman correlation for cardio_measure_bp_sys_mean: 0.3715712735868398\n",
      "Spearman correlation for cardio_measure_bp_dia_mean: 0.2200648606728955\n",
      "Spearman correlation for famous_faces: 0.26957656495494353\n",
      "Spearman correlation for hotel_time: 0.1626128907460183\n",
      "Spearman correlation for picture_priming_baseline_acc: 0.4232438306666832\n",
      "Spearman correlation for picture_priming_baseline_rt: 0.11933703355288634\n",
      "Spearman correlation for rt_choice: 0.5425145476988186\n",
      "Spearman correlation for rt_simple: 0.10817442124089982\n",
      "Spearman correlation for syn_sem_prop_error: 0.03662029361921396\n",
      "Spearman correlation for syn_sem_rt: -0.015426897314448814\n",
      "Spearman correlation for tip_of_tongue: 0.21568933820485225\n",
      "Spearman correlation for VSTM_colour_K_mean: 0.3279794442905005\n",
      "Spearman correlation for VSTM_colour_K_precision: 0.2511071365594378\n",
      "Spearman correlation for VSTM_colour_K_doubt: 0.034385469934755775\n",
      "Spearman correlation for VSTM_colour_MSE: 0.31590800312366174\n"
     ]
    }
   ],
   "source": [
    "targets = [\"age\",\"benton_faces\", \"cattell\", \"cardio_measure_pulse_mean\", \"cardio_measure_bp_sys_mean\", \n",
    "           \"cardio_measure_bp_dia_mean\",\"famous_faces\",\n",
    "           \"hotel_time\",\"picture_priming_baseline_acc\",\"picture_priming_baseline_rt\",\n",
    "           \"rt_choice\",\"rt_simple\",\"syn_sem_prop_error\",\"syn_sem_rt\",\n",
    "           \"tip_of_tongue\",\"VSTM_colour_K_mean\",\"VSTM_colour_K_precision\",\"VSTM_colour_K_doubt\",\"VSTM_colour_MSE\"]\n",
    "\n",
    "# Calculate Spearman correlation for each target\n",
    "spearman_results = {}\n",
    "mean = []\n",
    "for target in targets:\n",
    "    target_column = predictions[target]\n",
    "    target_pred_column = predictions[f\"{target}_pred\"]\n",
    "    spearman_corr, _ = spearmanr(target_column, target_pred_column)\n",
    "    mean.append(spearman_corr)\n",
    "    spearman_results[target] = spearman_corr\n",
    "print(\"mean\", np.mean(mean))\n",
    "# Display results\n",
    "for target, corr in spearman_results.items():\n",
    "    print(f\"Spearman correlation for {target}: {corr}\")"
   ]
  },
  {
   "cell_type": "code",
   "execution_count": 5,
   "metadata": {},
   "outputs": [
    {
     "data": {
      "text/plain": [
       "{'age': 0.7134926357708146,\n",
       " 'benton_faces': 0.14165642238748102,\n",
       " 'cattell': 0.46777591265325286,\n",
       " 'cardio_measure_pulse_mean': 0.09109807309409047,\n",
       " 'cardio_measure_bp_sys_mean': 0.41012836974879,\n",
       " 'cardio_measure_bp_dia_mean': 0.2538531567757525,\n",
       " 'famous_faces': 0.3480763554470138,\n",
       " 'hotel_time': 0.1933266996379696,\n",
       " 'picture_priming_baseline_acc': 0.3154258375813799,\n",
       " 'picture_priming_baseline_rt': 0.22164391412250242,\n",
       " 'rt_choice': 0.5205582285815049,\n",
       " 'rt_simple': 0.12849837519208002,\n",
       " 'syn_sem_prop_error': -0.0029592665686231545,\n",
       " 'syn_sem_rt': 0.36237086523243994,\n",
       " 'tip_of_tongue': 0.25446676121568096,\n",
       " 'VSTM_colour_K_mean': 0.30407839383328716,\n",
       " 'VSTM_colour_K_precision': 0.1938534398065345,\n",
       " 'VSTM_colour_K_doubt': 0.10153412096631988,\n",
       " 'VSTM_colour_MSE': 0.33356173010554957}"
      ]
     },
     "execution_count": 5,
     "metadata": {},
     "output_type": "execute_result"
    }
   ],
   "source": [
    "spearman_results"
   ]
  },
  {
   "cell_type": "code",
   "execution_count": 60,
   "metadata": {},
   "outputs": [],
   "source": [
    "exp_name = \"log transformation,  15 targets, batch size 32, 3 augmentations, non linear decoder, without auxiliary tasks\"\n",
    "#exp_name = \"test on mat ae pretrained for embedding analysis with slight change in direction reg\"\n",
    "dataset = 'test'\n",
    "root = '.'\n",
    "exp_dir = f'{root}/results/{exp_name}'\n",
    "predictions = pd.read_csv(f'{exp_dir}/pred_results.csv')\n",
    "predictions = predictions[(predictions[\"dataset\"] == dataset) & (predictions[\"train_ratio\"] == 1)]"
   ]
  },
  {
   "cell_type": "code",
   "execution_count": 61,
   "metadata": {},
   "outputs": [
    {
     "name": "stdout",
     "output_type": "stream",
     "text": [
      "Spearman correlation for benton_faces: 0.21047202033071863\n",
      "Spearman correlation for cattell: 0.5188741756478432\n",
      "Spearman correlation for famous_faces: 0.24863823602382185\n",
      "Spearman correlation for hotel_time: 0.14115957738284104\n",
      "Spearman correlation for picture_priming_baseline_acc: 0.2676903963126134\n",
      "Spearman correlation for picture_priming_baseline_rt: -0.12248106179595161\n",
      "Spearman correlation for rt_choice: 0.34575408721062045\n",
      "Spearman correlation for rt_simple: 0.021064564072851854\n",
      "Spearman correlation for syn_sem_prop_error: 0.041006259402352196\n",
      "Spearman correlation for syn_sem_rt: 0.08227846506932188\n",
      "Spearman correlation for tip_of_tongue: 0.2139963530006373\n",
      "Spearman correlation for VSTM_colour_K_mean: 0.2662115525102653\n",
      "Spearman correlation for VSTM_colour_K_precision: 0.23178073909867244\n",
      "Spearman correlation for VSTM_colour_K_doubt: 0.06408040909892435\n",
      "Spearman correlation for VSTM_colour_MSE: 0.3033932035166385\n"
     ]
    }
   ],
   "source": [
    "targets = [\"benton_faces\", \"cattell\",\"famous_faces\",\n",
    "           \"hotel_time\",\"picture_priming_baseline_acc\",\"picture_priming_baseline_rt\",\n",
    "           \"rt_choice\",\"rt_simple\",\"syn_sem_prop_error\",\"syn_sem_rt\",\n",
    "           \"tip_of_tongue\",\"VSTM_colour_K_mean\",\"VSTM_colour_K_precision\",\"VSTM_colour_K_doubt\",\"VSTM_colour_MSE\"]\n",
    "\n",
    "# Calculate Spearman correlation for each target\n",
    "spearman_results = {}\n",
    "for target in targets:\n",
    "    target_column = predictions[target]\n",
    "    target_pred_column = predictions[f\"{target}_pred\"]\n",
    "    spearman_corr, _ = spearmanr(target_column, target_pred_column)\n",
    "    spearman_results[target] = spearman_corr\n",
    "\n",
    "# Display results\n",
    "for target, corr in spearman_results.items():\n",
    "    print(f\"Spearman correlation for {target}: {corr}\")"
   ]
  },
  {
   "cell_type": "code",
   "execution_count": 73,
   "metadata": {},
   "outputs": [
    {
     "name": "stdout",
     "output_type": "stream",
     "text": [
      "Pearson correlation for age: -0.7691432766787062\n"
     ]
    }
   ],
   "source": [
    "targets = [\"age\"]\n",
    "\n",
    "# Calculate Pearson correlation for each target\n",
    "pearson_results = {}\n",
    "for target in targets:\n",
    "    target_column = predictions[target]\n",
    "    target_pred_column = predictions[f\"{target}_pred\"]\n",
    "    \n",
    "    # Calculate Pearson correlation\n",
    "    pearson_corr = np.corrcoef(target_column, target_pred_column)[0, 1]\n",
    "    pearson_results[target] = pearson_corr\n",
    "\n",
    "# Display results\n",
    "for target, corr in pearson_results.items():\n",
    "    print(f\"Pearson correlation for {target}: {corr}\")"
   ]
  },
  {
   "cell_type": "code",
   "execution_count": 35,
   "metadata": {},
   "outputs": [],
   "source": [
    "y_pred = np.load(\"results/multivariate prediction with normalized targets, embedding space of dim 50 4/recon_mat/y_pred_run0.npy\")"
   ]
  },
  {
   "cell_type": "code",
   "execution_count": 37,
   "metadata": {},
   "outputs": [],
   "source": [
    "y = np.load(\"/data/parietal/store2/work/mrenaudi/contrastive-reg-3/results/multivariate prediction with normalized targets, embedding space of dim 50 4/recon_mat/y_run0.npy\")"
   ]
  },
  {
   "cell_type": "code",
   "execution_count": 38,
   "metadata": {},
   "outputs": [
    {
     "data": {
      "text/plain": [
       "array([[6.7000000e+01, 2.0000000e+01, 5.1000000e+01, ..., 4.6088639e-01,\n",
       "        2.9173210e+01, 2.6564536e+03],\n",
       "       [4.8000000e+01, 2.3000000e+01, 6.5500000e+01, ..., 5.0114036e-01,\n",
       "        4.7196419e+01, 2.3765327e+03],\n",
       "       [3.4000000e+01, 2.4000000e+01, 7.4500000e+01, ..., 5.2675152e-01,\n",
       "        2.3080339e+01, 1.6786951e+03],\n",
       "       ...,\n",
       "       [6.9000000e+01, 1.9000000e+01, 5.6500004e+01, ..., 3.9355046e-01,\n",
       "        2.1703560e+01, 2.4799407e+03],\n",
       "       [6.7000000e+01, 2.3000000e+01, 6.9500000e+01, ..., 3.6456165e-01,\n",
       "        4.0435719e+01, 2.0528354e+03],\n",
       "       [1.9000000e+01, 2.4000000e+01, 7.0500000e+01, ..., 4.8570210e-01,\n",
       "        9.7857151e+00, 1.8761132e+03]], dtype=float32)"
      ]
     },
     "execution_count": 38,
     "metadata": {},
     "output_type": "execute_result"
    }
   ],
   "source": [
    "y"
   ]
  },
  {
   "cell_type": "code",
   "execution_count": 8,
   "metadata": {},
   "outputs": [
    {
     "data": {
      "image/png": "[encoded data removed]",
      "text/plain": [
       "<Figure size 600x600 with 3 Axes>"
      ]
     },
     "metadata": {},
     "output_type": "display_data"
    }
   ],
   "source": [
    "corr, _ = spearmanr(predictions[\"benton_faces\"], predictions[\"benton_faces_pred\"])\n",
    "\n",
    "xmin = predictions[\"benton_faces\"].min()\n",
    "xmax = predictions[\"benton_faces\"].max()\n",
    "ymin = predictions[\"benton_faces_pred\"].min()\n",
    "ymax = predictions[\"benton_faces_pred\"].max()\n",
    "\n",
    "# Create the scatter plot\n",
    "sns.jointplot(data=predictions, x=\"benton_faces\",\n",
    "              y=\"benton_faces_pred\",\n",
    "              kind=\"reg\",\n",
    "              line_kws={'color': 'red'},\n",
    "              xlim=(xmin, xmax),\n",
    "              ylim=(xmin, xmax)\n",
    ")\n",
    "\n",
    "# Annotate the plot with the Spearman correlation coefficient\n",
    "plt.annotate(f'Spearman Corr: {corr:.2f}', xy=(0.05, 0.95), xycoords='axes fraction', \n",
    "             ha='left', va='top', fontsize=12, color='black')\n",
    "\n",
    "output_dir = 'viz_to_present/prediction_of_age_only'\n",
    "os.makedirs(output_dir, exist_ok=True)  # Create directory if it doesn't exist\n",
    "output_path = os.path.join(output_dir, 'correlation_age_prediction_train.png')  # Using SVG format as per your previous question\n",
    "plt.savefig(output_path, format='png', bbox_inches='tight')\n",
    "\n",
    "plt.show()"
   ]
  },
  {
   "cell_type": "code",
   "execution_count": 18,
   "metadata": {},
   "outputs": [
    {
     "data": {
      "image/png": "[encoded data removed]",
      "text/plain": [
       "<Figure size 640x480 with 1 Axes>"
      ]
     },
     "metadata": {},
     "output_type": "display_data"
    }
   ],
   "source": [
    "ax = pg.plot_blandaltman(predictions[\"age\"], predictions[\"age_pred\"])\n",
    "ax.set_xlabel(\"Mean of true and predicted\")\n",
    "ax.set_ylabel(\"True - Predicted\")\n",
    "output_dir = 'viz_to_present/prediction_of_age_only'\n",
    "os.makedirs(output_dir, exist_ok=True)  # Create directory if it doesn't exist\n",
    "output_path = os.path.join(output_dir, 'residuals_age_prediction_train.png')  # Using SVG format as per your previous question\n",
    "plt.savefig(output_path, format='png', bbox_inches='tight')\n"
   ]
  },
  {
   "cell_type": "markdown",
   "metadata": {},
   "source": [
    "## Embeddings"
   ]
  },
  {
   "cell_type": "code",
   "execution_count": 4,
   "metadata": {},
   "outputs": [],
   "source": [
    "embeddings = np.load(f\"{exp_dir}/embeddings/joint_embeddings_run0_{dataset}.npy\")"
   ]
  },
  {
   "cell_type": "code",
   "execution_count": 5,
   "metadata": {},
   "outputs": [
    {
     "data": {
      "text/plain": [
       "array([[ 0.11821395,  0.81454206, -0.567932  ],\n",
       "       [ 0.12497953,  0.74265385, -0.6579098 ],\n",
       "       [ 0.40329364,  0.86242455, -0.30590537],\n",
       "       [ 0.4192796 ,  0.87878555, -0.2279049 ],\n",
       "       [ 0.32552785,  0.9056118 , -0.27184337],\n",
       "       [ 0.1384861 ,  0.8152321 , -0.5623329 ],\n",
       "       [ 0.3810536 ,  0.87435496, -0.3005022 ],\n",
       "       [ 0.32554236,  0.8318157 , -0.44956058],\n",
       "       [ 0.30169335,  0.8926642 , -0.3348611 ],\n",
       "       [ 0.35525528,  0.87784076, -0.32123086],\n",
       "       [ 0.37616867,  0.8791559 , -0.2925441 ],\n",
       "       [ 0.19756944,  0.67198235, -0.7137269 ],\n",
       "       [ 0.4606717 ,  0.82990545, -0.31470388],\n",
       "       [ 0.13844311,  0.7423626 , -0.65553886],\n",
       "       [ 0.06643566,  0.8011871 , -0.59471464],\n",
       "       [ 0.30936465,  0.91527903, -0.25798807],\n",
       "       [ 0.35346055,  0.8693223 , -0.34546253],\n",
       "       [ 0.1889105 ,  0.87690645, -0.4419819 ],\n",
       "       [ 0.18900113,  0.90069133, -0.39119518],\n",
       "       [ 0.03389675,  0.73262864, -0.67978394],\n",
       "       [ 0.28110808,  0.9057807 , -0.3170798 ],\n",
       "       [ 0.1674855 ,  0.7314699 , -0.66098446],\n",
       "       [ 0.39687642,  0.90434575, -0.15699613],\n",
       "       [ 0.80274385,  0.56449574, -0.1922155 ],\n",
       "       [ 0.80786556,  0.5399396 , -0.23625956],\n",
       "       [ 0.7070981 ,  0.4822963 , -0.5171098 ],\n",
       "       [ 0.8167213 ,  0.5319871 , -0.22350863],\n",
       "       [ 0.43406546,  0.8648822 , -0.2521233 ],\n",
       "       [ 0.7168003 ,  0.5011518 , -0.48481354],\n",
       "       [ 0.8002858 ,  0.5829842 , -0.14025673],\n",
       "       [ 0.822197  ,  0.51298875, -0.24664673],\n",
       "       [ 0.6941739 ,  0.70781124, -0.13086623],\n",
       "       [ 0.5508174 ,  0.8219084 , -0.14514406],\n",
       "       [ 0.7576198 ,  0.6436489 , -0.10829745],\n",
       "       [ 0.69887877,  0.50277716, -0.5087078 ],\n",
       "       [ 0.75260895,  0.6526096 , -0.08763834],\n",
       "       [ 0.7486616 ,  0.51815087, -0.41355225],\n",
       "       [ 0.78542644,  0.59961045, -0.15353355],\n",
       "       [ 0.77345407,  0.5375546 , -0.3358629 ],\n",
       "       [ 0.7016483 ,  0.46648115, -0.53859544],\n",
       "       [ 0.7299219 ,  0.6735386 , -0.11644622],\n",
       "       [ 0.8167704 ,  0.5186497 , -0.25276217],\n",
       "       [ 0.6866374 ,  0.51559836, -0.51253045],\n",
       "       [ 0.7888251 ,  0.5478257 , -0.27864304],\n",
       "       [ 0.76640826,  0.495057  , -0.4093128 ],\n",
       "       [ 0.79383403,  0.59074104, -0.144404  ],\n",
       "       [ 0.5866651 ,  0.7895094 , -0.18027481],\n",
       "       [ 0.8086792 ,  0.46796903, -0.35643056],\n",
       "       [ 0.7272453 ,  0.67430943, -0.12814477],\n",
       "       [ 0.7889954 ,  0.59729505, -0.14396122],\n",
       "       [ 0.70213854,  0.525153  , -0.480849  ],\n",
       "       [ 0.7440754 ,  0.6579523 , -0.11597592],\n",
       "       [ 0.76941   ,  0.54948205, -0.32569563],\n",
       "       [ 0.70827174,  0.44887182, -0.5448534 ],\n",
       "       [ 0.78665346,  0.5379082 , -0.30303648],\n",
       "       [ 0.5735477 ,  0.79981774, -0.17701581],\n",
       "       [ 0.66696876,  0.73062724, -0.14606991],\n",
       "       [ 0.7360884 ,  0.6692143 , -0.10161709],\n",
       "       [ 0.67371726,  0.4634881 , -0.57557255],\n",
       "       [ 0.7876591 ,  0.41240504, -0.45772842],\n",
       "       [ 0.57423174,  0.35068467, -0.7397825 ],\n",
       "       [ 0.7785718 ,  0.03928796, -0.6263246 ],\n",
       "       [ 0.9105715 , -0.0600926 , -0.40896025],\n",
       "       [ 0.54296327,  0.30539563, -0.78225595],\n",
       "       [ 0.71780264,  0.08283728, -0.6913012 ],\n",
       "       [ 0.52397245,  0.35803145, -0.77283007],\n",
       "       [ 0.9032019 ,  0.00990277, -0.42910174],\n",
       "       [ 0.85894436,  0.04235569, -0.5103142 ],\n",
       "       [ 0.94049203, -0.04860777, -0.3363212 ],\n",
       "       [ 0.90688556, -0.0523813 , -0.41810855],\n",
       "       [ 0.9047542 ,  0.00873747, -0.4258444 ],\n",
       "       [ 0.8978716 , -0.07834417, -0.43323064],\n",
       "       [ 0.9227508 , -0.01741687, -0.3850035 ],\n",
       "       [ 0.9298096 , -0.02872087, -0.36691862],\n",
       "       [ 0.5242653 ,  0.358765  , -0.7722911 ],\n",
       "       [ 0.527863  ,  0.33219758, -0.7816683 ],\n",
       "       [ 0.52852184,  0.3491781 , -0.7737825 ],\n",
       "       [ 0.56522447,  0.39624372, -0.7235413 ],\n",
       "       [ 0.60537946,  0.19105968, -0.7726655 ],\n",
       "       [ 0.49446017,  0.32618222, -0.80567634],\n",
       "       [ 0.90949875, -0.02250898, -0.41509682],\n",
       "       [ 0.9141898 , -0.08143878, -0.39701977],\n",
       "       [ 0.54160434,  0.37435144, -0.75267905],\n",
       "       [ 0.8557845 ,  0.04057819, -0.5157386 ],\n",
       "       [ 0.9187459 ,  0.00205003, -0.394844  ],\n",
       "       [ 0.8518139 ,  0.00117429, -0.5238432 ],\n",
       "       [ 0.59512514,  0.24399787, -0.76569647],\n",
       "       [ 0.5848686 ,  0.26909643, -0.76519   ],\n",
       "       [ 0.8305884 ,  0.02870565, -0.55614656],\n",
       "       [ 0.7870971 ,  0.10609307, -0.60763663],\n",
       "       [ 0.92535263, -0.06321473, -0.3737999 ],\n",
       "       [ 0.66228765,  0.17437983, -0.7286747 ],\n",
       "       [ 0.9286965 , -0.06796538, -0.3645595 ],\n",
       "       [ 0.9317223 , -0.05656472, -0.35873947],\n",
       "       [ 0.8983231 , -0.07007573, -0.4337107 ],\n",
       "       [ 0.6409234 ,  0.19392785, -0.7427039 ],\n",
       "       [ 0.53426915,  0.304316  , -0.788637  ],\n",
       "       [ 0.5375792 ,  0.32258797, -0.77906716],\n",
       "       [ 0.5847085 ,  0.3379044 , -0.7375206 ],\n",
       "       [ 0.7511263 ,  0.12503247, -0.6482099 ],\n",
       "       [ 0.5304906 ,  0.33540213, -0.77851474],\n",
       "       [ 0.5364788 ,  0.3538514 , -0.76614606],\n",
       "       [ 0.9190022 , -0.10046265, -0.38123786],\n",
       "       [ 0.5716755 ,  0.3533847 , -0.74047714],\n",
       "       [ 0.599821  ,  0.3121419 , -0.73673755],\n",
       "       [ 0.90944844,  0.01369755, -0.41559103],\n",
       "       [ 0.6672561 ,  0.18119372, -0.7224528 ],\n",
       "       [ 0.61342734,  0.19285749, -0.7658413 ],\n",
       "       [ 0.543469  ,  0.4142434 , -0.73009855],\n",
       "       [ 0.8038918 ,  0.1181341 , -0.58292574],\n",
       "       [ 0.79126   ,  0.07910174, -0.60634184],\n",
       "       [ 0.8200852 ,  0.0721766 , -0.56767124],\n",
       "       [ 0.70675534,  0.09633054, -0.700869  ],\n",
       "       [ 0.8962983 , -0.11580886, -0.4280628 ],\n",
       "       [ 0.9257585 , -0.05681007, -0.37382317],\n",
       "       [ 0.35911167, -0.40518305, -0.8407529 ],\n",
       "       [ 0.34735927, -0.40797642, -0.8443322 ],\n",
       "       [ 0.3921377 , -0.2592581 , -0.88261724],\n",
       "       [ 0.40320814, -0.30826697, -0.8616233 ],\n",
       "       [ 0.32357636, -0.34074202, -0.8827192 ],\n",
       "       [ 0.50029486, -0.23185085, -0.8342363 ],\n",
       "       [ 0.83391374, -0.14266956, -0.5331353 ],\n",
       "       [ 0.45518064, -0.26223254, -0.8509081 ],\n",
       "       [ 0.9150013 , -0.12840134, -0.38247317],\n",
       "       [ 0.3764374 , -0.39505792, -0.83798814],\n",
       "       [ 0.45152012, -0.24588475, -0.85771227],\n",
       "       [ 0.3084111 , -0.376991  , -0.8733615 ],\n",
       "       [ 0.66969186, -0.14874256, -0.7275909 ],\n",
       "       [ 0.64250267, -0.2267279 , -0.7319733 ],\n",
       "       [ 0.36120552, -0.30201572, -0.88222283],\n",
       "       [ 0.36634973, -0.3318252 , -0.8692985 ],\n",
       "       [ 0.5162365 , -0.23617497, -0.82323825],\n",
       "       [ 0.3559086 , -0.33228135, -0.87345195],\n",
       "       [ 0.6204587 , -0.22594878, -0.7509847 ],\n",
       "       [ 0.3912244 , -0.44512638, -0.805485  ],\n",
       "       [ 0.8948848 , -0.11191645, -0.43203697],\n",
       "       [ 0.36064276, -0.32611504, -0.87383395],\n",
       "       [ 0.6264407 , -0.22112966, -0.74744475],\n",
       "       [ 0.36415353, -0.49851698, -0.78668475],\n",
       "       [ 0.3844831 , -0.28112957, -0.8792831 ],\n",
       "       [ 0.44517326, -0.23638852, -0.8636789 ],\n",
       "       [ 0.5859594 , -0.24690664, -0.7718088 ],\n",
       "       [ 0.35240862, -0.33466423, -0.8739611 ],\n",
       "       [ 0.8799802 , -0.12125752, -0.4592727 ],\n",
       "       [ 0.8360431 , -0.18126057, -0.51785755],\n",
       "       [ 0.7013745 , -0.5870976 , -0.40421578],\n",
       "       [ 0.44363454, -0.54730016, -0.7096837 ],\n",
       "       [ 0.699238  , -0.5608252 , -0.4433297 ],\n",
       "       [ 0.66258633, -0.5567234 , -0.50103736],\n",
       "       [ 0.688872  , -0.61973405, -0.3760123 ],\n",
       "       [ 0.6781803 , -0.57865673, -0.45302087],\n",
       "       [ 0.64159757, -0.6444211 , -0.4160216 ],\n",
       "       [ 0.6719024 , -0.57922006, -0.46157473],\n",
       "       [ 0.6373814 , -0.66868633, -0.3828885 ],\n",
       "       [ 0.3378443 , -0.545442  , -0.76704264],\n",
       "       [ 0.57334423, -0.55959255, -0.5984418 ],\n",
       "       [ 0.4510584 , -0.5936621 , -0.66641706],\n",
       "       [ 0.67175   , -0.56460243, -0.47955823],\n",
       "       [ 0.6697826 , -0.61791474, -0.41179222],\n",
       "       [ 0.6335559 , -0.673936  , -0.38002264],\n",
       "       [ 0.5627412 , -0.7263488 , -0.39463866],\n",
       "       [ 0.69640654, -0.5991801 , -0.39496973],\n",
       "       [ 0.53350306, -0.57600665, -0.6193471 ],\n",
       "       [ 0.4213677 , -0.5564862 , -0.7160812 ],\n",
       "       [ 0.5299986 , -0.7396171 , -0.41481084],\n",
       "       [ 0.66752166, -0.5292552 , -0.52374023],\n",
       "       [ 0.6316991 , -0.6607134 , -0.40548006],\n",
       "       [ 0.69123304, -0.55569494, -0.46195233],\n",
       "       [ 0.41188872, -0.5146262 , -0.7520023 ],\n",
       "       [ 0.6690309 , -0.58910745, -0.45315564],\n",
       "       [ 0.65959626, -0.6369154 , -0.39908844],\n",
       "       [ 0.69437486, -0.57812476, -0.42850363],\n",
       "       [ 0.39306402, -0.5239955 , -0.75559866],\n",
       "       [ 0.6910258 , -0.55830145, -0.45911095],\n",
       "       [ 0.734992  , -0.5551837 , -0.3893042 ],\n",
       "       [ 0.67176855, -0.62870634, -0.39173377],\n",
       "       [ 0.62909716, -0.6663127 , -0.40033013],\n",
       "       [ 0.38029036, -0.52202046, -0.7634618 ],\n",
       "       [ 0.44305378, -0.7898262 , -0.42412025],\n",
       "       [ 0.69808817, -0.56889313, -0.4347798 ],\n",
       "       [ 0.5448913 , -0.7550013 , -0.36478284],\n",
       "       [ 0.6604371 , -0.6002891 , -0.45108312],\n",
       "       [ 0.5838121 , -0.49955282, -0.64000803],\n",
       "       [ 0.46817732, -0.7993953 , -0.37653306],\n",
       "       [ 0.3580381 , -0.8863236 , -0.2936652 ],\n",
       "       [ 0.37194097, -0.85919815, -0.3513382 ],\n",
       "       [ 0.36784127, -0.9135193 , -0.17371048],\n",
       "       [ 0.44251397, -0.8455592 , -0.2986823 ],\n",
       "       [ 0.37647435, -0.926395  , -0.00770669],\n",
       "       [ 0.37254083, -0.8871777 , -0.27226645],\n",
       "       [ 0.33169115, -0.89324147, -0.30348086],\n",
       "       [ 0.6435639 , -0.7581726 ,  0.10488009],\n",
       "       [ 0.3858359 , -0.9212602 , -0.04909615],\n",
       "       [ 0.35165983, -0.8864272 , -0.30096868],\n",
       "       [ 0.3487329 , -0.9011042 , -0.25767532],\n",
       "       [ 0.36450365, -0.9167449 , -0.16345012],\n",
       "       [ 0.82053256, -0.563271  ,  0.09722173],\n",
       "       [ 0.33198157, -0.9296324 , -0.15991159],\n",
       "       [ 0.30750865, -0.9307594 , -0.19780168],\n",
       "       [ 0.38250703, -0.9219896 , -0.06019716],\n",
       "       [ 0.580076  , -0.7992757 ,  0.15706748],\n",
       "       [ 0.4308281 , -0.8212507 , -0.37407827],\n",
       "       [ 0.36029577, -0.86924136, -0.33853567],\n",
       "       [ 0.6232453 , -0.7688705 ,  0.14284086],\n",
       "       [ 0.7709668 , -0.6183406 ,  0.15252897],\n",
       "       [ 0.4141898 , -0.8019135 , -0.43055955],\n",
       "       [ 0.83336437, -0.548166  ,  0.07083771],\n",
       "       [ 0.7115771 , -0.69367373,  0.11169029],\n",
       "       [ 0.5312839 , -0.83218396,  0.15876798],\n",
       "       [ 0.539717  , -0.8407647 ,  0.04266519],\n",
       "       [ 0.35137257, -0.91828775, -0.18244152],\n",
       "       [ 0.50699383, -0.85533464,  0.10658285],\n",
       "       [ 0.47543263, -0.86763024,  0.14553909],\n",
       "       [ 0.5163178 , -0.846834  ,  0.12762468],\n",
       "       [ 0.34912536, -0.9272177 , -0.135568  ],\n",
       "       [ 0.81003124, -0.5730436 ,  0.12438037],\n",
       "       [ 0.31803727, -0.8928383 , -0.31889194],\n",
       "       [ 0.34376565, -0.9025609 , -0.25924692],\n",
       "       [ 0.6053968 , -0.7833259 ,  0.14105059],\n",
       "       [ 0.52324486, -0.83869076,  0.15103833],\n",
       "       [ 0.35596642, -0.933428  , -0.04472168],\n",
       "       [ 0.41481227, -0.906597  , -0.07754079],\n",
       "       [ 0.45637792, -0.8886201 ,  0.04553671],\n",
       "       [ 0.7169495 , -0.5279547 ,  0.4552442 ],\n",
       "       [ 0.88389254, -0.42574656,  0.19358158],\n",
       "       [ 0.8622081 , -0.49947256,  0.08440549],\n",
       "       [ 0.7976915 , -0.50687706,  0.3267474 ],\n",
       "       [ 0.8740921 , -0.43078557,  0.22447024],\n",
       "       [ 0.8548722 , -0.49999818,  0.13854693],\n",
       "       [ 0.866882  , -0.4675077 ,  0.17306656],\n",
       "       [ 0.8605056 , -0.49489057,  0.12088616],\n",
       "       [ 0.69822913, -0.524506  ,  0.487206  ],\n",
       "       [ 0.86471957, -0.44079152,  0.24075472],\n",
       "       [ 0.7623402 , -0.46997106,  0.44493207],\n",
       "       [ 0.86681247, -0.4787626 ,  0.13936472],\n",
       "       [ 0.86804014, -0.47845653,  0.13261077],\n",
       "       [ 0.6307265 , -0.49933824,  0.59400785],\n",
       "       [ 0.8839938 , -0.44274503,  0.15010636],\n",
       "       [ 0.86545426, -0.490743  ,  0.10079774],\n",
       "       [ 0.7029787 , -0.44045892,  0.5584057 ],\n",
       "       [ 0.8407272 , -0.42914873,  0.33016524],\n",
       "       [ 0.86600137, -0.4715222 ,  0.1664586 ],\n",
       "       [ 0.88182074, -0.43906096,  0.17209773],\n",
       "       [ 0.87884134, -0.45850268,  0.13195892],\n",
       "       [ 0.8883708 , -0.44699246,  0.10485779],\n",
       "       [ 0.88891137, -0.43344304,  0.14820161]], dtype=float32)"
      ]
     },
     "execution_count": 5,
     "metadata": {},
     "output_type": "execute_result"
    }
   ],
   "source": [
    "embeddings"
   ]
  },
  {
   "cell_type": "code",
   "execution_count": 6,
   "metadata": {},
   "outputs": [],
   "source": [
    "idx = np.load(\"/data/parietal/store2/work/mrenaudi/contrastive-reg-3/results/test on mat ae pretrained for embedding analysis/recon_mat/test_idx_run0.npy\")"
   ]
  },
  {
   "cell_type": "code",
   "execution_count": 7,
   "metadata": {},
   "outputs": [
    {
     "data": {
      "text/plain": [
       "array([228, 116,  55, 155, 110, 126,  39,  63, 240,  75,  76, 209, 224,\n",
       "       185, 118,  42, 299,  78, 317, 119, 234,  57, 196,  90, 288,  25,\n",
       "       256,   9,  94,  93, 350, 153, 210,  22, 113, 245,  56, 152,  30,\n",
       "        45, 101, 114, 278, 137,   5, 219, 341, 339, 202, 167, 325, 158,\n",
       "         3, 109,  72, 307, 343,  46, 314,  73, 223, 165,  33, 310, 248,\n",
       "        77, 157, 182, 147, 265, 328, 179, 340,  82,  16,  66, 132,   7,\n",
       "       296, 108, 312, 335,  84, 287, 277, 303,  60, 203, 249, 326, 211,\n",
       "       261,  17, 239,  24, 309, 290, 180, 250, 347, 198, 124, 295, 291,\n",
       "       222,  19])"
      ]
     },
     "execution_count": 7,
     "metadata": {},
     "output_type": "execute_result"
    }
   ],
   "source": [
    "idx"
   ]
  },
  {
   "cell_type": "code",
   "execution_count": 8,
   "metadata": {},
   "outputs": [],
   "source": [
    "embeddings = pd.DataFrame(embeddings, columns = [\"Dim 1\", \"Dim 2\",  \"Dim 3\"])\n",
    "embeddings[\"Age\"] = predictions[\"age\"].values\n",
    "embeddings[\"Age Pred\"] = predictions[\"age_pred\"].values"
   ]
  },
  {
   "cell_type": "code",
   "execution_count": 9,
   "metadata": {},
   "outputs": [],
   "source": [
    "embeddings_array = embeddings[[\"Dim 1\", \"Dim 2\", \"Dim 3\"]].values"
   ]
  },
  {
   "cell_type": "code",
   "execution_count": 33,
   "metadata": {},
   "outputs": [
    {
     "data": {
      "application/vnd.plotly.v1+json": {
       "config": {
        "plotlyServerURL": "https://plot.ly"
       },
       "data": [
        {
         "hovertemplate": "Dim 1=%{x}<br>Dim 2=%{y}<br>Dim 3=%{z}<br>Age=%{marker.color}<extra></extra>",
         "legendgroup": "",
         "marker": {
          "color": [
           67,
           48,
           34,
           45,
           47,
           39,
           34,
           29,
           66,
           32,
           37,
           62,
           61,
           48,
           48,
           34,
           75,
           34,
           79,
           42,
           61,
           37,
           55,
           36,
           78,
           25,
           64,
           25,
           43,
           46,
           84,
           44,
           60,
           26,
           44,
           61,
           37,
           46,
           27,
           29,
           46,
           44,
           69,
           47,
           26,
           61,
           80,
           86,
           51,
           42,
           84,
           45,
           25,
           47,
           32,
           71,
           80,
           37,
           69,
           33,
           58,
           44,
           31,
           78,
           66,
           34,
           48,
           49,
           44,
           77,
           82,
           56,
           80,
           38,
           18,
           34,
           41,
           19,
           69,
           39,
           70,
           79,
           37,
           74,
           70,
           76,
           36,
           50,
           60,
           80,
           66,
           67,
           25,
           58,
           26,
           78,
           76,
           52,
           65,
           79,
           53,
           44,
           75,
           69,
           67,
           19
          ],
          "coloraxis": "coloraxis",
          "symbol": "circle"
         },
         "mode": "markers",
         "name": "",
         "scene": "scene",
         "showlegend": false,
         "type": "scatter3d",
         "x": [
          0.7274185419082642,
          0.6676117777824402,
          0.6749321818351746,
          0.8982251882553101,
          0.691121518611908,
          0.3657262623310089,
          0.7093288898468018,
          0.8011866807937622,
          0.8991768956184387,
          0.6569622755050659,
          0.5951674580574036,
          0.7533391714096069,
          0.5263053178787231,
          0.5691623687744141,
          0.7688043117523193,
          0.6917214393615723,
          0.6849445700645447,
          0.9461387991905212,
          0.4780235290527344,
          0.6310025453567505,
          0.7484123706817627,
          0.7536691427230835,
          0.9905254244804382,
          0.7356582283973694,
          0.822073757648468,
          0.3915073275566101,
          0.9138535261154175,
          0.6709518432617188,
          0.8549183011054993,
          0.8772849440574646,
          0.8672522902488708,
          0.840092122554779,
          0.6011156439781189,
          0.8405531048774719,
          0.6418602466583252,
          0.6039198637008667,
          0.7659963965415955,
          0.34161683917045593,
          0.9498381614685059,
          0.5574471354484558,
          0.9292007088661194,
          0.7335869073867798,
          0.5606493949890137,
          0.6310832500457764,
          0.6908557415008545,
          0.7582122087478638,
          0.5269348621368408,
          0.7904898524284363,
          0.9077315926551819,
          0.8965211510658264,
          0.524323046207428,
          0.9124751091003418,
          0.8499548435211182,
          0.5679805278778076,
          0.6586030721664429,
          0.5045031905174255,
          0.7558484077453613,
          0.768789529800415,
          0.957602858543396,
          0.8777613043785095,
          0.8708302974700928,
          0.684410035610199,
          0.5442073345184326,
          0.5176948308944702,
          0.9049941301345825,
          0.6896070837974548,
          0.8155727982521057,
          0.22483864426612854,
          0.585250973701477,
          0.7051869630813599,
          0.7077984809875488,
          0.5281842350959778,
          0.6561371088027954,
          0.7070428133010864,
          0.6231842041015625,
          0.851978063583374,
          0.8602475523948669,
          0.4983113408088684,
          0.7458731532096863,
          0.5653075575828552,
          0.8447380065917969,
          0.9486490488052368,
          0.4810407757759094,
          0.4051908552646637,
          0.9653323292732239,
          0.6125991940498352,
          0.5997041463851929,
          0.7731406688690186,
          0.5047268867492676,
          0.541219174861908,
          0.9366456866264343,
          0.5123332142829895,
          0.5713933110237122,
          0.9321302771568298,
          0.9008710384368896,
          0.34132251143455505,
          0.46307191252708435,
          0.8562179803848267,
          0.7389277219772339,
          0.8872501850128174,
          0.9164129495620728,
          0.32558563351631165,
          0.4637475907802582,
          0.5942670106887817,
          0.907401978969574,
          0.5466634035110474
         ],
         "y": [
          -0.3445025682449341,
          -0.01801133155822754,
          0.7337278127670288,
          0.10798098891973495,
          0.4997990131378174,
          0.3862510919570923,
          -0.10873910039663315,
          0.5025894641876221,
          0.17480933666229248,
          0.6205133199691772,
          0.6182271838188171,
          -0.43855413794517517,
          0.1581340879201889,
          0.3781648874282837,
          -0.03357532247900963,
          0.6040924191474915,
          -0.7255577445030212,
          0.21644721925258636,
          -0.7321341037750244,
          0.4501906633377075,
          -0.3580722212791443,
          0.5708723664283752,
          0.05063822865486145,
          0.3221212327480316,
          -0.5422025918960571,
          -0.5629811882972717,
          -0.003331243759021163,
          0.23982319235801697,
          0.29471009969711304,
          0.4374755620956421,
          -0.00420459546148777,
          0.20046399533748627,
          -0.7190269827842712,
          0.13801605999469757,
          0.34481921792030334,
          -0.7877296209335327,
          0.5190353989601135,
          -0.1941017508506775,
          0.21497829258441925,
          0.5756146311759949,
          0.17255783081054688,
          -0.4986500144004822,
          -0.7729531526565552,
          0.3395925760269165,
          0.6139978170394897,
          -0.12608861923217773,
          -0.8301973342895508,
          -0.569673478603363,
          0.2893555164337158,
          -0.07360313087701797,
          -0.848946750164032,
          -0.34714052081108093,
          0.13791365921497345,
          0.29324108362197876,
          0.6515604853630066,
          -0.8299277424812317,
          -0.5826985239982605,
          0.35729190707206726,
          -0.2874806523323059,
          -0.11393972486257553,
          -0.3212055563926697,
          0.4820293188095093,
          0.582531750202179,
          -0.8464319705963135,
          -0.3390875458717346,
          0.4152752161026001,
          -0.5189247727394104,
          0.6636626720428467,
          -0.4881402552127838,
          -0.6699905395507812,
          -0.7062265872955322,
          0.30443140864372253,
          -0.7545645833015442,
          -0.28876638412475586,
          0.4530286192893982,
          -0.0815105214715004,
          -0.2077447474002838,
          0.5178909301757812,
          -0.4440358877182007,
          0.5887446999549866,
          -0.4379226565361023,
          -0.3161410987377167,
          -0.4172590970993042,
          0.2515791952610016,
          -0.2592308223247528,
          -0.7518987655639648,
          0.783514678478241,
          -0.132369264960289,
          -0.8629106283187866,
          -0.8287606835365295,
          -0.3395313620567322,
          -0.5939900279045105,
          0.6249836087226868,
          -0.22420726716518402,
          -0.04802894964814186,
          -0.938521683216095,
          -0.4291096329689026,
          0.33224886655807495,
          -0.5235087275505066,
          -0.46121543645858765,
          -0.399700790643692,
          -0.3958517909049988,
          -0.772588849067688,
          -0.7434604167938232,
          0.2842012345790863,
          0.2773073613643646
         ],
         "z": [
          -0.5934478044509888,
          -0.7442917227745056,
          -0.0781669020652771,
          -0.4260653257369995,
          -0.5220651626586914,
          -0.846790611743927,
          -0.6964397430419922,
          -0.32481345534324646,
          -0.40115150809288025,
          -0.4282100796699524,
          -0.5133914351463318,
          -0.4900514483451843,
          -0.8354617357254028,
          -0.730099618434906,
          -0.6386021375656128,
          -0.39571958780288696,
          -0.06645938754081726,
          -0.2407737821340561,
          -0.4852558374404907,
          -0.6317944526672363,
          -0.5582680702209473,
          -0.32571062445640564,
          -0.1276526004076004,
          -0.5958563685417175,
          0.17381355166435242,
          -0.727855920791626,
          -0.40603023767471313,
          -0.7016469836235046,
          -0.4269199073314667,
          -0.19744935631752014,
          -0.49785107374191284,
          -0.5040430426597595,
          -0.3487980365753174,
          -0.5238531827926636,
          -0.6849197745323181,
          -0.12150213867425919,
          -0.3792780637741089,
          -0.9195773601531982,
          -0.22713792324066162,
          -0.5982646346092224,
          -0.32681766152381897,
          -0.46173426508903503,
          -0.297011137008667,
          -0.6974315047264099,
          -0.38173943758010864,
          -0.6396998763084412,
          -0.1819673627614975,
          0.22493964433670044,
          -0.3038036823272705,
          -0.43684372305870056,
          0.06614198535680771,
          -0.21652403473854065,
          -0.5084845423698425,
          -0.7690303921699524,
          -0.3764451742172241,
          -0.23811028897762299,
          -0.2985893487930298,
          -0.5303820967674255,
          0.018750635907053947,
          -0.465352326631546,
          -0.3721311390399933,
          -0.5470197200775146,
          -0.6037343144416809,
          -0.12467900663614273,
          -0.256914883852005,
          -0.5932863354682922,
          -0.25604313611984253,
          -0.7134419679641724,
          -0.6474567651748657,
          -0.23200000822544098,
          0.016291895881295204,
          -0.7926808595657349,
          -0.010785824619233608,
          -0.6455263495445251,
          -0.6375001668930054,
          -0.5171938538551331,
          -0.46563535928726196,
          -0.6953235864639282,
          -0.49649301171302795,
          -0.5777603983879089,
          0.3076385259628296,
          0.010945690795779228,
          -0.771034836769104,
          -0.8789359331130981,
          -0.030542537569999695,
          -0.24366039037704468,
          -0.16266435384750366,
          -0.6202676296234131,
          -0.025219911709427834,
          -0.14225855469703674,
          -0.08610093593597412,
          -0.6202342510223389,
          -0.5318883657455444,
          -0.2843664586544037,
          -0.43142154812812805,
          -0.05172964930534363,
          -0.7755186557769775,
          -0.3956027925014496,
          -0.4241750240325928,
          -0.008215291425585747,
          0.020656954497098923,
          -0.858659029006958,
          -0.43364113569259644,
          -0.3067788779735565,
          -0.3095986247062683,
          -0.7901011109352112
         ]
        }
       ],
       "layout": {
        "coloraxis": {
         "colorbar": {
          "title": {
           "text": "Age"
          }
         },
         "colorscale": [
          [
           0,
           "blue"
          ],
          [
           0.5,
           "green"
          ],
          [
           1,
           "red"
          ]
         ]
        },
        "height": 800,
        "legend": {
         "tracegroupgap": 0
        },
        "margin": {
         "t": 60
        },
        "paper_bgcolor": "white",
        "plot_bgcolor": "white",
        "scene": {
         "bgcolor": "white",
         "domain": {
          "x": [
           0,
           1
          ],
          "y": [
           0,
           1
          ]
         },
         "xaxis": {
          "backgroundcolor": "white",
          "gridcolor": "grey",
          "title": {
           "text": "Dim 1"
          }
         },
         "yaxis": {
          "backgroundcolor": "white",
          "gridcolor": "grey",
          "title": {
           "text": "Dim 2"
          }
         },
         "zaxis": {
          "backgroundcolor": "white",
          "gridcolor": "grey",
          "title": {
           "text": "Dim 3"
          }
         }
        },
        "template": {
         "data": {
          "bar": [
           {
            "error_x": {
             "color": "#2a3f5f"
            },
            "error_y": {
             "color": "#2a3f5f"
            },
            "marker": {
             "line": {
              "color": "#E5ECF6",
              "width": 0.5
             },
             "pattern": {
              "fillmode": "overlay",
              "size": 10,
              "solidity": 0.2
             }
            },
            "type": "bar"
           }
          ],
          "barpolar": [
           {
            "marker": {
             "line": {
              "color": "#E5ECF6",
              "width": 0.5
             },
             "pattern": {
              "fillmode": "overlay",
              "size": 10,
              "solidity": 0.2
             }
            },
            "type": "barpolar"
           }
          ],
          "carpet": [
           {
            "aaxis": {
             "endlinecolor": "#2a3f5f",
             "gridcolor": "white",
             "linecolor": "white",
             "minorgridcolor": "white",
             "startlinecolor": "#2a3f5f"
            },
            "baxis": {
             "endlinecolor": "#2a3f5f",
             "gridcolor": "white",
             "linecolor": "white",
             "minorgridcolor": "white",
             "startlinecolor": "#2a3f5f"
            },
            "type": "carpet"
           }
          ],
          "choropleth": [
           {
            "colorbar": {
             "outlinewidth": 0,
             "ticks": ""
            },
            "type": "choropleth"
           }
          ],
          "contour": [
           {
            "colorbar": {
             "outlinewidth": 0,
             "ticks": ""
            },
            "colorscale": [
             [
              0,
              "#0d0887"
             ],
             [
              0.1111111111111111,
              "#46039f"
             ],
             [
              0.2222222222222222,
              "#7201a8"
             ],
             [
              0.3333333333333333,
              "#9c179e"
             ],
             [
              0.4444444444444444,
              "#bd3786"
             ],
             [
              0.5555555555555556,
              "#d8576b"
             ],
             [
              0.6666666666666666,
              "#ed7953"
             ],
             [
              0.7777777777777778,
              "#fb9f3a"
             ],
             [
              0.8888888888888888,
              "#fdca26"
             ],
             [
              1,
              "#f0f921"
             ]
            ],
            "type": "contour"
           }
          ],
          "contourcarpet": [
           {
            "colorbar": {
             "outlinewidth": 0,
             "ticks": ""
            },
            "type": "contourcarpet"
           }
          ],
          "heatmap": [
           {
            "colorbar": {
             "outlinewidth": 0,
             "ticks": ""
            },
            "colorscale": [
             [
              0,
              "#0d0887"
             ],
             [
              0.1111111111111111,
              "#46039f"
             ],
             [
              0.2222222222222222,
              "#7201a8"
             ],
             [
              0.3333333333333333,
              "#9c179e"
             ],
             [
              0.4444444444444444,
              "#bd3786"
             ],
             [
              0.5555555555555556,
              "#d8576b"
             ],
             [
              0.6666666666666666,
              "#ed7953"
             ],
             [
              0.7777777777777778,
              "#fb9f3a"
             ],
             [
              0.8888888888888888,
              "#fdca26"
             ],
             [
              1,
              "#f0f921"
             ]
            ],
            "type": "heatmap"
           }
          ],
          "heatmapgl": [
           {
            "colorbar": {
             "outlinewidth": 0,
             "ticks": ""
            },
            "colorscale": [
             [
              0,
              "#0d0887"
             ],
             [
              0.1111111111111111,
              "#46039f"
             ],
             [
              0.2222222222222222,
              "#7201a8"
             ],
             [
              0.3333333333333333,
              "#9c179e"
             ],
             [
              0.4444444444444444,
              "#bd3786"
             ],
             [
              0.5555555555555556,
              "#d8576b"
             ],
             [
              0.6666666666666666,
              "#ed7953"
             ],
             [
              0.7777777777777778,
              "#fb9f3a"
             ],
             [
              0.8888888888888888,
              "#fdca26"
             ],
             [
              1,
              "#f0f921"
             ]
            ],
            "type": "heatmapgl"
           }
          ],
          "histogram": [
           {
            "marker": {
             "pattern": {
              "fillmode": "overlay",
              "size": 10,
              "solidity": 0.2
             }
            },
            "type": "histogram"
           }
          ],
          "histogram2d": [
           {
            "colorbar": {
             "outlinewidth": 0,
             "ticks": ""
            },
            "colorscale": [
             [
              0,
              "#0d0887"
             ],
             [
              0.1111111111111111,
              "#46039f"
             ],
             [
              0.2222222222222222,
              "#7201a8"
             ],
             [
              0.3333333333333333,
              "#9c179e"
             ],
             [
              0.4444444444444444,
              "#bd3786"
             ],
             [
              0.5555555555555556,
              "#d8576b"
             ],
             [
              0.6666666666666666,
              "#ed7953"
             ],
             [
              0.7777777777777778,
              "#fb9f3a"
             ],
             [
              0.8888888888888888,
              "#fdca26"
             ],
             [
              1,
              "#f0f921"
             ]
            ],
            "type": "histogram2d"
           }
          ],
          "histogram2dcontour": [
           {
            "colorbar": {
             "outlinewidth": 0,
             "ticks": ""
            },
            "colorscale": [
             [
              0,
              "#0d0887"
             ],
             [
              0.1111111111111111,
              "#46039f"
             ],
             [
              0.2222222222222222,
              "#7201a8"
             ],
             [
              0.3333333333333333,
              "#9c179e"
             ],
             [
              0.4444444444444444,
              "#bd3786"
             ],
             [
              0.5555555555555556,
              "#d8576b"
             ],
             [
              0.6666666666666666,
              "#ed7953"
             ],
             [
              0.7777777777777778,
              "#fb9f3a"
             ],
             [
              0.8888888888888888,
              "#fdca26"
             ],
             [
              1,
              "#f0f921"
             ]
            ],
            "type": "histogram2dcontour"
           }
          ],
          "mesh3d": [
           {
            "colorbar": {
             "outlinewidth": 0,
             "ticks": ""
            },
            "type": "mesh3d"
           }
          ],
          "parcoords": [
           {
            "line": {
             "colorbar": {
              "outlinewidth": 0,
              "ticks": ""
             }
            },
            "type": "parcoords"
           }
          ],
          "pie": [
           {
            "automargin": true,
            "type": "pie"
           }
          ],
          "scatter": [
           {
            "fillpattern": {
             "fillmode": "overlay",
             "size": 10,
             "solidity": 0.2
            },
            "type": "scatter"
           }
          ],
          "scatter3d": [
           {
            "line": {
             "colorbar": {
              "outlinewidth": 0,
              "ticks": ""
             }
            },
            "marker": {
             "colorbar": {
              "outlinewidth": 0,
              "ticks": ""
             }
            },
            "type": "scatter3d"
           }
          ],
          "scattercarpet": [
           {
            "marker": {
             "colorbar": {
              "outlinewidth": 0,
              "ticks": ""
             }
            },
            "type": "scattercarpet"
           }
          ],
          "scattergeo": [
           {
            "marker": {
             "colorbar": {
              "outlinewidth": 0,
              "ticks": ""
             }
            },
            "type": "scattergeo"
           }
          ],
          "scattergl": [
           {
            "marker": {
             "colorbar": {
              "outlinewidth": 0,
              "ticks": ""
             }
            },
            "type": "scattergl"
           }
          ],
          "scattermapbox": [
           {
            "marker": {
             "colorbar": {
              "outlinewidth": 0,
              "ticks": ""
             }
            },
            "type": "scattermapbox"
           }
          ],
          "scatterpolar": [
           {
            "marker": {
             "colorbar": {
              "outlinewidth": 0,
              "ticks": ""
             }
            },
            "type": "scatterpolar"
           }
          ],
          "scatterpolargl": [
           {
            "marker": {
             "colorbar": {
              "outlinewidth": 0,
              "ticks": ""
             }
            },
            "type": "scatterpolargl"
           }
          ],
          "scatterternary": [
           {
            "marker": {
             "colorbar": {
              "outlinewidth": 0,
              "ticks": ""
             }
            },
            "type": "scatterternary"
           }
          ],
          "surface": [
           {
            "colorbar": {
             "outlinewidth": 0,
             "ticks": ""
            },
            "colorscale": [
             [
              0,
              "#0d0887"
             ],
             [
              0.1111111111111111,
              "#46039f"
             ],
             [
              0.2222222222222222,
              "#7201a8"
             ],
             [
              0.3333333333333333,
              "#9c179e"
             ],
             [
              0.4444444444444444,
              "#bd3786"
             ],
             [
              0.5555555555555556,
              "#d8576b"
             ],
             [
              0.6666666666666666,
              "#ed7953"
             ],
             [
              0.7777777777777778,
              "#fb9f3a"
             ],
             [
              0.8888888888888888,
              "#fdca26"
             ],
             [
              1,
              "#f0f921"
             ]
            ],
            "type": "surface"
           }
          ],
          "table": [
           {
            "cells": {
             "fill": {
              "color": "#EBF0F8"
             },
             "line": {
              "color": "white"
             }
            },
            "header": {
             "fill": {
              "color": "#C8D4E3"
             },
             "line": {
              "color": "white"
             }
            },
            "type": "table"
           }
          ]
         },
         "layout": {
          "annotationdefaults": {
           "arrowcolor": "#2a3f5f",
           "arrowhead": 0,
           "arrowwidth": 1
          },
          "autotypenumbers": "strict",
          "coloraxis": {
           "colorbar": {
            "outlinewidth": 0,
            "ticks": ""
           }
          },
          "colorscale": {
           "diverging": [
            [
             0,
             "#8e0152"
            ],
            [
             0.1,
             "#c51b7d"
            ],
            [
             0.2,
             "#de77ae"
            ],
            [
             0.3,
             "#f1b6da"
            ],
            [
             0.4,
             "#fde0ef"
            ],
            [
             0.5,
             "#f7f7f7"
            ],
            [
             0.6,
             "#e6f5d0"
            ],
            [
             0.7,
             "#b8e186"
            ],
            [
             0.8,
             "#7fbc41"
            ],
            [
             0.9,
             "#4d9221"
            ],
            [
             1,
             "#276419"
            ]
           ],
           "sequential": [
            [
             0,
             "#0d0887"
            ],
            [
             0.1111111111111111,
             "#46039f"
            ],
            [
             0.2222222222222222,
             "#7201a8"
            ],
            [
             0.3333333333333333,
             "#9c179e"
            ],
            [
             0.4444444444444444,
             "#bd3786"
            ],
            [
             0.5555555555555556,
             "#d8576b"
            ],
            [
             0.6666666666666666,
             "#ed7953"
            ],
            [
             0.7777777777777778,
             "#fb9f3a"
            ],
            [
             0.8888888888888888,
             "#fdca26"
            ],
            [
             1,
             "#f0f921"
            ]
           ],
           "sequentialminus": [
            [
             0,
             "#0d0887"
            ],
            [
             0.1111111111111111,
             "#46039f"
            ],
            [
             0.2222222222222222,
             "#7201a8"
            ],
            [
             0.3333333333333333,
             "#9c179e"
            ],
            [
             0.4444444444444444,
             "#bd3786"
            ],
            [
             0.5555555555555556,
             "#d8576b"
            ],
            [
             0.6666666666666666,
             "#ed7953"
            ],
            [
             0.7777777777777778,
             "#fb9f3a"
            ],
            [
             0.8888888888888888,
             "#fdca26"
            ],
            [
             1,
             "#f0f921"
            ]
           ]
          },
          "colorway": [
           "#636efa",
           "#EF553B",
           "#00cc96",
           "#ab63fa",
           "#FFA15A",
           "#19d3f3",
           "#FF6692",
           "#B6E880",
           "#FF97FF",
           "#FECB52"
          ],
          "font": {
           "color": "#2a3f5f"
          },
          "geo": {
           "bgcolor": "white",
           "lakecolor": "white",
           "landcolor": "#E5ECF6",
           "showlakes": true,
           "showland": true,
           "subunitcolor": "white"
          },
          "hoverlabel": {
           "align": "left"
          },
          "hovermode": "closest",
          "mapbox": {
           "style": "light"
          },
          "paper_bgcolor": "white",
          "plot_bgcolor": "#E5ECF6",
          "polar": {
           "angularaxis": {
            "gridcolor": "white",
            "linecolor": "white",
            "ticks": ""
           },
           "bgcolor": "#E5ECF6",
           "radialaxis": {
            "gridcolor": "white",
            "linecolor": "white",
            "ticks": ""
           }
          },
          "scene": {
           "xaxis": {
            "backgroundcolor": "#E5ECF6",
            "gridcolor": "white",
            "gridwidth": 2,
            "linecolor": "white",
            "showbackground": true,
            "ticks": "",
            "zerolinecolor": "white"
           },
           "yaxis": {
            "backgroundcolor": "#E5ECF6",
            "gridcolor": "white",
            "gridwidth": 2,
            "linecolor": "white",
            "showbackground": true,
            "ticks": "",
            "zerolinecolor": "white"
           },
           "zaxis": {
            "backgroundcolor": "#E5ECF6",
            "gridcolor": "white",
            "gridwidth": 2,
            "linecolor": "white",
            "showbackground": true,
            "ticks": "",
            "zerolinecolor": "white"
           }
          },
          "shapedefaults": {
           "line": {
            "color": "#2a3f5f"
           }
          },
          "ternary": {
           "aaxis": {
            "gridcolor": "white",
            "linecolor": "white",
            "ticks": ""
           },
           "baxis": {
            "gridcolor": "white",
            "linecolor": "white",
            "ticks": ""
           },
           "bgcolor": "#E5ECF6",
           "caxis": {
            "gridcolor": "white",
            "linecolor": "white",
            "ticks": ""
           }
          },
          "title": {
           "x": 0.05
          },
          "xaxis": {
           "automargin": true,
           "gridcolor": "white",
           "linecolor": "white",
           "ticks": "",
           "title": {
            "standoff": 15
           },
           "zerolinecolor": "white",
           "zerolinewidth": 2
          },
          "yaxis": {
           "automargin": true,
           "gridcolor": "white",
           "linecolor": "white",
           "ticks": "",
           "title": {
            "standoff": 15
           },
           "zerolinecolor": "white",
           "zerolinewidth": 2
          }
         }
        },
        "title": {
         "text": "embedding space of train samples, colors with respect to true age"
        },
        "width": 800
       }
      },
      "text/html": [
       "<div>                            <div id=\"47b6e050-bb06-4d31-a74f-99ec6bd20a54\" class=\"plotly-graph-div\" style=\"height:800px; width:800px;\"></div>            <script type=\"text/javascript\">                require([\"plotly\"], function(Plotly) {                    window.PLOTLYENV=window.PLOTLYENV || {};                                    if (document.getElementById(\"47b6e050-bb06-4d31-a74f-99ec6bd20a54\")) {                    Plotly.newPlot(                        \"47b6e050-bb06-4d31-a74f-99ec6bd20a54\",                        [{\"hovertemplate\":\"Dim 1=%{x}\\u003cbr\\u003eDim 2=%{y}\\u003cbr\\u003eDim 3=%{z}\\u003cbr\\u003eAge=%{marker.color}\\u003cextra\\u003e\\u003c\\u002fextra\\u003e\",\"legendgroup\":\"\",\"marker\":{\"color\":[67.0,48.0,34.0,45.0,47.0,39.0,34.0,29.0,66.0,32.0,37.0,62.0,61.0,48.0,48.0,34.0,75.0,34.0,79.0,42.0,61.0,37.0,55.0,36.0,78.0,25.0,64.0,25.0,43.0,46.0,84.0,44.0,60.0,26.0,44.0,61.0,37.0,46.0,27.0,29.0,46.0,44.0,69.0,47.0,26.0,61.0,80.0,86.0,51.0,42.0,84.0,45.0,25.0,47.0,32.0,71.0,80.0,37.0,69.0,33.0,58.0,44.0,31.0,78.0,66.0,34.0,48.0,49.0,44.0,77.0,82.0,56.0,80.0,38.0,18.0,34.0,41.0,19.0,69.0,39.0,70.0,79.0,37.0,74.0,70.0,76.0,36.0,50.0,60.0,80.0,66.0,67.0,25.0,58.0,26.0,78.0,76.0,52.0,65.0,79.0,53.0,44.0,75.0,69.0,67.0,19.0],\"coloraxis\":\"coloraxis\",\"symbol\":\"circle\"},\"mode\":\"markers\",\"name\":\"\",\"scene\":\"scene\",\"showlegend\":false,\"x\":[0.7274185419082642,0.6676117777824402,0.6749321818351746,0.8982251882553101,0.691121518611908,0.3657262623310089,0.7093288898468018,0.8011866807937622,0.8991768956184387,0.6569622755050659,0.5951674580574036,0.7533391714096069,0.5263053178787231,0.5691623687744141,0.7688043117523193,0.6917214393615723,0.6849445700645447,0.9461387991905212,0.4780235290527344,0.6310025453567505,0.7484123706817627,0.7536691427230835,0.9905254244804382,0.7356582283973694,0.822073757648468,0.3915073275566101,0.9138535261154175,0.6709518432617188,0.8549183011054993,0.8772849440574646,0.8672522902488708,0.840092122554779,0.6011156439781189,0.8405531048774719,0.6418602466583252,0.6039198637008667,0.7659963965415955,0.34161683917045593,0.9498381614685059,0.5574471354484558,0.9292007088661194,0.7335869073867798,0.5606493949890137,0.6310832500457764,0.6908557415008545,0.7582122087478638,0.5269348621368408,0.7904898524284363,0.9077315926551819,0.8965211510658264,0.524323046207428,0.9124751091003418,0.8499548435211182,0.5679805278778076,0.6586030721664429,0.5045031905174255,0.7558484077453613,0.768789529800415,0.957602858543396,0.8777613043785095,0.8708302974700928,0.684410035610199,0.5442073345184326,0.5176948308944702,0.9049941301345825,0.6896070837974548,0.8155727982521057,0.22483864426612854,0.585250973701477,0.7051869630813599,0.7077984809875488,0.5281842350959778,0.6561371088027954,0.7070428133010864,0.6231842041015625,0.851978063583374,0.8602475523948669,0.4983113408088684,0.7458731532096863,0.5653075575828552,0.8447380065917969,0.9486490488052368,0.4810407757759094,0.4051908552646637,0.9653323292732239,0.6125991940498352,0.5997041463851929,0.7731406688690186,0.5047268867492676,0.541219174861908,0.9366456866264343,0.5123332142829895,0.5713933110237122,0.9321302771568298,0.9008710384368896,0.34132251143455505,0.46307191252708435,0.8562179803848267,0.7389277219772339,0.8872501850128174,0.9164129495620728,0.32558563351631165,0.4637475907802582,0.5942670106887817,0.907401978969574,0.5466634035110474],\"y\":[-0.3445025682449341,-0.01801133155822754,0.7337278127670288,0.10798098891973495,0.4997990131378174,0.3862510919570923,-0.10873910039663315,0.5025894641876221,0.17480933666229248,0.6205133199691772,0.6182271838188171,-0.43855413794517517,0.1581340879201889,0.3781648874282837,-0.03357532247900963,0.6040924191474915,-0.7255577445030212,0.21644721925258636,-0.7321341037750244,0.4501906633377075,-0.3580722212791443,0.5708723664283752,0.05063822865486145,0.3221212327480316,-0.5422025918960571,-0.5629811882972717,-0.003331243759021163,0.23982319235801697,0.29471009969711304,0.4374755620956421,-0.00420459546148777,0.20046399533748627,-0.7190269827842712,0.13801605999469757,0.34481921792030334,-0.7877296209335327,0.5190353989601135,-0.1941017508506775,0.21497829258441925,0.5756146311759949,0.17255783081054688,-0.4986500144004822,-0.7729531526565552,0.3395925760269165,0.6139978170394897,-0.12608861923217773,-0.8301973342895508,-0.569673478603363,0.2893555164337158,-0.07360313087701797,-0.848946750164032,-0.34714052081108093,0.13791365921497345,0.29324108362197876,0.6515604853630066,-0.8299277424812317,-0.5826985239982605,0.35729190707206726,-0.2874806523323059,-0.11393972486257553,-0.3212055563926697,0.4820293188095093,0.582531750202179,-0.8464319705963135,-0.3390875458717346,0.4152752161026001,-0.5189247727394104,0.6636626720428467,-0.4881402552127838,-0.6699905395507812,-0.7062265872955322,0.30443140864372253,-0.7545645833015442,-0.28876638412475586,0.4530286192893982,-0.0815105214715004,-0.2077447474002838,0.5178909301757812,-0.4440358877182007,0.5887446999549866,-0.4379226565361023,-0.3161410987377167,-0.4172590970993042,0.2515791952610016,-0.2592308223247528,-0.7518987655639648,0.783514678478241,-0.132369264960289,-0.8629106283187866,-0.8287606835365295,-0.3395313620567322,-0.5939900279045105,0.6249836087226868,-0.22420726716518402,-0.04802894964814186,-0.938521683216095,-0.4291096329689026,0.33224886655807495,-0.5235087275505066,-0.46121543645858765,-0.399700790643692,-0.3958517909049988,-0.772588849067688,-0.7434604167938232,0.2842012345790863,0.2773073613643646],\"z\":[-0.5934478044509888,-0.7442917227745056,-0.0781669020652771,-0.4260653257369995,-0.5220651626586914,-0.846790611743927,-0.6964397430419922,-0.32481345534324646,-0.40115150809288025,-0.4282100796699524,-0.5133914351463318,-0.4900514483451843,-0.8354617357254028,-0.730099618434906,-0.6386021375656128,-0.39571958780288696,-0.06645938754081726,-0.2407737821340561,-0.4852558374404907,-0.6317944526672363,-0.5582680702209473,-0.32571062445640564,-0.1276526004076004,-0.5958563685417175,0.17381355166435242,-0.727855920791626,-0.40603023767471313,-0.7016469836235046,-0.4269199073314667,-0.19744935631752014,-0.49785107374191284,-0.5040430426597595,-0.3487980365753174,-0.5238531827926636,-0.6849197745323181,-0.12150213867425919,-0.3792780637741089,-0.9195773601531982,-0.22713792324066162,-0.5982646346092224,-0.32681766152381897,-0.46173426508903503,-0.297011137008667,-0.6974315047264099,-0.38173943758010864,-0.6396998763084412,-0.1819673627614975,0.22493964433670044,-0.3038036823272705,-0.43684372305870056,0.06614198535680771,-0.21652403473854065,-0.5084845423698425,-0.7690303921699524,-0.3764451742172241,-0.23811028897762299,-0.2985893487930298,-0.5303820967674255,0.018750635907053947,-0.465352326631546,-0.3721311390399933,-0.5470197200775146,-0.6037343144416809,-0.12467900663614273,-0.256914883852005,-0.5932863354682922,-0.25604313611984253,-0.7134419679641724,-0.6474567651748657,-0.23200000822544098,0.016291895881295204,-0.7926808595657349,-0.010785824619233608,-0.6455263495445251,-0.6375001668930054,-0.5171938538551331,-0.46563535928726196,-0.6953235864639282,-0.49649301171302795,-0.5777603983879089,0.3076385259628296,0.010945690795779228,-0.771034836769104,-0.8789359331130981,-0.030542537569999695,-0.24366039037704468,-0.16266435384750366,-0.6202676296234131,-0.025219911709427834,-0.14225855469703674,-0.08610093593597412,-0.6202342510223389,-0.5318883657455444,-0.2843664586544037,-0.43142154812812805,-0.05172964930534363,-0.7755186557769775,-0.3956027925014496,-0.4241750240325928,-0.008215291425585747,0.020656954497098923,-0.858659029006958,-0.43364113569259644,-0.3067788779735565,-0.3095986247062683,-0.7901011109352112],\"type\":\"scatter3d\"}],                        {\"template\":{\"data\":{\"histogram2dcontour\":[{\"type\":\"histogram2dcontour\",\"colorbar\":{\"outlinewidth\":0,\"ticks\":\"\"},\"colorscale\":[[0.0,\"#0d0887\"],[0.1111111111111111,\"#46039f\"],[0.2222222222222222,\"#7201a8\"],[0.3333333333333333,\"#9c179e\"],[0.4444444444444444,\"#bd3786\"],[0.5555555555555556,\"#d8576b\"],[0.6666666666666666,\"#ed7953\"],[0.7777777777777778,\"#fb9f3a\"],[0.8888888888888888,\"#fdca26\"],[1.0,\"#f0f921\"]]}],\"choropleth\":[{\"type\":\"choropleth\",\"colorbar\":{\"outlinewidth\":0,\"ticks\":\"\"}}],\"histogram2d\":[{\"type\":\"histogram2d\",\"colorbar\":{\"outlinewidth\":0,\"ticks\":\"\"},\"colorscale\":[[0.0,\"#0d0887\"],[0.1111111111111111,\"#46039f\"],[0.2222222222222222,\"#7201a8\"],[0.3333333333333333,\"#9c179e\"],[0.4444444444444444,\"#bd3786\"],[0.5555555555555556,\"#d8576b\"],[0.6666666666666666,\"#ed7953\"],[0.7777777777777778,\"#fb9f3a\"],[0.8888888888888888,\"#fdca26\"],[1.0,\"#f0f921\"]]}],\"heatmap\":[{\"type\":\"heatmap\",\"colorbar\":{\"outlinewidth\":0,\"ticks\":\"\"},\"colorscale\":[[0.0,\"#0d0887\"],[0.1111111111111111,\"#46039f\"],[0.2222222222222222,\"#7201a8\"],[0.3333333333333333,\"#9c179e\"],[0.4444444444444444,\"#bd3786\"],[0.5555555555555556,\"#d8576b\"],[0.6666666666666666,\"#ed7953\"],[0.7777777777777778,\"#fb9f3a\"],[0.8888888888888888,\"#fdca26\"],[1.0,\"#f0f921\"]]}],\"heatmapgl\":[{\"type\":\"heatmapgl\",\"colorbar\":{\"outlinewidth\":0,\"ticks\":\"\"},\"colorscale\":[[0.0,\"#0d0887\"],[0.1111111111111111,\"#46039f\"],[0.2222222222222222,\"#7201a8\"],[0.3333333333333333,\"#9c179e\"],[0.4444444444444444,\"#bd3786\"],[0.5555555555555556,\"#d8576b\"],[0.6666666666666666,\"#ed7953\"],[0.7777777777777778,\"#fb9f3a\"],[0.8888888888888888,\"#fdca26\"],[1.0,\"#f0f921\"]]}],\"contourcarpet\":[{\"type\":\"contourcarpet\",\"colorbar\":{\"outlinewidth\":0,\"ticks\":\"\"}}],\"contour\":[{\"type\":\"contour\",\"colorbar\":{\"outlinewidth\":0,\"ticks\":\"\"},\"colorscale\":[[0.0,\"#0d0887\"],[0.1111111111111111,\"#46039f\"],[0.2222222222222222,\"#7201a8\"],[0.3333333333333333,\"#9c179e\"],[0.4444444444444444,\"#bd3786\"],[0.5555555555555556,\"#d8576b\"],[0.6666666666666666,\"#ed7953\"],[0.7777777777777778,\"#fb9f3a\"],[0.8888888888888888,\"#fdca26\"],[1.0,\"#f0f921\"]]}],\"surface\":[{\"type\":\"surface\",\"colorbar\":{\"outlinewidth\":0,\"ticks\":\"\"},\"colorscale\":[[0.0,\"#0d0887\"],[0.1111111111111111,\"#46039f\"],[0.2222222222222222,\"#7201a8\"],[0.3333333333333333,\"#9c179e\"],[0.4444444444444444,\"#bd3786\"],[0.5555555555555556,\"#d8576b\"],[0.6666666666666666,\"#ed7953\"],[0.7777777777777778,\"#fb9f3a\"],[0.8888888888888888,\"#fdca26\"],[1.0,\"#f0f921\"]]}],\"mesh3d\":[{\"type\":\"mesh3d\",\"colorbar\":{\"outlinewidth\":0,\"ticks\":\"\"}}],\"scatter\":[{\"fillpattern\":{\"fillmode\":\"overlay\",\"size\":10,\"solidity\":0.2},\"type\":\"scatter\"}],\"parcoords\":[{\"type\":\"parcoords\",\"line\":{\"colorbar\":{\"outlinewidth\":0,\"ticks\":\"\"}}}],\"scatterpolargl\":[{\"type\":\"scatterpolargl\",\"marker\":{\"colorbar\":{\"outlinewidth\":0,\"ticks\":\"\"}}}],\"bar\":[{\"error_x\":{\"color\":\"#2a3f5f\"},\"error_y\":{\"color\":\"#2a3f5f\"},\"marker\":{\"line\":{\"color\":\"#E5ECF6\",\"width\":0.5},\"pattern\":{\"fillmode\":\"overlay\",\"size\":10,\"solidity\":0.2}},\"type\":\"bar\"}],\"scattergeo\":[{\"type\":\"scattergeo\",\"marker\":{\"colorbar\":{\"outlinewidth\":0,\"ticks\":\"\"}}}],\"scatterpolar\":[{\"type\":\"scatterpolar\",\"marker\":{\"colorbar\":{\"outlinewidth\":0,\"ticks\":\"\"}}}],\"histogram\":[{\"marker\":{\"pattern\":{\"fillmode\":\"overlay\",\"size\":10,\"solidity\":0.2}},\"type\":\"histogram\"}],\"scattergl\":[{\"type\":\"scattergl\",\"marker\":{\"colorbar\":{\"outlinewidth\":0,\"ticks\":\"\"}}}],\"scatter3d\":[{\"type\":\"scatter3d\",\"line\":{\"colorbar\":{\"outlinewidth\":0,\"ticks\":\"\"}},\"marker\":{\"colorbar\":{\"outlinewidth\":0,\"ticks\":\"\"}}}],\"scattermapbox\":[{\"type\":\"scattermapbox\",\"marker\":{\"colorbar\":{\"outlinewidth\":0,\"ticks\":\"\"}}}],\"scatterternary\":[{\"type\":\"scatterternary\",\"marker\":{\"colorbar\":{\"outlinewidth\":0,\"ticks\":\"\"}}}],\"scattercarpet\":[{\"type\":\"scattercarpet\",\"marker\":{\"colorbar\":{\"outlinewidth\":0,\"ticks\":\"\"}}}],\"carpet\":[{\"aaxis\":{\"endlinecolor\":\"#2a3f5f\",\"gridcolor\":\"white\",\"linecolor\":\"white\",\"minorgridcolor\":\"white\",\"startlinecolor\":\"#2a3f5f\"},\"baxis\":{\"endlinecolor\":\"#2a3f5f\",\"gridcolor\":\"white\",\"linecolor\":\"white\",\"minorgridcolor\":\"white\",\"startlinecolor\":\"#2a3f5f\"},\"type\":\"carpet\"}],\"table\":[{\"cells\":{\"fill\":{\"color\":\"#EBF0F8\"},\"line\":{\"color\":\"white\"}},\"header\":{\"fill\":{\"color\":\"#C8D4E3\"},\"line\":{\"color\":\"white\"}},\"type\":\"table\"}],\"barpolar\":[{\"marker\":{\"line\":{\"color\":\"#E5ECF6\",\"width\":0.5},\"pattern\":{\"fillmode\":\"overlay\",\"size\":10,\"solidity\":0.2}},\"type\":\"barpolar\"}],\"pie\":[{\"automargin\":true,\"type\":\"pie\"}]},\"layout\":{\"autotypenumbers\":\"strict\",\"colorway\":[\"#636efa\",\"#EF553B\",\"#00cc96\",\"#ab63fa\",\"#FFA15A\",\"#19d3f3\",\"#FF6692\",\"#B6E880\",\"#FF97FF\",\"#FECB52\"],\"font\":{\"color\":\"#2a3f5f\"},\"hovermode\":\"closest\",\"hoverlabel\":{\"align\":\"left\"},\"paper_bgcolor\":\"white\",\"plot_bgcolor\":\"#E5ECF6\",\"polar\":{\"bgcolor\":\"#E5ECF6\",\"angularaxis\":{\"gridcolor\":\"white\",\"linecolor\":\"white\",\"ticks\":\"\"},\"radialaxis\":{\"gridcolor\":\"white\",\"linecolor\":\"white\",\"ticks\":\"\"}},\"ternary\":{\"bgcolor\":\"#E5ECF6\",\"aaxis\":{\"gridcolor\":\"white\",\"linecolor\":\"white\",\"ticks\":\"\"},\"baxis\":{\"gridcolor\":\"white\",\"linecolor\":\"white\",\"ticks\":\"\"},\"caxis\":{\"gridcolor\":\"white\",\"linecolor\":\"white\",\"ticks\":\"\"}},\"coloraxis\":{\"colorbar\":{\"outlinewidth\":0,\"ticks\":\"\"}},\"colorscale\":{\"sequential\":[[0.0,\"#0d0887\"],[0.1111111111111111,\"#46039f\"],[0.2222222222222222,\"#7201a8\"],[0.3333333333333333,\"#9c179e\"],[0.4444444444444444,\"#bd3786\"],[0.5555555555555556,\"#d8576b\"],[0.6666666666666666,\"#ed7953\"],[0.7777777777777778,\"#fb9f3a\"],[0.8888888888888888,\"#fdca26\"],[1.0,\"#f0f921\"]],\"sequentialminus\":[[0.0,\"#0d0887\"],[0.1111111111111111,\"#46039f\"],[0.2222222222222222,\"#7201a8\"],[0.3333333333333333,\"#9c179e\"],[0.4444444444444444,\"#bd3786\"],[0.5555555555555556,\"#d8576b\"],[0.6666666666666666,\"#ed7953\"],[0.7777777777777778,\"#fb9f3a\"],[0.8888888888888888,\"#fdca26\"],[1.0,\"#f0f921\"]],\"diverging\":[[0,\"#8e0152\"],[0.1,\"#c51b7d\"],[0.2,\"#de77ae\"],[0.3,\"#f1b6da\"],[0.4,\"#fde0ef\"],[0.5,\"#f7f7f7\"],[0.6,\"#e6f5d0\"],[0.7,\"#b8e186\"],[0.8,\"#7fbc41\"],[0.9,\"#4d9221\"],[1,\"#276419\"]]},\"xaxis\":{\"gridcolor\":\"white\",\"linecolor\":\"white\",\"ticks\":\"\",\"title\":{\"standoff\":15},\"zerolinecolor\":\"white\",\"automargin\":true,\"zerolinewidth\":2},\"yaxis\":{\"gridcolor\":\"white\",\"linecolor\":\"white\",\"ticks\":\"\",\"title\":{\"standoff\":15},\"zerolinecolor\":\"white\",\"automargin\":true,\"zerolinewidth\":2},\"scene\":{\"xaxis\":{\"backgroundcolor\":\"#E5ECF6\",\"gridcolor\":\"white\",\"linecolor\":\"white\",\"showbackground\":true,\"ticks\":\"\",\"zerolinecolor\":\"white\",\"gridwidth\":2},\"yaxis\":{\"backgroundcolor\":\"#E5ECF6\",\"gridcolor\":\"white\",\"linecolor\":\"white\",\"showbackground\":true,\"ticks\":\"\",\"zerolinecolor\":\"white\",\"gridwidth\":2},\"zaxis\":{\"backgroundcolor\":\"#E5ECF6\",\"gridcolor\":\"white\",\"linecolor\":\"white\",\"showbackground\":true,\"ticks\":\"\",\"zerolinecolor\":\"white\",\"gridwidth\":2}},\"shapedefaults\":{\"line\":{\"color\":\"#2a3f5f\"}},\"annotationdefaults\":{\"arrowcolor\":\"#2a3f5f\",\"arrowhead\":0,\"arrowwidth\":1},\"geo\":{\"bgcolor\":\"white\",\"landcolor\":\"#E5ECF6\",\"subunitcolor\":\"white\",\"showland\":true,\"showlakes\":true,\"lakecolor\":\"white\"},\"title\":{\"x\":0.05},\"mapbox\":{\"style\":\"light\"}}},\"scene\":{\"domain\":{\"x\":[0.0,1.0],\"y\":[0.0,1.0]},\"xaxis\":{\"title\":{\"text\":\"Dim 1\"},\"gridcolor\":\"grey\",\"backgroundcolor\":\"white\"},\"yaxis\":{\"title\":{\"text\":\"Dim 2\"},\"gridcolor\":\"grey\",\"backgroundcolor\":\"white\"},\"zaxis\":{\"title\":{\"text\":\"Dim 3\"},\"gridcolor\":\"grey\",\"backgroundcolor\":\"white\"},\"bgcolor\":\"white\"},\"coloraxis\":{\"colorbar\":{\"title\":{\"text\":\"Age\"}},\"colorscale\":[[0.0,\"blue\"],[0.5,\"green\"],[1.0,\"red\"]]},\"legend\":{\"tracegroupgap\":0},\"margin\":{\"t\":60},\"width\":800,\"height\":800,\"paper_bgcolor\":\"white\",\"plot_bgcolor\":\"white\",\"title\":{\"text\":\"embedding space of train samples, colors with respect to true age\"}},                        {\"responsive\": true}                    ).then(function(){\n",
       "                            \n",
       "var gd = document.getElementById('47b6e050-bb06-4d31-a74f-99ec6bd20a54');\n",
       "var x = new MutationObserver(function (mutations, observer) {{\n",
       "        var display = window.getComputedStyle(gd).display;\n",
       "        if (!display || display === 'none') {{\n",
       "            console.log([gd, 'removed!']);\n",
       "            Plotly.purge(gd);\n",
       "            observer.disconnect();\n",
       "        }}\n",
       "}});\n",
       "\n",
       "// Listen for the removal of the full notebook cells\n",
       "var notebookContainer = gd.closest('#notebook-container');\n",
       "if (notebookContainer) {{\n",
       "    x.observe(notebookContainer, {childList: true});\n",
       "}}\n",
       "\n",
       "// Listen for the clearing of the current output cell\n",
       "var outputEl = gd.closest('.output');\n",
       "if (outputEl) {{\n",
       "    x.observe(outputEl, {childList: true});\n",
       "}}\n",
       "\n",
       "                        })                };                });            </script>        </div>"
      ]
     },
     "metadata": {},
     "output_type": "display_data"
    }
   ],
   "source": [
    "import kaleido\n",
    "\n",
    "fig = px.scatter_3d(embeddings, x='Dim 1', y='Dim 2', z='Dim 3',\n",
    "                    color_continuous_scale=[\"blue\", \"green\", \"red\"],\n",
    "              color='Age') #range_color=[50, 180],\n",
    "# fig.update_traces(marker=dict(size=4))\n",
    "fig.update_layout(\n",
    "    width=800,  # Adjust width as needed\n",
    "    height=800,  # Adjust height as needed\n",
    "    scene=dict(\n",
    "        xaxis=dict(gridcolor='grey', backgroundcolor='white'),\n",
    "        yaxis=dict(gridcolor='grey', backgroundcolor='white'),\n",
    "        zaxis=dict(gridcolor='grey', backgroundcolor='white'),\n",
    "        bgcolor='white'\n",
    "    ),\n",
    "    paper_bgcolor='white',\n",
    "    plot_bgcolor='white',\n",
    "    title = 'embedding space of train samples, colors with respect to true age'\n",
    ")\n",
    "fig.write_image(\"viz_to_present/prediction_of_age_only/embedding_test_true_age.svg\", format='svg')\n",
    "fig.show()\n"
   ]
  },
  {
   "cell_type": "code",
   "execution_count": 12,
   "metadata": {},
   "outputs": [
    {
     "data": {
      "application/vnd.plotly.v1+json": {
       "config": {
        "plotlyServerURL": "https://plot.ly"
       },
       "data": [
        {
         "hovertemplate": "Dim 1=%{x}<br>Dim 2=%{y}<br>Dim 3=%{z}<br>Age Pred=%{marker.color}<extra></extra>",
         "legendgroup": "",
         "marker": {
          "color": [
           43.33623,
           42.33779,
           25.444445,
           38.424896,
           32.352062,
           30.903963,
           42.042683,
           35.785072,
           37.480827,
           27.325851,
           23.055052,
           44.50459,
           41.624348,
           36.293697,
           40.797554,
           30.019705,
           55.245518,
           36.563465,
           52.23946,
           32.721832,
           43.28084,
           33.908398,
           40.28713,
           37.326385,
           60.06628,
           49.775227,
           39.420933,
           40.19231,
           36.137302,
           37.368465,
           39.579807,
           38.15491,
           51.67088,
           39.05125,
           37.736626,
           54.86935,
           34.62154,
           43.914745,
           36.61031,
           22.786867,
           37.19061,
           45.77496,
           52.94971,
           37.972652,
           29.760204,
           41.221516,
           54.472534,
           61.44122,
           36.067562,
           39.88561,
           57.348225,
           46.156113,
           38.86425,
           39.39521,
           26.583145,
           54.091785,
           48.602215,
           35.969345,
           51.705128,
           40.081005,
           42.935795,
           32.615307,
           21.523838,
           55.045124,
           45.12478,
           34.707542,
           48.06413,
           16.944492,
           47.379684,
           51.331196,
           57.042507,
           38.81569,
           56.760723,
           43.06328,
           32.457336,
           39.96516,
           40.907764,
           24.576353,
           44.635677,
           22.486778,
           61.4405,
           52.109646,
           47.715794,
           37.599216,
           49.671795,
           52.787285,
           18.70525,
           41.008614,
           56.113964,
           54.881115,
           49.640736,
           49.892323,
           20.94833,
           43.091686,
           39.7263,
           54.140285,
           47.97858,
           35.817215,
           46.36365,
           53.936123,
           53.97169,
           46.572197,
           52.854206,
           52.30029,
           36.06924,
           39.709923
          ],
          "coloraxis": "coloraxis",
          "symbol": "circle"
         },
         "mode": "markers",
         "name": "",
         "scene": "scene",
         "showlegend": false,
         "type": "scatter3d",
         "x": [
          0.7274185419082642,
          0.6676117777824402,
          0.6749321818351746,
          0.8982251882553101,
          0.691121518611908,
          0.3657262623310089,
          0.7093288898468018,
          0.8011866807937622,
          0.8991768956184387,
          0.6569622755050659,
          0.5951674580574036,
          0.7533391714096069,
          0.5263053178787231,
          0.5691623687744141,
          0.7688043117523193,
          0.6917214393615723,
          0.6849445700645447,
          0.9461387991905212,
          0.4780235290527344,
          0.6310025453567505,
          0.7484123706817627,
          0.7536691427230835,
          0.9905254244804382,
          0.7356582283973694,
          0.822073757648468,
          0.3915073275566101,
          0.9138535261154175,
          0.6709518432617188,
          0.8549183011054993,
          0.8772849440574646,
          0.8672522902488708,
          0.840092122554779,
          0.6011156439781189,
          0.8405531048774719,
          0.6418602466583252,
          0.6039198637008667,
          0.7659963965415955,
          0.34161683917045593,
          0.9498381614685059,
          0.5574471354484558,
          0.9292007088661194,
          0.7335869073867798,
          0.5606493949890137,
          0.6310832500457764,
          0.6908557415008545,
          0.7582122087478638,
          0.5269348621368408,
          0.7904898524284363,
          0.9077315926551819,
          0.8965211510658264,
          0.524323046207428,
          0.9124751091003418,
          0.8499548435211182,
          0.5679805278778076,
          0.6586030721664429,
          0.5045031905174255,
          0.7558484077453613,
          0.768789529800415,
          0.957602858543396,
          0.8777613043785095,
          0.8708302974700928,
          0.684410035610199,
          0.5442073345184326,
          0.5176948308944702,
          0.9049941301345825,
          0.6896070837974548,
          0.8155727982521057,
          0.22483864426612854,
          0.585250973701477,
          0.7051869630813599,
          0.7077984809875488,
          0.5281842350959778,
          0.6561371088027954,
          0.7070428133010864,
          0.6231842041015625,
          0.851978063583374,
          0.8602475523948669,
          0.4983113408088684,
          0.7458731532096863,
          0.5653075575828552,
          0.8447380065917969,
          0.9486490488052368,
          0.4810407757759094,
          0.4051908552646637,
          0.9653323292732239,
          0.6125991940498352,
          0.5997041463851929,
          0.7731406688690186,
          0.5047268867492676,
          0.541219174861908,
          0.9366456866264343,
          0.5123332142829895,
          0.5713933110237122,
          0.9321302771568298,
          0.9008710384368896,
          0.34132251143455505,
          0.46307191252708435,
          0.8562179803848267,
          0.7389277219772339,
          0.8872501850128174,
          0.9164129495620728,
          0.32558563351631165,
          0.4637475907802582,
          0.5942670106887817,
          0.907401978969574,
          0.5466634035110474
         ],
         "y": [
          -0.3445025682449341,
          -0.01801133155822754,
          0.7337278127670288,
          0.10798098891973495,
          0.4997990131378174,
          0.3862510919570923,
          -0.10873910039663315,
          0.5025894641876221,
          0.17480933666229248,
          0.6205133199691772,
          0.6182271838188171,
          -0.43855413794517517,
          0.1581340879201889,
          0.3781648874282837,
          -0.03357532247900963,
          0.6040924191474915,
          -0.7255577445030212,
          0.21644721925258636,
          -0.7321341037750244,
          0.4501906633377075,
          -0.3580722212791443,
          0.5708723664283752,
          0.05063822865486145,
          0.3221212327480316,
          -0.5422025918960571,
          -0.5629811882972717,
          -0.003331243759021163,
          0.23982319235801697,
          0.29471009969711304,
          0.4374755620956421,
          -0.00420459546148777,
          0.20046399533748627,
          -0.7190269827842712,
          0.13801605999469757,
          0.34481921792030334,
          -0.7877296209335327,
          0.5190353989601135,
          -0.1941017508506775,
          0.21497829258441925,
          0.5756146311759949,
          0.17255783081054688,
          -0.4986500144004822,
          -0.7729531526565552,
          0.3395925760269165,
          0.6139978170394897,
          -0.12608861923217773,
          -0.8301973342895508,
          -0.569673478603363,
          0.2893555164337158,
          -0.07360313087701797,
          -0.848946750164032,
          -0.34714052081108093,
          0.13791365921497345,
          0.29324108362197876,
          0.6515604853630066,
          -0.8299277424812317,
          -0.5826985239982605,
          0.35729190707206726,
          -0.2874806523323059,
          -0.11393972486257553,
          -0.3212055563926697,
          0.4820293188095093,
          0.582531750202179,
          -0.8464319705963135,
          -0.3390875458717346,
          0.4152752161026001,
          -0.5189247727394104,
          0.6636626720428467,
          -0.4881402552127838,
          -0.6699905395507812,
          -0.7062265872955322,
          0.30443140864372253,
          -0.7545645833015442,
          -0.28876638412475586,
          0.4530286192893982,
          -0.0815105214715004,
          -0.2077447474002838,
          0.5178909301757812,
          -0.4440358877182007,
          0.5887446999549866,
          -0.4379226565361023,
          -0.3161410987377167,
          -0.4172590970993042,
          0.2515791952610016,
          -0.2592308223247528,
          -0.7518987655639648,
          0.783514678478241,
          -0.132369264960289,
          -0.8629106283187866,
          -0.8287606835365295,
          -0.3395313620567322,
          -0.5939900279045105,
          0.6249836087226868,
          -0.22420726716518402,
          -0.04802894964814186,
          -0.938521683216095,
          -0.4291096329689026,
          0.33224886655807495,
          -0.5235087275505066,
          -0.46121543645858765,
          -0.399700790643692,
          -0.3958517909049988,
          -0.772588849067688,
          -0.7434604167938232,
          0.2842012345790863,
          0.2773073613643646
         ],
         "z": [
          -0.5934478044509888,
          -0.7442917227745056,
          -0.0781669020652771,
          -0.4260653257369995,
          -0.5220651626586914,
          -0.846790611743927,
          -0.6964397430419922,
          -0.32481345534324646,
          -0.40115150809288025,
          -0.4282100796699524,
          -0.5133914351463318,
          -0.4900514483451843,
          -0.8354617357254028,
          -0.730099618434906,
          -0.6386021375656128,
          -0.39571958780288696,
          -0.06645938754081726,
          -0.2407737821340561,
          -0.4852558374404907,
          -0.6317944526672363,
          -0.5582680702209473,
          -0.32571062445640564,
          -0.1276526004076004,
          -0.5958563685417175,
          0.17381355166435242,
          -0.727855920791626,
          -0.40603023767471313,
          -0.7016469836235046,
          -0.4269199073314667,
          -0.19744935631752014,
          -0.49785107374191284,
          -0.5040430426597595,
          -0.3487980365753174,
          -0.5238531827926636,
          -0.6849197745323181,
          -0.12150213867425919,
          -0.3792780637741089,
          -0.9195773601531982,
          -0.22713792324066162,
          -0.5982646346092224,
          -0.32681766152381897,
          -0.46173426508903503,
          -0.297011137008667,
          -0.6974315047264099,
          -0.38173943758010864,
          -0.6396998763084412,
          -0.1819673627614975,
          0.22493964433670044,
          -0.3038036823272705,
          -0.43684372305870056,
          0.06614198535680771,
          -0.21652403473854065,
          -0.5084845423698425,
          -0.7690303921699524,
          -0.3764451742172241,
          -0.23811028897762299,
          -0.2985893487930298,
          -0.5303820967674255,
          0.018750635907053947,
          -0.465352326631546,
          -0.3721311390399933,
          -0.5470197200775146,
          -0.6037343144416809,
          -0.12467900663614273,
          -0.256914883852005,
          -0.5932863354682922,
          -0.25604313611984253,
          -0.7134419679641724,
          -0.6474567651748657,
          -0.23200000822544098,
          0.016291895881295204,
          -0.7926808595657349,
          -0.010785824619233608,
          -0.6455263495445251,
          -0.6375001668930054,
          -0.5171938538551331,
          -0.46563535928726196,
          -0.6953235864639282,
          -0.49649301171302795,
          -0.5777603983879089,
          0.3076385259628296,
          0.010945690795779228,
          -0.771034836769104,
          -0.8789359331130981,
          -0.030542537569999695,
          -0.24366039037704468,
          -0.16266435384750366,
          -0.6202676296234131,
          -0.025219911709427834,
          -0.14225855469703674,
          -0.08610093593597412,
          -0.6202342510223389,
          -0.5318883657455444,
          -0.2843664586544037,
          -0.43142154812812805,
          -0.05172964930534363,
          -0.7755186557769775,
          -0.3956027925014496,
          -0.4241750240325928,
          -0.008215291425585747,
          0.020656954497098923,
          -0.858659029006958,
          -0.43364113569259644,
          -0.3067788779735565,
          -0.3095986247062683,
          -0.7901011109352112
         ]
        }
       ],
       "layout": {
        "coloraxis": {
         "colorbar": {
          "title": {
           "text": "Age Pred"
          }
         },
         "colorscale": [
          [
           0,
           "blue"
          ],
          [
           0.5,
           "green"
          ],
          [
           1,
           "red"
          ]
         ]
        },
        "height": 800,
        "legend": {
         "tracegroupgap": 0
        },
        "margin": {
         "t": 60
        },
        "paper_bgcolor": "white",
        "plot_bgcolor": "white",
        "scene": {
         "bgcolor": "white",
         "domain": {
          "x": [
           0,
           1
          ],
          "y": [
           0,
           1
          ]
         },
         "xaxis": {
          "backgroundcolor": "white",
          "gridcolor": "grey",
          "title": {
           "text": "Dim 1"
          }
         },
         "yaxis": {
          "backgroundcolor": "white",
          "gridcolor": "grey",
          "title": {
           "text": "Dim 2"
          }
         },
         "zaxis": {
          "backgroundcolor": "white",
          "gridcolor": "grey",
          "title": {
           "text": "Dim 3"
          }
         }
        },
        "template": {
         "data": {
          "bar": [
           {
            "error_x": {
             "color": "#2a3f5f"
            },
            "error_y": {
             "color": "#2a3f5f"
            },
            "marker": {
             "line": {
              "color": "#E5ECF6",
              "width": 0.5
             },
             "pattern": {
              "fillmode": "overlay",
              "size": 10,
              "solidity": 0.2
             }
            },
            "type": "bar"
           }
          ],
          "barpolar": [
           {
            "marker": {
             "line": {
              "color": "#E5ECF6",
              "width": 0.5
             },
             "pattern": {
              "fillmode": "overlay",
              "size": 10,
              "solidity": 0.2
             }
            },
            "type": "barpolar"
           }
          ],
          "carpet": [
           {
            "aaxis": {
             "endlinecolor": "#2a3f5f",
             "gridcolor": "white",
             "linecolor": "white",
             "minorgridcolor": "white",
             "startlinecolor": "#2a3f5f"
            },
            "baxis": {
             "endlinecolor": "#2a3f5f",
             "gridcolor": "white",
             "linecolor": "white",
             "minorgridcolor": "white",
             "startlinecolor": "#2a3f5f"
            },
            "type": "carpet"
           }
          ],
          "choropleth": [
           {
            "colorbar": {
             "outlinewidth": 0,
             "ticks": ""
            },
            "type": "choropleth"
           }
          ],
          "contour": [
           {
            "colorbar": {
             "outlinewidth": 0,
             "ticks": ""
            },
            "colorscale": [
             [
              0,
              "#0d0887"
             ],
             [
              0.1111111111111111,
              "#46039f"
             ],
             [
              0.2222222222222222,
              "#7201a8"
             ],
             [
              0.3333333333333333,
              "#9c179e"
             ],
             [
              0.4444444444444444,
              "#bd3786"
             ],
             [
              0.5555555555555556,
              "#d8576b"
             ],
             [
              0.6666666666666666,
              "#ed7953"
             ],
             [
              0.7777777777777778,
              "#fb9f3a"
             ],
             [
              0.8888888888888888,
              "#fdca26"
             ],
             [
              1,
              "#f0f921"
             ]
            ],
            "type": "contour"
           }
          ],
          "contourcarpet": [
           {
            "colorbar": {
             "outlinewidth": 0,
             "ticks": ""
            },
            "type": "contourcarpet"
           }
          ],
          "heatmap": [
           {
            "colorbar": {
             "outlinewidth": 0,
             "ticks": ""
            },
            "colorscale": [
             [
              0,
              "#0d0887"
             ],
             [
              0.1111111111111111,
              "#46039f"
             ],
             [
              0.2222222222222222,
              "#7201a8"
             ],
             [
              0.3333333333333333,
              "#9c179e"
             ],
             [
              0.4444444444444444,
              "#bd3786"
             ],
             [
              0.5555555555555556,
              "#d8576b"
             ],
             [
              0.6666666666666666,
              "#ed7953"
             ],
             [
              0.7777777777777778,
              "#fb9f3a"
             ],
             [
              0.8888888888888888,
              "#fdca26"
             ],
             [
              1,
              "#f0f921"
             ]
            ],
            "type": "heatmap"
           }
          ],
          "heatmapgl": [
           {
            "colorbar": {
             "outlinewidth": 0,
             "ticks": ""
            },
            "colorscale": [
             [
              0,
              "#0d0887"
             ],
             [
              0.1111111111111111,
              "#46039f"
             ],
             [
              0.2222222222222222,
              "#7201a8"
             ],
             [
              0.3333333333333333,
              "#9c179e"
             ],
             [
              0.4444444444444444,
              "#bd3786"
             ],
             [
              0.5555555555555556,
              "#d8576b"
             ],
             [
              0.6666666666666666,
              "#ed7953"
             ],
             [
              0.7777777777777778,
              "#fb9f3a"
             ],
             [
              0.8888888888888888,
              "#fdca26"
             ],
             [
              1,
              "#f0f921"
             ]
            ],
            "type": "heatmapgl"
           }
          ],
          "histogram": [
           {
            "marker": {
             "pattern": {
              "fillmode": "overlay",
              "size": 10,
              "solidity": 0.2
             }
            },
            "type": "histogram"
           }
          ],
          "histogram2d": [
           {
            "colorbar": {
             "outlinewidth": 0,
             "ticks": ""
            },
            "colorscale": [
             [
              0,
              "#0d0887"
             ],
             [
              0.1111111111111111,
              "#46039f"
             ],
             [
              0.2222222222222222,
              "#7201a8"
             ],
             [
              0.3333333333333333,
              "#9c179e"
             ],
             [
              0.4444444444444444,
              "#bd3786"
             ],
             [
              0.5555555555555556,
              "#d8576b"
             ],
             [
              0.6666666666666666,
              "#ed7953"
             ],
             [
              0.7777777777777778,
              "#fb9f3a"
             ],
             [
              0.8888888888888888,
              "#fdca26"
             ],
             [
              1,
              "#f0f921"
             ]
            ],
            "type": "histogram2d"
           }
          ],
          "histogram2dcontour": [
           {
            "colorbar": {
             "outlinewidth": 0,
             "ticks": ""
            },
            "colorscale": [
             [
              0,
              "#0d0887"
             ],
             [
              0.1111111111111111,
              "#46039f"
             ],
             [
              0.2222222222222222,
              "#7201a8"
             ],
             [
              0.3333333333333333,
              "#9c179e"
             ],
             [
              0.4444444444444444,
              "#bd3786"
             ],
             [
              0.5555555555555556,
              "#d8576b"
             ],
             [
              0.6666666666666666,
              "#ed7953"
             ],
             [
              0.7777777777777778,
              "#fb9f3a"
             ],
             [
              0.8888888888888888,
              "#fdca26"
             ],
             [
              1,
              "#f0f921"
             ]
            ],
            "type": "histogram2dcontour"
           }
          ],
          "mesh3d": [
           {
            "colorbar": {
             "outlinewidth": 0,
             "ticks": ""
            },
            "type": "mesh3d"
           }
          ],
          "parcoords": [
           {
            "line": {
             "colorbar": {
              "outlinewidth": 0,
              "ticks": ""
             }
            },
            "type": "parcoords"
           }
          ],
          "pie": [
           {
            "automargin": true,
            "type": "pie"
           }
          ],
          "scatter": [
           {
            "fillpattern": {
             "fillmode": "overlay",
             "size": 10,
             "solidity": 0.2
            },
            "type": "scatter"
           }
          ],
          "scatter3d": [
           {
            "line": {
             "colorbar": {
              "outlinewidth": 0,
              "ticks": ""
             }
            },
            "marker": {
             "colorbar": {
              "outlinewidth": 0,
              "ticks": ""
             }
            },
            "type": "scatter3d"
           }
          ],
          "scattercarpet": [
           {
            "marker": {
             "colorbar": {
              "outlinewidth": 0,
              "ticks": ""
             }
            },
            "type": "scattercarpet"
           }
          ],
          "scattergeo": [
           {
            "marker": {
             "colorbar": {
              "outlinewidth": 0,
              "ticks": ""
             }
            },
            "type": "scattergeo"
           }
          ],
          "scattergl": [
           {
            "marker": {
             "colorbar": {
              "outlinewidth": 0,
              "ticks": ""
             }
            },
            "type": "scattergl"
           }
          ],
          "scattermapbox": [
           {
            "marker": {
             "colorbar": {
              "outlinewidth": 0,
              "ticks": ""
             }
            },
            "type": "scattermapbox"
           }
          ],
          "scatterpolar": [
           {
            "marker": {
             "colorbar": {
              "outlinewidth": 0,
              "ticks": ""
             }
            },
            "type": "scatterpolar"
           }
          ],
          "scatterpolargl": [
           {
            "marker": {
             "colorbar": {
              "outlinewidth": 0,
              "ticks": ""
             }
            },
            "type": "scatterpolargl"
           }
          ],
          "scatterternary": [
           {
            "marker": {
             "colorbar": {
              "outlinewidth": 0,
              "ticks": ""
             }
            },
            "type": "scatterternary"
           }
          ],
          "surface": [
           {
            "colorbar": {
             "outlinewidth": 0,
             "ticks": ""
            },
            "colorscale": [
             [
              0,
              "#0d0887"
             ],
             [
              0.1111111111111111,
              "#46039f"
             ],
             [
              0.2222222222222222,
              "#7201a8"
             ],
             [
              0.3333333333333333,
              "#9c179e"
             ],
             [
              0.4444444444444444,
              "#bd3786"
             ],
             [
              0.5555555555555556,
              "#d8576b"
             ],
             [
              0.6666666666666666,
              "#ed7953"
             ],
             [
              0.7777777777777778,
              "#fb9f3a"
             ],
             [
              0.8888888888888888,
              "#fdca26"
             ],
             [
              1,
              "#f0f921"
             ]
            ],
            "type": "surface"
           }
          ],
          "table": [
           {
            "cells": {
             "fill": {
              "color": "#EBF0F8"
             },
             "line": {
              "color": "white"
             }
            },
            "header": {
             "fill": {
              "color": "#C8D4E3"
             },
             "line": {
              "color": "white"
             }
            },
            "type": "table"
           }
          ]
         },
         "layout": {
          "annotationdefaults": {
           "arrowcolor": "#2a3f5f",
           "arrowhead": 0,
           "arrowwidth": 1
          },
          "autotypenumbers": "strict",
          "coloraxis": {
           "colorbar": {
            "outlinewidth": 0,
            "ticks": ""
           }
          },
          "colorscale": {
           "diverging": [
            [
             0,
             "#8e0152"
            ],
            [
             0.1,
             "#c51b7d"
            ],
            [
             0.2,
             "#de77ae"
            ],
            [
             0.3,
             "#f1b6da"
            ],
            [
             0.4,
             "#fde0ef"
            ],
            [
             0.5,
             "#f7f7f7"
            ],
            [
             0.6,
             "#e6f5d0"
            ],
            [
             0.7,
             "#b8e186"
            ],
            [
             0.8,
             "#7fbc41"
            ],
            [
             0.9,
             "#4d9221"
            ],
            [
             1,
             "#276419"
            ]
           ],
           "sequential": [
            [
             0,
             "#0d0887"
            ],
            [
             0.1111111111111111,
             "#46039f"
            ],
            [
             0.2222222222222222,
             "#7201a8"
            ],
            [
             0.3333333333333333,
             "#9c179e"
            ],
            [
             0.4444444444444444,
             "#bd3786"
            ],
            [
             0.5555555555555556,
             "#d8576b"
            ],
            [
             0.6666666666666666,
             "#ed7953"
            ],
            [
             0.7777777777777778,
             "#fb9f3a"
            ],
            [
             0.8888888888888888,
             "#fdca26"
            ],
            [
             1,
             "#f0f921"
            ]
           ],
           "sequentialminus": [
            [
             0,
             "#0d0887"
            ],
            [
             0.1111111111111111,
             "#46039f"
            ],
            [
             0.2222222222222222,
             "#7201a8"
            ],
            [
             0.3333333333333333,
             "#9c179e"
            ],
            [
             0.4444444444444444,
             "#bd3786"
            ],
            [
             0.5555555555555556,
             "#d8576b"
            ],
            [
             0.6666666666666666,
             "#ed7953"
            ],
            [
             0.7777777777777778,
             "#fb9f3a"
            ],
            [
             0.8888888888888888,
             "#fdca26"
            ],
            [
             1,
             "#f0f921"
            ]
           ]
          },
          "colorway": [
           "#636efa",
           "#EF553B",
           "#00cc96",
           "#ab63fa",
           "#FFA15A",
           "#19d3f3",
           "#FF6692",
           "#B6E880",
           "#FF97FF",
           "#FECB52"
          ],
          "font": {
           "color": "#2a3f5f"
          },
          "geo": {
           "bgcolor": "white",
           "lakecolor": "white",
           "landcolor": "#E5ECF6",
           "showlakes": true,
           "showland": true,
           "subunitcolor": "white"
          },
          "hoverlabel": {
           "align": "left"
          },
          "hovermode": "closest",
          "mapbox": {
           "style": "light"
          },
          "paper_bgcolor": "white",
          "plot_bgcolor": "#E5ECF6",
          "polar": {
           "angularaxis": {
            "gridcolor": "white",
            "linecolor": "white",
            "ticks": ""
           },
           "bgcolor": "#E5ECF6",
           "radialaxis": {
            "gridcolor": "white",
            "linecolor": "white",
            "ticks": ""
           }
          },
          "scene": {
           "xaxis": {
            "backgroundcolor": "#E5ECF6",
            "gridcolor": "white",
            "gridwidth": 2,
            "linecolor": "white",
            "showbackground": true,
            "ticks": "",
            "zerolinecolor": "white"
           },
           "yaxis": {
            "backgroundcolor": "#E5ECF6",
            "gridcolor": "white",
            "gridwidth": 2,
            "linecolor": "white",
            "showbackground": true,
            "ticks": "",
            "zerolinecolor": "white"
           },
           "zaxis": {
            "backgroundcolor": "#E5ECF6",
            "gridcolor": "white",
            "gridwidth": 2,
            "linecolor": "white",
            "showbackground": true,
            "ticks": "",
            "zerolinecolor": "white"
           }
          },
          "shapedefaults": {
           "line": {
            "color": "#2a3f5f"
           }
          },
          "ternary": {
           "aaxis": {
            "gridcolor": "white",
            "linecolor": "white",
            "ticks": ""
           },
           "baxis": {
            "gridcolor": "white",
            "linecolor": "white",
            "ticks": ""
           },
           "bgcolor": "#E5ECF6",
           "caxis": {
            "gridcolor": "white",
            "linecolor": "white",
            "ticks": ""
           }
          },
          "title": {
           "x": 0.05
          },
          "xaxis": {
           "automargin": true,
           "gridcolor": "white",
           "linecolor": "white",
           "ticks": "",
           "title": {
            "standoff": 15
           },
           "zerolinecolor": "white",
           "zerolinewidth": 2
          },
          "yaxis": {
           "automargin": true,
           "gridcolor": "white",
           "linecolor": "white",
           "ticks": "",
           "title": {
            "standoff": 15
           },
           "zerolinecolor": "white",
           "zerolinewidth": 2
          }
         }
        },
        "width": 800
       }
      },
      "text/html": [
       "<div>                            <div id=\"9cd0ac46-e17a-4964-a4f4-7be1db0a8241\" class=\"plotly-graph-div\" style=\"height:800px; width:800px;\"></div>            <script type=\"text/javascript\">                require([\"plotly\"], function(Plotly) {                    window.PLOTLYENV=window.PLOTLYENV || {};                                    if (document.getElementById(\"9cd0ac46-e17a-4964-a4f4-7be1db0a8241\")) {                    Plotly.newPlot(                        \"9cd0ac46-e17a-4964-a4f4-7be1db0a8241\",                        [{\"hovertemplate\":\"Dim 1=%{x}\\u003cbr\\u003eDim 2=%{y}\\u003cbr\\u003eDim 3=%{z}\\u003cbr\\u003eAge Pred=%{marker.color}\\u003cextra\\u003e\\u003c\\u002fextra\\u003e\",\"legendgroup\":\"\",\"marker\":{\"color\":[43.33623,42.33779,25.444445,38.424896,32.352062,30.903963,42.042683,35.785072,37.480827,27.325851,23.055052,44.50459,41.624348,36.293697,40.797554,30.019705,55.245518,36.563465,52.23946,32.721832,43.28084,33.908398,40.28713,37.326385,60.06628,49.775227,39.420933,40.19231,36.137302,37.368465,39.579807,38.15491,51.67088,39.05125,37.736626,54.86935,34.62154,43.914745,36.61031,22.786867,37.19061,45.77496,52.94971,37.972652,29.760204,41.221516,54.472534,61.44122,36.067562,39.88561,57.348225,46.156113,38.86425,39.39521,26.583145,54.091785,48.602215,35.969345,51.705128,40.081005,42.935795,32.615307,21.523838,55.045124,45.12478,34.707542,48.06413,16.944492,47.379684,51.331196,57.042507,38.81569,56.760723,43.06328,32.457336,39.96516,40.907764,24.576353,44.635677,22.486778,61.4405,52.109646,47.715794,37.599216,49.671795,52.787285,18.70525,41.008614,56.113964,54.881115,49.640736,49.892323,20.94833,43.091686,39.7263,54.140285,47.97858,35.817215,46.36365,53.936123,53.97169,46.572197,52.854206,52.30029,36.06924,39.709923],\"coloraxis\":\"coloraxis\",\"symbol\":\"circle\"},\"mode\":\"markers\",\"name\":\"\",\"scene\":\"scene\",\"showlegend\":false,\"x\":[0.7274185419082642,0.6676117777824402,0.6749321818351746,0.8982251882553101,0.691121518611908,0.3657262623310089,0.7093288898468018,0.8011866807937622,0.8991768956184387,0.6569622755050659,0.5951674580574036,0.7533391714096069,0.5263053178787231,0.5691623687744141,0.7688043117523193,0.6917214393615723,0.6849445700645447,0.9461387991905212,0.4780235290527344,0.6310025453567505,0.7484123706817627,0.7536691427230835,0.9905254244804382,0.7356582283973694,0.822073757648468,0.3915073275566101,0.9138535261154175,0.6709518432617188,0.8549183011054993,0.8772849440574646,0.8672522902488708,0.840092122554779,0.6011156439781189,0.8405531048774719,0.6418602466583252,0.6039198637008667,0.7659963965415955,0.34161683917045593,0.9498381614685059,0.5574471354484558,0.9292007088661194,0.7335869073867798,0.5606493949890137,0.6310832500457764,0.6908557415008545,0.7582122087478638,0.5269348621368408,0.7904898524284363,0.9077315926551819,0.8965211510658264,0.524323046207428,0.9124751091003418,0.8499548435211182,0.5679805278778076,0.6586030721664429,0.5045031905174255,0.7558484077453613,0.768789529800415,0.957602858543396,0.8777613043785095,0.8708302974700928,0.684410035610199,0.5442073345184326,0.5176948308944702,0.9049941301345825,0.6896070837974548,0.8155727982521057,0.22483864426612854,0.585250973701477,0.7051869630813599,0.7077984809875488,0.5281842350959778,0.6561371088027954,0.7070428133010864,0.6231842041015625,0.851978063583374,0.8602475523948669,0.4983113408088684,0.7458731532096863,0.5653075575828552,0.8447380065917969,0.9486490488052368,0.4810407757759094,0.4051908552646637,0.9653323292732239,0.6125991940498352,0.5997041463851929,0.7731406688690186,0.5047268867492676,0.541219174861908,0.9366456866264343,0.5123332142829895,0.5713933110237122,0.9321302771568298,0.9008710384368896,0.34132251143455505,0.46307191252708435,0.8562179803848267,0.7389277219772339,0.8872501850128174,0.9164129495620728,0.32558563351631165,0.4637475907802582,0.5942670106887817,0.907401978969574,0.5466634035110474],\"y\":[-0.3445025682449341,-0.01801133155822754,0.7337278127670288,0.10798098891973495,0.4997990131378174,0.3862510919570923,-0.10873910039663315,0.5025894641876221,0.17480933666229248,0.6205133199691772,0.6182271838188171,-0.43855413794517517,0.1581340879201889,0.3781648874282837,-0.03357532247900963,0.6040924191474915,-0.7255577445030212,0.21644721925258636,-0.7321341037750244,0.4501906633377075,-0.3580722212791443,0.5708723664283752,0.05063822865486145,0.3221212327480316,-0.5422025918960571,-0.5629811882972717,-0.003331243759021163,0.23982319235801697,0.29471009969711304,0.4374755620956421,-0.00420459546148777,0.20046399533748627,-0.7190269827842712,0.13801605999469757,0.34481921792030334,-0.7877296209335327,0.5190353989601135,-0.1941017508506775,0.21497829258441925,0.5756146311759949,0.17255783081054688,-0.4986500144004822,-0.7729531526565552,0.3395925760269165,0.6139978170394897,-0.12608861923217773,-0.8301973342895508,-0.569673478603363,0.2893555164337158,-0.07360313087701797,-0.848946750164032,-0.34714052081108093,0.13791365921497345,0.29324108362197876,0.6515604853630066,-0.8299277424812317,-0.5826985239982605,0.35729190707206726,-0.2874806523323059,-0.11393972486257553,-0.3212055563926697,0.4820293188095093,0.582531750202179,-0.8464319705963135,-0.3390875458717346,0.4152752161026001,-0.5189247727394104,0.6636626720428467,-0.4881402552127838,-0.6699905395507812,-0.7062265872955322,0.30443140864372253,-0.7545645833015442,-0.28876638412475586,0.4530286192893982,-0.0815105214715004,-0.2077447474002838,0.5178909301757812,-0.4440358877182007,0.5887446999549866,-0.4379226565361023,-0.3161410987377167,-0.4172590970993042,0.2515791952610016,-0.2592308223247528,-0.7518987655639648,0.783514678478241,-0.132369264960289,-0.8629106283187866,-0.8287606835365295,-0.3395313620567322,-0.5939900279045105,0.6249836087226868,-0.22420726716518402,-0.04802894964814186,-0.938521683216095,-0.4291096329689026,0.33224886655807495,-0.5235087275505066,-0.46121543645858765,-0.399700790643692,-0.3958517909049988,-0.772588849067688,-0.7434604167938232,0.2842012345790863,0.2773073613643646],\"z\":[-0.5934478044509888,-0.7442917227745056,-0.0781669020652771,-0.4260653257369995,-0.5220651626586914,-0.846790611743927,-0.6964397430419922,-0.32481345534324646,-0.40115150809288025,-0.4282100796699524,-0.5133914351463318,-0.4900514483451843,-0.8354617357254028,-0.730099618434906,-0.6386021375656128,-0.39571958780288696,-0.06645938754081726,-0.2407737821340561,-0.4852558374404907,-0.6317944526672363,-0.5582680702209473,-0.32571062445640564,-0.1276526004076004,-0.5958563685417175,0.17381355166435242,-0.727855920791626,-0.40603023767471313,-0.7016469836235046,-0.4269199073314667,-0.19744935631752014,-0.49785107374191284,-0.5040430426597595,-0.3487980365753174,-0.5238531827926636,-0.6849197745323181,-0.12150213867425919,-0.3792780637741089,-0.9195773601531982,-0.22713792324066162,-0.5982646346092224,-0.32681766152381897,-0.46173426508903503,-0.297011137008667,-0.6974315047264099,-0.38173943758010864,-0.6396998763084412,-0.1819673627614975,0.22493964433670044,-0.3038036823272705,-0.43684372305870056,0.06614198535680771,-0.21652403473854065,-0.5084845423698425,-0.7690303921699524,-0.3764451742172241,-0.23811028897762299,-0.2985893487930298,-0.5303820967674255,0.018750635907053947,-0.465352326631546,-0.3721311390399933,-0.5470197200775146,-0.6037343144416809,-0.12467900663614273,-0.256914883852005,-0.5932863354682922,-0.25604313611984253,-0.7134419679641724,-0.6474567651748657,-0.23200000822544098,0.016291895881295204,-0.7926808595657349,-0.010785824619233608,-0.6455263495445251,-0.6375001668930054,-0.5171938538551331,-0.46563535928726196,-0.6953235864639282,-0.49649301171302795,-0.5777603983879089,0.3076385259628296,0.010945690795779228,-0.771034836769104,-0.8789359331130981,-0.030542537569999695,-0.24366039037704468,-0.16266435384750366,-0.6202676296234131,-0.025219911709427834,-0.14225855469703674,-0.08610093593597412,-0.6202342510223389,-0.5318883657455444,-0.2843664586544037,-0.43142154812812805,-0.05172964930534363,-0.7755186557769775,-0.3956027925014496,-0.4241750240325928,-0.008215291425585747,0.020656954497098923,-0.858659029006958,-0.43364113569259644,-0.3067788779735565,-0.3095986247062683,-0.7901011109352112],\"type\":\"scatter3d\"}],                        {\"template\":{\"data\":{\"histogram2dcontour\":[{\"type\":\"histogram2dcontour\",\"colorbar\":{\"outlinewidth\":0,\"ticks\":\"\"},\"colorscale\":[[0.0,\"#0d0887\"],[0.1111111111111111,\"#46039f\"],[0.2222222222222222,\"#7201a8\"],[0.3333333333333333,\"#9c179e\"],[0.4444444444444444,\"#bd3786\"],[0.5555555555555556,\"#d8576b\"],[0.6666666666666666,\"#ed7953\"],[0.7777777777777778,\"#fb9f3a\"],[0.8888888888888888,\"#fdca26\"],[1.0,\"#f0f921\"]]}],\"choropleth\":[{\"type\":\"choropleth\",\"colorbar\":{\"outlinewidth\":0,\"ticks\":\"\"}}],\"histogram2d\":[{\"type\":\"histogram2d\",\"colorbar\":{\"outlinewidth\":0,\"ticks\":\"\"},\"colorscale\":[[0.0,\"#0d0887\"],[0.1111111111111111,\"#46039f\"],[0.2222222222222222,\"#7201a8\"],[0.3333333333333333,\"#9c179e\"],[0.4444444444444444,\"#bd3786\"],[0.5555555555555556,\"#d8576b\"],[0.6666666666666666,\"#ed7953\"],[0.7777777777777778,\"#fb9f3a\"],[0.8888888888888888,\"#fdca26\"],[1.0,\"#f0f921\"]]}],\"heatmap\":[{\"type\":\"heatmap\",\"colorbar\":{\"outlinewidth\":0,\"ticks\":\"\"},\"colorscale\":[[0.0,\"#0d0887\"],[0.1111111111111111,\"#46039f\"],[0.2222222222222222,\"#7201a8\"],[0.3333333333333333,\"#9c179e\"],[0.4444444444444444,\"#bd3786\"],[0.5555555555555556,\"#d8576b\"],[0.6666666666666666,\"#ed7953\"],[0.7777777777777778,\"#fb9f3a\"],[0.8888888888888888,\"#fdca26\"],[1.0,\"#f0f921\"]]}],\"heatmapgl\":[{\"type\":\"heatmapgl\",\"colorbar\":{\"outlinewidth\":0,\"ticks\":\"\"},\"colorscale\":[[0.0,\"#0d0887\"],[0.1111111111111111,\"#46039f\"],[0.2222222222222222,\"#7201a8\"],[0.3333333333333333,\"#9c179e\"],[0.4444444444444444,\"#bd3786\"],[0.5555555555555556,\"#d8576b\"],[0.6666666666666666,\"#ed7953\"],[0.7777777777777778,\"#fb9f3a\"],[0.8888888888888888,\"#fdca26\"],[1.0,\"#f0f921\"]]}],\"contourcarpet\":[{\"type\":\"contourcarpet\",\"colorbar\":{\"outlinewidth\":0,\"ticks\":\"\"}}],\"contour\":[{\"type\":\"contour\",\"colorbar\":{\"outlinewidth\":0,\"ticks\":\"\"},\"colorscale\":[[0.0,\"#0d0887\"],[0.1111111111111111,\"#46039f\"],[0.2222222222222222,\"#7201a8\"],[0.3333333333333333,\"#9c179e\"],[0.4444444444444444,\"#bd3786\"],[0.5555555555555556,\"#d8576b\"],[0.6666666666666666,\"#ed7953\"],[0.7777777777777778,\"#fb9f3a\"],[0.8888888888888888,\"#fdca26\"],[1.0,\"#f0f921\"]]}],\"surface\":[{\"type\":\"surface\",\"colorbar\":{\"outlinewidth\":0,\"ticks\":\"\"},\"colorscale\":[[0.0,\"#0d0887\"],[0.1111111111111111,\"#46039f\"],[0.2222222222222222,\"#7201a8\"],[0.3333333333333333,\"#9c179e\"],[0.4444444444444444,\"#bd3786\"],[0.5555555555555556,\"#d8576b\"],[0.6666666666666666,\"#ed7953\"],[0.7777777777777778,\"#fb9f3a\"],[0.8888888888888888,\"#fdca26\"],[1.0,\"#f0f921\"]]}],\"mesh3d\":[{\"type\":\"mesh3d\",\"colorbar\":{\"outlinewidth\":0,\"ticks\":\"\"}}],\"scatter\":[{\"fillpattern\":{\"fillmode\":\"overlay\",\"size\":10,\"solidity\":0.2},\"type\":\"scatter\"}],\"parcoords\":[{\"type\":\"parcoords\",\"line\":{\"colorbar\":{\"outlinewidth\":0,\"ticks\":\"\"}}}],\"scatterpolargl\":[{\"type\":\"scatterpolargl\",\"marker\":{\"colorbar\":{\"outlinewidth\":0,\"ticks\":\"\"}}}],\"bar\":[{\"error_x\":{\"color\":\"#2a3f5f\"},\"error_y\":{\"color\":\"#2a3f5f\"},\"marker\":{\"line\":{\"color\":\"#E5ECF6\",\"width\":0.5},\"pattern\":{\"fillmode\":\"overlay\",\"size\":10,\"solidity\":0.2}},\"type\":\"bar\"}],\"scattergeo\":[{\"type\":\"scattergeo\",\"marker\":{\"colorbar\":{\"outlinewidth\":0,\"ticks\":\"\"}}}],\"scatterpolar\":[{\"type\":\"scatterpolar\",\"marker\":{\"colorbar\":{\"outlinewidth\":0,\"ticks\":\"\"}}}],\"histogram\":[{\"marker\":{\"pattern\":{\"fillmode\":\"overlay\",\"size\":10,\"solidity\":0.2}},\"type\":\"histogram\"}],\"scattergl\":[{\"type\":\"scattergl\",\"marker\":{\"colorbar\":{\"outlinewidth\":0,\"ticks\":\"\"}}}],\"scatter3d\":[{\"type\":\"scatter3d\",\"line\":{\"colorbar\":{\"outlinewidth\":0,\"ticks\":\"\"}},\"marker\":{\"colorbar\":{\"outlinewidth\":0,\"ticks\":\"\"}}}],\"scattermapbox\":[{\"type\":\"scattermapbox\",\"marker\":{\"colorbar\":{\"outlinewidth\":0,\"ticks\":\"\"}}}],\"scatterternary\":[{\"type\":\"scatterternary\",\"marker\":{\"colorbar\":{\"outlinewidth\":0,\"ticks\":\"\"}}}],\"scattercarpet\":[{\"type\":\"scattercarpet\",\"marker\":{\"colorbar\":{\"outlinewidth\":0,\"ticks\":\"\"}}}],\"carpet\":[{\"aaxis\":{\"endlinecolor\":\"#2a3f5f\",\"gridcolor\":\"white\",\"linecolor\":\"white\",\"minorgridcolor\":\"white\",\"startlinecolor\":\"#2a3f5f\"},\"baxis\":{\"endlinecolor\":\"#2a3f5f\",\"gridcolor\":\"white\",\"linecolor\":\"white\",\"minorgridcolor\":\"white\",\"startlinecolor\":\"#2a3f5f\"},\"type\":\"carpet\"}],\"table\":[{\"cells\":{\"fill\":{\"color\":\"#EBF0F8\"},\"line\":{\"color\":\"white\"}},\"header\":{\"fill\":{\"color\":\"#C8D4E3\"},\"line\":{\"color\":\"white\"}},\"type\":\"table\"}],\"barpolar\":[{\"marker\":{\"line\":{\"color\":\"#E5ECF6\",\"width\":0.5},\"pattern\":{\"fillmode\":\"overlay\",\"size\":10,\"solidity\":0.2}},\"type\":\"barpolar\"}],\"pie\":[{\"automargin\":true,\"type\":\"pie\"}]},\"layout\":{\"autotypenumbers\":\"strict\",\"colorway\":[\"#636efa\",\"#EF553B\",\"#00cc96\",\"#ab63fa\",\"#FFA15A\",\"#19d3f3\",\"#FF6692\",\"#B6E880\",\"#FF97FF\",\"#FECB52\"],\"font\":{\"color\":\"#2a3f5f\"},\"hovermode\":\"closest\",\"hoverlabel\":{\"align\":\"left\"},\"paper_bgcolor\":\"white\",\"plot_bgcolor\":\"#E5ECF6\",\"polar\":{\"bgcolor\":\"#E5ECF6\",\"angularaxis\":{\"gridcolor\":\"white\",\"linecolor\":\"white\",\"ticks\":\"\"},\"radialaxis\":{\"gridcolor\":\"white\",\"linecolor\":\"white\",\"ticks\":\"\"}},\"ternary\":{\"bgcolor\":\"#E5ECF6\",\"aaxis\":{\"gridcolor\":\"white\",\"linecolor\":\"white\",\"ticks\":\"\"},\"baxis\":{\"gridcolor\":\"white\",\"linecolor\":\"white\",\"ticks\":\"\"},\"caxis\":{\"gridcolor\":\"white\",\"linecolor\":\"white\",\"ticks\":\"\"}},\"coloraxis\":{\"colorbar\":{\"outlinewidth\":0,\"ticks\":\"\"}},\"colorscale\":{\"sequential\":[[0.0,\"#0d0887\"],[0.1111111111111111,\"#46039f\"],[0.2222222222222222,\"#7201a8\"],[0.3333333333333333,\"#9c179e\"],[0.4444444444444444,\"#bd3786\"],[0.5555555555555556,\"#d8576b\"],[0.6666666666666666,\"#ed7953\"],[0.7777777777777778,\"#fb9f3a\"],[0.8888888888888888,\"#fdca26\"],[1.0,\"#f0f921\"]],\"sequentialminus\":[[0.0,\"#0d0887\"],[0.1111111111111111,\"#46039f\"],[0.2222222222222222,\"#7201a8\"],[0.3333333333333333,\"#9c179e\"],[0.4444444444444444,\"#bd3786\"],[0.5555555555555556,\"#d8576b\"],[0.6666666666666666,\"#ed7953\"],[0.7777777777777778,\"#fb9f3a\"],[0.8888888888888888,\"#fdca26\"],[1.0,\"#f0f921\"]],\"diverging\":[[0,\"#8e0152\"],[0.1,\"#c51b7d\"],[0.2,\"#de77ae\"],[0.3,\"#f1b6da\"],[0.4,\"#fde0ef\"],[0.5,\"#f7f7f7\"],[0.6,\"#e6f5d0\"],[0.7,\"#b8e186\"],[0.8,\"#7fbc41\"],[0.9,\"#4d9221\"],[1,\"#276419\"]]},\"xaxis\":{\"gridcolor\":\"white\",\"linecolor\":\"white\",\"ticks\":\"\",\"title\":{\"standoff\":15},\"zerolinecolor\":\"white\",\"automargin\":true,\"zerolinewidth\":2},\"yaxis\":{\"gridcolor\":\"white\",\"linecolor\":\"white\",\"ticks\":\"\",\"title\":{\"standoff\":15},\"zerolinecolor\":\"white\",\"automargin\":true,\"zerolinewidth\":2},\"scene\":{\"xaxis\":{\"backgroundcolor\":\"#E5ECF6\",\"gridcolor\":\"white\",\"linecolor\":\"white\",\"showbackground\":true,\"ticks\":\"\",\"zerolinecolor\":\"white\",\"gridwidth\":2},\"yaxis\":{\"backgroundcolor\":\"#E5ECF6\",\"gridcolor\":\"white\",\"linecolor\":\"white\",\"showbackground\":true,\"ticks\":\"\",\"zerolinecolor\":\"white\",\"gridwidth\":2},\"zaxis\":{\"backgroundcolor\":\"#E5ECF6\",\"gridcolor\":\"white\",\"linecolor\":\"white\",\"showbackground\":true,\"ticks\":\"\",\"zerolinecolor\":\"white\",\"gridwidth\":2}},\"shapedefaults\":{\"line\":{\"color\":\"#2a3f5f\"}},\"annotationdefaults\":{\"arrowcolor\":\"#2a3f5f\",\"arrowhead\":0,\"arrowwidth\":1},\"geo\":{\"bgcolor\":\"white\",\"landcolor\":\"#E5ECF6\",\"subunitcolor\":\"white\",\"showland\":true,\"showlakes\":true,\"lakecolor\":\"white\"},\"title\":{\"x\":0.05},\"mapbox\":{\"style\":\"light\"}}},\"scene\":{\"domain\":{\"x\":[0.0,1.0],\"y\":[0.0,1.0]},\"xaxis\":{\"title\":{\"text\":\"Dim 1\"},\"gridcolor\":\"grey\",\"backgroundcolor\":\"white\"},\"yaxis\":{\"title\":{\"text\":\"Dim 2\"},\"gridcolor\":\"grey\",\"backgroundcolor\":\"white\"},\"zaxis\":{\"title\":{\"text\":\"Dim 3\"},\"gridcolor\":\"grey\",\"backgroundcolor\":\"white\"},\"bgcolor\":\"white\"},\"coloraxis\":{\"colorbar\":{\"title\":{\"text\":\"Age Pred\"}},\"colorscale\":[[0.0,\"blue\"],[0.5,\"green\"],[1.0,\"red\"]]},\"legend\":{\"tracegroupgap\":0},\"margin\":{\"t\":60},\"width\":800,\"height\":800,\"paper_bgcolor\":\"white\",\"plot_bgcolor\":\"white\"},                        {\"responsive\": true}                    ).then(function(){\n",
       "                            \n",
       "var gd = document.getElementById('9cd0ac46-e17a-4964-a4f4-7be1db0a8241');\n",
       "var x = new MutationObserver(function (mutations, observer) {{\n",
       "        var display = window.getComputedStyle(gd).display;\n",
       "        if (!display || display === 'none') {{\n",
       "            console.log([gd, 'removed!']);\n",
       "            Plotly.purge(gd);\n",
       "            observer.disconnect();\n",
       "        }}\n",
       "}});\n",
       "\n",
       "// Listen for the removal of the full notebook cells\n",
       "var notebookContainer = gd.closest('#notebook-container');\n",
       "if (notebookContainer) {{\n",
       "    x.observe(notebookContainer, {childList: true});\n",
       "}}\n",
       "\n",
       "// Listen for the clearing of the current output cell\n",
       "var outputEl = gd.closest('.output');\n",
       "if (outputEl) {{\n",
       "    x.observe(outputEl, {childList: true});\n",
       "}}\n",
       "\n",
       "                        })                };                });            </script>        </div>"
      ]
     },
     "metadata": {},
     "output_type": "display_data"
    }
   ],
   "source": [
    "fig = px.scatter_3d(embeddings, x='Dim 1', y='Dim 2', z='Dim 3',\n",
    "                    color_continuous_scale=[\"blue\", \"green\", \"red\"],\n",
    "              color='Age Pred') #range_color=[50, 180],\n",
    "# fig.update_traces(marker=dict(size=4))\n",
    "fig.update_layout(\n",
    "    width=800,  # Adjust width as needed\n",
    "    height=800,  # Adjust height as needed\n",
    "    scene=dict(\n",
    "        xaxis=dict(gridcolor='grey', backgroundcolor='white'),\n",
    "        yaxis=dict(gridcolor='grey', backgroundcolor='white'),\n",
    "        zaxis=dict(gridcolor='grey', backgroundcolor='white'),\n",
    "        bgcolor='white'\n",
    "    ),\n",
    "    paper_bgcolor='white',\n",
    "    plot_bgcolor='white'\n",
    ")\n",
    "#fig.write_image(\"embedding.svg\", format='svg')\n",
    "fig.show()"
   ]
  },
  {
   "cell_type": "code",
   "execution_count": 39,
   "metadata": {},
   "outputs": [
    {
     "data": {
      "image/png": "[encoded data removed]",
      "text/plain": [
       "<Figure size 1250x1250 with 30 Axes>"
      ]
     },
     "metadata": {},
     "output_type": "display_data"
    }
   ],
   "source": [
    "sns.pairplot(embeddings)\n",
    "\n",
    "output_dir = 'viz_to_present/prediction_of_age_only'\n",
    "os.makedirs(output_dir, exist_ok=True)  # Create directory if it doesn't exist\n",
    "output_path = os.path.join(output_dir, 'pairplots_age_prediction_train.png')  # Using SVG format as per your previous question\n",
    "plt.savefig(output_path, format='png', bbox_inches='tight')"
   ]
  },
  {
   "cell_type": "code",
   "execution_count": 42,
   "metadata": {},
   "outputs": [
    {
     "name": "stdout",
     "output_type": "stream",
     "text": [
      "Added test on mat ae pretrained for embedding analysis/pred_results.csv to the zip archive\n",
      "Added test on mat ae pretrained for embedding analysis/mape.csv to the zip archive\n",
      "Added test on mat ae pretrained for embedding analysis/recon_mat/test_idx_run0.npy to the zip archive\n",
      "Added test on mat ae pretrained for embedding analysis/recon_mat/recon_mat_run0.npy to the zip archive\n",
      "Added test on mat ae pretrained for embedding analysis/recon_mat/mape_mat_run0.npy to the zip archive\n",
      "Added test on mat ae pretrained for embedding analysis/embeddings/mat_embeddings_run0_train.npy to the zip archive\n",
      "Added test on mat ae pretrained for embedding analysis/embeddings/joint_embeddings_run0_train.npy to the zip archive\n",
      "Added test on mat ae pretrained for embedding analysis/embeddings/mat_embeddings_run0_test.npy to the zip archive\n",
      "Added test on mat ae pretrained for embedding analysis/embeddings/joint_embeddings_run0_test.npy to the zip archive\n",
      "Added test on mat ae pretrained for embedding analysis/saved_models/model_weights_run0.pth to the zip archive\n",
      "Zip archive created successfully at: /data/parietal/store2/work/mrenaudi/contrastive-reg-3/results/embedding_analysis_results.zip\n"
     ]
    }
   ],
   "source": [
    "import os\n",
    "import zipfile\n",
    "\n",
    "# Define the folder path and the output zip file path\n",
    "folder_path = '/data/parietal/store2/work/mrenaudi/contrastive-reg-3/results/test on mat ae pretrained for embedding analysis'\n",
    "output_zip_path = os.path.join(os.path.dirname(folder_path), 'embedding_analysis_results.zip')\n",
    "\n",
    "# Create a ZipFile object in write mode\n",
    "with zipfile.ZipFile(output_zip_path, 'w') as zip_file:\n",
    "    # Walk through the directory and add files to the zip\n",
    "    for root, dirs, files in os.walk(folder_path):\n",
    "        for file in files:\n",
    "            file_path = os.path.join(root, file)\n",
    "            relative_path = os.path.relpath(file_path, start=os.path.dirname(folder_path))\n",
    "            zip_file.write(file_path, relative_path)\n",
    "            print(f\"Added {relative_path} to the zip archive\")\n",
    "\n",
    "print(f\"Zip archive created successfully at: {output_zip_path}\")"
   ]
  },
  {
   "cell_type": "code",
   "execution_count": 41,
   "metadata": {},
   "outputs": [
    {
     "ename": "IsADirectoryError",
     "evalue": "[Errno 21] Is a directory: '/data/parietal/store2/work/mrenaudi/contrastive-reg-3/results/test on mat ae pretrained for embedding analysis/recon_mat'",
     "output_type": "error",
     "traceback": [
      "\u001b[0;31m---------------------------------------------------------------------------\u001b[0m",
      "\u001b[0;31mIsADirectoryError\u001b[0m                         Traceback (most recent call last)",
      "Cell \u001b[0;32mIn[41], line 8\u001b[0m\n\u001b[1;32m      6\u001b[0m file_path \u001b[38;5;241m=\u001b[39m os\u001b[38;5;241m.\u001b[39mpath\u001b[38;5;241m.\u001b[39mjoin(output_dir, filename)\n\u001b[1;32m      7\u001b[0m zip_file\u001b[38;5;241m.\u001b[39mwrite(file_path, filename)\n\u001b[0;32m----> 8\u001b[0m \u001b[43mos\u001b[49m\u001b[38;5;241;43m.\u001b[39;49m\u001b[43mremove\u001b[49m\u001b[43m(\u001b[49m\u001b[43mfile_path\u001b[49m\u001b[43m)\u001b[49m\n",
      "\u001b[0;31mIsADirectoryError\u001b[0m: [Errno 21] Is a directory: '/data/parietal/store2/work/mrenaudi/contrastive-reg-3/results/test on mat ae pretrained for embedding analysis/recon_mat'"
     ]
    }
   ],
   "source": [
    "import zipfile\n",
    "zip_output_path = 'plots_exp.zip'\n",
    "output_dir = '/data/parietal/store2/work/mrenaudi/contrastive-reg-3/results/test on mat ae pretrained for embedding analysis'\n",
    "with zipfile.ZipFile(zip_output_path, 'w') as zip_file:\n",
    "    for filename in os.listdir(output_dir):\n",
    "        file_path = os.path.join(output_dir, filename)\n",
    "        zip_file.write(file_path, filename)\n",
    "        os.remove(file_path)"
   ]
  },
  {
   "cell_type": "code",
   "execution_count": 40,
   "metadata": {},
   "outputs": [],
   "source": [
    "from sklearn.neighbors import NearestNeighbors\n",
    "\n",
    "neigh = NearestNeighbors(n_neighbors=50, radius=1, algorithm='brute', metric = 'cosine', p = 1).fit(embeddings_array)\n",
    "distances, neighbors = neigh.kneighbors(embeddings_array, return_distance = True)"
   ]
  },
  {
   "cell_type": "code",
   "execution_count": 41,
   "metadata": {},
   "outputs": [],
   "source": [
    "neighborhood = embeddings.loc[neighbors[0]]\n",
    "neighborhood[\"Distance\"] = distances[0]"
   ]
  },
  {
   "cell_type": "code",
   "execution_count": 43,
   "metadata": {},
   "outputs": [
    {
     "data": {
      "text/html": [
       "<div>\n",
       "<style scoped>\n",
       "    .dataframe tbody tr th:only-of-type {\n",
       "        vertical-align: middle;\n",
       "    }\n",
       "\n",
       "    .dataframe tbody tr th {\n",
       "        vertical-align: top;\n",
       "    }\n",
       "\n",
       "    .dataframe thead th {\n",
       "        text-align: right;\n",
       "    }\n",
       "</style>\n",
       "<table border=\"1\" class=\"dataframe\">\n",
       "  <thead>\n",
       "    <tr style=\"text-align: right;\">\n",
       "      <th></th>\n",
       "      <th>Dim 1</th>\n",
       "      <th>Dim 2</th>\n",
       "      <th>Dim 3</th>\n",
       "      <th>Age</th>\n",
       "      <th>Age Pred</th>\n",
       "      <th>Distance</th>\n",
       "    </tr>\n",
       "  </thead>\n",
       "  <tbody>\n",
       "    <tr>\n",
       "      <th>0</th>\n",
       "      <td>0.889134</td>\n",
       "      <td>-0.445998</td>\n",
       "      <td>0.102599</td>\n",
       "      <td>24.0</td>\n",
       "      <td>17.850168</td>\n",
       "      <td>0.000000</td>\n",
       "    </tr>\n",
       "    <tr>\n",
       "      <th>21</th>\n",
       "      <td>0.894065</td>\n",
       "      <td>-0.433566</td>\n",
       "      <td>0.112550</td>\n",
       "      <td>24.0</td>\n",
       "      <td>18.515646</td>\n",
       "      <td>0.000139</td>\n",
       "    </tr>\n",
       "    <tr>\n",
       "      <th>14</th>\n",
       "      <td>0.897773</td>\n",
       "      <td>-0.428716</td>\n",
       "      <td>0.101028</td>\n",
       "      <td>24.0</td>\n",
       "      <td>19.096056</td>\n",
       "      <td>0.000188</td>\n",
       "    </tr>\n",
       "    <tr>\n",
       "      <th>1</th>\n",
       "      <td>0.903127</td>\n",
       "      <td>-0.423260</td>\n",
       "      <td>0.072202</td>\n",
       "      <td>24.0</td>\n",
       "      <td>20.085260</td>\n",
       "      <td>0.000818</td>\n",
       "    </tr>\n",
       "    <tr>\n",
       "      <th>13</th>\n",
       "      <td>0.926937</td>\n",
       "      <td>-0.367765</td>\n",
       "      <td>0.074415</td>\n",
       "      <td>23.0</td>\n",
       "      <td>23.978592</td>\n",
       "      <td>0.004172</td>\n",
       "    </tr>\n",
       "    <tr>\n",
       "      <th>5</th>\n",
       "      <td>0.829810</td>\n",
       "      <td>-0.551143</td>\n",
       "      <td>0.087497</td>\n",
       "      <td>25.0</td>\n",
       "      <td>12.582992</td>\n",
       "      <td>0.007402</td>\n",
       "    </tr>\n",
       "    <tr>\n",
       "      <th>11</th>\n",
       "      <td>0.917575</td>\n",
       "      <td>-0.395186</td>\n",
       "      <td>-0.043408</td>\n",
       "      <td>21.0</td>\n",
       "      <td>24.057005</td>\n",
       "      <td>0.012354</td>\n",
       "    </tr>\n",
       "    <tr>\n",
       "      <th>19</th>\n",
       "      <td>0.872372</td>\n",
       "      <td>-0.481681</td>\n",
       "      <td>-0.083372</td>\n",
       "      <td>20.0</td>\n",
       "      <td>18.752607</td>\n",
       "      <td>0.018070</td>\n",
       "    </tr>\n",
       "    <tr>\n",
       "      <th>17</th>\n",
       "      <td>0.766516</td>\n",
       "      <td>-0.627047</td>\n",
       "      <td>0.138800</td>\n",
       "      <td>26.0</td>\n",
       "      <td>12.191025</td>\n",
       "      <td>0.024562</td>\n",
       "    </tr>\n",
       "    <tr>\n",
       "      <th>7</th>\n",
       "      <td>0.769656</td>\n",
       "      <td>-0.594917</td>\n",
       "      <td>0.231739</td>\n",
       "      <td>26.0</td>\n",
       "      <td>13.060964</td>\n",
       "      <td>0.026565</td>\n",
       "    </tr>\n",
       "    <tr>\n",
       "      <th>18</th>\n",
       "      <td>0.751354</td>\n",
       "      <td>-0.631499</td>\n",
       "      <td>0.191510</td>\n",
       "      <td>26.0</td>\n",
       "      <td>12.918786</td>\n",
       "      <td>0.030650</td>\n",
       "    </tr>\n",
       "    <tr>\n",
       "      <th>9</th>\n",
       "      <td>0.701786</td>\n",
       "      <td>-0.683294</td>\n",
       "      <td>0.201511</td>\n",
       "      <td>27.0</td>\n",
       "      <td>14.070217</td>\n",
       "      <td>0.050596</td>\n",
       "    </tr>\n",
       "    <tr>\n",
       "      <th>8</th>\n",
       "      <td>0.684058</td>\n",
       "      <td>-0.716736</td>\n",
       "      <td>0.135481</td>\n",
       "      <td>27.0</td>\n",
       "      <td>13.788631</td>\n",
       "      <td>0.058218</td>\n",
       "    </tr>\n",
       "    <tr>\n",
       "      <th>20</th>\n",
       "      <td>0.671522</td>\n",
       "      <td>-0.733229</td>\n",
       "      <td>0.106930</td>\n",
       "      <td>27.0</td>\n",
       "      <td>13.780022</td>\n",
       "      <td>0.064938</td>\n",
       "    </tr>\n",
       "    <tr>\n",
       "      <th>16</th>\n",
       "      <td>0.659697</td>\n",
       "      <td>-0.733746</td>\n",
       "      <td>0.162530</td>\n",
       "      <td>27.0</td>\n",
       "      <td>14.722756</td>\n",
       "      <td>0.069516</td>\n",
       "    </tr>\n",
       "    <tr>\n",
       "      <th>4</th>\n",
       "      <td>0.651375</td>\n",
       "      <td>-0.756794</td>\n",
       "      <td>0.054533</td>\n",
       "      <td>28.0</td>\n",
       "      <td>13.702054</td>\n",
       "      <td>0.077717</td>\n",
       "    </tr>\n",
       "    <tr>\n",
       "      <th>10</th>\n",
       "      <td>0.639204</td>\n",
       "      <td>-0.756297</td>\n",
       "      <td>0.139403</td>\n",
       "      <td>28.0</td>\n",
       "      <td>15.002279</td>\n",
       "      <td>0.080052</td>\n",
       "    </tr>\n",
       "    <tr>\n",
       "      <th>15</th>\n",
       "      <td>0.630308</td>\n",
       "      <td>-0.763012</td>\n",
       "      <td>0.143263</td>\n",
       "      <td>28.0</td>\n",
       "      <td>15.281419</td>\n",
       "      <td>0.084571</td>\n",
       "    </tr>\n",
       "    <tr>\n",
       "      <th>12</th>\n",
       "      <td>0.629203</td>\n",
       "      <td>-0.774471</td>\n",
       "      <td>0.065564</td>\n",
       "      <td>28.0</td>\n",
       "      <td>14.425587</td>\n",
       "      <td>0.088415</td>\n",
       "    </tr>\n",
       "    <tr>\n",
       "      <th>2</th>\n",
       "      <td>0.620993</td>\n",
       "      <td>-0.761255</td>\n",
       "      <td>0.186707</td>\n",
       "      <td>28.0</td>\n",
       "      <td>16.004450</td>\n",
       "      <td>0.089180</td>\n",
       "    </tr>\n",
       "    <tr>\n",
       "      <th>6</th>\n",
       "      <td>0.616321</td>\n",
       "      <td>-0.780864</td>\n",
       "      <td>0.101980</td>\n",
       "      <td>28.0</td>\n",
       "      <td>15.185075</td>\n",
       "      <td>0.093282</td>\n",
       "    </tr>\n",
       "    <tr>\n",
       "      <th>3</th>\n",
       "      <td>0.581285</td>\n",
       "      <td>-0.813646</td>\n",
       "      <td>0.009360</td>\n",
       "      <td>29.0</td>\n",
       "      <td>15.201328</td>\n",
       "      <td>0.119315</td>\n",
       "    </tr>\n",
       "    <tr>\n",
       "      <th>27</th>\n",
       "      <td>0.572517</td>\n",
       "      <td>-0.819857</td>\n",
       "      <td>-0.007657</td>\n",
       "      <td>29.0</td>\n",
       "      <td>15.325825</td>\n",
       "      <td>0.126087</td>\n",
       "    </tr>\n",
       "    <tr>\n",
       "      <th>22</th>\n",
       "      <td>0.562098</td>\n",
       "      <td>-0.825904</td>\n",
       "      <td>0.043924</td>\n",
       "      <td>29.0</td>\n",
       "      <td>16.058210</td>\n",
       "      <td>0.127362</td>\n",
       "    </tr>\n",
       "    <tr>\n",
       "      <th>32</th>\n",
       "      <td>0.489128</td>\n",
       "      <td>-0.870567</td>\n",
       "      <td>-0.053548</td>\n",
       "      <td>30.0</td>\n",
       "      <td>17.663645</td>\n",
       "      <td>0.182323</td>\n",
       "    </tr>\n",
       "    <tr>\n",
       "      <th>55</th>\n",
       "      <td>0.484566</td>\n",
       "      <td>-0.874212</td>\n",
       "      <td>-0.030792</td>\n",
       "      <td>30.0</td>\n",
       "      <td>17.856977</td>\n",
       "      <td>0.182418</td>\n",
       "    </tr>\n",
       "    <tr>\n",
       "      <th>46</th>\n",
       "      <td>0.481028</td>\n",
       "      <td>-0.875824</td>\n",
       "      <td>-0.039311</td>\n",
       "      <td>30.0</td>\n",
       "      <td>17.937878</td>\n",
       "      <td>0.185720</td>\n",
       "    </tr>\n",
       "    <tr>\n",
       "      <th>74</th>\n",
       "      <td>0.696706</td>\n",
       "      <td>-0.499505</td>\n",
       "      <td>-0.514874</td>\n",
       "      <td>40.0</td>\n",
       "      <td>32.719650</td>\n",
       "      <td>0.210582</td>\n",
       "    </tr>\n",
       "    <tr>\n",
       "      <th>76</th>\n",
       "      <td>0.703804</td>\n",
       "      <td>-0.481885</td>\n",
       "      <td>-0.521965</td>\n",
       "      <td>40.0</td>\n",
       "      <td>33.162388</td>\n",
       "      <td>0.212857</td>\n",
       "    </tr>\n",
       "    <tr>\n",
       "      <th>75</th>\n",
       "      <td>0.698352</td>\n",
       "      <td>-0.486236</td>\n",
       "      <td>-0.525242</td>\n",
       "      <td>40.0</td>\n",
       "      <td>33.257350</td>\n",
       "      <td>0.216100</td>\n",
       "    </tr>\n",
       "    <tr>\n",
       "      <th>65</th>\n",
       "      <td>0.696583</td>\n",
       "      <td>-0.485167</td>\n",
       "      <td>-0.528570</td>\n",
       "      <td>40.0</td>\n",
       "      <td>33.390614</td>\n",
       "      <td>0.218492</td>\n",
       "    </tr>\n",
       "    <tr>\n",
       "      <th>108</th>\n",
       "      <td>0.664678</td>\n",
       "      <td>-0.536502</td>\n",
       "      <td>-0.519969</td>\n",
       "      <td>39.0</td>\n",
       "      <td>32.330006</td>\n",
       "      <td>0.223081</td>\n",
       "    </tr>\n",
       "    <tr>\n",
       "      <th>98</th>\n",
       "      <td>0.726823</td>\n",
       "      <td>-0.418035</td>\n",
       "      <td>-0.544954</td>\n",
       "      <td>41.0</td>\n",
       "      <td>34.006012</td>\n",
       "      <td>0.223226</td>\n",
       "    </tr>\n",
       "    <tr>\n",
       "      <th>82</th>\n",
       "      <td>0.686978</td>\n",
       "      <td>-0.493831</td>\n",
       "      <td>-0.533096</td>\n",
       "      <td>40.0</td>\n",
       "      <td>33.495586</td>\n",
       "      <td>0.223632</td>\n",
       "    </tr>\n",
       "    <tr>\n",
       "      <th>101</th>\n",
       "      <td>0.722051</td>\n",
       "      <td>-0.413048</td>\n",
       "      <td>-0.555007</td>\n",
       "      <td>41.0</td>\n",
       "      <td>34.270054</td>\n",
       "      <td>0.230724</td>\n",
       "    </tr>\n",
       "    <tr>\n",
       "      <th>104</th>\n",
       "      <td>0.685051</td>\n",
       "      <td>-0.478677</td>\n",
       "      <td>-0.549157</td>\n",
       "      <td>40.0</td>\n",
       "      <td>34.150510</td>\n",
       "      <td>0.233752</td>\n",
       "    </tr>\n",
       "    <tr>\n",
       "      <th>63</th>\n",
       "      <td>0.696983</td>\n",
       "      <td>-0.450700</td>\n",
       "      <td>-0.557748</td>\n",
       "      <td>41.0</td>\n",
       "      <td>34.451145</td>\n",
       "      <td>0.236501</td>\n",
       "    </tr>\n",
       "    <tr>\n",
       "      <th>97</th>\n",
       "      <td>0.679821</td>\n",
       "      <td>-0.483345</td>\n",
       "      <td>-0.551563</td>\n",
       "      <td>40.0</td>\n",
       "      <td>34.211178</td>\n",
       "      <td>0.236567</td>\n",
       "    </tr>\n",
       "    <tr>\n",
       "      <th>79</th>\n",
       "      <td>0.670075</td>\n",
       "      <td>-0.499335</td>\n",
       "      <td>-0.549240</td>\n",
       "      <td>40.0</td>\n",
       "      <td>34.035320</td>\n",
       "      <td>0.237862</td>\n",
       "    </tr>\n",
       "    <tr>\n",
       "      <th>87</th>\n",
       "      <td>0.700665</td>\n",
       "      <td>-0.437901</td>\n",
       "      <td>-0.563304</td>\n",
       "      <td>41.0</td>\n",
       "      <td>34.585518</td>\n",
       "      <td>0.239506</td>\n",
       "    </tr>\n",
       "    <tr>\n",
       "      <th>77</th>\n",
       "      <td>0.638644</td>\n",
       "      <td>-0.550658</td>\n",
       "      <td>-0.537503</td>\n",
       "      <td>39.0</td>\n",
       "      <td>32.768604</td>\n",
       "      <td>0.241715</td>\n",
       "    </tr>\n",
       "    <tr>\n",
       "      <th>56</th>\n",
       "      <td>0.406303</td>\n",
       "      <td>-0.906901</td>\n",
       "      <td>-0.111575</td>\n",
       "      <td>31.0</td>\n",
       "      <td>20.250732</td>\n",
       "      <td>0.245714</td>\n",
       "    </tr>\n",
       "    <tr>\n",
       "      <th>78</th>\n",
       "      <td>0.749054</td>\n",
       "      <td>-0.324997</td>\n",
       "      <td>-0.577316</td>\n",
       "      <td>42.0</td>\n",
       "      <td>34.150654</td>\n",
       "      <td>0.248274</td>\n",
       "    </tr>\n",
       "    <tr>\n",
       "      <th>100</th>\n",
       "      <td>0.678583</td>\n",
       "      <td>-0.463400</td>\n",
       "      <td>-0.569899</td>\n",
       "      <td>40.0</td>\n",
       "      <td>34.810036</td>\n",
       "      <td>0.248444</td>\n",
       "    </tr>\n",
       "    <tr>\n",
       "      <th>86</th>\n",
       "      <td>0.744150</td>\n",
       "      <td>-0.331926</td>\n",
       "      <td>-0.579712</td>\n",
       "      <td>42.0</td>\n",
       "      <td>34.245132</td>\n",
       "      <td>0.249790</td>\n",
       "    </tr>\n",
       "    <tr>\n",
       "      <th>106</th>\n",
       "      <td>0.767662</td>\n",
       "      <td>-0.277056</td>\n",
       "      <td>-0.577871</td>\n",
       "      <td>42.0</td>\n",
       "      <td>33.878647</td>\n",
       "      <td>0.253168</td>\n",
       "    </tr>\n",
       "    <tr>\n",
       "      <th>31</th>\n",
       "      <td>0.405374</td>\n",
       "      <td>-0.900752</td>\n",
       "      <td>-0.155942</td>\n",
       "      <td>31.0</td>\n",
       "      <td>20.575457</td>\n",
       "      <td>0.253834</td>\n",
       "    </tr>\n",
       "    <tr>\n",
       "      <th>91</th>\n",
       "      <td>0.813861</td>\n",
       "      <td>-0.174507</td>\n",
       "      <td>-0.554236</td>\n",
       "      <td>43.0</td>\n",
       "      <td>33.445710</td>\n",
       "      <td>0.255402</td>\n",
       "    </tr>\n",
       "    <tr>\n",
       "      <th>96</th>\n",
       "      <td>0.673143</td>\n",
       "      <td>-0.457709</td>\n",
       "      <td>-0.580845</td>\n",
       "      <td>40.0</td>\n",
       "      <td>35.101154</td>\n",
       "      <td>0.256942</td>\n",
       "    </tr>\n",
       "    <tr>\n",
       "      <th>107</th>\n",
       "      <td>0.729236</td>\n",
       "      <td>-0.341622</td>\n",
       "      <td>-0.592882</td>\n",
       "      <td>42.0</td>\n",
       "      <td>34.558964</td>\n",
       "      <td>0.260077</td>\n",
       "    </tr>\n",
       "  </tbody>\n",
       "</table>\n",
       "</div>"
      ],
      "text/plain": [
       "        Dim 1     Dim 2     Dim 3   Age   Age Pred  Distance\n",
       "0    0.889134 -0.445998  0.102599  24.0  17.850168  0.000000\n",
       "21   0.894065 -0.433566  0.112550  24.0  18.515646  0.000139\n",
       "14   0.897773 -0.428716  0.101028  24.0  19.096056  0.000188\n",
       "1    0.903127 -0.423260  0.072202  24.0  20.085260  0.000818\n",
       "13   0.926937 -0.367765  0.074415  23.0  23.978592  0.004172\n",
       "5    0.829810 -0.551143  0.087497  25.0  12.582992  0.007402\n",
       "11   0.917575 -0.395186 -0.043408  21.0  24.057005  0.012354\n",
       "19   0.872372 -0.481681 -0.083372  20.0  18.752607  0.018070\n",
       "17   0.766516 -0.627047  0.138800  26.0  12.191025  0.024562\n",
       "7    0.769656 -0.594917  0.231739  26.0  13.060964  0.026565\n",
       "18   0.751354 -0.631499  0.191510  26.0  12.918786  0.030650\n",
       "9    0.701786 -0.683294  0.201511  27.0  14.070217  0.050596\n",
       "8    0.684058 -0.716736  0.135481  27.0  13.788631  0.058218\n",
       "20   0.671522 -0.733229  0.106930  27.0  13.780022  0.064938\n",
       "16   0.659697 -0.733746  0.162530  27.0  14.722756  0.069516\n",
       "4    0.651375 -0.756794  0.054533  28.0  13.702054  0.077717\n",
       "10   0.639204 -0.756297  0.139403  28.0  15.002279  0.080052\n",
       "15   0.630308 -0.763012  0.143263  28.0  15.281419  0.084571\n",
       "12   0.629203 -0.774471  0.065564  28.0  14.425587  0.088415\n",
       "2    0.620993 -0.761255  0.186707  28.0  16.004450  0.089180\n",
       "6    0.616321 -0.780864  0.101980  28.0  15.185075  0.093282\n",
       "3    0.581285 -0.813646  0.009360  29.0  15.201328  0.119315\n",
       "27   0.572517 -0.819857 -0.007657  29.0  15.325825  0.126087\n",
       "22   0.562098 -0.825904  0.043924  29.0  16.058210  0.127362\n",
       "32   0.489128 -0.870567 -0.053548  30.0  17.663645  0.182323\n",
       "55   0.484566 -0.874212 -0.030792  30.0  17.856977  0.182418\n",
       "46   0.481028 -0.875824 -0.039311  30.0  17.937878  0.185720\n",
       "74   0.696706 -0.499505 -0.514874  40.0  32.719650  0.210582\n",
       "76   0.703804 -0.481885 -0.521965  40.0  33.162388  0.212857\n",
       "75   0.698352 -0.486236 -0.525242  40.0  33.257350  0.216100\n",
       "65   0.696583 -0.485167 -0.528570  40.0  33.390614  0.218492\n",
       "108  0.664678 -0.536502 -0.519969  39.0  32.330006  0.223081\n",
       "98   0.726823 -0.418035 -0.544954  41.0  34.006012  0.223226\n",
       "82   0.686978 -0.493831 -0.533096  40.0  33.495586  0.223632\n",
       "101  0.722051 -0.413048 -0.555007  41.0  34.270054  0.230724\n",
       "104  0.685051 -0.478677 -0.549157  40.0  34.150510  0.233752\n",
       "63   0.696983 -0.450700 -0.557748  41.0  34.451145  0.236501\n",
       "97   0.679821 -0.483345 -0.551563  40.0  34.211178  0.236567\n",
       "79   0.670075 -0.499335 -0.549240  40.0  34.035320  0.237862\n",
       "87   0.700665 -0.437901 -0.563304  41.0  34.585518  0.239506\n",
       "77   0.638644 -0.550658 -0.537503  39.0  32.768604  0.241715\n",
       "56   0.406303 -0.906901 -0.111575  31.0  20.250732  0.245714\n",
       "78   0.749054 -0.324997 -0.577316  42.0  34.150654  0.248274\n",
       "100  0.678583 -0.463400 -0.569899  40.0  34.810036  0.248444\n",
       "86   0.744150 -0.331926 -0.579712  42.0  34.245132  0.249790\n",
       "106  0.767662 -0.277056 -0.577871  42.0  33.878647  0.253168\n",
       "31   0.405374 -0.900752 -0.155942  31.0  20.575457  0.253834\n",
       "91   0.813861 -0.174507 -0.554236  43.0  33.445710  0.255402\n",
       "96   0.673143 -0.457709 -0.580845  40.0  35.101154  0.256942\n",
       "107  0.729236 -0.341622 -0.592882  42.0  34.558964  0.260077"
      ]
     },
     "execution_count": 43,
     "metadata": {},
     "output_type": "execute_result"
    }
   ],
   "source": [
    "neighborhood"
   ]
  },
  {
   "cell_type": "code",
   "execution_count": 51,
   "metadata": {},
   "outputs": [],
   "source": [
    "mape = pd.read_csv(\"/data/parietal/store2/work/mrenaudi/contrastive-reg-3/results/test on mat ae pretrained for embedding analysis with slight change in direction reg/mape.csv\")"
   ]
  },
  {
   "cell_type": "code",
   "execution_count": 52,
   "metadata": {},
   "outputs": [
    {
     "data": {
      "text/html": [
       "<div>\n",
       "<style scoped>\n",
       "    .dataframe tbody tr th:only-of-type {\n",
       "        vertical-align: middle;\n",
       "    }\n",
       "\n",
       "    .dataframe tbody tr th {\n",
       "        vertical-align: top;\n",
       "    }\n",
       "\n",
       "    .dataframe thead th {\n",
       "        text-align: right;\n",
       "    }\n",
       "</style>\n",
       "<table border=\"1\" class=\"dataframe\">\n",
       "  <thead>\n",
       "    <tr style=\"text-align: right;\">\n",
       "      <th></th>\n",
       "      <th>train_ratio</th>\n",
       "      <th>model_run</th>\n",
       "      <th>dataset</th>\n",
       "      <th>age</th>\n",
       "    </tr>\n",
       "  </thead>\n",
       "  <tbody>\n",
       "    <tr>\n",
       "      <th>0</th>\n",
       "      <td>1.0</td>\n",
       "      <td>0</td>\n",
       "      <td>test</td>\n",
       "      <td>0.272827</td>\n",
       "    </tr>\n",
       "    <tr>\n",
       "      <th>1</th>\n",
       "      <td>1.0</td>\n",
       "      <td>0</td>\n",
       "      <td>train</td>\n",
       "      <td>0.209919</td>\n",
       "    </tr>\n",
       "  </tbody>\n",
       "</table>\n",
       "</div>"
      ],
      "text/plain": [
       "   train_ratio  model_run dataset       age\n",
       "0          1.0          0    test  0.272827\n",
       "1          1.0          0   train  0.209919"
      ]
     },
     "execution_count": 52,
     "metadata": {},
     "output_type": "execute_result"
    }
   ],
   "source": [
    "mape"
   ]
  },
  {
   "cell_type": "code",
   "execution_count": 10,
   "metadata": {},
   "outputs": [
    {
     "name": "stderr",
     "output_type": "stream",
     "text": [
      "100%|██████████| 246/246 [00:04<00:00, 51.51it/s]\n"
     ]
    }
   ],
   "source": [
    "from nearest_neighbor import nn\n",
    "\n",
    "nn(exp_name, dataset, 10)"
   ]
  },
  {
   "cell_type": "code",
   "execution_count": 11,
   "metadata": {},
   "outputs": [
    {
     "ename": "FileNotFoundError",
     "evalue": "[Errno 2] No such file or directory: './results/test on mat ae pretrained for embedding analysis/embeddings/neigh_conn_var_ddist_meantrain.npy'",
     "output_type": "error",
     "traceback": [
      "\u001b[0;31m---------------------------------------------------------------------------\u001b[0m",
      "\u001b[0;31mFileNotFoundError\u001b[0m                         Traceback (most recent call last)",
      "Cell \u001b[0;32mIn[11], line 1\u001b[0m\n\u001b[0;32m----> 1\u001b[0m neigh_conn_var_ddist \u001b[38;5;241m=\u001b[39m \u001b[43mnp\u001b[49m\u001b[38;5;241;43m.\u001b[39;49m\u001b[43mload\u001b[49m\u001b[43m(\u001b[49m\u001b[38;5;124;43mf\u001b[39;49m\u001b[38;5;124;43m'\u001b[39;49m\u001b[38;5;132;43;01m{\u001b[39;49;00m\u001b[43mexp_dir\u001b[49m\u001b[38;5;132;43;01m}\u001b[39;49;00m\u001b[38;5;124;43m/embeddings/neigh_conn_var_ddist_mean\u001b[39;49m\u001b[38;5;132;43;01m{\u001b[39;49;00m\u001b[43mdataset\u001b[49m\u001b[38;5;132;43;01m}\u001b[39;49;00m\u001b[38;5;124;43m.npy\u001b[39;49m\u001b[38;5;124;43m'\u001b[39;49m\u001b[43m)\u001b[49m\n",
      "File \u001b[0;32m~/.local/miniconda3/lib/python3.12/site-packages/numpy/lib/npyio.py:427\u001b[0m, in \u001b[0;36mload\u001b[0;34m(file, mmap_mode, allow_pickle, fix_imports, encoding, max_header_size)\u001b[0m\n\u001b[1;32m    425\u001b[0m     own_fid \u001b[38;5;241m=\u001b[39m \u001b[38;5;28;01mFalse\u001b[39;00m\n\u001b[1;32m    426\u001b[0m \u001b[38;5;28;01melse\u001b[39;00m:\n\u001b[0;32m--> 427\u001b[0m     fid \u001b[38;5;241m=\u001b[39m stack\u001b[38;5;241m.\u001b[39menter_context(\u001b[38;5;28;43mopen\u001b[39;49m\u001b[43m(\u001b[49m\u001b[43mos_fspath\u001b[49m\u001b[43m(\u001b[49m\u001b[43mfile\u001b[49m\u001b[43m)\u001b[49m\u001b[43m,\u001b[49m\u001b[43m \u001b[49m\u001b[38;5;124;43m\"\u001b[39;49m\u001b[38;5;124;43mrb\u001b[39;49m\u001b[38;5;124;43m\"\u001b[39;49m\u001b[43m)\u001b[49m)\n\u001b[1;32m    428\u001b[0m     own_fid \u001b[38;5;241m=\u001b[39m \u001b[38;5;28;01mTrue\u001b[39;00m\n\u001b[1;32m    430\u001b[0m \u001b[38;5;66;03m# Code to distinguish from NumPy binary files and pickles.\u001b[39;00m\n",
      "\u001b[0;31mFileNotFoundError\u001b[0m: [Errno 2] No such file or directory: './results/test on mat ae pretrained for embedding analysis/embeddings/neigh_conn_var_ddist_meantrain.npy'"
     ]
    }
   ],
   "source": [
    "neigh_conn_var_ddist = np.load(f'{exp_dir}/embeddings/neigh_conn_var_ddist_mean{dataset}.npy')"
   ]
  },
  {
   "cell_type": "code",
   "execution_count": 12,
   "metadata": {},
   "outputs": [],
   "source": [
    "neigh_dist = np.load(\"/data/parietal/store2/work/mrenaudi/contrastive-reg-3/results/test on mat ae pretrained for embedding analysis/embeddings/neigh_conn_dvar_ddist_mean_train.npy\")"
   ]
  },
  {
   "cell_type": "code",
   "execution_count": 13,
   "metadata": {},
   "outputs": [
    {
     "data": {
      "text/plain": [
       "array([[0., 0., 0., ..., 0., 0., 0.],\n",
       "       [0., 0., 0., ..., 0., 0., 0.],\n",
       "       [0., 0., 0., ..., 0., 0., 0.],\n",
       "       ...,\n",
       "       [0., 0., 0., ..., 0., 0., 0.],\n",
       "       [0., 0., 0., ..., 0., 0., 0.],\n",
       "       [0., 0., 0., ..., 0., 0., 0.]], dtype=float32)"
      ]
     },
     "execution_count": 13,
     "metadata": {},
     "output_type": "execute_result"
    }
   ],
   "source": [
    "neigh_dist"
   ]
  },
  {
   "cell_type": "code",
   "execution_count": 14,
   "metadata": {},
   "outputs": [],
   "source": [
    "neigh_var = np.load(\"/data/parietal/store2/work/mrenaudi/contrastive-reg-3/results/test on mat ae pretrained for embedding analysis/embeddings/neigh_conn_var_train.npy\")"
   ]
  },
  {
   "cell_type": "code",
   "execution_count": 15,
   "metadata": {},
   "outputs": [
    {
     "data": {
      "text/plain": [
       "array([[[0.        , 0.04053221, 0.04427461, ..., 0.02934115,\n",
       "         0.01976823, 0.02980244],\n",
       "        [0.04053221, 0.        , 0.03764337, ..., 0.04981095,\n",
       "         0.03340898, 0.01994169],\n",
       "        [0.04427461, 0.03764337, 0.        , ..., 0.0482802 ,\n",
       "         0.01927197, 0.02308794],\n",
       "        ...,\n",
       "        [0.02934115, 0.04981095, 0.0482802 , ..., 0.        ,\n",
       "         0.02466778, 0.02837709],\n",
       "        [0.01976823, 0.03340898, 0.01927197, ..., 0.02466778,\n",
       "         0.        , 0.01687435],\n",
       "        [0.02980244, 0.01994169, 0.02308794, ..., 0.02837709,\n",
       "         0.01687435, 0.        ]],\n",
       "\n",
       "       [[0.        , 0.03250487, 0.04361554, ..., 0.02588849,\n",
       "         0.0165376 , 0.02272109],\n",
       "        [0.03250487, 0.        , 0.03146874, ..., 0.04627553,\n",
       "         0.03475896, 0.01956063],\n",
       "        [0.04361554, 0.03146874, 0.        , ..., 0.04629829,\n",
       "         0.01896812, 0.0213715 ],\n",
       "        ...,\n",
       "        [0.02588849, 0.04627553, 0.04629829, ..., 0.        ,\n",
       "         0.0242487 , 0.02309618],\n",
       "        [0.0165376 , 0.03475896, 0.01896812, ..., 0.0242487 ,\n",
       "         0.        , 0.01744701],\n",
       "        [0.02272109, 0.01956063, 0.0213715 , ..., 0.02309618,\n",
       "         0.01744701, 0.        ]],\n",
       "\n",
       "       [[0.        , 0.03359549, 0.02458005, ..., 0.04307514,\n",
       "         0.0500927 , 0.021143  ],\n",
       "        [0.03359549, 0.        , 0.0169596 , ..., 0.03074575,\n",
       "         0.02621479, 0.01282574],\n",
       "        [0.02458005, 0.0169596 , 0.        , ..., 0.07571496,\n",
       "         0.03774876, 0.0314465 ],\n",
       "        ...,\n",
       "        [0.04307514, 0.03074575, 0.07571496, ..., 0.        ,\n",
       "         0.03387531, 0.02541553],\n",
       "        [0.0500927 , 0.02621479, 0.03774876, ..., 0.03387531,\n",
       "         0.        , 0.02843417],\n",
       "        [0.021143  , 0.01282574, 0.0314465 , ..., 0.02541553,\n",
       "         0.02843417, 0.        ]],\n",
       "\n",
       "       ...,\n",
       "\n",
       "       [[0.        , 0.03164986, 0.05014263, ..., 0.04236137,\n",
       "         0.01910291, 0.01393604],\n",
       "        [0.03164986, 0.        , 0.04411318, ..., 0.03132064,\n",
       "         0.01225623, 0.03539195],\n",
       "        [0.05014263, 0.04411318, 0.        , ..., 0.03810593,\n",
       "         0.02537799, 0.0305522 ],\n",
       "        ...,\n",
       "        [0.04236137, 0.03132064, 0.03810593, ..., 0.        ,\n",
       "         0.04330059, 0.01985801],\n",
       "        [0.01910291, 0.01225623, 0.02537799, ..., 0.04330059,\n",
       "         0.        , 0.02388998],\n",
       "        [0.01393604, 0.03539195, 0.0305522 , ..., 0.01985801,\n",
       "         0.02388998, 0.        ]],\n",
       "\n",
       "       [[0.        , 0.03961979, 0.04899126, ..., 0.05058456,\n",
       "         0.02581355, 0.01166689],\n",
       "        [0.03961979, 0.        , 0.05087102, ..., 0.03276611,\n",
       "         0.02128242, 0.03913652],\n",
       "        [0.04899126, 0.05087102, 0.        , ..., 0.03509985,\n",
       "         0.03684081, 0.03608894],\n",
       "        ...,\n",
       "        [0.05058456, 0.03276611, 0.03509985, ..., 0.        ,\n",
       "         0.04434112, 0.03560938],\n",
       "        [0.02581355, 0.02128242, 0.03684081, ..., 0.04434112,\n",
       "         0.        , 0.03359818],\n",
       "        [0.01166689, 0.03913652, 0.03608894, ..., 0.03560938,\n",
       "         0.03359818, 0.        ]],\n",
       "\n",
       "       [[0.        , 0.01522117, 0.05470244, ..., 0.03860507,\n",
       "         0.01486789, 0.01386557],\n",
       "        [0.01522117, 0.        , 0.03684682, ..., 0.02743004,\n",
       "         0.01040693, 0.01756955],\n",
       "        [0.05470244, 0.03684682, 0.        , ..., 0.04881965,\n",
       "         0.04891856, 0.05774871],\n",
       "        ...,\n",
       "        [0.03860507, 0.02743004, 0.04881965, ..., 0.        ,\n",
       "         0.04321514, 0.01982059],\n",
       "        [0.01486789, 0.01040693, 0.04891856, ..., 0.04321514,\n",
       "         0.        , 0.02598443],\n",
       "        [0.01386557, 0.01756955, 0.05774871, ..., 0.01982059,\n",
       "         0.02598443, 0.        ]]], dtype=float32)"
      ]
     },
     "execution_count": 15,
     "metadata": {},
     "output_type": "execute_result"
    }
   ],
   "source": [
    "neigh_var"
   ]
  },
  {
   "cell_type": "code",
   "execution_count": null,
   "metadata": {},
   "outputs": [],
   "source": []
  }
 ],
 "metadata": {
  "kernelspec": {
   "display_name": "base",
   "language": "python",
   "name": "python3"
  },
  "language_info": {
   "codemirror_mode": {
    "name": "ipython",
    "version": 3
   },
   "file_extension": ".py",
   "mimetype": "text/x-python",
   "name": "python",
   "nbconvert_exporter": "python",
   "pygments_lexer": "ipython3",
   "version": "3.12.2"
  }
 },
 "nbformat": 4,
 "nbformat_minor": 2
}
