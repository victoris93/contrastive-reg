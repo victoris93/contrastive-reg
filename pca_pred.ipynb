{
 "cells": [
  {
   "cell_type": "code",
   "execution_count": 1,
   "id": "d4a44e60",
   "metadata": {},
   "outputs": [],
   "source": [
    "import matplotlib.pyplot as plt\n",
    "import numpy as np\n",
    "from tqdm import tqdm\n",
    "from nilearn.connectome import sym_matrix_to_vec\n",
    "import pandas as pd\n",
    "import pingouin as pg\n",
    "import seaborn as sns\n",
    "from sklearn.decomposition import PCA, FastICA\n",
    "from sklearn.preprocessing import StandardScaler\n",
    "from sklearn.pipeline import Pipeline\n",
    "from sklearn.linear_model import Ridge\n",
    "import xarray as xr"
   ]
  },
  {
   "cell_type": "code",
   "execution_count": 2,
   "id": "7dc59769",
   "metadata": {},
   "outputs": [],
   "source": [
    "target_dict_hcp = {\n",
    "    \"PicVocab_AgeAdj\": \"NIHTB Vocabulary (picture matching)\",\n",
    "    \"ReadEng_AgeAdj\": \"NIHTB Reading (pronunciation)\",\n",
    "    \"WM_Task_2bk_Acc\": \"Working Memory (2-back)\",\n",
    "    \"Relational_Task_Acc\": \"Relational processing\",\n",
    "    \"Language_Task_Story_Acc\": \"Story comprehension\",\n",
    "    \"PMAT24_A_CR\": \"Fluid Intelligence (PMAT)\",\n",
    "    \"VSPLOT_TC\": \"Spatial orientation\",  #???\n",
    "    \"CardSort_AgeAdj\": \"NIHTB Cognitive Flexibility (DCCS)\",\n",
    "    \"PMAT24_A_CR\": \"Fluid Intelligence (Penn Progressive Matrices)\",\n",
    "    \"ProcSpeed_AgeAdj\": \"NIHTB Processing Speed\",\n",
    "    \"CogFluidComp_AgeAdj\":\"NIHTB Cognition Fluid\",\n",
    "    \"CogTotalComp_AgeAdj\":\"NIHTB Cognition Total\",\n",
    "    \"CogCrystalComp_AgeAdj\":\"NIHTB Cognition Crystallized\",\n",
    "    \"ListSort_AgeAdj\": \"NIHTB Working Memory (list sorting)\",\n",
    "    \"Language_Task_Math_Acc\": \"Arithmetic\", # ???\n",
    "    \"PicSeq_AgeAdj\": \"NIHTB Visual Episodic Memory\",\n",
    "    \"SCPT_SPEC\": \"Sustained attention (Spec.)\",\n",
    "    \"Flanker_AgeAdj\": \"NIHTB Inhibition (Flanker Task)\",\n",
    "\n",
    "    \"AngAffect_Unadj\": \"NIHTB Anger\",\n",
    "    \"AngHostil_Unadj\": \"NIHTB Hostility & Cynicism\",\n",
    "    \"AngAggr_Unadj\": \"NIHTB Physical Aggression\",\n",
    "    \"FearAffect_Unadj\": \"NIHTB Fear\",\n",
    "    \"FearSomat_Unadj\": \"NIHTB Somatic Arousal\",\n",
    "    \"Sadness_Unadj\": \"NIHTB Sadness\",\n",
    "    \"LifeSatisf_Unadj\": \"NIHTB Life Satisfaction\",\n",
    "    \"MeanPurp_Unadj\": \"NIHTB Meaning and Purpose\",\n",
    "    \"PosAffect_Unadj\": \"NIHTB Positive Affect\",\n",
    "    \"Friendship_Unadj\": \"NIHTB Friendship\",\n",
    "    \"Loneliness_Unadj\": \"NIHTB Loneliness\",\n",
    "    \"PercHostil_Unadj\": \"NIHTB Perceived Hostility\",\n",
    "    \"PercReject_Unadj\": \"NIHTB Perceived Rejection\",\n",
    "    \"EmotSupp_Unadj\": \"NIHTB Emotional Support\",\n",
    "    \"InstruSupp_Unadj\": \"NIHTB Instrumental Support\",\n",
    "    \"PercStress_Unadj\": \"NIHTB Perceived Stress\",\n",
    "    \"SelfEff_Unadj\": \"NIHTB Self-Efficacy\",\n",
    "    \n",
    "    \"Emotion_Task_Face_Acc\": \"Emotional Face Matching\",\n",
    "    \"IWRD_TOT\": \"Verbal Episodic Memory\",\n",
    "    \"Dexterity_AgeAdj\": \"Manual dexterity\",\n",
    "    \"ER40_CR\": \"Emotion recognition - Total\",\n",
    "    \"ER40SAD\": \"Emotion recognition - Sad\",\n",
    "    \"ER40ANG\": \"Emotion recognition - Angry\",\n",
    "    ### SOCIAL COGNITION - INTERACTION ??????\n",
    "    \"ER40NOE\": \"Emotion recognition - Neutral\",\n",
    "    \"MMSE_Score\": \"Cognitive status (MMSE)\",\n",
    "    \"ER40HAP\": \"Emotion recognition - Happy\",\n",
    "    \"SCPT_SEN\": \"Sustained attention (Sens.)\",\n",
    "    \"Social_Task_Perc_Random\": \"Social cognition (Random)\",\n",
    "    \"ER40FEAR\": \"Emotion recognition - Fear\"\n",
    "}\n",
    "\n",
    "target_dict_abcd = {\n",
    "    'cbcl_scr_syn_anxdep_r': 'CBCL Anxiety/Depression',\n",
    "    'cbcl_scr_syn_anxdep_t': 'CBCL Anxiety/Depression',\n",
    "    'cbcl_scr_syn_withdep_r': 'CBCL Withdrawn/Depressed',\n",
    "    'cbcl_scr_syn_withdep_t': 'CBCL Withdrawn/Depressed',\n",
    "    'cbcl_scr_syn_somatic_r': 'CBCL Somatic Complaints',\n",
    "    'cbcl_scr_syn_somatic_t': 'CBCL Somatic Complaints',\n",
    "    'cbcl_scr_syn_social_r': 'CBCL Social Problems',\n",
    "    'cbcl_scr_syn_social_t': 'CBCL Social Problems',\n",
    "    'cbcl_scr_syn_thought_r': 'CBCL Thought Problems',\n",
    "    'cbcl_scr_syn_thought_t': 'CBCL Thought Problems',\n",
    "    'cbcl_scr_syn_attention_r': 'CBCL Attention Problems',\n",
    "    'cbcl_scr_syn_attention_t': 'CBCL Attention Problems',\n",
    "    'cbcl_scr_syn_rulebreak_r': 'CBCL Rule-Breaking Behavior',\n",
    "    'cbcl_scr_syn_rulebreak_t': 'CBCL Rule-Breaking Behavior',   \n",
    "    'cbcl_scr_syn_aggressive_r': 'CBCL Aggressive Behavior',\n",
    "    'cbcl_scr_syn_aggressive_t': 'CBCL Aggressive Behavior',\n",
    "    'cbcl_scr_syn_internal_r': 'CBCL Internalizing Problems',\n",
    "    'cbcl_scr_syn_internal_t': 'CBCL Internalizing Problems',\n",
    "    'cbcl_scr_syn_external_r': 'CBCL Externalizing Problems',\n",
    "    'cbcl_scr_syn_external_t': 'CBCL Externalizing Problems',\n",
    "    'cbcl_scr_syn_totprob_r': 'CBCL Total Problems',\n",
    "    'cbcl_scr_syn_totprob_t': 'CBCL Total Problems',\n",
    "    'cbcl_scr_07_sct_r': 'CBCL Social Competence',\n",
    "    'cbcl_scr_07_sct_t': 'CBCL Social Competence',\n",
    "    'cbcl_scr_07_ocd_r': 'CBCL Obsessive-Compulsive Disorder',\n",
    "    'cbcl_scr_07_ocd_t': 'CBCL Obsessive-Compulsive Disorder',\n",
    "    'cbcl_scr_07_stress_r': 'CBCL Stress, raw value',\n",
    "    'cbcl_scr_07_stress_t': 'CBCL Stress, t value',\n",
    "    'nihtbx_picvocab_uncorrected': \"Vocabulary (picture matching), uncorrected\",\n",
    "    'nihtbx_flanker_uncorrected': \"Inhibition (Flanker Task), uncorrected\",\n",
    "    'nihtbx_list_uncorrected': \"Working Memory (list sorting), uncorrected\",\n",
    "    'nihtbx_cardsort_uncorrected': \"Cognitive Flexibility (DCCS), uncorrected\",\n",
    "    'nihtbx_pattern_uncorrected': \"Processing Speed, uncorrected\",\n",
    "    'nihtbx_reading_uncorrected': \"Reading (pronunciation), uncorrected\",\n",
    "    'nihtbx_fluidcomp_uncorrected': \"Cognition Fluid Composite Score, uncorrected\",\n",
    "    'nihtbx_cryst_uncorrected': \"Cognition Crystallized Composite Score, uncorrected\",\n",
    "    'nihtbx_totalcomp_uncorrected': \"Cognition Total Composite Score, uncorrected\",\n",
    "    'pea_wiscv_trs': \"WISC-V Total Raw Score\",\n",
    "    'pea_wiscv_tss': \"WISC-V Total Score\",\n",
    "    'nihtbx_picvocab_agecorrected': \"NIHTB Vocabulary (picture matching)\",\n",
    "    'nihtbx_flanker_agecorrected': \"NIHTB Inhibition (Flanker Task)\",\n",
    "    'nihtbx_list_agecorrected': \"NIHTB Working Memory (list sorting)\",\n",
    "    'nihtbx_cardsort_agecorrected': \"NIHTB Cognitive Flexibility (DCCS)\",\n",
    "    'nihtbx_pattern_agecorrected': \"NIHTB Processing Speed\",\n",
    "    'nihtbx_picture_agecorrected': \"NIHTB Visual Episodic Memory\",\n",
    "    'nihtbx_reading_agecorrected': \"NIHTB Reading (pronunciation)\",\n",
    "    'nihtbx_fluidcomp_agecorrected': \"NIHTB Cognition Fluid\",\n",
    "    'nihtbx_cryst_agecorrected': \"NIHTB Cognition Crystallized\",\n",
    "    'nihtbx_totalcomp_agecorrected': \"NIHTB Cognition Total\",\n",
    "    'nihtbx_picture_uncorrected': \"NIHTB Visual Episodic Memory, uncorrected\",\n",
    "}"
   ]
  },
  {
   "cell_type": "code",
   "execution_count": 3,
   "id": "98b7e351",
   "metadata": {},
   "outputs": [],
   "source": [
    "def custom_corr(y, y_pred):\n",
    "    corr = float(pg.corr(y, y_pred, correction = 'bicor')['r'].values)\n",
    "    return corr"
   ]
  },
  {
   "cell_type": "markdown",
   "id": "de78777d",
   "metadata": {},
   "source": [
    "### 1. PCA + Ridge"
   ]
  },
  {
   "cell_type": "code",
   "execution_count": null,
   "id": "874c53f9",
   "metadata": {},
   "outputs": [],
   "source": [
    "dataset_name = \"abcd\"\n",
    "domain = \"cog\"\n",
    "mode = \"shuffle\"\n",
    "prediction_type = \"multivar\""
   ]
  },
  {
   "cell_type": "code",
   "execution_count": 17,
   "id": "388da22f",
   "metadata": {},
   "outputs": [],
   "source": [
    "if dataset_name == \"hcp\":\n",
    "    target_dict = target_dict_hcp\n",
    "else:\n",
    "    target_dict = target_dict_abcd\n",
    "    \n",
    "dataset_path = f\"data/{dataset_name}_400parcels.nc\"\n",
    "\n",
    "if mode ==\"cv\":\n",
    "    exp_name = f\"5foldcv_redmat_enc_{dataset_name}_{prediction_type}_{domain}\"\n",
    "    test_type = \"validation\"\n",
    "    run_type = \"fold\"\n",
    "    runs = np.arange(5)\n",
    "else:\n",
    "    exp_name = f\"shuffle_redmat_enc_{dataset_name}_{prediction_type}_{domain}\"\n",
    "    test_type = \"test\"\n",
    "    run_type = \"seed\"\n",
    "    runs = [1001, 42, 54, 90, 101, 80, 422, 142, 128, 340]\n",
    "    \n",
    "root = '.'\n",
    "exp_dir = f\"{root}/results/{exp_name}\"\n",
    "predictions = pd.read_csv(f'{exp_dir}/pred_results.csv')\n",
    "\n",
    "dataset = xr.open_dataset(dataset_path)\n",
    "\n",
    "matrices = dataset.matrices.values\n",
    "indices = np.arange(len(matrices))\n"
   ]
  },
  {
   "cell_type": "code",
   "execution_count": 18,
   "id": "af0cb175",
   "metadata": {},
   "outputs": [],
   "source": [
    "vec_matrices = sym_matrix_to_vec(matrices, discard_diagonal=True)"
   ]
  },
  {
   "cell_type": "code",
   "execution_count": 19,
   "id": "f10a01c5",
   "metadata": {},
   "outputs": [
    {
     "data": {
      "image/png": "[encoded data removed]",
      "text/plain": [
       "<Figure size 2000x200 with 1 Axes>"
      ]
     },
     "metadata": {},
     "output_type": "display_data"
    }
   ],
   "source": [
    "mat_pca = PCA(n_components = 64)\n",
    "\n",
    "if dataset_name == \"hcp\":\n",
    "    indices = indices[indices!=249]\n",
    "else:\n",
    "    indices = indices[indices!=863]\n",
    "\n",
    "pca_feat = mat_pca.fit_transform(vec_matrices[indices])\n",
    "plt.figure(figsize=(20, 2))\n",
    "plt.plot(np.cumsum(mat_pca.explained_variance_ratio_))\n",
    "plt.xlabel('Number of components')\n",
    "plt.ylabel('Cumulative explained variance')\n",
    "plt.xticks(np.arange(0, 64, 1))\n",
    "plt.title('Scree plot')\n",
    "\n",
    "plt.grid()\n"
   ]
  },
  {
   "cell_type": "code",
   "execution_count": 20,
   "id": "9cd38d5a",
   "metadata": {},
   "outputs": [],
   "source": [
    "ridge_estimator = Ridge(alpha=1)\n",
    "pca = PCA(n_components=64)\n",
    "pipe_ridge = Pipeline([('scaler', StandardScaler()), ('pca', pca), ('ridge', ridge_estimator)])"
   ]
  },
  {
   "cell_type": "code",
   "execution_count": null,
   "id": "ca7e88ef",
   "metadata": {},
   "outputs": [],
   "source": []
  },
  {
   "cell_type": "code",
   "execution_count": 21,
   "id": "2e363fbf",
   "metadata": {},
   "outputs": [
    {
     "name": "stderr",
     "output_type": "stream",
     "text": [
      "  0%|          | 0/10 [00:00<?, ?it/s]"
     ]
    },
    {
     "name": "stdout",
     "output_type": "stream",
     "text": [
      "Run 1001\n"
     ]
    },
    {
     "name": "stderr",
     "output_type": "stream",
     "text": []
    },
    {
     "name": "stdout",
     "output_type": "stream",
     "text": [
      "Target cbcl_scr_syn_anxdep_t\n"
     ]
    },
    {
     "name": "stderr",
     "output_type": "stream",
     "text": [
      "/var/folders/2m/72fcyjmd7vs3g18rkfwx7nw40000gn/T/ipykernel_52959/2168649317.py:2: DeprecationWarning: Conversion of an array with ndim > 0 to a scalar is deprecated, and will error in future. Ensure you extract a single element from your array before performing this operation. (Deprecated NumPy 1.25.)\n",
      "  corr = float(pg.corr(y, y_pred, correction = 'bicor')['r'].values)\n",
      "/var/folders/2m/72fcyjmd7vs3g18rkfwx7nw40000gn/T/ipykernel_52959/2168649317.py:2: DeprecationWarning: Conversion of an array with ndim > 0 to a scalar is deprecated, and will error in future. Ensure you extract a single element from your array before performing this operation. (Deprecated NumPy 1.25.)\n",
      "  corr = float(pg.corr(y, y_pred, correction = 'bicor')['r'].values)\n"
     ]
    },
    {
     "name": "stdout",
     "output_type": "stream",
     "text": [
      "Target cbcl_scr_syn_withdep_t\n"
     ]
    },
    {
     "name": "stderr",
     "output_type": "stream",
     "text": [
      "/var/folders/2m/72fcyjmd7vs3g18rkfwx7nw40000gn/T/ipykernel_52959/2168649317.py:2: DeprecationWarning: Conversion of an array with ndim > 0 to a scalar is deprecated, and will error in future. Ensure you extract a single element from your array before performing this operation. (Deprecated NumPy 1.25.)\n",
      "  corr = float(pg.corr(y, y_pred, correction = 'bicor')['r'].values)\n",
      "/var/folders/2m/72fcyjmd7vs3g18rkfwx7nw40000gn/T/ipykernel_52959/2168649317.py:2: DeprecationWarning: Conversion of an array with ndim > 0 to a scalar is deprecated, and will error in future. Ensure you extract a single element from your array before performing this operation. (Deprecated NumPy 1.25.)\n",
      "  corr = float(pg.corr(y, y_pred, correction = 'bicor')['r'].values)\n"
     ]
    },
    {
     "name": "stdout",
     "output_type": "stream",
     "text": [
      "Target cbcl_scr_syn_somatic_t\n"
     ]
    },
    {
     "name": "stderr",
     "output_type": "stream",
     "text": [
      "/var/folders/2m/72fcyjmd7vs3g18rkfwx7nw40000gn/T/ipykernel_52959/2168649317.py:2: DeprecationWarning: Conversion of an array with ndim > 0 to a scalar is deprecated, and will error in future. Ensure you extract a single element from your array before performing this operation. (Deprecated NumPy 1.25.)\n",
      "  corr = float(pg.corr(y, y_pred, correction = 'bicor')['r'].values)\n",
      "/var/folders/2m/72fcyjmd7vs3g18rkfwx7nw40000gn/T/ipykernel_52959/2168649317.py:2: DeprecationWarning: Conversion of an array with ndim > 0 to a scalar is deprecated, and will error in future. Ensure you extract a single element from your array before performing this operation. (Deprecated NumPy 1.25.)\n",
      "  corr = float(pg.corr(y, y_pred, correction = 'bicor')['r'].values)\n"
     ]
    },
    {
     "name": "stdout",
     "output_type": "stream",
     "text": [
      "Target cbcl_scr_syn_social_t\n"
     ]
    },
    {
     "name": "stderr",
     "output_type": "stream",
     "text": [
      "/var/folders/2m/72fcyjmd7vs3g18rkfwx7nw40000gn/T/ipykernel_52959/2168649317.py:2: DeprecationWarning: Conversion of an array with ndim > 0 to a scalar is deprecated, and will error in future. Ensure you extract a single element from your array before performing this operation. (Deprecated NumPy 1.25.)\n",
      "  corr = float(pg.corr(y, y_pred, correction = 'bicor')['r'].values)\n",
      "/var/folders/2m/72fcyjmd7vs3g18rkfwx7nw40000gn/T/ipykernel_52959/2168649317.py:2: DeprecationWarning: Conversion of an array with ndim > 0 to a scalar is deprecated, and will error in future. Ensure you extract a single element from your array before performing this operation. (Deprecated NumPy 1.25.)\n",
      "  corr = float(pg.corr(y, y_pred, correction = 'bicor')['r'].values)\n"
     ]
    },
    {
     "name": "stdout",
     "output_type": "stream",
     "text": [
      "Target cbcl_scr_syn_thought_t\n"
     ]
    },
    {
     "name": "stderr",
     "output_type": "stream",
     "text": [
      "/var/folders/2m/72fcyjmd7vs3g18rkfwx7nw40000gn/T/ipykernel_52959/2168649317.py:2: DeprecationWarning: Conversion of an array with ndim > 0 to a scalar is deprecated, and will error in future. Ensure you extract a single element from your array before performing this operation. (Deprecated NumPy 1.25.)\n",
      "  corr = float(pg.corr(y, y_pred, correction = 'bicor')['r'].values)\n",
      "/var/folders/2m/72fcyjmd7vs3g18rkfwx7nw40000gn/T/ipykernel_52959/2168649317.py:2: DeprecationWarning: Conversion of an array with ndim > 0 to a scalar is deprecated, and will error in future. Ensure you extract a single element from your array before performing this operation. (Deprecated NumPy 1.25.)\n",
      "  corr = float(pg.corr(y, y_pred, correction = 'bicor')['r'].values)\n"
     ]
    },
    {
     "name": "stdout",
     "output_type": "stream",
     "text": [
      "Target cbcl_scr_syn_attention_t\n"
     ]
    },
    {
     "name": "stderr",
     "output_type": "stream",
     "text": [
      "/var/folders/2m/72fcyjmd7vs3g18rkfwx7nw40000gn/T/ipykernel_52959/2168649317.py:2: DeprecationWarning: Conversion of an array with ndim > 0 to a scalar is deprecated, and will error in future. Ensure you extract a single element from your array before performing this operation. (Deprecated NumPy 1.25.)\n",
      "  corr = float(pg.corr(y, y_pred, correction = 'bicor')['r'].values)\n",
      "/var/folders/2m/72fcyjmd7vs3g18rkfwx7nw40000gn/T/ipykernel_52959/2168649317.py:2: DeprecationWarning: Conversion of an array with ndim > 0 to a scalar is deprecated, and will error in future. Ensure you extract a single element from your array before performing this operation. (Deprecated NumPy 1.25.)\n",
      "  corr = float(pg.corr(y, y_pred, correction = 'bicor')['r'].values)\n"
     ]
    },
    {
     "name": "stdout",
     "output_type": "stream",
     "text": [
      "Target cbcl_scr_syn_rulebreak_t\n"
     ]
    },
    {
     "name": "stderr",
     "output_type": "stream",
     "text": [
      "/var/folders/2m/72fcyjmd7vs3g18rkfwx7nw40000gn/T/ipykernel_52959/2168649317.py:2: DeprecationWarning: Conversion of an array with ndim > 0 to a scalar is deprecated, and will error in future. Ensure you extract a single element from your array before performing this operation. (Deprecated NumPy 1.25.)\n",
      "  corr = float(pg.corr(y, y_pred, correction = 'bicor')['r'].values)\n",
      "/var/folders/2m/72fcyjmd7vs3g18rkfwx7nw40000gn/T/ipykernel_52959/2168649317.py:2: DeprecationWarning: Conversion of an array with ndim > 0 to a scalar is deprecated, and will error in future. Ensure you extract a single element from your array before performing this operation. (Deprecated NumPy 1.25.)\n",
      "  corr = float(pg.corr(y, y_pred, correction = 'bicor')['r'].values)\n"
     ]
    },
    {
     "name": "stdout",
     "output_type": "stream",
     "text": [
      "Target cbcl_scr_syn_aggressive_t\n"
     ]
    },
    {
     "name": "stderr",
     "output_type": "stream",
     "text": [
      "/var/folders/2m/72fcyjmd7vs3g18rkfwx7nw40000gn/T/ipykernel_52959/2168649317.py:2: DeprecationWarning: Conversion of an array with ndim > 0 to a scalar is deprecated, and will error in future. Ensure you extract a single element from your array before performing this operation. (Deprecated NumPy 1.25.)\n",
      "  corr = float(pg.corr(y, y_pred, correction = 'bicor')['r'].values)\n",
      "/var/folders/2m/72fcyjmd7vs3g18rkfwx7nw40000gn/T/ipykernel_52959/2168649317.py:2: DeprecationWarning: Conversion of an array with ndim > 0 to a scalar is deprecated, and will error in future. Ensure you extract a single element from your array before performing this operation. (Deprecated NumPy 1.25.)\n",
      "  corr = float(pg.corr(y, y_pred, correction = 'bicor')['r'].values)\n"
     ]
    },
    {
     "name": "stdout",
     "output_type": "stream",
     "text": [
      "Target cbcl_scr_syn_internal_t\n"
     ]
    },
    {
     "name": "stderr",
     "output_type": "stream",
     "text": [
      "/var/folders/2m/72fcyjmd7vs3g18rkfwx7nw40000gn/T/ipykernel_52959/2168649317.py:2: DeprecationWarning: Conversion of an array with ndim > 0 to a scalar is deprecated, and will error in future. Ensure you extract a single element from your array before performing this operation. (Deprecated NumPy 1.25.)\n",
      "  corr = float(pg.corr(y, y_pred, correction = 'bicor')['r'].values)\n",
      "/var/folders/2m/72fcyjmd7vs3g18rkfwx7nw40000gn/T/ipykernel_52959/2168649317.py:2: DeprecationWarning: Conversion of an array with ndim > 0 to a scalar is deprecated, and will error in future. Ensure you extract a single element from your array before performing this operation. (Deprecated NumPy 1.25.)\n",
      "  corr = float(pg.corr(y, y_pred, correction = 'bicor')['r'].values)\n"
     ]
    },
    {
     "name": "stdout",
     "output_type": "stream",
     "text": [
      "Target cbcl_scr_syn_external_t\n"
     ]
    },
    {
     "name": "stderr",
     "output_type": "stream",
     "text": [
      "/var/folders/2m/72fcyjmd7vs3g18rkfwx7nw40000gn/T/ipykernel_52959/2168649317.py:2: DeprecationWarning: Conversion of an array with ndim > 0 to a scalar is deprecated, and will error in future. Ensure you extract a single element from your array before performing this operation. (Deprecated NumPy 1.25.)\n",
      "  corr = float(pg.corr(y, y_pred, correction = 'bicor')['r'].values)\n",
      "/var/folders/2m/72fcyjmd7vs3g18rkfwx7nw40000gn/T/ipykernel_52959/2168649317.py:2: DeprecationWarning: Conversion of an array with ndim > 0 to a scalar is deprecated, and will error in future. Ensure you extract a single element from your array before performing this operation. (Deprecated NumPy 1.25.)\n",
      "  corr = float(pg.corr(y, y_pred, correction = 'bicor')['r'].values)\n"
     ]
    },
    {
     "name": "stdout",
     "output_type": "stream",
     "text": [
      "Target cbcl_scr_syn_totprob_t\n"
     ]
    },
    {
     "name": "stderr",
     "output_type": "stream",
     "text": [
      "/var/folders/2m/72fcyjmd7vs3g18rkfwx7nw40000gn/T/ipykernel_52959/2168649317.py:2: DeprecationWarning: Conversion of an array with ndim > 0 to a scalar is deprecated, and will error in future. Ensure you extract a single element from your array before performing this operation. (Deprecated NumPy 1.25.)\n",
      "  corr = float(pg.corr(y, y_pred, correction = 'bicor')['r'].values)\n",
      "/var/folders/2m/72fcyjmd7vs3g18rkfwx7nw40000gn/T/ipykernel_52959/2168649317.py:2: DeprecationWarning: Conversion of an array with ndim > 0 to a scalar is deprecated, and will error in future. Ensure you extract a single element from your array before performing this operation. (Deprecated NumPy 1.25.)\n",
      "  corr = float(pg.corr(y, y_pred, correction = 'bicor')['r'].values)\n",
      "100%|██████████| 50/50 [00:20<00:00,  2.43it/s]\n",
      " 10%|█         | 1/10 [00:20<03:08, 20.93s/it]"
     ]
    },
    {
     "name": "stdout",
     "output_type": "stream",
     "text": [
      "Run 42\n"
     ]
    },
    {
     "name": "stderr",
     "output_type": "stream",
     "text": []
    },
    {
     "name": "stdout",
     "output_type": "stream",
     "text": [
      "Target cbcl_scr_syn_anxdep_t\n"
     ]
    },
    {
     "name": "stderr",
     "output_type": "stream",
     "text": [
      "/var/folders/2m/72fcyjmd7vs3g18rkfwx7nw40000gn/T/ipykernel_52959/2168649317.py:2: DeprecationWarning: Conversion of an array with ndim > 0 to a scalar is deprecated, and will error in future. Ensure you extract a single element from your array before performing this operation. (Deprecated NumPy 1.25.)\n",
      "  corr = float(pg.corr(y, y_pred, correction = 'bicor')['r'].values)\n",
      "/var/folders/2m/72fcyjmd7vs3g18rkfwx7nw40000gn/T/ipykernel_52959/2168649317.py:2: DeprecationWarning: Conversion of an array with ndim > 0 to a scalar is deprecated, and will error in future. Ensure you extract a single element from your array before performing this operation. (Deprecated NumPy 1.25.)\n",
      "  corr = float(pg.corr(y, y_pred, correction = 'bicor')['r'].values)\n"
     ]
    },
    {
     "name": "stdout",
     "output_type": "stream",
     "text": [
      "Target cbcl_scr_syn_withdep_t\n"
     ]
    },
    {
     "name": "stderr",
     "output_type": "stream",
     "text": [
      "/var/folders/2m/72fcyjmd7vs3g18rkfwx7nw40000gn/T/ipykernel_52959/2168649317.py:2: DeprecationWarning: Conversion of an array with ndim > 0 to a scalar is deprecated, and will error in future. Ensure you extract a single element from your array before performing this operation. (Deprecated NumPy 1.25.)\n",
      "  corr = float(pg.corr(y, y_pred, correction = 'bicor')['r'].values)\n",
      "/var/folders/2m/72fcyjmd7vs3g18rkfwx7nw40000gn/T/ipykernel_52959/2168649317.py:2: DeprecationWarning: Conversion of an array with ndim > 0 to a scalar is deprecated, and will error in future. Ensure you extract a single element from your array before performing this operation. (Deprecated NumPy 1.25.)\n",
      "  corr = float(pg.corr(y, y_pred, correction = 'bicor')['r'].values)\n"
     ]
    },
    {
     "name": "stdout",
     "output_type": "stream",
     "text": [
      "Target cbcl_scr_syn_somatic_t\n"
     ]
    },
    {
     "name": "stderr",
     "output_type": "stream",
     "text": [
      "/var/folders/2m/72fcyjmd7vs3g18rkfwx7nw40000gn/T/ipykernel_52959/2168649317.py:2: DeprecationWarning: Conversion of an array with ndim > 0 to a scalar is deprecated, and will error in future. Ensure you extract a single element from your array before performing this operation. (Deprecated NumPy 1.25.)\n",
      "  corr = float(pg.corr(y, y_pred, correction = 'bicor')['r'].values)\n",
      "/var/folders/2m/72fcyjmd7vs3g18rkfwx7nw40000gn/T/ipykernel_52959/2168649317.py:2: DeprecationWarning: Conversion of an array with ndim > 0 to a scalar is deprecated, and will error in future. Ensure you extract a single element from your array before performing this operation. (Deprecated NumPy 1.25.)\n",
      "  corr = float(pg.corr(y, y_pred, correction = 'bicor')['r'].values)\n"
     ]
    },
    {
     "name": "stdout",
     "output_type": "stream",
     "text": [
      "Target cbcl_scr_syn_social_t\n"
     ]
    },
    {
     "name": "stderr",
     "output_type": "stream",
     "text": [
      "/var/folders/2m/72fcyjmd7vs3g18rkfwx7nw40000gn/T/ipykernel_52959/2168649317.py:2: DeprecationWarning: Conversion of an array with ndim > 0 to a scalar is deprecated, and will error in future. Ensure you extract a single element from your array before performing this operation. (Deprecated NumPy 1.25.)\n",
      "  corr = float(pg.corr(y, y_pred, correction = 'bicor')['r'].values)\n",
      "/var/folders/2m/72fcyjmd7vs3g18rkfwx7nw40000gn/T/ipykernel_52959/2168649317.py:2: DeprecationWarning: Conversion of an array with ndim > 0 to a scalar is deprecated, and will error in future. Ensure you extract a single element from your array before performing this operation. (Deprecated NumPy 1.25.)\n",
      "  corr = float(pg.corr(y, y_pred, correction = 'bicor')['r'].values)\n"
     ]
    },
    {
     "name": "stdout",
     "output_type": "stream",
     "text": [
      "Target cbcl_scr_syn_thought_t\n"
     ]
    },
    {
     "name": "stderr",
     "output_type": "stream",
     "text": [
      "/var/folders/2m/72fcyjmd7vs3g18rkfwx7nw40000gn/T/ipykernel_52959/2168649317.py:2: DeprecationWarning: Conversion of an array with ndim > 0 to a scalar is deprecated, and will error in future. Ensure you extract a single element from your array before performing this operation. (Deprecated NumPy 1.25.)\n",
      "  corr = float(pg.corr(y, y_pred, correction = 'bicor')['r'].values)\n",
      "/var/folders/2m/72fcyjmd7vs3g18rkfwx7nw40000gn/T/ipykernel_52959/2168649317.py:2: DeprecationWarning: Conversion of an array with ndim > 0 to a scalar is deprecated, and will error in future. Ensure you extract a single element from your array before performing this operation. (Deprecated NumPy 1.25.)\n",
      "  corr = float(pg.corr(y, y_pred, correction = 'bicor')['r'].values)\n"
     ]
    },
    {
     "name": "stdout",
     "output_type": "stream",
     "text": [
      "Target cbcl_scr_syn_attention_t\n"
     ]
    },
    {
     "name": "stderr",
     "output_type": "stream",
     "text": [
      "/var/folders/2m/72fcyjmd7vs3g18rkfwx7nw40000gn/T/ipykernel_52959/2168649317.py:2: DeprecationWarning: Conversion of an array with ndim > 0 to a scalar is deprecated, and will error in future. Ensure you extract a single element from your array before performing this operation. (Deprecated NumPy 1.25.)\n",
      "  corr = float(pg.corr(y, y_pred, correction = 'bicor')['r'].values)\n",
      "/var/folders/2m/72fcyjmd7vs3g18rkfwx7nw40000gn/T/ipykernel_52959/2168649317.py:2: DeprecationWarning: Conversion of an array with ndim > 0 to a scalar is deprecated, and will error in future. Ensure you extract a single element from your array before performing this operation. (Deprecated NumPy 1.25.)\n",
      "  corr = float(pg.corr(y, y_pred, correction = 'bicor')['r'].values)\n"
     ]
    },
    {
     "name": "stdout",
     "output_type": "stream",
     "text": [
      "Target cbcl_scr_syn_rulebreak_t\n"
     ]
    },
    {
     "name": "stderr",
     "output_type": "stream",
     "text": [
      "/var/folders/2m/72fcyjmd7vs3g18rkfwx7nw40000gn/T/ipykernel_52959/2168649317.py:2: DeprecationWarning: Conversion of an array with ndim > 0 to a scalar is deprecated, and will error in future. Ensure you extract a single element from your array before performing this operation. (Deprecated NumPy 1.25.)\n",
      "  corr = float(pg.corr(y, y_pred, correction = 'bicor')['r'].values)\n",
      "/var/folders/2m/72fcyjmd7vs3g18rkfwx7nw40000gn/T/ipykernel_52959/2168649317.py:2: DeprecationWarning: Conversion of an array with ndim > 0 to a scalar is deprecated, and will error in future. Ensure you extract a single element from your array before performing this operation. (Deprecated NumPy 1.25.)\n",
      "  corr = float(pg.corr(y, y_pred, correction = 'bicor')['r'].values)\n"
     ]
    },
    {
     "name": "stdout",
     "output_type": "stream",
     "text": [
      "Target cbcl_scr_syn_aggressive_t\n"
     ]
    },
    {
     "name": "stderr",
     "output_type": "stream",
     "text": [
      "/var/folders/2m/72fcyjmd7vs3g18rkfwx7nw40000gn/T/ipykernel_52959/2168649317.py:2: DeprecationWarning: Conversion of an array with ndim > 0 to a scalar is deprecated, and will error in future. Ensure you extract a single element from your array before performing this operation. (Deprecated NumPy 1.25.)\n",
      "  corr = float(pg.corr(y, y_pred, correction = 'bicor')['r'].values)\n",
      "/var/folders/2m/72fcyjmd7vs3g18rkfwx7nw40000gn/T/ipykernel_52959/2168649317.py:2: DeprecationWarning: Conversion of an array with ndim > 0 to a scalar is deprecated, and will error in future. Ensure you extract a single element from your array before performing this operation. (Deprecated NumPy 1.25.)\n",
      "  corr = float(pg.corr(y, y_pred, correction = 'bicor')['r'].values)\n"
     ]
    },
    {
     "name": "stdout",
     "output_type": "stream",
     "text": [
      "Target cbcl_scr_syn_internal_t\n"
     ]
    },
    {
     "name": "stderr",
     "output_type": "stream",
     "text": [
      "/var/folders/2m/72fcyjmd7vs3g18rkfwx7nw40000gn/T/ipykernel_52959/2168649317.py:2: DeprecationWarning: Conversion of an array with ndim > 0 to a scalar is deprecated, and will error in future. Ensure you extract a single element from your array before performing this operation. (Deprecated NumPy 1.25.)\n",
      "  corr = float(pg.corr(y, y_pred, correction = 'bicor')['r'].values)\n",
      "/var/folders/2m/72fcyjmd7vs3g18rkfwx7nw40000gn/T/ipykernel_52959/2168649317.py:2: DeprecationWarning: Conversion of an array with ndim > 0 to a scalar is deprecated, and will error in future. Ensure you extract a single element from your array before performing this operation. (Deprecated NumPy 1.25.)\n",
      "  corr = float(pg.corr(y, y_pred, correction = 'bicor')['r'].values)\n"
     ]
    },
    {
     "name": "stdout",
     "output_type": "stream",
     "text": [
      "Target cbcl_scr_syn_external_t\n"
     ]
    },
    {
     "name": "stderr",
     "output_type": "stream",
     "text": [
      "/var/folders/2m/72fcyjmd7vs3g18rkfwx7nw40000gn/T/ipykernel_52959/2168649317.py:2: DeprecationWarning: Conversion of an array with ndim > 0 to a scalar is deprecated, and will error in future. Ensure you extract a single element from your array before performing this operation. (Deprecated NumPy 1.25.)\n",
      "  corr = float(pg.corr(y, y_pred, correction = 'bicor')['r'].values)\n",
      "/var/folders/2m/72fcyjmd7vs3g18rkfwx7nw40000gn/T/ipykernel_52959/2168649317.py:2: DeprecationWarning: Conversion of an array with ndim > 0 to a scalar is deprecated, and will error in future. Ensure you extract a single element from your array before performing this operation. (Deprecated NumPy 1.25.)\n",
      "  corr = float(pg.corr(y, y_pred, correction = 'bicor')['r'].values)\n"
     ]
    },
    {
     "name": "stdout",
     "output_type": "stream",
     "text": [
      "Target cbcl_scr_syn_totprob_t\n"
     ]
    },
    {
     "name": "stderr",
     "output_type": "stream",
     "text": [
      "/var/folders/2m/72fcyjmd7vs3g18rkfwx7nw40000gn/T/ipykernel_52959/2168649317.py:2: DeprecationWarning: Conversion of an array with ndim > 0 to a scalar is deprecated, and will error in future. Ensure you extract a single element from your array before performing this operation. (Deprecated NumPy 1.25.)\n",
      "  corr = float(pg.corr(y, y_pred, correction = 'bicor')['r'].values)\n",
      "/var/folders/2m/72fcyjmd7vs3g18rkfwx7nw40000gn/T/ipykernel_52959/2168649317.py:2: DeprecationWarning: Conversion of an array with ndim > 0 to a scalar is deprecated, and will error in future. Ensure you extract a single element from your array before performing this operation. (Deprecated NumPy 1.25.)\n",
      "  corr = float(pg.corr(y, y_pred, correction = 'bicor')['r'].values)\n",
      "100%|██████████| 50/50 [00:20<00:00,  2.40it/s]\n",
      " 20%|██        | 2/10 [00:42<02:48, 21.07s/it]"
     ]
    },
    {
     "name": "stdout",
     "output_type": "stream",
     "text": [
      "Run 54\n"
     ]
    },
    {
     "name": "stderr",
     "output_type": "stream",
     "text": []
    },
    {
     "name": "stdout",
     "output_type": "stream",
     "text": [
      "Target cbcl_scr_syn_anxdep_t\n"
     ]
    },
    {
     "name": "stderr",
     "output_type": "stream",
     "text": [
      "/var/folders/2m/72fcyjmd7vs3g18rkfwx7nw40000gn/T/ipykernel_52959/2168649317.py:2: DeprecationWarning: Conversion of an array with ndim > 0 to a scalar is deprecated, and will error in future. Ensure you extract a single element from your array before performing this operation. (Deprecated NumPy 1.25.)\n",
      "  corr = float(pg.corr(y, y_pred, correction = 'bicor')['r'].values)\n",
      "/var/folders/2m/72fcyjmd7vs3g18rkfwx7nw40000gn/T/ipykernel_52959/2168649317.py:2: DeprecationWarning: Conversion of an array with ndim > 0 to a scalar is deprecated, and will error in future. Ensure you extract a single element from your array before performing this operation. (Deprecated NumPy 1.25.)\n",
      "  corr = float(pg.corr(y, y_pred, correction = 'bicor')['r'].values)\n"
     ]
    },
    {
     "name": "stdout",
     "output_type": "stream",
     "text": [
      "Target cbcl_scr_syn_withdep_t\n"
     ]
    },
    {
     "name": "stderr",
     "output_type": "stream",
     "text": [
      "/var/folders/2m/72fcyjmd7vs3g18rkfwx7nw40000gn/T/ipykernel_52959/2168649317.py:2: DeprecationWarning: Conversion of an array with ndim > 0 to a scalar is deprecated, and will error in future. Ensure you extract a single element from your array before performing this operation. (Deprecated NumPy 1.25.)\n",
      "  corr = float(pg.corr(y, y_pred, correction = 'bicor')['r'].values)\n",
      "/var/folders/2m/72fcyjmd7vs3g18rkfwx7nw40000gn/T/ipykernel_52959/2168649317.py:2: DeprecationWarning: Conversion of an array with ndim > 0 to a scalar is deprecated, and will error in future. Ensure you extract a single element from your array before performing this operation. (Deprecated NumPy 1.25.)\n",
      "  corr = float(pg.corr(y, y_pred, correction = 'bicor')['r'].values)\n"
     ]
    },
    {
     "name": "stdout",
     "output_type": "stream",
     "text": [
      "Target cbcl_scr_syn_somatic_t\n"
     ]
    },
    {
     "name": "stderr",
     "output_type": "stream",
     "text": [
      "/var/folders/2m/72fcyjmd7vs3g18rkfwx7nw40000gn/T/ipykernel_52959/2168649317.py:2: DeprecationWarning: Conversion of an array with ndim > 0 to a scalar is deprecated, and will error in future. Ensure you extract a single element from your array before performing this operation. (Deprecated NumPy 1.25.)\n",
      "  corr = float(pg.corr(y, y_pred, correction = 'bicor')['r'].values)\n",
      "/var/folders/2m/72fcyjmd7vs3g18rkfwx7nw40000gn/T/ipykernel_52959/2168649317.py:2: DeprecationWarning: Conversion of an array with ndim > 0 to a scalar is deprecated, and will error in future. Ensure you extract a single element from your array before performing this operation. (Deprecated NumPy 1.25.)\n",
      "  corr = float(pg.corr(y, y_pred, correction = 'bicor')['r'].values)\n"
     ]
    },
    {
     "name": "stdout",
     "output_type": "stream",
     "text": [
      "Target cbcl_scr_syn_social_t\n"
     ]
    },
    {
     "name": "stderr",
     "output_type": "stream",
     "text": [
      "/var/folders/2m/72fcyjmd7vs3g18rkfwx7nw40000gn/T/ipykernel_52959/2168649317.py:2: DeprecationWarning: Conversion of an array with ndim > 0 to a scalar is deprecated, and will error in future. Ensure you extract a single element from your array before performing this operation. (Deprecated NumPy 1.25.)\n",
      "  corr = float(pg.corr(y, y_pred, correction = 'bicor')['r'].values)\n",
      "/var/folders/2m/72fcyjmd7vs3g18rkfwx7nw40000gn/T/ipykernel_52959/2168649317.py:2: DeprecationWarning: Conversion of an array with ndim > 0 to a scalar is deprecated, and will error in future. Ensure you extract a single element from your array before performing this operation. (Deprecated NumPy 1.25.)\n",
      "  corr = float(pg.corr(y, y_pred, correction = 'bicor')['r'].values)\n"
     ]
    },
    {
     "name": "stdout",
     "output_type": "stream",
     "text": [
      "Target cbcl_scr_syn_thought_t\n"
     ]
    },
    {
     "name": "stderr",
     "output_type": "stream",
     "text": [
      "/var/folders/2m/72fcyjmd7vs3g18rkfwx7nw40000gn/T/ipykernel_52959/2168649317.py:2: DeprecationWarning: Conversion of an array with ndim > 0 to a scalar is deprecated, and will error in future. Ensure you extract a single element from your array before performing this operation. (Deprecated NumPy 1.25.)\n",
      "  corr = float(pg.corr(y, y_pred, correction = 'bicor')['r'].values)\n",
      "/var/folders/2m/72fcyjmd7vs3g18rkfwx7nw40000gn/T/ipykernel_52959/2168649317.py:2: DeprecationWarning: Conversion of an array with ndim > 0 to a scalar is deprecated, and will error in future. Ensure you extract a single element from your array before performing this operation. (Deprecated NumPy 1.25.)\n",
      "  corr = float(pg.corr(y, y_pred, correction = 'bicor')['r'].values)\n"
     ]
    },
    {
     "name": "stdout",
     "output_type": "stream",
     "text": [
      "Target cbcl_scr_syn_attention_t\n"
     ]
    },
    {
     "name": "stderr",
     "output_type": "stream",
     "text": [
      "/var/folders/2m/72fcyjmd7vs3g18rkfwx7nw40000gn/T/ipykernel_52959/2168649317.py:2: DeprecationWarning: Conversion of an array with ndim > 0 to a scalar is deprecated, and will error in future. Ensure you extract a single element from your array before performing this operation. (Deprecated NumPy 1.25.)\n",
      "  corr = float(pg.corr(y, y_pred, correction = 'bicor')['r'].values)\n",
      "/var/folders/2m/72fcyjmd7vs3g18rkfwx7nw40000gn/T/ipykernel_52959/2168649317.py:2: DeprecationWarning: Conversion of an array with ndim > 0 to a scalar is deprecated, and will error in future. Ensure you extract a single element from your array before performing this operation. (Deprecated NumPy 1.25.)\n",
      "  corr = float(pg.corr(y, y_pred, correction = 'bicor')['r'].values)\n"
     ]
    },
    {
     "name": "stdout",
     "output_type": "stream",
     "text": [
      "Target cbcl_scr_syn_rulebreak_t\n"
     ]
    },
    {
     "name": "stderr",
     "output_type": "stream",
     "text": [
      "/var/folders/2m/72fcyjmd7vs3g18rkfwx7nw40000gn/T/ipykernel_52959/2168649317.py:2: DeprecationWarning: Conversion of an array with ndim > 0 to a scalar is deprecated, and will error in future. Ensure you extract a single element from your array before performing this operation. (Deprecated NumPy 1.25.)\n",
      "  corr = float(pg.corr(y, y_pred, correction = 'bicor')['r'].values)\n",
      "/var/folders/2m/72fcyjmd7vs3g18rkfwx7nw40000gn/T/ipykernel_52959/2168649317.py:2: DeprecationWarning: Conversion of an array with ndim > 0 to a scalar is deprecated, and will error in future. Ensure you extract a single element from your array before performing this operation. (Deprecated NumPy 1.25.)\n",
      "  corr = float(pg.corr(y, y_pred, correction = 'bicor')['r'].values)\n"
     ]
    },
    {
     "name": "stdout",
     "output_type": "stream",
     "text": [
      "Target cbcl_scr_syn_aggressive_t\n"
     ]
    },
    {
     "name": "stderr",
     "output_type": "stream",
     "text": [
      "/var/folders/2m/72fcyjmd7vs3g18rkfwx7nw40000gn/T/ipykernel_52959/2168649317.py:2: DeprecationWarning: Conversion of an array with ndim > 0 to a scalar is deprecated, and will error in future. Ensure you extract a single element from your array before performing this operation. (Deprecated NumPy 1.25.)\n",
      "  corr = float(pg.corr(y, y_pred, correction = 'bicor')['r'].values)\n",
      "/var/folders/2m/72fcyjmd7vs3g18rkfwx7nw40000gn/T/ipykernel_52959/2168649317.py:2: DeprecationWarning: Conversion of an array with ndim > 0 to a scalar is deprecated, and will error in future. Ensure you extract a single element from your array before performing this operation. (Deprecated NumPy 1.25.)\n",
      "  corr = float(pg.corr(y, y_pred, correction = 'bicor')['r'].values)\n"
     ]
    },
    {
     "name": "stdout",
     "output_type": "stream",
     "text": [
      "Target cbcl_scr_syn_internal_t\n"
     ]
    },
    {
     "name": "stderr",
     "output_type": "stream",
     "text": [
      "/var/folders/2m/72fcyjmd7vs3g18rkfwx7nw40000gn/T/ipykernel_52959/2168649317.py:2: DeprecationWarning: Conversion of an array with ndim > 0 to a scalar is deprecated, and will error in future. Ensure you extract a single element from your array before performing this operation. (Deprecated NumPy 1.25.)\n",
      "  corr = float(pg.corr(y, y_pred, correction = 'bicor')['r'].values)\n",
      "/var/folders/2m/72fcyjmd7vs3g18rkfwx7nw40000gn/T/ipykernel_52959/2168649317.py:2: DeprecationWarning: Conversion of an array with ndim > 0 to a scalar is deprecated, and will error in future. Ensure you extract a single element from your array before performing this operation. (Deprecated NumPy 1.25.)\n",
      "  corr = float(pg.corr(y, y_pred, correction = 'bicor')['r'].values)\n"
     ]
    },
    {
     "name": "stdout",
     "output_type": "stream",
     "text": [
      "Target cbcl_scr_syn_external_t\n"
     ]
    },
    {
     "name": "stderr",
     "output_type": "stream",
     "text": [
      "/var/folders/2m/72fcyjmd7vs3g18rkfwx7nw40000gn/T/ipykernel_52959/2168649317.py:2: DeprecationWarning: Conversion of an array with ndim > 0 to a scalar is deprecated, and will error in future. Ensure you extract a single element from your array before performing this operation. (Deprecated NumPy 1.25.)\n",
      "  corr = float(pg.corr(y, y_pred, correction = 'bicor')['r'].values)\n",
      "/var/folders/2m/72fcyjmd7vs3g18rkfwx7nw40000gn/T/ipykernel_52959/2168649317.py:2: DeprecationWarning: Conversion of an array with ndim > 0 to a scalar is deprecated, and will error in future. Ensure you extract a single element from your array before performing this operation. (Deprecated NumPy 1.25.)\n",
      "  corr = float(pg.corr(y, y_pred, correction = 'bicor')['r'].values)\n"
     ]
    },
    {
     "name": "stdout",
     "output_type": "stream",
     "text": [
      "Target cbcl_scr_syn_totprob_t\n"
     ]
    },
    {
     "name": "stderr",
     "output_type": "stream",
     "text": [
      "/var/folders/2m/72fcyjmd7vs3g18rkfwx7nw40000gn/T/ipykernel_52959/2168649317.py:2: DeprecationWarning: Conversion of an array with ndim > 0 to a scalar is deprecated, and will error in future. Ensure you extract a single element from your array before performing this operation. (Deprecated NumPy 1.25.)\n",
      "  corr = float(pg.corr(y, y_pred, correction = 'bicor')['r'].values)\n",
      "/var/folders/2m/72fcyjmd7vs3g18rkfwx7nw40000gn/T/ipykernel_52959/2168649317.py:2: DeprecationWarning: Conversion of an array with ndim > 0 to a scalar is deprecated, and will error in future. Ensure you extract a single element from your array before performing this operation. (Deprecated NumPy 1.25.)\n",
      "  corr = float(pg.corr(y, y_pred, correction = 'bicor')['r'].values)\n",
      "100%|██████████| 50/50 [00:20<00:00,  2.43it/s]\n",
      " 30%|███       | 3/10 [01:03<02:27, 21.09s/it]"
     ]
    },
    {
     "name": "stdout",
     "output_type": "stream",
     "text": [
      "Run 90\n"
     ]
    },
    {
     "name": "stderr",
     "output_type": "stream",
     "text": []
    },
    {
     "name": "stdout",
     "output_type": "stream",
     "text": [
      "Target cbcl_scr_syn_anxdep_t\n"
     ]
    },
    {
     "name": "stderr",
     "output_type": "stream",
     "text": [
      "/var/folders/2m/72fcyjmd7vs3g18rkfwx7nw40000gn/T/ipykernel_52959/2168649317.py:2: DeprecationWarning: Conversion of an array with ndim > 0 to a scalar is deprecated, and will error in future. Ensure you extract a single element from your array before performing this operation. (Deprecated NumPy 1.25.)\n",
      "  corr = float(pg.corr(y, y_pred, correction = 'bicor')['r'].values)\n",
      "/var/folders/2m/72fcyjmd7vs3g18rkfwx7nw40000gn/T/ipykernel_52959/2168649317.py:2: DeprecationWarning: Conversion of an array with ndim > 0 to a scalar is deprecated, and will error in future. Ensure you extract a single element from your array before performing this operation. (Deprecated NumPy 1.25.)\n",
      "  corr = float(pg.corr(y, y_pred, correction = 'bicor')['r'].values)\n"
     ]
    },
    {
     "name": "stdout",
     "output_type": "stream",
     "text": [
      "Target cbcl_scr_syn_withdep_t\n"
     ]
    },
    {
     "name": "stderr",
     "output_type": "stream",
     "text": [
      "/var/folders/2m/72fcyjmd7vs3g18rkfwx7nw40000gn/T/ipykernel_52959/2168649317.py:2: DeprecationWarning: Conversion of an array with ndim > 0 to a scalar is deprecated, and will error in future. Ensure you extract a single element from your array before performing this operation. (Deprecated NumPy 1.25.)\n",
      "  corr = float(pg.corr(y, y_pred, correction = 'bicor')['r'].values)\n",
      "/var/folders/2m/72fcyjmd7vs3g18rkfwx7nw40000gn/T/ipykernel_52959/2168649317.py:2: DeprecationWarning: Conversion of an array with ndim > 0 to a scalar is deprecated, and will error in future. Ensure you extract a single element from your array before performing this operation. (Deprecated NumPy 1.25.)\n",
      "  corr = float(pg.corr(y, y_pred, correction = 'bicor')['r'].values)\n"
     ]
    },
    {
     "name": "stdout",
     "output_type": "stream",
     "text": [
      "Target cbcl_scr_syn_somatic_t\n"
     ]
    },
    {
     "name": "stderr",
     "output_type": "stream",
     "text": [
      "/var/folders/2m/72fcyjmd7vs3g18rkfwx7nw40000gn/T/ipykernel_52959/2168649317.py:2: DeprecationWarning: Conversion of an array with ndim > 0 to a scalar is deprecated, and will error in future. Ensure you extract a single element from your array before performing this operation. (Deprecated NumPy 1.25.)\n",
      "  corr = float(pg.corr(y, y_pred, correction = 'bicor')['r'].values)\n",
      "/var/folders/2m/72fcyjmd7vs3g18rkfwx7nw40000gn/T/ipykernel_52959/2168649317.py:2: DeprecationWarning: Conversion of an array with ndim > 0 to a scalar is deprecated, and will error in future. Ensure you extract a single element from your array before performing this operation. (Deprecated NumPy 1.25.)\n",
      "  corr = float(pg.corr(y, y_pred, correction = 'bicor')['r'].values)\n"
     ]
    },
    {
     "name": "stdout",
     "output_type": "stream",
     "text": [
      "Target cbcl_scr_syn_social_t\n"
     ]
    },
    {
     "name": "stderr",
     "output_type": "stream",
     "text": [
      "/var/folders/2m/72fcyjmd7vs3g18rkfwx7nw40000gn/T/ipykernel_52959/2168649317.py:2: DeprecationWarning: Conversion of an array with ndim > 0 to a scalar is deprecated, and will error in future. Ensure you extract a single element from your array before performing this operation. (Deprecated NumPy 1.25.)\n",
      "  corr = float(pg.corr(y, y_pred, correction = 'bicor')['r'].values)\n",
      "/var/folders/2m/72fcyjmd7vs3g18rkfwx7nw40000gn/T/ipykernel_52959/2168649317.py:2: DeprecationWarning: Conversion of an array with ndim > 0 to a scalar is deprecated, and will error in future. Ensure you extract a single element from your array before performing this operation. (Deprecated NumPy 1.25.)\n",
      "  corr = float(pg.corr(y, y_pred, correction = 'bicor')['r'].values)\n"
     ]
    },
    {
     "name": "stdout",
     "output_type": "stream",
     "text": [
      "Target cbcl_scr_syn_thought_t\n"
     ]
    },
    {
     "name": "stderr",
     "output_type": "stream",
     "text": [
      "/var/folders/2m/72fcyjmd7vs3g18rkfwx7nw40000gn/T/ipykernel_52959/2168649317.py:2: DeprecationWarning: Conversion of an array with ndim > 0 to a scalar is deprecated, and will error in future. Ensure you extract a single element from your array before performing this operation. (Deprecated NumPy 1.25.)\n",
      "  corr = float(pg.corr(y, y_pred, correction = 'bicor')['r'].values)\n",
      "/var/folders/2m/72fcyjmd7vs3g18rkfwx7nw40000gn/T/ipykernel_52959/2168649317.py:2: DeprecationWarning: Conversion of an array with ndim > 0 to a scalar is deprecated, and will error in future. Ensure you extract a single element from your array before performing this operation. (Deprecated NumPy 1.25.)\n",
      "  corr = float(pg.corr(y, y_pred, correction = 'bicor')['r'].values)\n"
     ]
    },
    {
     "name": "stdout",
     "output_type": "stream",
     "text": [
      "Target cbcl_scr_syn_attention_t\n"
     ]
    },
    {
     "name": "stderr",
     "output_type": "stream",
     "text": [
      "/var/folders/2m/72fcyjmd7vs3g18rkfwx7nw40000gn/T/ipykernel_52959/2168649317.py:2: DeprecationWarning: Conversion of an array with ndim > 0 to a scalar is deprecated, and will error in future. Ensure you extract a single element from your array before performing this operation. (Deprecated NumPy 1.25.)\n",
      "  corr = float(pg.corr(y, y_pred, correction = 'bicor')['r'].values)\n",
      "/var/folders/2m/72fcyjmd7vs3g18rkfwx7nw40000gn/T/ipykernel_52959/2168649317.py:2: DeprecationWarning: Conversion of an array with ndim > 0 to a scalar is deprecated, and will error in future. Ensure you extract a single element from your array before performing this operation. (Deprecated NumPy 1.25.)\n",
      "  corr = float(pg.corr(y, y_pred, correction = 'bicor')['r'].values)\n"
     ]
    },
    {
     "name": "stdout",
     "output_type": "stream",
     "text": [
      "Target cbcl_scr_syn_rulebreak_t\n"
     ]
    },
    {
     "name": "stderr",
     "output_type": "stream",
     "text": [
      "/var/folders/2m/72fcyjmd7vs3g18rkfwx7nw40000gn/T/ipykernel_52959/2168649317.py:2: DeprecationWarning: Conversion of an array with ndim > 0 to a scalar is deprecated, and will error in future. Ensure you extract a single element from your array before performing this operation. (Deprecated NumPy 1.25.)\n",
      "  corr = float(pg.corr(y, y_pred, correction = 'bicor')['r'].values)\n",
      "/var/folders/2m/72fcyjmd7vs3g18rkfwx7nw40000gn/T/ipykernel_52959/2168649317.py:2: DeprecationWarning: Conversion of an array with ndim > 0 to a scalar is deprecated, and will error in future. Ensure you extract a single element from your array before performing this operation. (Deprecated NumPy 1.25.)\n",
      "  corr = float(pg.corr(y, y_pred, correction = 'bicor')['r'].values)\n"
     ]
    },
    {
     "name": "stdout",
     "output_type": "stream",
     "text": [
      "Target cbcl_scr_syn_aggressive_t\n"
     ]
    },
    {
     "name": "stderr",
     "output_type": "stream",
     "text": [
      "/var/folders/2m/72fcyjmd7vs3g18rkfwx7nw40000gn/T/ipykernel_52959/2168649317.py:2: DeprecationWarning: Conversion of an array with ndim > 0 to a scalar is deprecated, and will error in future. Ensure you extract a single element from your array before performing this operation. (Deprecated NumPy 1.25.)\n",
      "  corr = float(pg.corr(y, y_pred, correction = 'bicor')['r'].values)\n",
      "/var/folders/2m/72fcyjmd7vs3g18rkfwx7nw40000gn/T/ipykernel_52959/2168649317.py:2: DeprecationWarning: Conversion of an array with ndim > 0 to a scalar is deprecated, and will error in future. Ensure you extract a single element from your array before performing this operation. (Deprecated NumPy 1.25.)\n",
      "  corr = float(pg.corr(y, y_pred, correction = 'bicor')['r'].values)\n"
     ]
    },
    {
     "name": "stdout",
     "output_type": "stream",
     "text": [
      "Target cbcl_scr_syn_internal_t\n"
     ]
    },
    {
     "name": "stderr",
     "output_type": "stream",
     "text": [
      "/var/folders/2m/72fcyjmd7vs3g18rkfwx7nw40000gn/T/ipykernel_52959/2168649317.py:2: DeprecationWarning: Conversion of an array with ndim > 0 to a scalar is deprecated, and will error in future. Ensure you extract a single element from your array before performing this operation. (Deprecated NumPy 1.25.)\n",
      "  corr = float(pg.corr(y, y_pred, correction = 'bicor')['r'].values)\n",
      "/var/folders/2m/72fcyjmd7vs3g18rkfwx7nw40000gn/T/ipykernel_52959/2168649317.py:2: DeprecationWarning: Conversion of an array with ndim > 0 to a scalar is deprecated, and will error in future. Ensure you extract a single element from your array before performing this operation. (Deprecated NumPy 1.25.)\n",
      "  corr = float(pg.corr(y, y_pred, correction = 'bicor')['r'].values)\n"
     ]
    },
    {
     "name": "stdout",
     "output_type": "stream",
     "text": [
      "Target cbcl_scr_syn_external_t\n"
     ]
    },
    {
     "name": "stderr",
     "output_type": "stream",
     "text": [
      "/var/folders/2m/72fcyjmd7vs3g18rkfwx7nw40000gn/T/ipykernel_52959/2168649317.py:2: DeprecationWarning: Conversion of an array with ndim > 0 to a scalar is deprecated, and will error in future. Ensure you extract a single element from your array before performing this operation. (Deprecated NumPy 1.25.)\n",
      "  corr = float(pg.corr(y, y_pred, correction = 'bicor')['r'].values)\n",
      "/var/folders/2m/72fcyjmd7vs3g18rkfwx7nw40000gn/T/ipykernel_52959/2168649317.py:2: DeprecationWarning: Conversion of an array with ndim > 0 to a scalar is deprecated, and will error in future. Ensure you extract a single element from your array before performing this operation. (Deprecated NumPy 1.25.)\n",
      "  corr = float(pg.corr(y, y_pred, correction = 'bicor')['r'].values)\n"
     ]
    },
    {
     "name": "stdout",
     "output_type": "stream",
     "text": [
      "Target cbcl_scr_syn_totprob_t\n"
     ]
    },
    {
     "name": "stderr",
     "output_type": "stream",
     "text": [
      "/var/folders/2m/72fcyjmd7vs3g18rkfwx7nw40000gn/T/ipykernel_52959/2168649317.py:2: DeprecationWarning: Conversion of an array with ndim > 0 to a scalar is deprecated, and will error in future. Ensure you extract a single element from your array before performing this operation. (Deprecated NumPy 1.25.)\n",
      "  corr = float(pg.corr(y, y_pred, correction = 'bicor')['r'].values)\n",
      "/var/folders/2m/72fcyjmd7vs3g18rkfwx7nw40000gn/T/ipykernel_52959/2168649317.py:2: DeprecationWarning: Conversion of an array with ndim > 0 to a scalar is deprecated, and will error in future. Ensure you extract a single element from your array before performing this operation. (Deprecated NumPy 1.25.)\n",
      "  corr = float(pg.corr(y, y_pred, correction = 'bicor')['r'].values)\n",
      "100%|██████████| 50/50 [00:20<00:00,  2.44it/s]\n",
      " 40%|████      | 4/10 [01:24<02:05, 20.99s/it]"
     ]
    },
    {
     "name": "stdout",
     "output_type": "stream",
     "text": [
      "Run 101\n"
     ]
    },
    {
     "name": "stderr",
     "output_type": "stream",
     "text": []
    },
    {
     "name": "stdout",
     "output_type": "stream",
     "text": [
      "Target cbcl_scr_syn_anxdep_t\n"
     ]
    },
    {
     "name": "stderr",
     "output_type": "stream",
     "text": [
      "/var/folders/2m/72fcyjmd7vs3g18rkfwx7nw40000gn/T/ipykernel_52959/2168649317.py:2: DeprecationWarning: Conversion of an array with ndim > 0 to a scalar is deprecated, and will error in future. Ensure you extract a single element from your array before performing this operation. (Deprecated NumPy 1.25.)\n",
      "  corr = float(pg.corr(y, y_pred, correction = 'bicor')['r'].values)\n",
      "/var/folders/2m/72fcyjmd7vs3g18rkfwx7nw40000gn/T/ipykernel_52959/2168649317.py:2: DeprecationWarning: Conversion of an array with ndim > 0 to a scalar is deprecated, and will error in future. Ensure you extract a single element from your array before performing this operation. (Deprecated NumPy 1.25.)\n",
      "  corr = float(pg.corr(y, y_pred, correction = 'bicor')['r'].values)\n"
     ]
    },
    {
     "name": "stdout",
     "output_type": "stream",
     "text": [
      "Target cbcl_scr_syn_withdep_t\n"
     ]
    },
    {
     "name": "stderr",
     "output_type": "stream",
     "text": [
      "/var/folders/2m/72fcyjmd7vs3g18rkfwx7nw40000gn/T/ipykernel_52959/2168649317.py:2: DeprecationWarning: Conversion of an array with ndim > 0 to a scalar is deprecated, and will error in future. Ensure you extract a single element from your array before performing this operation. (Deprecated NumPy 1.25.)\n",
      "  corr = float(pg.corr(y, y_pred, correction = 'bicor')['r'].values)\n",
      "/var/folders/2m/72fcyjmd7vs3g18rkfwx7nw40000gn/T/ipykernel_52959/2168649317.py:2: DeprecationWarning: Conversion of an array with ndim > 0 to a scalar is deprecated, and will error in future. Ensure you extract a single element from your array before performing this operation. (Deprecated NumPy 1.25.)\n",
      "  corr = float(pg.corr(y, y_pred, correction = 'bicor')['r'].values)\n"
     ]
    },
    {
     "name": "stdout",
     "output_type": "stream",
     "text": [
      "Target cbcl_scr_syn_somatic_t\n"
     ]
    },
    {
     "name": "stderr",
     "output_type": "stream",
     "text": [
      "/var/folders/2m/72fcyjmd7vs3g18rkfwx7nw40000gn/T/ipykernel_52959/2168649317.py:2: DeprecationWarning: Conversion of an array with ndim > 0 to a scalar is deprecated, and will error in future. Ensure you extract a single element from your array before performing this operation. (Deprecated NumPy 1.25.)\n",
      "  corr = float(pg.corr(y, y_pred, correction = 'bicor')['r'].values)\n",
      "/var/folders/2m/72fcyjmd7vs3g18rkfwx7nw40000gn/T/ipykernel_52959/2168649317.py:2: DeprecationWarning: Conversion of an array with ndim > 0 to a scalar is deprecated, and will error in future. Ensure you extract a single element from your array before performing this operation. (Deprecated NumPy 1.25.)\n",
      "  corr = float(pg.corr(y, y_pred, correction = 'bicor')['r'].values)\n"
     ]
    },
    {
     "name": "stdout",
     "output_type": "stream",
     "text": [
      "Target cbcl_scr_syn_social_t\n"
     ]
    },
    {
     "name": "stderr",
     "output_type": "stream",
     "text": [
      "/var/folders/2m/72fcyjmd7vs3g18rkfwx7nw40000gn/T/ipykernel_52959/2168649317.py:2: DeprecationWarning: Conversion of an array with ndim > 0 to a scalar is deprecated, and will error in future. Ensure you extract a single element from your array before performing this operation. (Deprecated NumPy 1.25.)\n",
      "  corr = float(pg.corr(y, y_pred, correction = 'bicor')['r'].values)\n",
      "/var/folders/2m/72fcyjmd7vs3g18rkfwx7nw40000gn/T/ipykernel_52959/2168649317.py:2: DeprecationWarning: Conversion of an array with ndim > 0 to a scalar is deprecated, and will error in future. Ensure you extract a single element from your array before performing this operation. (Deprecated NumPy 1.25.)\n",
      "  corr = float(pg.corr(y, y_pred, correction = 'bicor')['r'].values)\n"
     ]
    },
    {
     "name": "stdout",
     "output_type": "stream",
     "text": [
      "Target cbcl_scr_syn_thought_t\n"
     ]
    },
    {
     "name": "stderr",
     "output_type": "stream",
     "text": [
      "/var/folders/2m/72fcyjmd7vs3g18rkfwx7nw40000gn/T/ipykernel_52959/2168649317.py:2: DeprecationWarning: Conversion of an array with ndim > 0 to a scalar is deprecated, and will error in future. Ensure you extract a single element from your array before performing this operation. (Deprecated NumPy 1.25.)\n",
      "  corr = float(pg.corr(y, y_pred, correction = 'bicor')['r'].values)\n",
      "/var/folders/2m/72fcyjmd7vs3g18rkfwx7nw40000gn/T/ipykernel_52959/2168649317.py:2: DeprecationWarning: Conversion of an array with ndim > 0 to a scalar is deprecated, and will error in future. Ensure you extract a single element from your array before performing this operation. (Deprecated NumPy 1.25.)\n",
      "  corr = float(pg.corr(y, y_pred, correction = 'bicor')['r'].values)\n"
     ]
    },
    {
     "name": "stdout",
     "output_type": "stream",
     "text": [
      "Target cbcl_scr_syn_attention_t\n"
     ]
    },
    {
     "name": "stderr",
     "output_type": "stream",
     "text": [
      "/var/folders/2m/72fcyjmd7vs3g18rkfwx7nw40000gn/T/ipykernel_52959/2168649317.py:2: DeprecationWarning: Conversion of an array with ndim > 0 to a scalar is deprecated, and will error in future. Ensure you extract a single element from your array before performing this operation. (Deprecated NumPy 1.25.)\n",
      "  corr = float(pg.corr(y, y_pred, correction = 'bicor')['r'].values)\n",
      "/var/folders/2m/72fcyjmd7vs3g18rkfwx7nw40000gn/T/ipykernel_52959/2168649317.py:2: DeprecationWarning: Conversion of an array with ndim > 0 to a scalar is deprecated, and will error in future. Ensure you extract a single element from your array before performing this operation. (Deprecated NumPy 1.25.)\n",
      "  corr = float(pg.corr(y, y_pred, correction = 'bicor')['r'].values)\n"
     ]
    },
    {
     "name": "stdout",
     "output_type": "stream",
     "text": [
      "Target cbcl_scr_syn_rulebreak_t\n"
     ]
    },
    {
     "name": "stderr",
     "output_type": "stream",
     "text": [
      "/var/folders/2m/72fcyjmd7vs3g18rkfwx7nw40000gn/T/ipykernel_52959/2168649317.py:2: DeprecationWarning: Conversion of an array with ndim > 0 to a scalar is deprecated, and will error in future. Ensure you extract a single element from your array before performing this operation. (Deprecated NumPy 1.25.)\n",
      "  corr = float(pg.corr(y, y_pred, correction = 'bicor')['r'].values)\n",
      "/var/folders/2m/72fcyjmd7vs3g18rkfwx7nw40000gn/T/ipykernel_52959/2168649317.py:2: DeprecationWarning: Conversion of an array with ndim > 0 to a scalar is deprecated, and will error in future. Ensure you extract a single element from your array before performing this operation. (Deprecated NumPy 1.25.)\n",
      "  corr = float(pg.corr(y, y_pred, correction = 'bicor')['r'].values)\n"
     ]
    },
    {
     "name": "stdout",
     "output_type": "stream",
     "text": [
      "Target cbcl_scr_syn_aggressive_t\n"
     ]
    },
    {
     "name": "stderr",
     "output_type": "stream",
     "text": [
      "/var/folders/2m/72fcyjmd7vs3g18rkfwx7nw40000gn/T/ipykernel_52959/2168649317.py:2: DeprecationWarning: Conversion of an array with ndim > 0 to a scalar is deprecated, and will error in future. Ensure you extract a single element from your array before performing this operation. (Deprecated NumPy 1.25.)\n",
      "  corr = float(pg.corr(y, y_pred, correction = 'bicor')['r'].values)\n",
      "/var/folders/2m/72fcyjmd7vs3g18rkfwx7nw40000gn/T/ipykernel_52959/2168649317.py:2: DeprecationWarning: Conversion of an array with ndim > 0 to a scalar is deprecated, and will error in future. Ensure you extract a single element from your array before performing this operation. (Deprecated NumPy 1.25.)\n",
      "  corr = float(pg.corr(y, y_pred, correction = 'bicor')['r'].values)\n"
     ]
    },
    {
     "name": "stdout",
     "output_type": "stream",
     "text": [
      "Target cbcl_scr_syn_internal_t\n"
     ]
    },
    {
     "name": "stderr",
     "output_type": "stream",
     "text": [
      "/var/folders/2m/72fcyjmd7vs3g18rkfwx7nw40000gn/T/ipykernel_52959/2168649317.py:2: DeprecationWarning: Conversion of an array with ndim > 0 to a scalar is deprecated, and will error in future. Ensure you extract a single element from your array before performing this operation. (Deprecated NumPy 1.25.)\n",
      "  corr = float(pg.corr(y, y_pred, correction = 'bicor')['r'].values)\n",
      "/var/folders/2m/72fcyjmd7vs3g18rkfwx7nw40000gn/T/ipykernel_52959/2168649317.py:2: DeprecationWarning: Conversion of an array with ndim > 0 to a scalar is deprecated, and will error in future. Ensure you extract a single element from your array before performing this operation. (Deprecated NumPy 1.25.)\n",
      "  corr = float(pg.corr(y, y_pred, correction = 'bicor')['r'].values)\n"
     ]
    },
    {
     "name": "stdout",
     "output_type": "stream",
     "text": [
      "Target cbcl_scr_syn_external_t\n"
     ]
    },
    {
     "name": "stderr",
     "output_type": "stream",
     "text": [
      "/var/folders/2m/72fcyjmd7vs3g18rkfwx7nw40000gn/T/ipykernel_52959/2168649317.py:2: DeprecationWarning: Conversion of an array with ndim > 0 to a scalar is deprecated, and will error in future. Ensure you extract a single element from your array before performing this operation. (Deprecated NumPy 1.25.)\n",
      "  corr = float(pg.corr(y, y_pred, correction = 'bicor')['r'].values)\n",
      "/var/folders/2m/72fcyjmd7vs3g18rkfwx7nw40000gn/T/ipykernel_52959/2168649317.py:2: DeprecationWarning: Conversion of an array with ndim > 0 to a scalar is deprecated, and will error in future. Ensure you extract a single element from your array before performing this operation. (Deprecated NumPy 1.25.)\n",
      "  corr = float(pg.corr(y, y_pred, correction = 'bicor')['r'].values)\n"
     ]
    },
    {
     "name": "stdout",
     "output_type": "stream",
     "text": [
      "Target cbcl_scr_syn_totprob_t\n"
     ]
    },
    {
     "name": "stderr",
     "output_type": "stream",
     "text": [
      "/var/folders/2m/72fcyjmd7vs3g18rkfwx7nw40000gn/T/ipykernel_52959/2168649317.py:2: DeprecationWarning: Conversion of an array with ndim > 0 to a scalar is deprecated, and will error in future. Ensure you extract a single element from your array before performing this operation. (Deprecated NumPy 1.25.)\n",
      "  corr = float(pg.corr(y, y_pred, correction = 'bicor')['r'].values)\n",
      "/var/folders/2m/72fcyjmd7vs3g18rkfwx7nw40000gn/T/ipykernel_52959/2168649317.py:2: DeprecationWarning: Conversion of an array with ndim > 0 to a scalar is deprecated, and will error in future. Ensure you extract a single element from your array before performing this operation. (Deprecated NumPy 1.25.)\n",
      "  corr = float(pg.corr(y, y_pred, correction = 'bicor')['r'].values)\n",
      "100%|██████████| 50/50 [00:20<00:00,  2.39it/s]\n",
      " 50%|█████     | 5/10 [01:45<01:45, 21.09s/it]"
     ]
    },
    {
     "name": "stdout",
     "output_type": "stream",
     "text": [
      "Run 80\n"
     ]
    },
    {
     "name": "stderr",
     "output_type": "stream",
     "text": []
    },
    {
     "name": "stdout",
     "output_type": "stream",
     "text": [
      "Target cbcl_scr_syn_anxdep_t\n"
     ]
    },
    {
     "name": "stderr",
     "output_type": "stream",
     "text": [
      "/var/folders/2m/72fcyjmd7vs3g18rkfwx7nw40000gn/T/ipykernel_52959/2168649317.py:2: DeprecationWarning: Conversion of an array with ndim > 0 to a scalar is deprecated, and will error in future. Ensure you extract a single element from your array before performing this operation. (Deprecated NumPy 1.25.)\n",
      "  corr = float(pg.corr(y, y_pred, correction = 'bicor')['r'].values)\n",
      "/var/folders/2m/72fcyjmd7vs3g18rkfwx7nw40000gn/T/ipykernel_52959/2168649317.py:2: DeprecationWarning: Conversion of an array with ndim > 0 to a scalar is deprecated, and will error in future. Ensure you extract a single element from your array before performing this operation. (Deprecated NumPy 1.25.)\n",
      "  corr = float(pg.corr(y, y_pred, correction = 'bicor')['r'].values)\n"
     ]
    },
    {
     "name": "stdout",
     "output_type": "stream",
     "text": [
      "Target cbcl_scr_syn_withdep_t\n"
     ]
    },
    {
     "name": "stderr",
     "output_type": "stream",
     "text": [
      "/var/folders/2m/72fcyjmd7vs3g18rkfwx7nw40000gn/T/ipykernel_52959/2168649317.py:2: DeprecationWarning: Conversion of an array with ndim > 0 to a scalar is deprecated, and will error in future. Ensure you extract a single element from your array before performing this operation. (Deprecated NumPy 1.25.)\n",
      "  corr = float(pg.corr(y, y_pred, correction = 'bicor')['r'].values)\n",
      "/var/folders/2m/72fcyjmd7vs3g18rkfwx7nw40000gn/T/ipykernel_52959/2168649317.py:2: DeprecationWarning: Conversion of an array with ndim > 0 to a scalar is deprecated, and will error in future. Ensure you extract a single element from your array before performing this operation. (Deprecated NumPy 1.25.)\n",
      "  corr = float(pg.corr(y, y_pred, correction = 'bicor')['r'].values)\n"
     ]
    },
    {
     "name": "stdout",
     "output_type": "stream",
     "text": [
      "Target cbcl_scr_syn_somatic_t\n"
     ]
    },
    {
     "name": "stderr",
     "output_type": "stream",
     "text": [
      "/var/folders/2m/72fcyjmd7vs3g18rkfwx7nw40000gn/T/ipykernel_52959/2168649317.py:2: DeprecationWarning: Conversion of an array with ndim > 0 to a scalar is deprecated, and will error in future. Ensure you extract a single element from your array before performing this operation. (Deprecated NumPy 1.25.)\n",
      "  corr = float(pg.corr(y, y_pred, correction = 'bicor')['r'].values)\n",
      "/var/folders/2m/72fcyjmd7vs3g18rkfwx7nw40000gn/T/ipykernel_52959/2168649317.py:2: DeprecationWarning: Conversion of an array with ndim > 0 to a scalar is deprecated, and will error in future. Ensure you extract a single element from your array before performing this operation. (Deprecated NumPy 1.25.)\n",
      "  corr = float(pg.corr(y, y_pred, correction = 'bicor')['r'].values)\n"
     ]
    },
    {
     "name": "stdout",
     "output_type": "stream",
     "text": [
      "Target cbcl_scr_syn_social_t\n"
     ]
    },
    {
     "name": "stderr",
     "output_type": "stream",
     "text": [
      "/var/folders/2m/72fcyjmd7vs3g18rkfwx7nw40000gn/T/ipykernel_52959/2168649317.py:2: DeprecationWarning: Conversion of an array with ndim > 0 to a scalar is deprecated, and will error in future. Ensure you extract a single element from your array before performing this operation. (Deprecated NumPy 1.25.)\n",
      "  corr = float(pg.corr(y, y_pred, correction = 'bicor')['r'].values)\n",
      "/var/folders/2m/72fcyjmd7vs3g18rkfwx7nw40000gn/T/ipykernel_52959/2168649317.py:2: DeprecationWarning: Conversion of an array with ndim > 0 to a scalar is deprecated, and will error in future. Ensure you extract a single element from your array before performing this operation. (Deprecated NumPy 1.25.)\n",
      "  corr = float(pg.corr(y, y_pred, correction = 'bicor')['r'].values)\n"
     ]
    },
    {
     "name": "stdout",
     "output_type": "stream",
     "text": [
      "Target cbcl_scr_syn_thought_t\n"
     ]
    },
    {
     "name": "stderr",
     "output_type": "stream",
     "text": [
      "/var/folders/2m/72fcyjmd7vs3g18rkfwx7nw40000gn/T/ipykernel_52959/2168649317.py:2: DeprecationWarning: Conversion of an array with ndim > 0 to a scalar is deprecated, and will error in future. Ensure you extract a single element from your array before performing this operation. (Deprecated NumPy 1.25.)\n",
      "  corr = float(pg.corr(y, y_pred, correction = 'bicor')['r'].values)\n",
      "/var/folders/2m/72fcyjmd7vs3g18rkfwx7nw40000gn/T/ipykernel_52959/2168649317.py:2: DeprecationWarning: Conversion of an array with ndim > 0 to a scalar is deprecated, and will error in future. Ensure you extract a single element from your array before performing this operation. (Deprecated NumPy 1.25.)\n",
      "  corr = float(pg.corr(y, y_pred, correction = 'bicor')['r'].values)\n"
     ]
    },
    {
     "name": "stdout",
     "output_type": "stream",
     "text": [
      "Target cbcl_scr_syn_attention_t\n"
     ]
    },
    {
     "name": "stderr",
     "output_type": "stream",
     "text": [
      "/var/folders/2m/72fcyjmd7vs3g18rkfwx7nw40000gn/T/ipykernel_52959/2168649317.py:2: DeprecationWarning: Conversion of an array with ndim > 0 to a scalar is deprecated, and will error in future. Ensure you extract a single element from your array before performing this operation. (Deprecated NumPy 1.25.)\n",
      "  corr = float(pg.corr(y, y_pred, correction = 'bicor')['r'].values)\n",
      "/var/folders/2m/72fcyjmd7vs3g18rkfwx7nw40000gn/T/ipykernel_52959/2168649317.py:2: DeprecationWarning: Conversion of an array with ndim > 0 to a scalar is deprecated, and will error in future. Ensure you extract a single element from your array before performing this operation. (Deprecated NumPy 1.25.)\n",
      "  corr = float(pg.corr(y, y_pred, correction = 'bicor')['r'].values)\n"
     ]
    },
    {
     "name": "stdout",
     "output_type": "stream",
     "text": [
      "Target cbcl_scr_syn_rulebreak_t\n"
     ]
    },
    {
     "name": "stderr",
     "output_type": "stream",
     "text": [
      "/var/folders/2m/72fcyjmd7vs3g18rkfwx7nw40000gn/T/ipykernel_52959/2168649317.py:2: DeprecationWarning: Conversion of an array with ndim > 0 to a scalar is deprecated, and will error in future. Ensure you extract a single element from your array before performing this operation. (Deprecated NumPy 1.25.)\n",
      "  corr = float(pg.corr(y, y_pred, correction = 'bicor')['r'].values)\n",
      "/var/folders/2m/72fcyjmd7vs3g18rkfwx7nw40000gn/T/ipykernel_52959/2168649317.py:2: DeprecationWarning: Conversion of an array with ndim > 0 to a scalar is deprecated, and will error in future. Ensure you extract a single element from your array before performing this operation. (Deprecated NumPy 1.25.)\n",
      "  corr = float(pg.corr(y, y_pred, correction = 'bicor')['r'].values)\n"
     ]
    },
    {
     "name": "stdout",
     "output_type": "stream",
     "text": [
      "Target cbcl_scr_syn_aggressive_t\n"
     ]
    },
    {
     "name": "stderr",
     "output_type": "stream",
     "text": [
      "/var/folders/2m/72fcyjmd7vs3g18rkfwx7nw40000gn/T/ipykernel_52959/2168649317.py:2: DeprecationWarning: Conversion of an array with ndim > 0 to a scalar is deprecated, and will error in future. Ensure you extract a single element from your array before performing this operation. (Deprecated NumPy 1.25.)\n",
      "  corr = float(pg.corr(y, y_pred, correction = 'bicor')['r'].values)\n",
      "/var/folders/2m/72fcyjmd7vs3g18rkfwx7nw40000gn/T/ipykernel_52959/2168649317.py:2: DeprecationWarning: Conversion of an array with ndim > 0 to a scalar is deprecated, and will error in future. Ensure you extract a single element from your array before performing this operation. (Deprecated NumPy 1.25.)\n",
      "  corr = float(pg.corr(y, y_pred, correction = 'bicor')['r'].values)\n"
     ]
    },
    {
     "name": "stdout",
     "output_type": "stream",
     "text": [
      "Target cbcl_scr_syn_internal_t\n"
     ]
    },
    {
     "name": "stderr",
     "output_type": "stream",
     "text": [
      "/var/folders/2m/72fcyjmd7vs3g18rkfwx7nw40000gn/T/ipykernel_52959/2168649317.py:2: DeprecationWarning: Conversion of an array with ndim > 0 to a scalar is deprecated, and will error in future. Ensure you extract a single element from your array before performing this operation. (Deprecated NumPy 1.25.)\n",
      "  corr = float(pg.corr(y, y_pred, correction = 'bicor')['r'].values)\n",
      "/var/folders/2m/72fcyjmd7vs3g18rkfwx7nw40000gn/T/ipykernel_52959/2168649317.py:2: DeprecationWarning: Conversion of an array with ndim > 0 to a scalar is deprecated, and will error in future. Ensure you extract a single element from your array before performing this operation. (Deprecated NumPy 1.25.)\n",
      "  corr = float(pg.corr(y, y_pred, correction = 'bicor')['r'].values)\n"
     ]
    },
    {
     "name": "stdout",
     "output_type": "stream",
     "text": [
      "Target cbcl_scr_syn_external_t\n"
     ]
    },
    {
     "name": "stderr",
     "output_type": "stream",
     "text": [
      "/var/folders/2m/72fcyjmd7vs3g18rkfwx7nw40000gn/T/ipykernel_52959/2168649317.py:2: DeprecationWarning: Conversion of an array with ndim > 0 to a scalar is deprecated, and will error in future. Ensure you extract a single element from your array before performing this operation. (Deprecated NumPy 1.25.)\n",
      "  corr = float(pg.corr(y, y_pred, correction = 'bicor')['r'].values)\n",
      "/var/folders/2m/72fcyjmd7vs3g18rkfwx7nw40000gn/T/ipykernel_52959/2168649317.py:2: DeprecationWarning: Conversion of an array with ndim > 0 to a scalar is deprecated, and will error in future. Ensure you extract a single element from your array before performing this operation. (Deprecated NumPy 1.25.)\n",
      "  corr = float(pg.corr(y, y_pred, correction = 'bicor')['r'].values)\n"
     ]
    },
    {
     "name": "stdout",
     "output_type": "stream",
     "text": [
      "Target cbcl_scr_syn_totprob_t\n"
     ]
    },
    {
     "name": "stderr",
     "output_type": "stream",
     "text": [
      "/var/folders/2m/72fcyjmd7vs3g18rkfwx7nw40000gn/T/ipykernel_52959/2168649317.py:2: DeprecationWarning: Conversion of an array with ndim > 0 to a scalar is deprecated, and will error in future. Ensure you extract a single element from your array before performing this operation. (Deprecated NumPy 1.25.)\n",
      "  corr = float(pg.corr(y, y_pred, correction = 'bicor')['r'].values)\n",
      "/var/folders/2m/72fcyjmd7vs3g18rkfwx7nw40000gn/T/ipykernel_52959/2168649317.py:2: DeprecationWarning: Conversion of an array with ndim > 0 to a scalar is deprecated, and will error in future. Ensure you extract a single element from your array before performing this operation. (Deprecated NumPy 1.25.)\n",
      "  corr = float(pg.corr(y, y_pred, correction = 'bicor')['r'].values)\n",
      "100%|██████████| 50/50 [00:20<00:00,  2.40it/s]\n",
      " 60%|██████    | 6/10 [02:06<01:24, 21.14s/it]"
     ]
    },
    {
     "name": "stdout",
     "output_type": "stream",
     "text": [
      "Run 422\n"
     ]
    },
    {
     "name": "stderr",
     "output_type": "stream",
     "text": []
    },
    {
     "name": "stdout",
     "output_type": "stream",
     "text": [
      "Target cbcl_scr_syn_anxdep_t\n"
     ]
    },
    {
     "name": "stderr",
     "output_type": "stream",
     "text": [
      "/var/folders/2m/72fcyjmd7vs3g18rkfwx7nw40000gn/T/ipykernel_52959/2168649317.py:2: DeprecationWarning: Conversion of an array with ndim > 0 to a scalar is deprecated, and will error in future. Ensure you extract a single element from your array before performing this operation. (Deprecated NumPy 1.25.)\n",
      "  corr = float(pg.corr(y, y_pred, correction = 'bicor')['r'].values)\n",
      "/var/folders/2m/72fcyjmd7vs3g18rkfwx7nw40000gn/T/ipykernel_52959/2168649317.py:2: DeprecationWarning: Conversion of an array with ndim > 0 to a scalar is deprecated, and will error in future. Ensure you extract a single element from your array before performing this operation. (Deprecated NumPy 1.25.)\n",
      "  corr = float(pg.corr(y, y_pred, correction = 'bicor')['r'].values)\n"
     ]
    },
    {
     "name": "stdout",
     "output_type": "stream",
     "text": [
      "Target cbcl_scr_syn_withdep_t\n"
     ]
    },
    {
     "name": "stderr",
     "output_type": "stream",
     "text": [
      "/var/folders/2m/72fcyjmd7vs3g18rkfwx7nw40000gn/T/ipykernel_52959/2168649317.py:2: DeprecationWarning: Conversion of an array with ndim > 0 to a scalar is deprecated, and will error in future. Ensure you extract a single element from your array before performing this operation. (Deprecated NumPy 1.25.)\n",
      "  corr = float(pg.corr(y, y_pred, correction = 'bicor')['r'].values)\n",
      "/var/folders/2m/72fcyjmd7vs3g18rkfwx7nw40000gn/T/ipykernel_52959/2168649317.py:2: DeprecationWarning: Conversion of an array with ndim > 0 to a scalar is deprecated, and will error in future. Ensure you extract a single element from your array before performing this operation. (Deprecated NumPy 1.25.)\n",
      "  corr = float(pg.corr(y, y_pred, correction = 'bicor')['r'].values)\n"
     ]
    },
    {
     "name": "stdout",
     "output_type": "stream",
     "text": [
      "Target cbcl_scr_syn_somatic_t\n"
     ]
    },
    {
     "name": "stderr",
     "output_type": "stream",
     "text": [
      "/var/folders/2m/72fcyjmd7vs3g18rkfwx7nw40000gn/T/ipykernel_52959/2168649317.py:2: DeprecationWarning: Conversion of an array with ndim > 0 to a scalar is deprecated, and will error in future. Ensure you extract a single element from your array before performing this operation. (Deprecated NumPy 1.25.)\n",
      "  corr = float(pg.corr(y, y_pred, correction = 'bicor')['r'].values)\n",
      "/var/folders/2m/72fcyjmd7vs3g18rkfwx7nw40000gn/T/ipykernel_52959/2168649317.py:2: DeprecationWarning: Conversion of an array with ndim > 0 to a scalar is deprecated, and will error in future. Ensure you extract a single element from your array before performing this operation. (Deprecated NumPy 1.25.)\n",
      "  corr = float(pg.corr(y, y_pred, correction = 'bicor')['r'].values)\n"
     ]
    },
    {
     "name": "stdout",
     "output_type": "stream",
     "text": [
      "Target cbcl_scr_syn_social_t\n"
     ]
    },
    {
     "name": "stderr",
     "output_type": "stream",
     "text": [
      "/var/folders/2m/72fcyjmd7vs3g18rkfwx7nw40000gn/T/ipykernel_52959/2168649317.py:2: DeprecationWarning: Conversion of an array with ndim > 0 to a scalar is deprecated, and will error in future. Ensure you extract a single element from your array before performing this operation. (Deprecated NumPy 1.25.)\n",
      "  corr = float(pg.corr(y, y_pred, correction = 'bicor')['r'].values)\n",
      "/var/folders/2m/72fcyjmd7vs3g18rkfwx7nw40000gn/T/ipykernel_52959/2168649317.py:2: DeprecationWarning: Conversion of an array with ndim > 0 to a scalar is deprecated, and will error in future. Ensure you extract a single element from your array before performing this operation. (Deprecated NumPy 1.25.)\n",
      "  corr = float(pg.corr(y, y_pred, correction = 'bicor')['r'].values)\n"
     ]
    },
    {
     "name": "stdout",
     "output_type": "stream",
     "text": [
      "Target cbcl_scr_syn_thought_t\n"
     ]
    },
    {
     "name": "stderr",
     "output_type": "stream",
     "text": [
      "/var/folders/2m/72fcyjmd7vs3g18rkfwx7nw40000gn/T/ipykernel_52959/2168649317.py:2: DeprecationWarning: Conversion of an array with ndim > 0 to a scalar is deprecated, and will error in future. Ensure you extract a single element from your array before performing this operation. (Deprecated NumPy 1.25.)\n",
      "  corr = float(pg.corr(y, y_pred, correction = 'bicor')['r'].values)\n",
      "/var/folders/2m/72fcyjmd7vs3g18rkfwx7nw40000gn/T/ipykernel_52959/2168649317.py:2: DeprecationWarning: Conversion of an array with ndim > 0 to a scalar is deprecated, and will error in future. Ensure you extract a single element from your array before performing this operation. (Deprecated NumPy 1.25.)\n",
      "  corr = float(pg.corr(y, y_pred, correction = 'bicor')['r'].values)\n"
     ]
    },
    {
     "name": "stdout",
     "output_type": "stream",
     "text": [
      "Target cbcl_scr_syn_attention_t\n"
     ]
    },
    {
     "name": "stderr",
     "output_type": "stream",
     "text": [
      "/var/folders/2m/72fcyjmd7vs3g18rkfwx7nw40000gn/T/ipykernel_52959/2168649317.py:2: DeprecationWarning: Conversion of an array with ndim > 0 to a scalar is deprecated, and will error in future. Ensure you extract a single element from your array before performing this operation. (Deprecated NumPy 1.25.)\n",
      "  corr = float(pg.corr(y, y_pred, correction = 'bicor')['r'].values)\n",
      "/var/folders/2m/72fcyjmd7vs3g18rkfwx7nw40000gn/T/ipykernel_52959/2168649317.py:2: DeprecationWarning: Conversion of an array with ndim > 0 to a scalar is deprecated, and will error in future. Ensure you extract a single element from your array before performing this operation. (Deprecated NumPy 1.25.)\n",
      "  corr = float(pg.corr(y, y_pred, correction = 'bicor')['r'].values)\n"
     ]
    },
    {
     "name": "stdout",
     "output_type": "stream",
     "text": [
      "Target cbcl_scr_syn_rulebreak_t\n"
     ]
    },
    {
     "name": "stderr",
     "output_type": "stream",
     "text": [
      "/var/folders/2m/72fcyjmd7vs3g18rkfwx7nw40000gn/T/ipykernel_52959/2168649317.py:2: DeprecationWarning: Conversion of an array with ndim > 0 to a scalar is deprecated, and will error in future. Ensure you extract a single element from your array before performing this operation. (Deprecated NumPy 1.25.)\n",
      "  corr = float(pg.corr(y, y_pred, correction = 'bicor')['r'].values)\n",
      "/var/folders/2m/72fcyjmd7vs3g18rkfwx7nw40000gn/T/ipykernel_52959/2168649317.py:2: DeprecationWarning: Conversion of an array with ndim > 0 to a scalar is deprecated, and will error in future. Ensure you extract a single element from your array before performing this operation. (Deprecated NumPy 1.25.)\n",
      "  corr = float(pg.corr(y, y_pred, correction = 'bicor')['r'].values)\n"
     ]
    },
    {
     "name": "stdout",
     "output_type": "stream",
     "text": [
      "Target cbcl_scr_syn_aggressive_t\n"
     ]
    },
    {
     "name": "stderr",
     "output_type": "stream",
     "text": [
      "/var/folders/2m/72fcyjmd7vs3g18rkfwx7nw40000gn/T/ipykernel_52959/2168649317.py:2: DeprecationWarning: Conversion of an array with ndim > 0 to a scalar is deprecated, and will error in future. Ensure you extract a single element from your array before performing this operation. (Deprecated NumPy 1.25.)\n",
      "  corr = float(pg.corr(y, y_pred, correction = 'bicor')['r'].values)\n",
      "/var/folders/2m/72fcyjmd7vs3g18rkfwx7nw40000gn/T/ipykernel_52959/2168649317.py:2: DeprecationWarning: Conversion of an array with ndim > 0 to a scalar is deprecated, and will error in future. Ensure you extract a single element from your array before performing this operation. (Deprecated NumPy 1.25.)\n",
      "  corr = float(pg.corr(y, y_pred, correction = 'bicor')['r'].values)\n"
     ]
    },
    {
     "name": "stdout",
     "output_type": "stream",
     "text": [
      "Target cbcl_scr_syn_internal_t\n"
     ]
    },
    {
     "name": "stderr",
     "output_type": "stream",
     "text": [
      "/var/folders/2m/72fcyjmd7vs3g18rkfwx7nw40000gn/T/ipykernel_52959/2168649317.py:2: DeprecationWarning: Conversion of an array with ndim > 0 to a scalar is deprecated, and will error in future. Ensure you extract a single element from your array before performing this operation. (Deprecated NumPy 1.25.)\n",
      "  corr = float(pg.corr(y, y_pred, correction = 'bicor')['r'].values)\n",
      "/var/folders/2m/72fcyjmd7vs3g18rkfwx7nw40000gn/T/ipykernel_52959/2168649317.py:2: DeprecationWarning: Conversion of an array with ndim > 0 to a scalar is deprecated, and will error in future. Ensure you extract a single element from your array before performing this operation. (Deprecated NumPy 1.25.)\n",
      "  corr = float(pg.corr(y, y_pred, correction = 'bicor')['r'].values)\n"
     ]
    },
    {
     "name": "stdout",
     "output_type": "stream",
     "text": [
      "Target cbcl_scr_syn_external_t\n"
     ]
    },
    {
     "name": "stderr",
     "output_type": "stream",
     "text": [
      "/var/folders/2m/72fcyjmd7vs3g18rkfwx7nw40000gn/T/ipykernel_52959/2168649317.py:2: DeprecationWarning: Conversion of an array with ndim > 0 to a scalar is deprecated, and will error in future. Ensure you extract a single element from your array before performing this operation. (Deprecated NumPy 1.25.)\n",
      "  corr = float(pg.corr(y, y_pred, correction = 'bicor')['r'].values)\n",
      "/var/folders/2m/72fcyjmd7vs3g18rkfwx7nw40000gn/T/ipykernel_52959/2168649317.py:2: DeprecationWarning: Conversion of an array with ndim > 0 to a scalar is deprecated, and will error in future. Ensure you extract a single element from your array before performing this operation. (Deprecated NumPy 1.25.)\n",
      "  corr = float(pg.corr(y, y_pred, correction = 'bicor')['r'].values)\n"
     ]
    },
    {
     "name": "stdout",
     "output_type": "stream",
     "text": [
      "Target cbcl_scr_syn_totprob_t\n"
     ]
    },
    {
     "name": "stderr",
     "output_type": "stream",
     "text": [
      "/var/folders/2m/72fcyjmd7vs3g18rkfwx7nw40000gn/T/ipykernel_52959/2168649317.py:2: DeprecationWarning: Conversion of an array with ndim > 0 to a scalar is deprecated, and will error in future. Ensure you extract a single element from your array before performing this operation. (Deprecated NumPy 1.25.)\n",
      "  corr = float(pg.corr(y, y_pred, correction = 'bicor')['r'].values)\n",
      "/var/folders/2m/72fcyjmd7vs3g18rkfwx7nw40000gn/T/ipykernel_52959/2168649317.py:2: DeprecationWarning: Conversion of an array with ndim > 0 to a scalar is deprecated, and will error in future. Ensure you extract a single element from your array before performing this operation. (Deprecated NumPy 1.25.)\n",
      "  corr = float(pg.corr(y, y_pred, correction = 'bicor')['r'].values)\n",
      "100%|██████████| 50/50 [00:22<00:00,  2.25it/s]\n",
      " 70%|███████   | 7/10 [02:29<01:05, 21.67s/it]"
     ]
    },
    {
     "name": "stdout",
     "output_type": "stream",
     "text": [
      "Run 142\n"
     ]
    },
    {
     "name": "stderr",
     "output_type": "stream",
     "text": []
    },
    {
     "name": "stdout",
     "output_type": "stream",
     "text": [
      "Target cbcl_scr_syn_anxdep_t\n"
     ]
    },
    {
     "name": "stderr",
     "output_type": "stream",
     "text": [
      "/var/folders/2m/72fcyjmd7vs3g18rkfwx7nw40000gn/T/ipykernel_52959/2168649317.py:2: DeprecationWarning: Conversion of an array with ndim > 0 to a scalar is deprecated, and will error in future. Ensure you extract a single element from your array before performing this operation. (Deprecated NumPy 1.25.)\n",
      "  corr = float(pg.corr(y, y_pred, correction = 'bicor')['r'].values)\n",
      "/var/folders/2m/72fcyjmd7vs3g18rkfwx7nw40000gn/T/ipykernel_52959/2168649317.py:2: DeprecationWarning: Conversion of an array with ndim > 0 to a scalar is deprecated, and will error in future. Ensure you extract a single element from your array before performing this operation. (Deprecated NumPy 1.25.)\n",
      "  corr = float(pg.corr(y, y_pred, correction = 'bicor')['r'].values)\n"
     ]
    },
    {
     "name": "stdout",
     "output_type": "stream",
     "text": [
      "Target cbcl_scr_syn_withdep_t\n"
     ]
    },
    {
     "name": "stderr",
     "output_type": "stream",
     "text": [
      "/var/folders/2m/72fcyjmd7vs3g18rkfwx7nw40000gn/T/ipykernel_52959/2168649317.py:2: DeprecationWarning: Conversion of an array with ndim > 0 to a scalar is deprecated, and will error in future. Ensure you extract a single element from your array before performing this operation. (Deprecated NumPy 1.25.)\n",
      "  corr = float(pg.corr(y, y_pred, correction = 'bicor')['r'].values)\n",
      "/var/folders/2m/72fcyjmd7vs3g18rkfwx7nw40000gn/T/ipykernel_52959/2168649317.py:2: DeprecationWarning: Conversion of an array with ndim > 0 to a scalar is deprecated, and will error in future. Ensure you extract a single element from your array before performing this operation. (Deprecated NumPy 1.25.)\n",
      "  corr = float(pg.corr(y, y_pred, correction = 'bicor')['r'].values)\n"
     ]
    },
    {
     "name": "stdout",
     "output_type": "stream",
     "text": [
      "Target cbcl_scr_syn_somatic_t\n"
     ]
    },
    {
     "name": "stderr",
     "output_type": "stream",
     "text": [
      "/var/folders/2m/72fcyjmd7vs3g18rkfwx7nw40000gn/T/ipykernel_52959/2168649317.py:2: DeprecationWarning: Conversion of an array with ndim > 0 to a scalar is deprecated, and will error in future. Ensure you extract a single element from your array before performing this operation. (Deprecated NumPy 1.25.)\n",
      "  corr = float(pg.corr(y, y_pred, correction = 'bicor')['r'].values)\n",
      "/var/folders/2m/72fcyjmd7vs3g18rkfwx7nw40000gn/T/ipykernel_52959/2168649317.py:2: DeprecationWarning: Conversion of an array with ndim > 0 to a scalar is deprecated, and will error in future. Ensure you extract a single element from your array before performing this operation. (Deprecated NumPy 1.25.)\n",
      "  corr = float(pg.corr(y, y_pred, correction = 'bicor')['r'].values)\n"
     ]
    },
    {
     "name": "stdout",
     "output_type": "stream",
     "text": [
      "Target cbcl_scr_syn_social_t\n"
     ]
    },
    {
     "name": "stderr",
     "output_type": "stream",
     "text": [
      "/var/folders/2m/72fcyjmd7vs3g18rkfwx7nw40000gn/T/ipykernel_52959/2168649317.py:2: DeprecationWarning: Conversion of an array with ndim > 0 to a scalar is deprecated, and will error in future. Ensure you extract a single element from your array before performing this operation. (Deprecated NumPy 1.25.)\n",
      "  corr = float(pg.corr(y, y_pred, correction = 'bicor')['r'].values)\n",
      "/var/folders/2m/72fcyjmd7vs3g18rkfwx7nw40000gn/T/ipykernel_52959/2168649317.py:2: DeprecationWarning: Conversion of an array with ndim > 0 to a scalar is deprecated, and will error in future. Ensure you extract a single element from your array before performing this operation. (Deprecated NumPy 1.25.)\n",
      "  corr = float(pg.corr(y, y_pred, correction = 'bicor')['r'].values)\n"
     ]
    },
    {
     "name": "stdout",
     "output_type": "stream",
     "text": [
      "Target cbcl_scr_syn_thought_t\n"
     ]
    },
    {
     "name": "stderr",
     "output_type": "stream",
     "text": [
      "/var/folders/2m/72fcyjmd7vs3g18rkfwx7nw40000gn/T/ipykernel_52959/2168649317.py:2: DeprecationWarning: Conversion of an array with ndim > 0 to a scalar is deprecated, and will error in future. Ensure you extract a single element from your array before performing this operation. (Deprecated NumPy 1.25.)\n",
      "  corr = float(pg.corr(y, y_pred, correction = 'bicor')['r'].values)\n",
      "/var/folders/2m/72fcyjmd7vs3g18rkfwx7nw40000gn/T/ipykernel_52959/2168649317.py:2: DeprecationWarning: Conversion of an array with ndim > 0 to a scalar is deprecated, and will error in future. Ensure you extract a single element from your array before performing this operation. (Deprecated NumPy 1.25.)\n",
      "  corr = float(pg.corr(y, y_pred, correction = 'bicor')['r'].values)\n"
     ]
    },
    {
     "name": "stdout",
     "output_type": "stream",
     "text": [
      "Target cbcl_scr_syn_attention_t\n"
     ]
    },
    {
     "name": "stderr",
     "output_type": "stream",
     "text": [
      "/var/folders/2m/72fcyjmd7vs3g18rkfwx7nw40000gn/T/ipykernel_52959/2168649317.py:2: DeprecationWarning: Conversion of an array with ndim > 0 to a scalar is deprecated, and will error in future. Ensure you extract a single element from your array before performing this operation. (Deprecated NumPy 1.25.)\n",
      "  corr = float(pg.corr(y, y_pred, correction = 'bicor')['r'].values)\n",
      "/var/folders/2m/72fcyjmd7vs3g18rkfwx7nw40000gn/T/ipykernel_52959/2168649317.py:2: DeprecationWarning: Conversion of an array with ndim > 0 to a scalar is deprecated, and will error in future. Ensure you extract a single element from your array before performing this operation. (Deprecated NumPy 1.25.)\n",
      "  corr = float(pg.corr(y, y_pred, correction = 'bicor')['r'].values)\n"
     ]
    },
    {
     "name": "stdout",
     "output_type": "stream",
     "text": [
      "Target cbcl_scr_syn_rulebreak_t\n"
     ]
    },
    {
     "name": "stderr",
     "output_type": "stream",
     "text": [
      "/var/folders/2m/72fcyjmd7vs3g18rkfwx7nw40000gn/T/ipykernel_52959/2168649317.py:2: DeprecationWarning: Conversion of an array with ndim > 0 to a scalar is deprecated, and will error in future. Ensure you extract a single element from your array before performing this operation. (Deprecated NumPy 1.25.)\n",
      "  corr = float(pg.corr(y, y_pred, correction = 'bicor')['r'].values)\n",
      "/var/folders/2m/72fcyjmd7vs3g18rkfwx7nw40000gn/T/ipykernel_52959/2168649317.py:2: DeprecationWarning: Conversion of an array with ndim > 0 to a scalar is deprecated, and will error in future. Ensure you extract a single element from your array before performing this operation. (Deprecated NumPy 1.25.)\n",
      "  corr = float(pg.corr(y, y_pred, correction = 'bicor')['r'].values)\n"
     ]
    },
    {
     "name": "stdout",
     "output_type": "stream",
     "text": [
      "Target cbcl_scr_syn_aggressive_t\n"
     ]
    },
    {
     "name": "stderr",
     "output_type": "stream",
     "text": [
      "/var/folders/2m/72fcyjmd7vs3g18rkfwx7nw40000gn/T/ipykernel_52959/2168649317.py:2: DeprecationWarning: Conversion of an array with ndim > 0 to a scalar is deprecated, and will error in future. Ensure you extract a single element from your array before performing this operation. (Deprecated NumPy 1.25.)\n",
      "  corr = float(pg.corr(y, y_pred, correction = 'bicor')['r'].values)\n",
      "/var/folders/2m/72fcyjmd7vs3g18rkfwx7nw40000gn/T/ipykernel_52959/2168649317.py:2: DeprecationWarning: Conversion of an array with ndim > 0 to a scalar is deprecated, and will error in future. Ensure you extract a single element from your array before performing this operation. (Deprecated NumPy 1.25.)\n",
      "  corr = float(pg.corr(y, y_pred, correction = 'bicor')['r'].values)\n"
     ]
    },
    {
     "name": "stdout",
     "output_type": "stream",
     "text": [
      "Target cbcl_scr_syn_internal_t\n"
     ]
    },
    {
     "name": "stderr",
     "output_type": "stream",
     "text": [
      "/var/folders/2m/72fcyjmd7vs3g18rkfwx7nw40000gn/T/ipykernel_52959/2168649317.py:2: DeprecationWarning: Conversion of an array with ndim > 0 to a scalar is deprecated, and will error in future. Ensure you extract a single element from your array before performing this operation. (Deprecated NumPy 1.25.)\n",
      "  corr = float(pg.corr(y, y_pred, correction = 'bicor')['r'].values)\n",
      "/var/folders/2m/72fcyjmd7vs3g18rkfwx7nw40000gn/T/ipykernel_52959/2168649317.py:2: DeprecationWarning: Conversion of an array with ndim > 0 to a scalar is deprecated, and will error in future. Ensure you extract a single element from your array before performing this operation. (Deprecated NumPy 1.25.)\n",
      "  corr = float(pg.corr(y, y_pred, correction = 'bicor')['r'].values)\n"
     ]
    },
    {
     "name": "stdout",
     "output_type": "stream",
     "text": [
      "Target cbcl_scr_syn_external_t\n"
     ]
    },
    {
     "name": "stderr",
     "output_type": "stream",
     "text": [
      "/var/folders/2m/72fcyjmd7vs3g18rkfwx7nw40000gn/T/ipykernel_52959/2168649317.py:2: DeprecationWarning: Conversion of an array with ndim > 0 to a scalar is deprecated, and will error in future. Ensure you extract a single element from your array before performing this operation. (Deprecated NumPy 1.25.)\n",
      "  corr = float(pg.corr(y, y_pred, correction = 'bicor')['r'].values)\n",
      "/var/folders/2m/72fcyjmd7vs3g18rkfwx7nw40000gn/T/ipykernel_52959/2168649317.py:2: DeprecationWarning: Conversion of an array with ndim > 0 to a scalar is deprecated, and will error in future. Ensure you extract a single element from your array before performing this operation. (Deprecated NumPy 1.25.)\n",
      "  corr = float(pg.corr(y, y_pred, correction = 'bicor')['r'].values)\n"
     ]
    },
    {
     "name": "stdout",
     "output_type": "stream",
     "text": [
      "Target cbcl_scr_syn_totprob_t\n"
     ]
    },
    {
     "name": "stderr",
     "output_type": "stream",
     "text": [
      "/var/folders/2m/72fcyjmd7vs3g18rkfwx7nw40000gn/T/ipykernel_52959/2168649317.py:2: DeprecationWarning: Conversion of an array with ndim > 0 to a scalar is deprecated, and will error in future. Ensure you extract a single element from your array before performing this operation. (Deprecated NumPy 1.25.)\n",
      "  corr = float(pg.corr(y, y_pred, correction = 'bicor')['r'].values)\n",
      "/var/folders/2m/72fcyjmd7vs3g18rkfwx7nw40000gn/T/ipykernel_52959/2168649317.py:2: DeprecationWarning: Conversion of an array with ndim > 0 to a scalar is deprecated, and will error in future. Ensure you extract a single element from your array before performing this operation. (Deprecated NumPy 1.25.)\n",
      "  corr = float(pg.corr(y, y_pred, correction = 'bicor')['r'].values)\n",
      "100%|██████████| 50/50 [00:21<00:00,  2.32it/s]\n",
      " 80%|████████  | 8/10 [02:51<00:43, 21.84s/it]"
     ]
    },
    {
     "name": "stdout",
     "output_type": "stream",
     "text": [
      "Run 128\n"
     ]
    },
    {
     "name": "stderr",
     "output_type": "stream",
     "text": []
    },
    {
     "name": "stdout",
     "output_type": "stream",
     "text": [
      "Target cbcl_scr_syn_anxdep_t\n"
     ]
    },
    {
     "name": "stderr",
     "output_type": "stream",
     "text": [
      "/var/folders/2m/72fcyjmd7vs3g18rkfwx7nw40000gn/T/ipykernel_52959/2168649317.py:2: DeprecationWarning: Conversion of an array with ndim > 0 to a scalar is deprecated, and will error in future. Ensure you extract a single element from your array before performing this operation. (Deprecated NumPy 1.25.)\n",
      "  corr = float(pg.corr(y, y_pred, correction = 'bicor')['r'].values)\n",
      "/var/folders/2m/72fcyjmd7vs3g18rkfwx7nw40000gn/T/ipykernel_52959/2168649317.py:2: DeprecationWarning: Conversion of an array with ndim > 0 to a scalar is deprecated, and will error in future. Ensure you extract a single element from your array before performing this operation. (Deprecated NumPy 1.25.)\n",
      "  corr = float(pg.corr(y, y_pred, correction = 'bicor')['r'].values)\n"
     ]
    },
    {
     "name": "stdout",
     "output_type": "stream",
     "text": [
      "Target cbcl_scr_syn_withdep_t\n"
     ]
    },
    {
     "name": "stderr",
     "output_type": "stream",
     "text": [
      "/var/folders/2m/72fcyjmd7vs3g18rkfwx7nw40000gn/T/ipykernel_52959/2168649317.py:2: DeprecationWarning: Conversion of an array with ndim > 0 to a scalar is deprecated, and will error in future. Ensure you extract a single element from your array before performing this operation. (Deprecated NumPy 1.25.)\n",
      "  corr = float(pg.corr(y, y_pred, correction = 'bicor')['r'].values)\n",
      "/var/folders/2m/72fcyjmd7vs3g18rkfwx7nw40000gn/T/ipykernel_52959/2168649317.py:2: DeprecationWarning: Conversion of an array with ndim > 0 to a scalar is deprecated, and will error in future. Ensure you extract a single element from your array before performing this operation. (Deprecated NumPy 1.25.)\n",
      "  corr = float(pg.corr(y, y_pred, correction = 'bicor')['r'].values)\n"
     ]
    },
    {
     "name": "stdout",
     "output_type": "stream",
     "text": [
      "Target cbcl_scr_syn_somatic_t\n"
     ]
    },
    {
     "name": "stderr",
     "output_type": "stream",
     "text": [
      "/var/folders/2m/72fcyjmd7vs3g18rkfwx7nw40000gn/T/ipykernel_52959/2168649317.py:2: DeprecationWarning: Conversion of an array with ndim > 0 to a scalar is deprecated, and will error in future. Ensure you extract a single element from your array before performing this operation. (Deprecated NumPy 1.25.)\n",
      "  corr = float(pg.corr(y, y_pred, correction = 'bicor')['r'].values)\n",
      "/var/folders/2m/72fcyjmd7vs3g18rkfwx7nw40000gn/T/ipykernel_52959/2168649317.py:2: DeprecationWarning: Conversion of an array with ndim > 0 to a scalar is deprecated, and will error in future. Ensure you extract a single element from your array before performing this operation. (Deprecated NumPy 1.25.)\n",
      "  corr = float(pg.corr(y, y_pred, correction = 'bicor')['r'].values)\n"
     ]
    },
    {
     "name": "stdout",
     "output_type": "stream",
     "text": [
      "Target cbcl_scr_syn_social_t\n"
     ]
    },
    {
     "name": "stderr",
     "output_type": "stream",
     "text": [
      "/var/folders/2m/72fcyjmd7vs3g18rkfwx7nw40000gn/T/ipykernel_52959/2168649317.py:2: DeprecationWarning: Conversion of an array with ndim > 0 to a scalar is deprecated, and will error in future. Ensure you extract a single element from your array before performing this operation. (Deprecated NumPy 1.25.)\n",
      "  corr = float(pg.corr(y, y_pred, correction = 'bicor')['r'].values)\n",
      "/var/folders/2m/72fcyjmd7vs3g18rkfwx7nw40000gn/T/ipykernel_52959/2168649317.py:2: DeprecationWarning: Conversion of an array with ndim > 0 to a scalar is deprecated, and will error in future. Ensure you extract a single element from your array before performing this operation. (Deprecated NumPy 1.25.)\n",
      "  corr = float(pg.corr(y, y_pred, correction = 'bicor')['r'].values)\n"
     ]
    },
    {
     "name": "stdout",
     "output_type": "stream",
     "text": [
      "Target cbcl_scr_syn_thought_t\n"
     ]
    },
    {
     "name": "stderr",
     "output_type": "stream",
     "text": [
      "/var/folders/2m/72fcyjmd7vs3g18rkfwx7nw40000gn/T/ipykernel_52959/2168649317.py:2: DeprecationWarning: Conversion of an array with ndim > 0 to a scalar is deprecated, and will error in future. Ensure you extract a single element from your array before performing this operation. (Deprecated NumPy 1.25.)\n",
      "  corr = float(pg.corr(y, y_pred, correction = 'bicor')['r'].values)\n",
      "/var/folders/2m/72fcyjmd7vs3g18rkfwx7nw40000gn/T/ipykernel_52959/2168649317.py:2: DeprecationWarning: Conversion of an array with ndim > 0 to a scalar is deprecated, and will error in future. Ensure you extract a single element from your array before performing this operation. (Deprecated NumPy 1.25.)\n",
      "  corr = float(pg.corr(y, y_pred, correction = 'bicor')['r'].values)\n"
     ]
    },
    {
     "name": "stdout",
     "output_type": "stream",
     "text": [
      "Target cbcl_scr_syn_attention_t\n"
     ]
    },
    {
     "name": "stderr",
     "output_type": "stream",
     "text": [
      "/var/folders/2m/72fcyjmd7vs3g18rkfwx7nw40000gn/T/ipykernel_52959/2168649317.py:2: DeprecationWarning: Conversion of an array with ndim > 0 to a scalar is deprecated, and will error in future. Ensure you extract a single element from your array before performing this operation. (Deprecated NumPy 1.25.)\n",
      "  corr = float(pg.corr(y, y_pred, correction = 'bicor')['r'].values)\n",
      "/var/folders/2m/72fcyjmd7vs3g18rkfwx7nw40000gn/T/ipykernel_52959/2168649317.py:2: DeprecationWarning: Conversion of an array with ndim > 0 to a scalar is deprecated, and will error in future. Ensure you extract a single element from your array before performing this operation. (Deprecated NumPy 1.25.)\n",
      "  corr = float(pg.corr(y, y_pred, correction = 'bicor')['r'].values)\n"
     ]
    },
    {
     "name": "stdout",
     "output_type": "stream",
     "text": [
      "Target cbcl_scr_syn_rulebreak_t\n"
     ]
    },
    {
     "name": "stderr",
     "output_type": "stream",
     "text": [
      "/var/folders/2m/72fcyjmd7vs3g18rkfwx7nw40000gn/T/ipykernel_52959/2168649317.py:2: DeprecationWarning: Conversion of an array with ndim > 0 to a scalar is deprecated, and will error in future. Ensure you extract a single element from your array before performing this operation. (Deprecated NumPy 1.25.)\n",
      "  corr = float(pg.corr(y, y_pred, correction = 'bicor')['r'].values)\n",
      "/var/folders/2m/72fcyjmd7vs3g18rkfwx7nw40000gn/T/ipykernel_52959/2168649317.py:2: DeprecationWarning: Conversion of an array with ndim > 0 to a scalar is deprecated, and will error in future. Ensure you extract a single element from your array before performing this operation. (Deprecated NumPy 1.25.)\n",
      "  corr = float(pg.corr(y, y_pred, correction = 'bicor')['r'].values)\n"
     ]
    },
    {
     "name": "stdout",
     "output_type": "stream",
     "text": [
      "Target cbcl_scr_syn_aggressive_t\n"
     ]
    },
    {
     "name": "stderr",
     "output_type": "stream",
     "text": [
      "/var/folders/2m/72fcyjmd7vs3g18rkfwx7nw40000gn/T/ipykernel_52959/2168649317.py:2: DeprecationWarning: Conversion of an array with ndim > 0 to a scalar is deprecated, and will error in future. Ensure you extract a single element from your array before performing this operation. (Deprecated NumPy 1.25.)\n",
      "  corr = float(pg.corr(y, y_pred, correction = 'bicor')['r'].values)\n",
      "/var/folders/2m/72fcyjmd7vs3g18rkfwx7nw40000gn/T/ipykernel_52959/2168649317.py:2: DeprecationWarning: Conversion of an array with ndim > 0 to a scalar is deprecated, and will error in future. Ensure you extract a single element from your array before performing this operation. (Deprecated NumPy 1.25.)\n",
      "  corr = float(pg.corr(y, y_pred, correction = 'bicor')['r'].values)\n"
     ]
    },
    {
     "name": "stdout",
     "output_type": "stream",
     "text": [
      "Target cbcl_scr_syn_internal_t\n"
     ]
    },
    {
     "name": "stderr",
     "output_type": "stream",
     "text": [
      "/var/folders/2m/72fcyjmd7vs3g18rkfwx7nw40000gn/T/ipykernel_52959/2168649317.py:2: DeprecationWarning: Conversion of an array with ndim > 0 to a scalar is deprecated, and will error in future. Ensure you extract a single element from your array before performing this operation. (Deprecated NumPy 1.25.)\n",
      "  corr = float(pg.corr(y, y_pred, correction = 'bicor')['r'].values)\n",
      "/var/folders/2m/72fcyjmd7vs3g18rkfwx7nw40000gn/T/ipykernel_52959/2168649317.py:2: DeprecationWarning: Conversion of an array with ndim > 0 to a scalar is deprecated, and will error in future. Ensure you extract a single element from your array before performing this operation. (Deprecated NumPy 1.25.)\n",
      "  corr = float(pg.corr(y, y_pred, correction = 'bicor')['r'].values)\n"
     ]
    },
    {
     "name": "stdout",
     "output_type": "stream",
     "text": [
      "Target cbcl_scr_syn_external_t\n"
     ]
    },
    {
     "name": "stderr",
     "output_type": "stream",
     "text": [
      "/var/folders/2m/72fcyjmd7vs3g18rkfwx7nw40000gn/T/ipykernel_52959/2168649317.py:2: DeprecationWarning: Conversion of an array with ndim > 0 to a scalar is deprecated, and will error in future. Ensure you extract a single element from your array before performing this operation. (Deprecated NumPy 1.25.)\n",
      "  corr = float(pg.corr(y, y_pred, correction = 'bicor')['r'].values)\n",
      "/var/folders/2m/72fcyjmd7vs3g18rkfwx7nw40000gn/T/ipykernel_52959/2168649317.py:2: DeprecationWarning: Conversion of an array with ndim > 0 to a scalar is deprecated, and will error in future. Ensure you extract a single element from your array before performing this operation. (Deprecated NumPy 1.25.)\n",
      "  corr = float(pg.corr(y, y_pred, correction = 'bicor')['r'].values)\n"
     ]
    },
    {
     "name": "stdout",
     "output_type": "stream",
     "text": [
      "Target cbcl_scr_syn_totprob_t\n"
     ]
    },
    {
     "name": "stderr",
     "output_type": "stream",
     "text": [
      "/var/folders/2m/72fcyjmd7vs3g18rkfwx7nw40000gn/T/ipykernel_52959/2168649317.py:2: DeprecationWarning: Conversion of an array with ndim > 0 to a scalar is deprecated, and will error in future. Ensure you extract a single element from your array before performing this operation. (Deprecated NumPy 1.25.)\n",
      "  corr = float(pg.corr(y, y_pred, correction = 'bicor')['r'].values)\n",
      "/var/folders/2m/72fcyjmd7vs3g18rkfwx7nw40000gn/T/ipykernel_52959/2168649317.py:2: DeprecationWarning: Conversion of an array with ndim > 0 to a scalar is deprecated, and will error in future. Ensure you extract a single element from your array before performing this operation. (Deprecated NumPy 1.25.)\n",
      "  corr = float(pg.corr(y, y_pred, correction = 'bicor')['r'].values)\n",
      "100%|██████████| 50/50 [00:21<00:00,  2.36it/s]\n",
      " 90%|█████████ | 9/10 [03:13<00:21, 21.77s/it]"
     ]
    },
    {
     "name": "stdout",
     "output_type": "stream",
     "text": [
      "Run 340\n"
     ]
    },
    {
     "name": "stderr",
     "output_type": "stream",
     "text": []
    },
    {
     "name": "stdout",
     "output_type": "stream",
     "text": [
      "Target cbcl_scr_syn_anxdep_t\n"
     ]
    },
    {
     "name": "stderr",
     "output_type": "stream",
     "text": [
      "/var/folders/2m/72fcyjmd7vs3g18rkfwx7nw40000gn/T/ipykernel_52959/2168649317.py:2: DeprecationWarning: Conversion of an array with ndim > 0 to a scalar is deprecated, and will error in future. Ensure you extract a single element from your array before performing this operation. (Deprecated NumPy 1.25.)\n",
      "  corr = float(pg.corr(y, y_pred, correction = 'bicor')['r'].values)\n",
      "/var/folders/2m/72fcyjmd7vs3g18rkfwx7nw40000gn/T/ipykernel_52959/2168649317.py:2: DeprecationWarning: Conversion of an array with ndim > 0 to a scalar is deprecated, and will error in future. Ensure you extract a single element from your array before performing this operation. (Deprecated NumPy 1.25.)\n",
      "  corr = float(pg.corr(y, y_pred, correction = 'bicor')['r'].values)\n"
     ]
    },
    {
     "name": "stdout",
     "output_type": "stream",
     "text": [
      "Target cbcl_scr_syn_withdep_t\n"
     ]
    },
    {
     "name": "stderr",
     "output_type": "stream",
     "text": [
      "/var/folders/2m/72fcyjmd7vs3g18rkfwx7nw40000gn/T/ipykernel_52959/2168649317.py:2: DeprecationWarning: Conversion of an array with ndim > 0 to a scalar is deprecated, and will error in future. Ensure you extract a single element from your array before performing this operation. (Deprecated NumPy 1.25.)\n",
      "  corr = float(pg.corr(y, y_pred, correction = 'bicor')['r'].values)\n",
      "/var/folders/2m/72fcyjmd7vs3g18rkfwx7nw40000gn/T/ipykernel_52959/2168649317.py:2: DeprecationWarning: Conversion of an array with ndim > 0 to a scalar is deprecated, and will error in future. Ensure you extract a single element from your array before performing this operation. (Deprecated NumPy 1.25.)\n",
      "  corr = float(pg.corr(y, y_pred, correction = 'bicor')['r'].values)\n"
     ]
    },
    {
     "name": "stdout",
     "output_type": "stream",
     "text": [
      "Target cbcl_scr_syn_somatic_t\n"
     ]
    },
    {
     "name": "stderr",
     "output_type": "stream",
     "text": [
      "/var/folders/2m/72fcyjmd7vs3g18rkfwx7nw40000gn/T/ipykernel_52959/2168649317.py:2: DeprecationWarning: Conversion of an array with ndim > 0 to a scalar is deprecated, and will error in future. Ensure you extract a single element from your array before performing this operation. (Deprecated NumPy 1.25.)\n",
      "  corr = float(pg.corr(y, y_pred, correction = 'bicor')['r'].values)\n",
      "/var/folders/2m/72fcyjmd7vs3g18rkfwx7nw40000gn/T/ipykernel_52959/2168649317.py:2: DeprecationWarning: Conversion of an array with ndim > 0 to a scalar is deprecated, and will error in future. Ensure you extract a single element from your array before performing this operation. (Deprecated NumPy 1.25.)\n",
      "  corr = float(pg.corr(y, y_pred, correction = 'bicor')['r'].values)\n"
     ]
    },
    {
     "name": "stdout",
     "output_type": "stream",
     "text": [
      "Target cbcl_scr_syn_social_t\n"
     ]
    },
    {
     "name": "stderr",
     "output_type": "stream",
     "text": [
      "/var/folders/2m/72fcyjmd7vs3g18rkfwx7nw40000gn/T/ipykernel_52959/2168649317.py:2: DeprecationWarning: Conversion of an array with ndim > 0 to a scalar is deprecated, and will error in future. Ensure you extract a single element from your array before performing this operation. (Deprecated NumPy 1.25.)\n",
      "  corr = float(pg.corr(y, y_pred, correction = 'bicor')['r'].values)\n",
      "/var/folders/2m/72fcyjmd7vs3g18rkfwx7nw40000gn/T/ipykernel_52959/2168649317.py:2: DeprecationWarning: Conversion of an array with ndim > 0 to a scalar is deprecated, and will error in future. Ensure you extract a single element from your array before performing this operation. (Deprecated NumPy 1.25.)\n",
      "  corr = float(pg.corr(y, y_pred, correction = 'bicor')['r'].values)\n"
     ]
    },
    {
     "name": "stdout",
     "output_type": "stream",
     "text": [
      "Target cbcl_scr_syn_thought_t\n"
     ]
    },
    {
     "name": "stderr",
     "output_type": "stream",
     "text": [
      "/var/folders/2m/72fcyjmd7vs3g18rkfwx7nw40000gn/T/ipykernel_52959/2168649317.py:2: DeprecationWarning: Conversion of an array with ndim > 0 to a scalar is deprecated, and will error in future. Ensure you extract a single element from your array before performing this operation. (Deprecated NumPy 1.25.)\n",
      "  corr = float(pg.corr(y, y_pred, correction = 'bicor')['r'].values)\n",
      "/var/folders/2m/72fcyjmd7vs3g18rkfwx7nw40000gn/T/ipykernel_52959/2168649317.py:2: DeprecationWarning: Conversion of an array with ndim > 0 to a scalar is deprecated, and will error in future. Ensure you extract a single element from your array before performing this operation. (Deprecated NumPy 1.25.)\n",
      "  corr = float(pg.corr(y, y_pred, correction = 'bicor')['r'].values)\n"
     ]
    },
    {
     "name": "stdout",
     "output_type": "stream",
     "text": [
      "Target cbcl_scr_syn_attention_t\n"
     ]
    },
    {
     "name": "stderr",
     "output_type": "stream",
     "text": [
      "/var/folders/2m/72fcyjmd7vs3g18rkfwx7nw40000gn/T/ipykernel_52959/2168649317.py:2: DeprecationWarning: Conversion of an array with ndim > 0 to a scalar is deprecated, and will error in future. Ensure you extract a single element from your array before performing this operation. (Deprecated NumPy 1.25.)\n",
      "  corr = float(pg.corr(y, y_pred, correction = 'bicor')['r'].values)\n",
      "/var/folders/2m/72fcyjmd7vs3g18rkfwx7nw40000gn/T/ipykernel_52959/2168649317.py:2: DeprecationWarning: Conversion of an array with ndim > 0 to a scalar is deprecated, and will error in future. Ensure you extract a single element from your array before performing this operation. (Deprecated NumPy 1.25.)\n",
      "  corr = float(pg.corr(y, y_pred, correction = 'bicor')['r'].values)\n"
     ]
    },
    {
     "name": "stdout",
     "output_type": "stream",
     "text": [
      "Target cbcl_scr_syn_rulebreak_t\n"
     ]
    },
    {
     "name": "stderr",
     "output_type": "stream",
     "text": [
      "/var/folders/2m/72fcyjmd7vs3g18rkfwx7nw40000gn/T/ipykernel_52959/2168649317.py:2: DeprecationWarning: Conversion of an array with ndim > 0 to a scalar is deprecated, and will error in future. Ensure you extract a single element from your array before performing this operation. (Deprecated NumPy 1.25.)\n",
      "  corr = float(pg.corr(y, y_pred, correction = 'bicor')['r'].values)\n",
      "/var/folders/2m/72fcyjmd7vs3g18rkfwx7nw40000gn/T/ipykernel_52959/2168649317.py:2: DeprecationWarning: Conversion of an array with ndim > 0 to a scalar is deprecated, and will error in future. Ensure you extract a single element from your array before performing this operation. (Deprecated NumPy 1.25.)\n",
      "  corr = float(pg.corr(y, y_pred, correction = 'bicor')['r'].values)\n"
     ]
    },
    {
     "name": "stdout",
     "output_type": "stream",
     "text": [
      "Target cbcl_scr_syn_aggressive_t\n"
     ]
    },
    {
     "name": "stderr",
     "output_type": "stream",
     "text": [
      "/var/folders/2m/72fcyjmd7vs3g18rkfwx7nw40000gn/T/ipykernel_52959/2168649317.py:2: DeprecationWarning: Conversion of an array with ndim > 0 to a scalar is deprecated, and will error in future. Ensure you extract a single element from your array before performing this operation. (Deprecated NumPy 1.25.)\n",
      "  corr = float(pg.corr(y, y_pred, correction = 'bicor')['r'].values)\n",
      "/var/folders/2m/72fcyjmd7vs3g18rkfwx7nw40000gn/T/ipykernel_52959/2168649317.py:2: DeprecationWarning: Conversion of an array with ndim > 0 to a scalar is deprecated, and will error in future. Ensure you extract a single element from your array before performing this operation. (Deprecated NumPy 1.25.)\n",
      "  corr = float(pg.corr(y, y_pred, correction = 'bicor')['r'].values)\n"
     ]
    },
    {
     "name": "stdout",
     "output_type": "stream",
     "text": [
      "Target cbcl_scr_syn_internal_t\n"
     ]
    },
    {
     "name": "stderr",
     "output_type": "stream",
     "text": [
      "/var/folders/2m/72fcyjmd7vs3g18rkfwx7nw40000gn/T/ipykernel_52959/2168649317.py:2: DeprecationWarning: Conversion of an array with ndim > 0 to a scalar is deprecated, and will error in future. Ensure you extract a single element from your array before performing this operation. (Deprecated NumPy 1.25.)\n",
      "  corr = float(pg.corr(y, y_pred, correction = 'bicor')['r'].values)\n",
      "/var/folders/2m/72fcyjmd7vs3g18rkfwx7nw40000gn/T/ipykernel_52959/2168649317.py:2: DeprecationWarning: Conversion of an array with ndim > 0 to a scalar is deprecated, and will error in future. Ensure you extract a single element from your array before performing this operation. (Deprecated NumPy 1.25.)\n",
      "  corr = float(pg.corr(y, y_pred, correction = 'bicor')['r'].values)\n"
     ]
    },
    {
     "name": "stdout",
     "output_type": "stream",
     "text": [
      "Target cbcl_scr_syn_external_t\n"
     ]
    },
    {
     "name": "stderr",
     "output_type": "stream",
     "text": [
      "/var/folders/2m/72fcyjmd7vs3g18rkfwx7nw40000gn/T/ipykernel_52959/2168649317.py:2: DeprecationWarning: Conversion of an array with ndim > 0 to a scalar is deprecated, and will error in future. Ensure you extract a single element from your array before performing this operation. (Deprecated NumPy 1.25.)\n",
      "  corr = float(pg.corr(y, y_pred, correction = 'bicor')['r'].values)\n",
      "/var/folders/2m/72fcyjmd7vs3g18rkfwx7nw40000gn/T/ipykernel_52959/2168649317.py:2: DeprecationWarning: Conversion of an array with ndim > 0 to a scalar is deprecated, and will error in future. Ensure you extract a single element from your array before performing this operation. (Deprecated NumPy 1.25.)\n",
      "  corr = float(pg.corr(y, y_pred, correction = 'bicor')['r'].values)\n"
     ]
    },
    {
     "name": "stdout",
     "output_type": "stream",
     "text": [
      "Target cbcl_scr_syn_totprob_t\n"
     ]
    },
    {
     "name": "stderr",
     "output_type": "stream",
     "text": [
      "/var/folders/2m/72fcyjmd7vs3g18rkfwx7nw40000gn/T/ipykernel_52959/2168649317.py:2: DeprecationWarning: Conversion of an array with ndim > 0 to a scalar is deprecated, and will error in future. Ensure you extract a single element from your array before performing this operation. (Deprecated NumPy 1.25.)\n",
      "  corr = float(pg.corr(y, y_pred, correction = 'bicor')['r'].values)\n",
      "/var/folders/2m/72fcyjmd7vs3g18rkfwx7nw40000gn/T/ipykernel_52959/2168649317.py:2: DeprecationWarning: Conversion of an array with ndim > 0 to a scalar is deprecated, and will error in future. Ensure you extract a single element from your array before performing this operation. (Deprecated NumPy 1.25.)\n",
      "  corr = float(pg.corr(y, y_pred, correction = 'bicor')['r'].values)\n",
      "100%|██████████| 50/50 [00:21<00:00,  2.31it/s]\n",
      "100%|██████████| 50/50 [00:21<00:00,  2.31it/s]\n",
      "100%|██████████| 10/10 [03:35<00:00, 21.52s/it]\n"
     ]
    }
   ],
   "source": [
    "ridge_runs = []\n",
    "train_ratio = 1.0\n",
    "for run_id in tqdm(runs):\n",
    "    print(f\"Run {run_id}\")\n",
    "    X_train_idx = np.load(f\"{exp_dir}/train_idx_{run_type}{run_id}_train_ratio{train_ratio}.npy\")\n",
    "    X_test_idx = np.load(f\"{exp_dir}/test_idx_{run_type}{run_id}_train_ratio{train_ratio}.npy\")\n",
    "\n",
    "    X_train = dataset.isel(index=X_train_idx).matrices.values\n",
    "    X_train = sym_matrix_to_vec(X_train, discard_diagonal=True)\n",
    "\n",
    "    X_test = dataset.isel(index=X_test_idx).matrices.values\n",
    "    X_test = sym_matrix_to_vec(X_test, discard_diagonal=True)\n",
    "\n",
    "    for target in tqdm(target_dict.keys()):\n",
    "        if target in predictions.columns:\n",
    "            print(f\"Target {target}\")\n",
    "            \n",
    "            target_run_perf = {}\n",
    "            y_train = dataset[target].values[X_train_idx]\n",
    "            y_test = dataset[target].values[X_test_idx]\n",
    "\n",
    "\n",
    "            ridge_fitted = pipe_ridge.fit(X_train, y_train)\n",
    "            y_train_pred = ridge_fitted.predict(X_train)\n",
    "            y_test_pred = ridge_fitted.predict(X_test)\n",
    "\n",
    "            train_corr = custom_corr(y_train, y_train_pred)\n",
    "            test_corr = custom_corr(y_test, y_test_pred)\n",
    "\n",
    "            target_run_perf[\"target\"] = target_dict[target]\n",
    "            target_run_perf[\"train_corr\"] = train_corr\n",
    "            target_run_perf[\"test_corr\"] = test_corr\n",
    "            target_run_perf[\"median_train_mape\"] = np.median(100*np.abs(y_train-y_train_pred)/y_train)\n",
    "            target_run_perf[\"median_test_mape\"] = np.median(100*np.abs(y_test-y_test_pred)/y_test)\n",
    "            target_run_perf[\"train_ratio\"] = train_ratio\n",
    "            target_run_perf[run_type] = run_id\n",
    "\n",
    "            ridge_runs.append(target_run_perf)\n",
    "ridge_runs_df = pd.DataFrame(ridge_runs)\n",
    "ridge_runs_df.to_csv(f\"{exp_dir}/pca_ridge_model_perf_runs.csv\", index=False)"
   ]
  },
  {
   "cell_type": "markdown",
   "id": "b463a281",
   "metadata": {},
   "source": [
    "### Plot Results"
   ]
  },
  {
   "cell_type": "code",
   "execution_count": 61,
   "id": "87275f3e",
   "metadata": {},
   "outputs": [
    {
     "name": "stderr",
     "output_type": "stream",
     "text": [
      "/var/folders/2m/72fcyjmd7vs3g18rkfwx7nw40000gn/T/ipykernel_82597/479074200.py:8: FutureWarning: A value is trying to be set on a copy of a DataFrame or Series through chained assignment using an inplace method.\n",
      "The behavior will change in pandas 3.0. This inplace method will never work because the intermediate object on which we are setting values always behaves as a copy.\n",
      "\n",
      "For example, when doing 'df[col].method(value, inplace=True)', try using 'df.method({col: value}, inplace=True)' or df[col] = df[col].method(value) instead, to perform the operation inplace on the original object.\n",
      "\n",
      "\n",
      "  perf_df[\"median_test_mape\"].replace([np.inf, -np.inf], 100, inplace=True)\n",
      "/var/folders/2m/72fcyjmd7vs3g18rkfwx7nw40000gn/T/ipykernel_82597/479074200.py:9: FutureWarning: A value is trying to be set on a copy of a DataFrame or Series through chained assignment using an inplace method.\n",
      "The behavior will change in pandas 3.0. This inplace method will never work because the intermediate object on which we are setting values always behaves as a copy.\n",
      "\n",
      "For example, when doing 'df[col].method(value, inplace=True)', try using 'df.method({col: value}, inplace=True)' or df[col] = df[col].method(value) instead, to perform the operation inplace on the original object.\n",
      "\n",
      "\n",
      "  perf_df[\"median_train_mape\"].replace([np.inf, -np.inf], 100, inplace=True)\n"
     ]
    }
   ],
   "source": [
    "dataset_name = \"abcd\"\n",
    "exp_name_cog = f\"{mode}_redmat_enc_{dataset_name}_{prediction_type}_cog\"\n",
    "exp_name_psy = f\"{mode}_redmat_enc_{dataset_name}_{prediction_type}_psy\"\n",
    "perf_cog = pd.read_csv(f\"results/{exp_name_cog}/pca_ridge_model_perf_runs.csv\")\n",
    "perf_psy = pd.read_csv(f\"results/{exp_name_psy}/pca_ridge_model_perf_runs.csv\")\n",
    "\n",
    "perf_df = pd.concat([perf_cog, perf_psy])\n",
    "perf_df[\"median_test_mape\"].replace([np.inf, -np.inf], 100, inplace=True)\n",
    "perf_df[\"median_train_mape\"].replace([np.inf, -np.inf], 100, inplace=True)\n",
    "\n",
    "mean_perf_df = perf_df.groupby('target')['test_corr'].mean()\n",
    "sorted_targets = mean_perf_df.sort_values(ascending=False).index\n",
    "perf_df['target_sorted'] = pd.Categorical(perf_df['target'], categories=sorted_targets)"
   ]
  },
  {
   "cell_type": "code",
   "execution_count": 62,
   "id": "d1714d57",
   "metadata": {},
   "outputs": [
    {
     "data": {
      "image/png": "[encoded data removed]",
      "text/plain": [
       "<Figure size 2000x600 with 2 Axes>"
      ]
     },
     "metadata": {},
     "output_type": "display_data"
    }
   ],
   "source": [
    "sns.set_style(\"whitegrid\")\n",
    "fig, ax1 = plt.subplots(figsize=(20, 6))    \n",
    "ax1 = sns.lineplot(data=perf_df,\n",
    "                   x=\"target_sorted\",\n",
    "                   y=\"test_corr\",\n",
    "                   color=\"g\",\n",
    "                   label=\"Correlation\",\n",
    "                   err_style=\"bars\",\n",
    "                   marker=\"o\",\n",
    "                   err_kws={'capsize':5},\n",
    "                   errorbar=(\"sd\", 1),\n",
    "                    linestyle='dotted',\n",
    "                   legend=False)\n",
    "plt.xticks(rotation=90, fontsize=15)\n",
    "ax2 = ax1.twinx()\n",
    "sns.lineplot(data=perf_df,\n",
    "             x=\"target_sorted\",\n",
    "             y=\"median_test_mape\",\n",
    "             ax=ax2,\n",
    "             color=\"#CF00FF\",\n",
    "             err_style=\"bars\",\n",
    "             marker=\"*\",\n",
    "             errorbar=(\"sd\", 1),\n",
    "             err_kws={'capsize':5},\n",
    "             markersize=15,\n",
    "             linestyle='dotted',\n",
    "             label=\"Median MAPE\")\n",
    "\n",
    "ax1.set_ylabel(\"Correlation\", fontsize=20)\n",
    "ax2.set_ylabel(\"Median MAPE\", fontsize=20)\n",
    "\n",
    "ax1.tick_params(axis='y', labelsize=15)\n",
    "ax2.tick_params(axis='y', labelsize=15)\n",
    "\n",
    "ax2.set_ylim(0, 100)\n",
    "lines_1, labels_1 = ax1.get_legend_handles_labels()\n",
    "lines_2, labels_2 = ax2.get_legend_handles_labels()\n",
    "\n",
    "plt.legend(lines_1 + lines_2, labels_1 + labels_2, loc=\"upper left\", bbox_to_anchor=(0.85, 0.80, 1., .102), fontsize=15)\n",
    "plt.savefig(f\"figures/pca_ridge_perf_{dataset_name}_test.svg\", dpi=300, bbox_inches='tight', format='svg')"
   ]
  },
  {
   "cell_type": "code",
   "execution_count": null,
   "id": "d62d0a88",
   "metadata": {},
   "outputs": [],
   "source": []
  }
 ],
 "metadata": {
  "kernelspec": {
   "display_name": "neuro",
   "language": "python",
   "name": "python3"
  },
  "language_info": {
   "codemirror_mode": {
    "name": "ipython",
    "version": 3
   },
   "file_extension": ".py",
   "mimetype": "text/x-python",
   "name": "python",
   "nbconvert_exporter": "python",
   "pygments_lexer": "ipython3",
   "version": "3.12.10"
  }
 },
 "nbformat": 4,
 "nbformat_minor": 5
}
