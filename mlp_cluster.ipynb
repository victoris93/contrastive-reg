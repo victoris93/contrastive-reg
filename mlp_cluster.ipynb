{
 "cells": [
  {
   "cell_type": "code",
   "execution_count": 1,
   "metadata": {},
   "outputs": [],
   "source": [
    "import torch\n",
    "import torch.nn as nn\n",
    "import torch.optim as optim\n",
    "from cmath import isinf\n",
    "import torch.nn.functional as F\n",
    "from torch.utils.data import Dataset, DataLoader, Subset\n",
    "import numpy as np\n",
    "import matplotlib.pyplot as plt\n",
    "import os\n",
    "import sys\n",
    "import pandas as pd\n",
    "import math\n",
    "from utils_v import compute_age_mae_r2, estimate_age\n",
    "from cmath import isinf\n",
    "import torch.nn.functional as F\n",
    "from sklearn.model_selection import train_test_split, KFold"
   ]
  },
  {
   "cell_type": "code",
   "execution_count": 2,
   "metadata": {},
   "outputs": [],
   "source": [
    "krnl_sigma = 1\n",
    "\n",
    "def gaussian_kernel(x):\n",
    "    x = x - x.T\n",
    "    return torch.exp(-(x**2) / (2*(krnl_sigma**2))) / (math.sqrt(krnl_sigma*torch.pi)*1)\n",
    "\n",
    "def rbf(x):\n",
    "        x = x - x.T\n",
    "        return torch.exp(-(x**2)/(2*(krnl_sigma**2)))\n",
    "\n",
    "def cauchy(x):\n",
    "        x = x - x.T\n",
    "        return  1. / (krnl_sigma*(x**2) + 1)"
   ]
  },
  {
   "cell_type": "code",
   "execution_count": 3,
   "metadata": {},
   "outputs": [],
   "source": [
    "# loss from: https://github.com/EIDOSLAB/contrastive-brain-age-prediction/blob/master/src/losses.py\n",
    "# modified to accept input shape [bsz, n_feats]. In the age paper: [bsz, n_views, n_feats].\n",
    "class KernelizedSupCon(nn.Module):\n",
    "    \"\"\"Supervised contrastive loss: https://arxiv.org/pdf/2004.11362.pdf.\n",
    "    It also supports the unsupervised contrastive loss in SimCLR\n",
    "    Based on: https://github.com/HobbitLong/SupContrast\"\"\"\n",
    "    def __init__(self, method: str, temperature: float=0.07, contrast_mode: str='all',\n",
    "                 base_temperature: float=0.07, kernel: callable=None, delta_reduction: str='sum'):\n",
    "        super().__init__()\n",
    "        self.temperature = temperature\n",
    "        self.contrast_mode = contrast_mode\n",
    "        self.base_temperature = base_temperature\n",
    "        self.method = method\n",
    "        self.kernel = kernel\n",
    "        self.delta_reduction = delta_reduction\n",
    "\n",
    "        if kernel is not None and method == 'supcon':\n",
    "            raise ValueError('Kernel must be none if method=supcon')\n",
    "        \n",
    "        if kernel is None and method != 'supcon':\n",
    "            raise ValueError('Kernel must not be none if method != supcon')\n",
    "\n",
    "        if delta_reduction not in ['mean', 'sum']:\n",
    "            raise ValueError(f\"Invalid reduction {delta_reduction}\")\n",
    "\n",
    "    def __repr__(self):\n",
    "        return f'{self.__class__.__name__} ' \\\n",
    "               f'(t={self.temperature}, ' \\\n",
    "               f'method={self.method}, ' \\\n",
    "               f'kernel={self.kernel is not None}, ' \\\n",
    "               f'delta_reduction={self.delta_reduction})'\n",
    "\n",
    "    def forward(self, features, labels=None):\n",
    "        \"\"\"Compute loss for model. If `labels` is None, \n",
    "        it degenerates to SimCLR unsupervised loss:\n",
    "        https://arxiv.org/pdf/2002.05709.pdf\n",
    "\n",
    "        Args:\n",
    "            features: hidden vector of shape [bsz, n_features]. \n",
    "            labels: ground truth of shape [bsz].\n",
    "        Returns:\n",
    "            A loss scalar.\n",
    "        \"\"\"\n",
    "        device = features.device\n",
    "\n",
    "        if len(features.shape) != 2:\n",
    "            raise ValueError('`features` needs to be [bsz, n_feats], '\n",
    "                            '2 dimensions are required')\n",
    "\n",
    "        batch_size = features.shape[0]\n",
    "\n",
    "        if labels is not None:\n",
    "            labels = labels.view(-1, 1)\n",
    "            if labels.shape[0] != batch_size:\n",
    "                raise ValueError('Num of labels does not match num of features')\n",
    "            \n",
    "            if self.kernel is None:\n",
    "                mask = torch.eq(labels, labels.T).float()\n",
    "            else:\n",
    "                mask = self.kernel(labels)\n",
    "\n",
    "        else:\n",
    "            mask = torch.eye(batch_size, device=device)\n",
    "\n",
    "        # compute similarity\n",
    "        anchor_dot_contrast = torch.div(\n",
    "            torch.matmul(features, features.T),\n",
    "            self.temperature\n",
    "        )\n",
    "\n",
    "        # for numerical stability\n",
    "        logits_max, _ = torch.max(anchor_dot_contrast, dim=1, keepdim=True)\n",
    "        logits = anchor_dot_contrast - logits_max.detach()\n",
    "\n",
    "        # apply mask for positive samples, excluding self-contrast cases\n",
    "        inv_diagonal = torch.eye(batch_size, device=device) * -1 + 1\n",
    "\n",
    "        # base case: alignment\n",
    "        alignment = logits\n",
    "\n",
    "        # base case for uniformity: exp(logits) * inverse diagonal mask\n",
    "        uniformity = torch.exp(logits) * inv_diagonal\n",
    "\n",
    "        # Compute uniformity based on the method\n",
    "        if self.method == 'threshold':\n",
    "            # irrelevant for now\n",
    "            pass\n",
    "        elif self.method == 'expw':\n",
    "            # exp weight e^(s_j(1-w_j))\n",
    "            uniformity = torch.exp(logits * (1 - mask)) * inv_diagonal\n",
    "\n",
    "        uniformity = torch.log(uniformity.sum(1, keepdim=True))\n",
    "        positive_mask = mask * inv_diagonal\n",
    "        log_prob = alignment - uniformity  # log(alignment/uniformity)\n",
    "        log_prob = (positive_mask * log_prob).sum(1) / positive_mask.sum(1)  # mean log-likelihood over positives\n",
    "\n",
    "        # loss\n",
    "        loss = - (self.temperature / self.base_temperature) * log_prob\n",
    "        return loss.mean()"
   ]
  },
  {
   "cell_type": "code",
   "execution_count": 4,
   "metadata": {},
   "outputs": [],
   "source": [
    "class MatData(Dataset):\n",
    "    def __init__(self, path_mat, path_dm):\n",
    "        self.matrices = np.load(path_mat)\n",
    "        self.target = pd.read_csv(path_dm)['age'].values\n",
    "    def __len__(self):\n",
    "        return len(self.matrices)\n",
    "    def __getitem__(self, idx):\n",
    "        matrix = self.matrices[idx]\n",
    "        target = self.target[idx]\n",
    "        matrix = torch.from_numpy(matrix).float()\n",
    "        target = torch.tensor(target, dtype=torch.float32)\n",
    "        return matrix, target"
   ]
  },
  {
   "cell_type": "code",
   "execution_count": 5,
   "metadata": {},
   "outputs": [],
   "source": [
    "class MLP(nn.Module):\n",
    "    def __init__(self, input_dim, hidden_dim, output_dim):\n",
    "        super(MLP, self).__init__()\n",
    "        self.network = nn.Sequential(\n",
    "            nn.Linear(input_dim, hidden_dim),\n",
    "            nn.ReLU(), # add more layers?\n",
    "            nn.Linear(hidden_dim, output_dim)\n",
    "        )\n",
    "    \n",
    "    def forward(self, x):\n",
    "        features = self.network(x)\n",
    "        normalized_features = nn.functional.normalize(features, p=2, dim=1)\n",
    "        return normalized_features"
   ]
  },
  {
   "cell_type": "code",
   "execution_count": 6,
   "metadata": {},
   "outputs": [],
   "source": [
    "participants = pd.read_csv('participants.csv')\n",
    "vect_matrices = np.load(\"vectorized_matrices.npy\")\n",
    "dataset = MatData(\"vectorized_matrices.npy\", \"participants.csv\")"
   ]
  },
  {
   "cell_type": "code",
   "execution_count": 7,
   "metadata": {},
   "outputs": [],
   "source": [
    "kf = KFold(n_splits=10, shuffle=True, random_state=42)"
   ]
  },
  {
   "cell_type": "code",
   "execution_count": 8,
   "metadata": {},
   "outputs": [],
   "source": [
    "train_indices, test_indices = train_test_split(np.arange(len(dataset)), test_size=0.2, random_state=42)\n",
    "train_dataset = Subset(dataset, train_indices)\n",
    "test_dataset = Subset(dataset, test_indices)"
   ]
  },
  {
   "cell_type": "code",
   "execution_count": 9,
   "metadata": {},
   "outputs": [],
   "source": [
    "input_dim = 499500 # vectorized mat, diagonal discarded\n",
    "hidden_dim = 128\n",
    "output_dim = 64\n"
   ]
  },
  {
   "cell_type": "code",
   "execution_count": 10,
   "metadata": {},
   "outputs": [],
   "source": [
    "device = torch.device('cuda' if torch.cuda.is_available() else 'cpu')"
   ]
  },
  {
   "cell_type": "code",
   "execution_count": 11,
   "metadata": {},
   "outputs": [],
   "source": [
    "model = MLP(input_dim, hidden_dim, output_dim)"
   ]
  },
  {
   "cell_type": "code",
   "execution_count": 16,
   "metadata": {},
   "outputs": [],
   "source": [
    "\n",
    "model = model.to(device)\n",
    "\n",
    "criterion = KernelizedSupCon(method = 'expw', kernel = cauchy) # gaussian kernel returns nans for some reason\n",
    "optimizer = optim.Adam(model.parameters(), lr=0.001)"
   ]
  },
  {
   "cell_type": "code",
   "execution_count": 31,
   "metadata": {},
   "outputs": [
    {
     "name": "stdout",
     "output_type": "stream",
     "text": [
      "Starting fold 0\n",
      "Fold 0 | Epoch 0 | Mean Loss 3.404590015826018\n",
      "Fold 0 | Epoch 1 | Mean Loss 3.331685968067335\n",
      "Fold 0 | Epoch 2 | Mean Loss 3.331519199454266\n",
      "Fold 0 | Epoch 3 | Mean Loss 3.3317745768505596\n",
      "Fold 0 | Epoch 4 | Mean Loss 3.3309067746867305\n",
      "Fold 0 | Epoch 5 | Mean Loss 3.3302525955697764\n",
      "Fold 0 | Epoch 6 | Mean Loss 3.330218688301418\n",
      "Fold 0 | Epoch 7 | Mean Loss 3.329987349717513\n",
      "Fold 0 | Epoch 8 | Mean Loss 3.33008627269579\n",
      "Fold 0 | Epoch 9 | Mean Loss 3.3300301614015\n",
      "Fold 0 | Epoch 10 | Mean Loss 3.3297374870466148\n",
      "Fold 0 | Epoch 11 | Mean Loss 3.329431544179502\n",
      "Fold 0 | Epoch 12 | Mean Loss 3.329383186672045\n",
      "Fold 0 | Epoch 13 | Mean Loss 3.3295044277025307\n",
      "Fold 0 | Epoch 14 | Mean Loss 3.3293115470720376\n",
      "Fold 0 | Epoch 15 | Mean Loss 3.3288903547369917\n",
      "Fold 0 | Epoch 16 | Mean Loss 3.3288924590401026\n",
      "Fold 0 | Epoch 17 | Mean Loss 3.3279448281163755\n",
      "Fold 0 | Epoch 18 | Mean Loss 3.326469151870064\n",
      "Fold 0 | Epoch 19 | Mean Loss 3.3190659025441045\n",
      "Fold 0 | Epoch 20 | Mean Loss 3.2544823936794116\n",
      "Fold 0 | Epoch 21 | Mean Loss 3.112621597621752\n",
      "Fold 0 | Epoch 22 | Mean Loss 3.021274587382441\n",
      "Fold 0 | Epoch 23 | Mean Loss 2.8826768242794536\n",
      "Fold 0 | Epoch 24 | Mean Loss 2.8075355861497964\n",
      "Fold 0 | Epoch 25 | Mean Loss 2.753380599229232\n",
      "Fold 0 | Epoch 26 | Mean Loss 2.729490041732788\n",
      "Fold 0 | Epoch 27 | Mean Loss 2.720392071682474\n",
      "Fold 0 | Epoch 28 | Mean Loss 2.6528569563575415\n",
      "Fold 0 | Epoch 29 | Mean Loss 2.671499656594318\n",
      "Fold 0 | Epoch 30 | Mean Loss 2.616581357043722\n",
      "Fold 0 | Epoch 31 | Mean Loss 2.6356235172437583\n",
      "Fold 0 | Epoch 32 | Mean Loss 2.597538066946942\n",
      "Fold 0 | Epoch 33 | Mean Loss 2.600785949955816\n",
      "Fold 0 | Epoch 34 | Mean Loss 2.570291975270147\n",
      "Fold 0 | Epoch 35 | Mean Loss 2.5434353092442388\n",
      "Fold 0 | Epoch 36 | Mean Loss 2.6057284396627676\n",
      "Fold 0 | Epoch 37 | Mean Loss 2.5628294322801675\n",
      "Fold 0 | Epoch 38 | Mean Loss 2.5713719958844394\n",
      "Fold 0 | Epoch 39 | Mean Loss 2.514674943426381\n",
      "Fold 0 | Epoch 40 | Mean Loss 2.5442242207734482\n",
      "Fold 0 | Epoch 41 | Mean Loss 2.5407525300979614\n",
      "Fold 0 | Epoch 42 | Mean Loss 2.5415164387744404\n",
      "Fold 0 | Epoch 43 | Mean Loss 2.5668121835459834\n",
      "Fold 0 | Epoch 44 | Mean Loss 2.551792808201002\n",
      "Fold 0 | Epoch 45 | Mean Loss 2.5787323557812236\n",
      "Fold 0 | Epoch 46 | Mean Loss 2.555301458939262\n",
      "Fold 0 | Epoch 47 | Mean Loss 2.5397210743116294\n",
      "Fold 0 | Epoch 48 | Mean Loss 2.542940834294195\n",
      "Fold 0 | Epoch 49 | Mean Loss 2.534602439921835\n",
      "Fold 0 | Epoch 50 | Mean Loss 2.556606147600257\n",
      "Fold 0 | Epoch 51 | Mean Loss 2.5393819705299707\n",
      "Fold 0 | Epoch 52 | Mean Loss 2.5397436048673545\n",
      "Fold 0 | Epoch 53 | Mean Loss 2.5003878396490347\n",
      "Fold 0 | Epoch 54 | Mean Loss 2.5427982185197915\n",
      "Fold 0 | Epoch 55 | Mean Loss 2.5139146887737773\n",
      "Fold 0 | Epoch 56 | Mean Loss 2.566627295120903\n",
      "Fold 0 | Epoch 57 | Mean Loss 2.5106214492217354\n",
      "Fold 0 | Epoch 58 | Mean Loss 2.5444439960562666\n",
      "Fold 0 | Epoch 59 | Mean Loss 2.5273556398308794\n",
      "Fold 0 | Epoch 60 | Mean Loss 2.541117751080057\n",
      "Fold 0 | Epoch 61 | Mean Loss 2.4824795515640923\n",
      "Fold 0 | Epoch 62 | Mean Loss 2.534659225007762\n",
      "Fold 0 | Epoch 63 | Mean Loss 2.510263557019441\n",
      "Fold 0 | Epoch 64 | Mean Loss 2.520078322161799\n",
      "Fold 0 | Epoch 65 | Mean Loss 2.495541541472725\n",
      "Fold 0 | Epoch 66 | Mean Loss 2.491511474484983\n",
      "Fold 0 | Epoch 67 | Mean Loss 2.4971492031346196\n",
      "Fold 0 | Epoch 68 | Mean Loss 2.5134409510571025\n",
      "Fold 0 | Epoch 69 | Mean Loss 2.5077417466951455\n",
      "Fold 0 | Epoch 70 | Mean Loss 2.546983459721441\n",
      "Fold 0 | Epoch 71 | Mean Loss 2.5153101423512334\n",
      "Fold 0 | Epoch 72 | Mean Loss 2.510660223338915\n",
      "Fold 0 | Epoch 73 | Mean Loss 2.5043118000030518\n",
      "Fold 0 | Epoch 74 | Mean Loss 2.4856437341026636\n",
      "Fold 0 | Epoch 75 | Mean Loss 2.5271764579026597\n",
      "Fold 0 | Epoch 76 | Mean Loss 2.5226465515468433\n",
      "Fold 0 | Epoch 77 | Mean Loss 2.460524455360744\n",
      "Fold 0 | Epoch 78 | Mean Loss 2.4775338587553604\n",
      "Fold 0 | Epoch 79 | Mean Loss 2.446575807488483\n",
      "Fold 0 | Epoch 80 | Mean Loss 2.454059652660204\n",
      "Fold 0 | Epoch 81 | Mean Loss 2.4688501409862353\n",
      "Fold 0 | Epoch 82 | Mean Loss 2.4431780317555303\n",
      "Fold 0 | Epoch 83 | Mean Loss 2.4053162232689234\n",
      "Fold 0 | Epoch 84 | Mean Loss 2.3910579422245855\n",
      "Fold 0 | Epoch 85 | Mean Loss 2.358659915302111\n",
      "Fold 0 | Epoch 86 | Mean Loss 2.344729718954667\n",
      "Fold 0 | Epoch 87 | Mean Loss 2.3854963883109717\n",
      "Fold 0 | Epoch 88 | Mean Loss 2.3699867207071055\n",
      "Fold 0 | Epoch 89 | Mean Loss 2.357931023058684\n",
      "Fold 0 | Epoch 90 | Mean Loss 2.35058201395947\n",
      "Fold 0 | Epoch 91 | Mean Loss 2.3604725651119067\n",
      "Fold 0 | Epoch 92 | Mean Loss 2.3869989954906963\n",
      "Fold 0 | Epoch 93 | Mean Loss 2.356655556222667\n",
      "Fold 0 | Epoch 94 | Mean Loss 2.407771032789479\n",
      "Fold 0 | Epoch 95 | Mean Loss 2.376885310463283\n",
      "Fold 0 | Epoch 96 | Mean Loss 2.35977055715478\n",
      "Fold 0 | Epoch 97 | Mean Loss 2.322763925013335\n",
      "Fold 0 | Epoch 98 | Mean Loss 2.354326792385267\n",
      "Fold 0 | Epoch 99 | Mean Loss 2.3256965150003848\n",
      "Training age estimator\n",
      "Computing BA\n",
      "Starting fold 1\n",
      "Fold 1 | Epoch 0 | Mean Loss 3.4005173807558804\n",
      "Fold 1 | Epoch 1 | Mean Loss 3.3346279600392217\n",
      "Fold 1 | Epoch 2 | Mean Loss 3.3339189861131753\n",
      "Fold 1 | Epoch 3 | Mean Loss 3.3314816640770952\n",
      "Fold 1 | Epoch 4 | Mean Loss 3.3303488855776577\n",
      "Fold 1 | Epoch 5 | Mean Loss 3.329991050388502\n",
      "Fold 1 | Epoch 6 | Mean Loss 3.3300204277038574\n",
      "Fold 1 | Epoch 7 | Mean Loss 3.329733247342317\n",
      "Fold 1 | Epoch 8 | Mean Loss 3.3295555322066597\n",
      "Fold 1 | Epoch 9 | Mean Loss 3.3295619073121445\n",
      "Fold 1 | Epoch 10 | Mean Loss 3.329443361448205\n",
      "Fold 1 | Epoch 11 | Mean Loss 3.3300274662349536\n",
      "Fold 1 | Epoch 12 | Mean Loss 3.3294343430063\n",
      "Fold 1 | Epoch 13 | Mean Loss 3.3295702312303628\n",
      "Fold 1 | Epoch 14 | Mean Loss 3.328943636106408\n",
      "Fold 1 | Epoch 15 | Mean Loss 3.329184573629628\n",
      "Fold 1 | Epoch 16 | Mean Loss 3.3291717197584068\n",
      "Fold 1 | Epoch 17 | Mean Loss 3.329196017721425\n",
      "Fold 1 | Epoch 18 | Mean Loss 3.3289978815161665\n",
      "Fold 1 | Epoch 19 | Mean Loss 3.328404696091362\n",
      "Fold 1 | Epoch 20 | Mean Loss 3.3286180288895317\n",
      "Fold 1 | Epoch 21 | Mean Loss 3.3281849674556567\n",
      "Fold 1 | Epoch 22 | Mean Loss 3.3278325225995933\n",
      "Fold 1 | Epoch 23 | Mean Loss 3.327321664146755\n",
      "Fold 1 | Epoch 24 | Mean Loss 3.324767019437707\n",
      "Fold 1 | Epoch 25 | Mean Loss 3.320435047149658\n",
      "Fold 1 | Epoch 26 | Mean Loss 3.297997816749241\n",
      "Fold 1 | Epoch 27 | Mean Loss 3.175391601479572\n",
      "Fold 1 | Epoch 28 | Mean Loss 3.114632761996725\n",
      "Fold 1 | Epoch 29 | Mean Loss 2.97277890080991\n",
      "Fold 1 | Epoch 30 | Mean Loss 2.9021350197170093\n",
      "Fold 1 | Epoch 31 | Mean Loss 2.8563550555187724\n",
      "Fold 1 | Epoch 32 | Mean Loss 2.762118795643682\n",
      "Fold 1 | Epoch 33 | Mean Loss 2.691913858703945\n",
      "Fold 1 | Epoch 34 | Mean Loss 2.685855684073075\n",
      "Fold 1 | Epoch 35 | Mean Loss 2.6664717404738716\n",
      "Fold 1 | Epoch 36 | Mean Loss 2.636026620864868\n",
      "Fold 1 | Epoch 37 | Mean Loss 2.5984434718671054\n",
      "Fold 1 | Epoch 38 | Mean Loss 2.6095981027769004\n",
      "Fold 1 | Epoch 39 | Mean Loss 2.597389387047809\n",
      "Fold 1 | Epoch 40 | Mean Loss 2.5621673749840777\n",
      "Fold 1 | Epoch 41 | Mean Loss 2.578014726224153\n",
      "Fold 1 | Epoch 42 | Mean Loss 2.543324325395667\n",
      "Fold 1 | Epoch 43 | Mean Loss 2.580219724903936\n",
      "Fold 1 | Epoch 44 | Mean Loss 2.577484887579213\n",
      "Fold 1 | Epoch 45 | Mean Loss 2.5559257061585137\n",
      "Fold 1 | Epoch 46 | Mean Loss 2.566703475039938\n",
      "Fold 1 | Epoch 47 | Mean Loss 2.5545888620874155\n",
      "Fold 1 | Epoch 48 | Mean Loss 2.5622417719467827\n",
      "Fold 1 | Epoch 49 | Mean Loss 2.5616079309712285\n",
      "Fold 1 | Epoch 50 | Mean Loss 2.5457658301229062\n",
      "Fold 1 | Epoch 51 | Mean Loss 2.5471555979355522\n",
      "Fold 1 | Epoch 52 | Mean Loss 2.5157510767812314\n",
      "Fold 1 | Epoch 53 | Mean Loss 2.546669877093771\n",
      "Fold 1 | Epoch 54 | Mean Loss 2.5407430659169736\n",
      "Fold 1 | Epoch 55 | Mean Loss 2.540778103082076\n",
      "Fold 1 | Epoch 56 | Mean Loss 2.501248800236246\n",
      "Fold 1 | Epoch 57 | Mean Loss 2.5049222293107407\n",
      "Fold 1 | Epoch 58 | Mean Loss 2.506656019583992\n",
      "Fold 1 | Epoch 59 | Mean Loss 2.505020094954449\n",
      "Fold 1 | Epoch 60 | Mean Loss 2.524103605228922\n",
      "Fold 1 | Epoch 61 | Mean Loss 2.496790533480437\n",
      "Fold 1 | Epoch 62 | Mean Loss 2.4696592507155044\n",
      "Fold 1 | Epoch 63 | Mean Loss 2.452605506648188\n",
      "Fold 1 | Epoch 64 | Mean Loss 2.4601854656053628\n",
      "Fold 1 | Epoch 65 | Mean Loss 2.436660056528838\n",
      "Fold 1 | Epoch 66 | Mean Loss 2.4653516334036123\n",
      "Fold 1 | Epoch 67 | Mean Loss 2.452861055083897\n",
      "Fold 1 | Epoch 68 | Mean Loss 2.485366033471149\n",
      "Fold 1 | Epoch 69 | Mean Loss 2.4422529573025913\n",
      "Fold 1 | Epoch 70 | Mean Loss 2.466784954071045\n",
      "Fold 1 | Epoch 71 | Mean Loss 2.4794798208319624\n",
      "Fold 1 | Epoch 72 | Mean Loss 2.446576248044553\n",
      "Fold 1 | Epoch 73 | Mean Loss 2.441738460374915\n",
      "Fold 1 | Epoch 74 | Mean Loss 2.484583694001903\n",
      "Fold 1 | Epoch 75 | Mean Loss 2.4474780041238535\n",
      "Fold 1 | Epoch 76 | Mean Loss 2.4134414455165034\n",
      "Fold 1 | Epoch 77 | Mean Loss 2.4533419298089068\n",
      "Fold 1 | Epoch 78 | Mean Loss 2.4005743627962857\n",
      "Fold 1 | Epoch 79 | Mean Loss 2.442342867021975\n",
      "Fold 1 | Epoch 80 | Mean Loss 2.41952265345532\n",
      "Fold 1 | Epoch 81 | Mean Loss 2.395060466683429\n",
      "Fold 1 | Epoch 82 | Mean Loss 2.3828993569249692\n",
      "Fold 1 | Epoch 83 | Mean Loss 2.4278307064719824\n",
      "Fold 1 | Epoch 84 | Mean Loss 2.3738187188687534\n",
      "Fold 1 | Epoch 85 | Mean Loss 2.41002196850984\n",
      "Fold 1 | Epoch 86 | Mean Loss 2.408784436142963\n",
      "Fold 1 | Epoch 87 | Mean Loss 2.416912768198096\n",
      "Fold 1 | Epoch 88 | Mean Loss 2.36215673322263\n",
      "Fold 1 | Epoch 89 | Mean Loss 2.3644930798074473\n",
      "Fold 1 | Epoch 90 | Mean Loss 2.3835996182068535\n",
      "Fold 1 | Epoch 91 | Mean Loss 2.3531183108039526\n",
      "Fold 1 | Epoch 92 | Mean Loss 2.379994423493095\n",
      "Fold 1 | Epoch 93 | Mean Loss 2.384362604307092\n",
      "Fold 1 | Epoch 94 | Mean Loss 2.367380660513173\n",
      "Fold 1 | Epoch 95 | Mean Loss 2.3427374725756436\n",
      "Fold 1 | Epoch 96 | Mean Loss 2.3620069130607275\n",
      "Fold 1 | Epoch 97 | Mean Loss 2.3624186567638232\n",
      "Fold 1 | Epoch 98 | Mean Loss 2.3341983193936557\n",
      "Fold 1 | Epoch 99 | Mean Loss 2.353700316470602\n",
      "Training age estimator\n",
      "Computing BA\n",
      "Starting fold 2\n",
      "Fold 2 | Epoch 0 | Mean Loss 3.3722339713055156\n",
      "Fold 2 | Epoch 1 | Mean Loss 3.33149096240168\n"
     ]
    },
    {
     "ename": "KeyboardInterrupt",
     "evalue": "",
     "output_type": "error",
     "traceback": [
      "\u001b[0;31m---------------------------------------------------------------------------\u001b[0m",
      "\u001b[0;31mKeyboardInterrupt\u001b[0m                         Traceback (most recent call last)",
      "Cell \u001b[0;32mIn[31], line 25\u001b[0m\n\u001b[1;32m     23\u001b[0m out_feat \u001b[38;5;241m=\u001b[39m model(mat)\n\u001b[1;32m     24\u001b[0m loss \u001b[38;5;241m=\u001b[39m criterion(out_feat, age)\n\u001b[0;32m---> 25\u001b[0m \u001b[43mloss\u001b[49m\u001b[38;5;241;43m.\u001b[39;49m\u001b[43mbackward\u001b[49m\u001b[43m(\u001b[49m\u001b[43m)\u001b[49m\n\u001b[1;32m     26\u001b[0m batch_losses\u001b[38;5;241m.\u001b[39mappend(loss\u001b[38;5;241m.\u001b[39mitem())\n\u001b[1;32m     27\u001b[0m optimizer\u001b[38;5;241m.\u001b[39mstep()\n",
      "File \u001b[0;32m~/.local/lib/python3.9/site-packages/torch/_tensor.py:492\u001b[0m, in \u001b[0;36mTensor.backward\u001b[0;34m(self, gradient, retain_graph, create_graph, inputs)\u001b[0m\n\u001b[1;32m    482\u001b[0m \u001b[38;5;28;01mif\u001b[39;00m has_torch_function_unary(\u001b[38;5;28mself\u001b[39m):\n\u001b[1;32m    483\u001b[0m     \u001b[38;5;28;01mreturn\u001b[39;00m handle_torch_function(\n\u001b[1;32m    484\u001b[0m         Tensor\u001b[38;5;241m.\u001b[39mbackward,\n\u001b[1;32m    485\u001b[0m         (\u001b[38;5;28mself\u001b[39m,),\n\u001b[0;32m   (...)\u001b[0m\n\u001b[1;32m    490\u001b[0m         inputs\u001b[38;5;241m=\u001b[39minputs,\n\u001b[1;32m    491\u001b[0m     )\n\u001b[0;32m--> 492\u001b[0m \u001b[43mtorch\u001b[49m\u001b[38;5;241;43m.\u001b[39;49m\u001b[43mautograd\u001b[49m\u001b[38;5;241;43m.\u001b[39;49m\u001b[43mbackward\u001b[49m\u001b[43m(\u001b[49m\n\u001b[1;32m    493\u001b[0m \u001b[43m    \u001b[49m\u001b[38;5;28;43mself\u001b[39;49m\u001b[43m,\u001b[49m\u001b[43m \u001b[49m\u001b[43mgradient\u001b[49m\u001b[43m,\u001b[49m\u001b[43m \u001b[49m\u001b[43mretain_graph\u001b[49m\u001b[43m,\u001b[49m\u001b[43m \u001b[49m\u001b[43mcreate_graph\u001b[49m\u001b[43m,\u001b[49m\u001b[43m \u001b[49m\u001b[43minputs\u001b[49m\u001b[38;5;241;43m=\u001b[39;49m\u001b[43minputs\u001b[49m\n\u001b[1;32m    494\u001b[0m \u001b[43m\u001b[49m\u001b[43m)\u001b[49m\n",
      "File \u001b[0;32m~/.local/lib/python3.9/site-packages/torch/autograd/__init__.py:251\u001b[0m, in \u001b[0;36mbackward\u001b[0;34m(tensors, grad_tensors, retain_graph, create_graph, grad_variables, inputs)\u001b[0m\n\u001b[1;32m    246\u001b[0m     retain_graph \u001b[38;5;241m=\u001b[39m create_graph\n\u001b[1;32m    248\u001b[0m \u001b[38;5;66;03m# The reason we repeat the same comment below is that\u001b[39;00m\n\u001b[1;32m    249\u001b[0m \u001b[38;5;66;03m# some Python versions print out the first line of a multi-line function\u001b[39;00m\n\u001b[1;32m    250\u001b[0m \u001b[38;5;66;03m# calls in the traceback and some print out the last line\u001b[39;00m\n\u001b[0;32m--> 251\u001b[0m \u001b[43mVariable\u001b[49m\u001b[38;5;241;43m.\u001b[39;49m\u001b[43m_execution_engine\u001b[49m\u001b[38;5;241;43m.\u001b[39;49m\u001b[43mrun_backward\u001b[49m\u001b[43m(\u001b[49m\u001b[43m  \u001b[49m\u001b[38;5;66;43;03m# Calls into the C++ engine to run the backward pass\u001b[39;49;00m\n\u001b[1;32m    252\u001b[0m \u001b[43m    \u001b[49m\u001b[43mtensors\u001b[49m\u001b[43m,\u001b[49m\n\u001b[1;32m    253\u001b[0m \u001b[43m    \u001b[49m\u001b[43mgrad_tensors_\u001b[49m\u001b[43m,\u001b[49m\n\u001b[1;32m    254\u001b[0m \u001b[43m    \u001b[49m\u001b[43mretain_graph\u001b[49m\u001b[43m,\u001b[49m\n\u001b[1;32m    255\u001b[0m \u001b[43m    \u001b[49m\u001b[43mcreate_graph\u001b[49m\u001b[43m,\u001b[49m\n\u001b[1;32m    256\u001b[0m \u001b[43m    \u001b[49m\u001b[43minputs\u001b[49m\u001b[43m,\u001b[49m\n\u001b[1;32m    257\u001b[0m \u001b[43m    \u001b[49m\u001b[43mallow_unreachable\u001b[49m\u001b[38;5;241;43m=\u001b[39;49m\u001b[38;5;28;43;01mTrue\u001b[39;49;00m\u001b[43m,\u001b[49m\n\u001b[1;32m    258\u001b[0m \u001b[43m    \u001b[49m\u001b[43maccumulate_grad\u001b[49m\u001b[38;5;241;43m=\u001b[39;49m\u001b[38;5;28;43;01mTrue\u001b[39;49;00m\u001b[43m,\u001b[49m\n\u001b[1;32m    259\u001b[0m \u001b[43m\u001b[49m\u001b[43m)\u001b[49m\n",
      "\u001b[0;31mKeyboardInterrupt\u001b[0m: "
     ]
    }
   ],
   "source": [
    "results_cv = []\n",
    "for fold, (train_idx, val_idx) in enumerate(kf.split(train_dataset)):\n",
    "    print(f\"Starting fold {fold}\")\n",
    "\n",
    "    train_subsampler = torch.utils.data.SubsetRandomSampler(train_idx)\n",
    "    val_subsampler = torch.utils.data.SubsetRandomSampler(val_idx)\n",
    "    \n",
    "    train_loader = DataLoader(train_dataset, batch_size=30, sampler=train_subsampler)\n",
    "    val_loader = DataLoader(train_dataset, batch_size=30, sampler=val_subsampler)\n",
    "    \n",
    "    model = MLP(input_dim, hidden_dim, output_dim).to(device)\n",
    "    criterion = KernelizedSupCon(method='expw', kernel=cauchy)\n",
    "    optimizer = optim.Adam(model.parameters(), lr=0.001)\n",
    "    \n",
    "    num_epochs = 100\n",
    "    \n",
    "    for epoch in range(num_epochs):\n",
    "        model.train()\n",
    "        batch_losses = []\n",
    "        for batch_num, (mat, age) in enumerate(train_loader):\n",
    "            mat, age = mat.to(device), age.to(device)\n",
    "            optimizer.zero_grad()\n",
    "            out_feat = model(mat)\n",
    "            loss = criterion(out_feat, age)\n",
    "            loss.backward()\n",
    "            batch_losses.append(loss.item())\n",
    "            optimizer.step()\n",
    "        print(f'Fold {fold} | Epoch {epoch} | Mean Loss {sum(batch_losses)/len(batch_losses)}')\n",
    "            \n",
    "    val_losses = []\n",
    "    model.eval() \n",
    "    with torch.no_grad():\n",
    "        total_loss = 0\n",
    "        total_samples = 0\n",
    "        for mat, age in val_loader:\n",
    "            mat = mat.to(device).float()\n",
    "            age = age.to(device)\n",
    "\n",
    "            out_feat = model(mat)\n",
    "            loss = criterion(out_feat, age)\n",
    "            val_losses.append(loss.item())\n",
    "            total_loss += loss.item() * mat.size(0)\n",
    "            total_samples += mat.size(0)\n",
    "        val_losses =np.array(val_losses)\n",
    "        average_loss = total_loss / total_samples\n",
    "    mae_train, r2_train, mae_val, r2_val = compute_age_mae_r2(model, train_loader, val_loader, device)\n",
    "    # results_cv.append([fold, mae_train, r2_train, mae_val, r2_val])\n",
    "\n",
    "    "
   ]
  },
  {
   "cell_type": "code",
   "execution_count": null,
   "metadata": {},
   "outputs": [],
   "source": [
    "results_df = pd.DataFrame(results_cv, columns=['Fold', 'Train_MAE', 'Train_R2', 'Val_MAE', 'Val_R2'])\n",
    "# results_df.to_csv('cv_results.csv', index=False)"
   ]
  },
  {
   "cell_type": "markdown",
   "metadata": {},
   "source": [
    "## Testing"
   ]
  },
  {
   "cell_type": "code",
   "execution_count": 11,
   "metadata": {},
   "outputs": [],
   "source": [
    "test_loader = DataLoader(test_dataset, batch_size=30, shuffle=False)\n",
    "train_loader = DataLoader(train_dataset, batch_size=30, shuffle=True)"
   ]
  },
  {
   "cell_type": "code",
   "execution_count": 12,
   "metadata": {},
   "outputs": [],
   "source": [
    "model = MLP(input_dim, hidden_dim, output_dim)\n",
    "model.load_state_dict(torch.load('best_model_cv.pt')[\"model\"])\n",
    "criterion = KernelizedSupCon(method='expw', kernel=cauchy)\n",
    "optimizer = optim.Adam(model.parameters(), lr=0.001)\n",
    "optimizer.load_state_dict(torch.load('best_model_cv.pt')[\"optimizer\"])"
   ]
  },
  {
   "cell_type": "code",
   "execution_count": 13,
   "metadata": {},
   "outputs": [
    {
     "data": {
      "text/plain": [
       "MLP(\n",
       "  (network): Sequential(\n",
       "    (0): Linear(in_features=499500, out_features=128, bias=True)\n",
       "    (1): ReLU()\n",
       "    (2): Linear(in_features=128, out_features=64, bias=True)\n",
       "  )\n",
       ")"
      ]
     },
     "execution_count": 13,
     "metadata": {},
     "output_type": "execute_result"
    }
   ],
   "source": [
    "model.to(device)"
   ]
  },
  {
   "cell_type": "code",
   "execution_count": null,
   "metadata": {},
   "outputs": [],
   "source": [
    "test_losses = []\n",
    "model.eval()\n",
    "with torch.no_grad():\n",
    "    total_loss = 0\n",
    "    total_samples = 0\n",
    "    for batch_num, (mat, age) in enumerate(test_loader):\n",
    "        mat = mat.to(device).float()\n",
    "        age = age.to(device)\n",
    "\n",
    "        out_feat = model(mat)\n",
    "        loss = criterion(out_feat, age)\n",
    "        test_losses.append(loss.item())\n",
    "        total_loss += loss.item() * mat.size(0)\n",
    "        total_samples += mat.size(0)\n",
    "    test_losses =np.array(test_losses)\n",
    "    average_loss = total_loss / total_samples\n",
    "    print('Mean Test Loss: %6.2f' % (average_loss))\n",
    "    np.save(f\"losses/test_losses_batch{batch_num}.npy\", test_losses)"
   ]
  },
  {
   "cell_type": "code",
   "execution_count": 10,
   "metadata": {},
   "outputs": [],
   "source": [
    "mae_train, r2_train, mae_test, r2_test = compute_age_mae_r2(model, train_loader, test_loader, device)\n",
    "print(f\"Train Age MAE: {mae_train}, Test Age MAE: {mae_test}.\")\n",
    "print(f\"Train Age R2: {r2_train}, Test Age R2: {r2_test}.\")"
   ]
  },
  {
   "cell_type": "code",
   "execution_count": 15,
   "metadata": {},
   "outputs": [],
   "source": [
    "age_train, age_test, age_pred_train, age_pred_test = estimate_age(model, train_loader, test_loader, device)"
   ]
  },
  {
   "cell_type": "code",
   "execution_count": 14,
   "metadata": {},
   "outputs": [],
   "source": [
    "import seaborn as sns\n",
    "import matplotlib.pyplot as plt"
   ]
  },
  {
   "cell_type": "code",
   "execution_count": 22,
   "metadata": {},
   "outputs": [],
   "source": [
    "from utils_v import gather_age_feats"
   ]
  },
  {
   "cell_type": "code",
   "execution_count": 23,
   "metadata": {},
   "outputs": [],
   "source": [
    "_, y_train = gather_age_feats(model, train_loader, device)\n",
    "_, y_test = gather_age_feats(model, test_loader, device)"
   ]
  },
  {
   "cell_type": "code",
   "execution_count": 16,
   "metadata": {},
   "outputs": [],
   "source": [
    "df_train = pd.DataFrame({\"Y_Train\":age_train, \"Y_Train_Pred\":age_pred_train})\n",
    "df_test = pd.DataFrame({\"Y_Test\": age_test, \"Y_Test_Pred\":age_pred_test})"
   ]
  },
  {
   "cell_type": "code",
   "execution_count": 17,
   "metadata": {},
   "outputs": [
    {
     "name": "stderr",
     "output_type": "stream",
     "text": [
      "/gpfs3/well/margulies/users/cpy397/.local/lib/python3.9/site-packages/seaborn/_oldcore.py:1498: FutureWarning: is_categorical_dtype is deprecated and will be removed in a future version. Use isinstance(dtype, CategoricalDtype) instead\n",
      "  if pd.api.types.is_categorical_dtype(vector):\n",
      "/gpfs3/well/margulies/users/cpy397/.local/lib/python3.9/site-packages/seaborn/_oldcore.py:1498: FutureWarning: is_categorical_dtype is deprecated and will be removed in a future version. Use isinstance(dtype, CategoricalDtype) instead\n",
      "  if pd.api.types.is_categorical_dtype(vector):\n"
     ]
    },
    {
     "data": {
      "text/plain": [
       "<Axes: xlabel='Y_Train', ylabel='Y_Train_Pred'>"
      ]
     },
     "execution_count": 17,
     "metadata": {},
     "output_type": "execute_result"
    },
    {
     "data": {
      "image/png": "[encoded data removed]",
      "text/plain": [
       "<Figure size 640x480 with 1 Axes>"
      ]
     },
     "metadata": {},
     "output_type": "display_data"
    }
   ],
   "source": [
    "sns.scatterplot(df_train, x = \"Y_Train\", y=\"Y_Train_Pred\")"
   ]
  },
  {
   "cell_type": "code",
   "execution_count": 18,
   "metadata": {},
   "outputs": [
    {
     "name": "stderr",
     "output_type": "stream",
     "text": [
      "/gpfs3/well/margulies/users/cpy397/.local/lib/python3.9/site-packages/seaborn/_oldcore.py:1498: FutureWarning: is_categorical_dtype is deprecated and will be removed in a future version. Use isinstance(dtype, CategoricalDtype) instead\n",
      "  if pd.api.types.is_categorical_dtype(vector):\n",
      "/gpfs3/well/margulies/users/cpy397/.local/lib/python3.9/site-packages/seaborn/_oldcore.py:1498: FutureWarning: is_categorical_dtype is deprecated and will be removed in a future version. Use isinstance(dtype, CategoricalDtype) instead\n",
      "  if pd.api.types.is_categorical_dtype(vector):\n"
     ]
    },
    {
     "data": {
      "text/plain": [
       "<Axes: xlabel='Y_Test', ylabel='Y_Test_Pred'>"
      ]
     },
     "execution_count": 18,
     "metadata": {},
     "output_type": "execute_result"
    },
    {
     "data": {
      "image/png": "[encoded data removed]",
      "text/plain": [
       "<Figure size 640x480 with 1 Axes>"
      ]
     },
     "metadata": {},
     "output_type": "display_data"
    }
   ],
   "source": [
    "sns.scatterplot(df_test, x = \"Y_Test\", y=\"Y_Test_Pred\")"
   ]
  },
  {
   "cell_type": "code",
   "execution_count": 37,
   "metadata": {},
   "outputs": [
    {
     "data": {
      "text/html": [
       "<div>\n",
       "<style scoped>\n",
       "    .dataframe tbody tr th:only-of-type {\n",
       "        vertical-align: middle;\n",
       "    }\n",
       "\n",
       "    .dataframe tbody tr th {\n",
       "        vertical-align: top;\n",
       "    }\n",
       "\n",
       "    .dataframe thead th {\n",
       "        text-align: right;\n",
       "    }\n",
       "</style>\n",
       "<table border=\"1\" class=\"dataframe\">\n",
       "  <thead>\n",
       "    <tr style=\"text-align: right;\">\n",
       "      <th></th>\n",
       "      <th>Y_Train</th>\n",
       "      <th>Y_Train_Pred</th>\n",
       "    </tr>\n",
       "  </thead>\n",
       "  <tbody>\n",
       "    <tr>\n",
       "      <th>0</th>\n",
       "      <td>22.0</td>\n",
       "      <td>22.725731</td>\n",
       "    </tr>\n",
       "    <tr>\n",
       "      <th>1</th>\n",
       "      <td>38.0</td>\n",
       "      <td>59.181206</td>\n",
       "    </tr>\n",
       "    <tr>\n",
       "      <th>2</th>\n",
       "      <td>50.0</td>\n",
       "      <td>24.009371</td>\n",
       "    </tr>\n",
       "    <tr>\n",
       "      <th>3</th>\n",
       "      <td>35.0</td>\n",
       "      <td>27.649929</td>\n",
       "    </tr>\n",
       "    <tr>\n",
       "      <th>4</th>\n",
       "      <td>20.0</td>\n",
       "      <td>57.528736</td>\n",
       "    </tr>\n",
       "    <tr>\n",
       "      <th>...</th>\n",
       "      <td>...</td>\n",
       "      <td>...</td>\n",
       "    </tr>\n",
       "    <tr>\n",
       "      <th>743</th>\n",
       "      <td>25.0</td>\n",
       "      <td>45.094784</td>\n",
       "    </tr>\n",
       "    <tr>\n",
       "      <th>744</th>\n",
       "      <td>64.0</td>\n",
       "      <td>22.930145</td>\n",
       "    </tr>\n",
       "    <tr>\n",
       "      <th>745</th>\n",
       "      <td>37.0</td>\n",
       "      <td>45.797150</td>\n",
       "    </tr>\n",
       "    <tr>\n",
       "      <th>746</th>\n",
       "      <td>30.0</td>\n",
       "      <td>58.373062</td>\n",
       "    </tr>\n",
       "    <tr>\n",
       "      <th>747</th>\n",
       "      <td>55.0</td>\n",
       "      <td>57.794403</td>\n",
       "    </tr>\n",
       "  </tbody>\n",
       "</table>\n",
       "<p>748 rows × 2 columns</p>\n",
       "</div>"
      ],
      "text/plain": [
       "     Y_Train  Y_Train_Pred\n",
       "0       22.0     22.725731\n",
       "1       38.0     59.181206\n",
       "2       50.0     24.009371\n",
       "3       35.0     27.649929\n",
       "4       20.0     57.528736\n",
       "..       ...           ...\n",
       "743     25.0     45.094784\n",
       "744     64.0     22.930145\n",
       "745     37.0     45.797150\n",
       "746     30.0     58.373062\n",
       "747     55.0     57.794403\n",
       "\n",
       "[748 rows x 2 columns]"
      ]
     },
     "execution_count": 37,
     "metadata": {},
     "output_type": "execute_result"
    }
   ],
   "source": [
    "df_train"
   ]
  },
  {
   "cell_type": "code",
   "execution_count": null,
   "metadata": {},
   "outputs": [],
   "source": []
  }
 ],
 "metadata": {
  "kernelspec": {
   "display_name": "Python 3 (ipykernel)",
   "language": "python",
   "name": "python3"
  },
  "language_info": {
   "codemirror_mode": {
    "name": "ipython",
    "version": 3
   },
   "file_extension": ".py",
   "mimetype": "text/x-python",
   "name": "python",
   "nbconvert_exporter": "python",
   "pygments_lexer": "ipython3",
   "version": "3.9.6"
  }
 },
 "nbformat": 4,
 "nbformat_minor": 2
}
